{
  "metadata": {
    "kernelspec": {
      "display_name": "Python 3",
      "name": "python3"
    },
    "language_info": {
      "name": "python",
      "version": "3.10.14",
      "mimetype": "text/x-python",
      "codemirror_mode": {
        "name": "ipython",
        "version": 3
      },
      "pygments_lexer": "ipython3",
      "nbconvert_exporter": "python",
      "file_extension": ".py"
    },
    "kaggle": {
      "accelerator": "gpu",
      "dataSources": [],
      "dockerImageVersionId": 30804,
      "isInternetEnabled": true,
      "language": "python",
      "sourceType": "notebook",
      "isGpuEnabled": true
    },
    "colab": {
      "provenance": [],
      "toc_visible": true,
      "gpuType": "T4"
    },
    "accelerator": "GPU",
    "widgets": {
      "application/vnd.jupyter.widget-state+json": {
        "b17d3591b04d440bb79e6c2b209c97ab": {
          "model_module": "@jupyter-widgets/controls",
          "model_name": "HBoxModel",
          "model_module_version": "1.5.0",
          "state": {
            "_dom_classes": [],
            "_model_module": "@jupyter-widgets/controls",
            "_model_module_version": "1.5.0",
            "_model_name": "HBoxModel",
            "_view_count": null,
            "_view_module": "@jupyter-widgets/controls",
            "_view_module_version": "1.5.0",
            "_view_name": "HBoxView",
            "box_style": "",
            "children": [
              "IPY_MODEL_adc48bc747cb4a6d821b6e033caa615f",
              "IPY_MODEL_8a302fc0d8884a509cbe084f832e72d1",
              "IPY_MODEL_711b6e1b7ead4fada85e728a5e794664"
            ],
            "layout": "IPY_MODEL_67107b6197674771abbe151fa7de715b"
          }
        },
        "adc48bc747cb4a6d821b6e033caa615f": {
          "model_module": "@jupyter-widgets/controls",
          "model_name": "HTMLModel",
          "model_module_version": "1.5.0",
          "state": {
            "_dom_classes": [],
            "_model_module": "@jupyter-widgets/controls",
            "_model_module_version": "1.5.0",
            "_model_name": "HTMLModel",
            "_view_count": null,
            "_view_module": "@jupyter-widgets/controls",
            "_view_module_version": "1.5.0",
            "_view_name": "HTMLView",
            "description": "",
            "description_tooltip": null,
            "layout": "IPY_MODEL_c3a6624cd7334cb18c6e25aca2593364",
            "placeholder": "​",
            "style": "IPY_MODEL_b0d8b58224d746c4962237e0ba5d09ac",
            "value": "config.json: 100%"
          }
        },
        "8a302fc0d8884a509cbe084f832e72d1": {
          "model_module": "@jupyter-widgets/controls",
          "model_name": "FloatProgressModel",
          "model_module_version": "1.5.0",
          "state": {
            "_dom_classes": [],
            "_model_module": "@jupyter-widgets/controls",
            "_model_module_version": "1.5.0",
            "_model_name": "FloatProgressModel",
            "_view_count": null,
            "_view_module": "@jupyter-widgets/controls",
            "_view_module_version": "1.5.0",
            "_view_name": "ProgressView",
            "bar_style": "success",
            "description": "",
            "description_tooltip": null,
            "layout": "IPY_MODEL_1def538c6a464a2986c22f9cbfa166a6",
            "max": 1366,
            "min": 0,
            "orientation": "horizontal",
            "style": "IPY_MODEL_987eb538f85f4cf1b574dc5f546fd86c",
            "value": 1366
          }
        },
        "711b6e1b7ead4fada85e728a5e794664": {
          "model_module": "@jupyter-widgets/controls",
          "model_name": "HTMLModel",
          "model_module_version": "1.5.0",
          "state": {
            "_dom_classes": [],
            "_model_module": "@jupyter-widgets/controls",
            "_model_module_version": "1.5.0",
            "_model_name": "HTMLModel",
            "_view_count": null,
            "_view_module": "@jupyter-widgets/controls",
            "_view_module_version": "1.5.0",
            "_view_name": "HTMLView",
            "description": "",
            "description_tooltip": null,
            "layout": "IPY_MODEL_9748712e9cb94187a4a8795bd2dcc668",
            "placeholder": "​",
            "style": "IPY_MODEL_acb0418c3bf44f56aa5700554da22265",
            "value": " 1.37k/1.37k [00:00&lt;00:00, 28.2kB/s]"
          }
        },
        "67107b6197674771abbe151fa7de715b": {
          "model_module": "@jupyter-widgets/base",
          "model_name": "LayoutModel",
          "model_module_version": "1.2.0",
          "state": {
            "_model_module": "@jupyter-widgets/base",
            "_model_module_version": "1.2.0",
            "_model_name": "LayoutModel",
            "_view_count": null,
            "_view_module": "@jupyter-widgets/base",
            "_view_module_version": "1.2.0",
            "_view_name": "LayoutView",
            "align_content": null,
            "align_items": null,
            "align_self": null,
            "border": null,
            "bottom": null,
            "display": null,
            "flex": null,
            "flex_flow": null,
            "grid_area": null,
            "grid_auto_columns": null,
            "grid_auto_flow": null,
            "grid_auto_rows": null,
            "grid_column": null,
            "grid_gap": null,
            "grid_row": null,
            "grid_template_areas": null,
            "grid_template_columns": null,
            "grid_template_rows": null,
            "height": null,
            "justify_content": null,
            "justify_items": null,
            "left": null,
            "margin": null,
            "max_height": null,
            "max_width": null,
            "min_height": null,
            "min_width": null,
            "object_fit": null,
            "object_position": null,
            "order": null,
            "overflow": null,
            "overflow_x": null,
            "overflow_y": null,
            "padding": null,
            "right": null,
            "top": null,
            "visibility": null,
            "width": null
          }
        },
        "c3a6624cd7334cb18c6e25aca2593364": {
          "model_module": "@jupyter-widgets/base",
          "model_name": "LayoutModel",
          "model_module_version": "1.2.0",
          "state": {
            "_model_module": "@jupyter-widgets/base",
            "_model_module_version": "1.2.0",
            "_model_name": "LayoutModel",
            "_view_count": null,
            "_view_module": "@jupyter-widgets/base",
            "_view_module_version": "1.2.0",
            "_view_name": "LayoutView",
            "align_content": null,
            "align_items": null,
            "align_self": null,
            "border": null,
            "bottom": null,
            "display": null,
            "flex": null,
            "flex_flow": null,
            "grid_area": null,
            "grid_auto_columns": null,
            "grid_auto_flow": null,
            "grid_auto_rows": null,
            "grid_column": null,
            "grid_gap": null,
            "grid_row": null,
            "grid_template_areas": null,
            "grid_template_columns": null,
            "grid_template_rows": null,
            "height": null,
            "justify_content": null,
            "justify_items": null,
            "left": null,
            "margin": null,
            "max_height": null,
            "max_width": null,
            "min_height": null,
            "min_width": null,
            "object_fit": null,
            "object_position": null,
            "order": null,
            "overflow": null,
            "overflow_x": null,
            "overflow_y": null,
            "padding": null,
            "right": null,
            "top": null,
            "visibility": null,
            "width": null
          }
        },
        "b0d8b58224d746c4962237e0ba5d09ac": {
          "model_module": "@jupyter-widgets/controls",
          "model_name": "DescriptionStyleModel",
          "model_module_version": "1.5.0",
          "state": {
            "_model_module": "@jupyter-widgets/controls",
            "_model_module_version": "1.5.0",
            "_model_name": "DescriptionStyleModel",
            "_view_count": null,
            "_view_module": "@jupyter-widgets/base",
            "_view_module_version": "1.2.0",
            "_view_name": "StyleView",
            "description_width": ""
          }
        },
        "1def538c6a464a2986c22f9cbfa166a6": {
          "model_module": "@jupyter-widgets/base",
          "model_name": "LayoutModel",
          "model_module_version": "1.2.0",
          "state": {
            "_model_module": "@jupyter-widgets/base",
            "_model_module_version": "1.2.0",
            "_model_name": "LayoutModel",
            "_view_count": null,
            "_view_module": "@jupyter-widgets/base",
            "_view_module_version": "1.2.0",
            "_view_name": "LayoutView",
            "align_content": null,
            "align_items": null,
            "align_self": null,
            "border": null,
            "bottom": null,
            "display": null,
            "flex": null,
            "flex_flow": null,
            "grid_area": null,
            "grid_auto_columns": null,
            "grid_auto_flow": null,
            "grid_auto_rows": null,
            "grid_column": null,
            "grid_gap": null,
            "grid_row": null,
            "grid_template_areas": null,
            "grid_template_columns": null,
            "grid_template_rows": null,
            "height": null,
            "justify_content": null,
            "justify_items": null,
            "left": null,
            "margin": null,
            "max_height": null,
            "max_width": null,
            "min_height": null,
            "min_width": null,
            "object_fit": null,
            "object_position": null,
            "order": null,
            "overflow": null,
            "overflow_x": null,
            "overflow_y": null,
            "padding": null,
            "right": null,
            "top": null,
            "visibility": null,
            "width": null
          }
        },
        "987eb538f85f4cf1b574dc5f546fd86c": {
          "model_module": "@jupyter-widgets/controls",
          "model_name": "ProgressStyleModel",
          "model_module_version": "1.5.0",
          "state": {
            "_model_module": "@jupyter-widgets/controls",
            "_model_module_version": "1.5.0",
            "_model_name": "ProgressStyleModel",
            "_view_count": null,
            "_view_module": "@jupyter-widgets/base",
            "_view_module_version": "1.2.0",
            "_view_name": "StyleView",
            "bar_color": null,
            "description_width": ""
          }
        },
        "9748712e9cb94187a4a8795bd2dcc668": {
          "model_module": "@jupyter-widgets/base",
          "model_name": "LayoutModel",
          "model_module_version": "1.2.0",
          "state": {
            "_model_module": "@jupyter-widgets/base",
            "_model_module_version": "1.2.0",
            "_model_name": "LayoutModel",
            "_view_count": null,
            "_view_module": "@jupyter-widgets/base",
            "_view_module_version": "1.2.0",
            "_view_name": "LayoutView",
            "align_content": null,
            "align_items": null,
            "align_self": null,
            "border": null,
            "bottom": null,
            "display": null,
            "flex": null,
            "flex_flow": null,
            "grid_area": null,
            "grid_auto_columns": null,
            "grid_auto_flow": null,
            "grid_auto_rows": null,
            "grid_column": null,
            "grid_gap": null,
            "grid_row": null,
            "grid_template_areas": null,
            "grid_template_columns": null,
            "grid_template_rows": null,
            "height": null,
            "justify_content": null,
            "justify_items": null,
            "left": null,
            "margin": null,
            "max_height": null,
            "max_width": null,
            "min_height": null,
            "min_width": null,
            "object_fit": null,
            "object_position": null,
            "order": null,
            "overflow": null,
            "overflow_x": null,
            "overflow_y": null,
            "padding": null,
            "right": null,
            "top": null,
            "visibility": null,
            "width": null
          }
        },
        "acb0418c3bf44f56aa5700554da22265": {
          "model_module": "@jupyter-widgets/controls",
          "model_name": "DescriptionStyleModel",
          "model_module_version": "1.5.0",
          "state": {
            "_model_module": "@jupyter-widgets/controls",
            "_model_module_version": "1.5.0",
            "_model_name": "DescriptionStyleModel",
            "_view_count": null,
            "_view_module": "@jupyter-widgets/base",
            "_view_module_version": "1.2.0",
            "_view_name": "StyleView",
            "description_width": ""
          }
        },
        "81802a04541241efadd99511e806e3d6": {
          "model_module": "@jupyter-widgets/controls",
          "model_name": "HBoxModel",
          "model_module_version": "1.5.0",
          "state": {
            "_dom_classes": [],
            "_model_module": "@jupyter-widgets/controls",
            "_model_module_version": "1.5.0",
            "_model_name": "HBoxModel",
            "_view_count": null,
            "_view_module": "@jupyter-widgets/controls",
            "_view_module_version": "1.5.0",
            "_view_name": "HBoxView",
            "box_style": "",
            "children": [
              "IPY_MODEL_3362a55d549c48d69250f3dfcde1621f",
              "IPY_MODEL_8ae5d83dd8fc45fc8ecc4ffbeacef154",
              "IPY_MODEL_b78cf4d0f89743d0bc1fb959677d7603"
            ],
            "layout": "IPY_MODEL_4146dc25c9824d66ae6389b6d676e29d"
          }
        },
        "3362a55d549c48d69250f3dfcde1621f": {
          "model_module": "@jupyter-widgets/controls",
          "model_name": "HTMLModel",
          "model_module_version": "1.5.0",
          "state": {
            "_dom_classes": [],
            "_model_module": "@jupyter-widgets/controls",
            "_model_module_version": "1.5.0",
            "_model_name": "HTMLModel",
            "_view_count": null,
            "_view_module": "@jupyter-widgets/controls",
            "_view_module_version": "1.5.0",
            "_view_name": "HTMLView",
            "description": "",
            "description_tooltip": null,
            "layout": "IPY_MODEL_d038b10a164348a683d9e26c6b062c08",
            "placeholder": "​",
            "style": "IPY_MODEL_d679ad03536d41f38e2fc0f6326add15",
            "value": "model.safetensors: 100%"
          }
        },
        "8ae5d83dd8fc45fc8ecc4ffbeacef154": {
          "model_module": "@jupyter-widgets/controls",
          "model_name": "FloatProgressModel",
          "model_module_version": "1.5.0",
          "state": {
            "_dom_classes": [],
            "_model_module": "@jupyter-widgets/controls",
            "_model_module_version": "1.5.0",
            "_model_name": "FloatProgressModel",
            "_view_count": null,
            "_view_module": "@jupyter-widgets/controls",
            "_view_module_version": "1.5.0",
            "_view_name": "ProgressView",
            "bar_style": "success",
            "description": "",
            "description_tooltip": null,
            "layout": "IPY_MODEL_98142a787cf847d9b4de38ec5c83d0ef",
            "max": 2242762785,
            "min": 0,
            "orientation": "horizontal",
            "style": "IPY_MODEL_aa7b41b610454d0b90d62c3690a5f2a1",
            "value": 2242762785
          }
        },
        "b78cf4d0f89743d0bc1fb959677d7603": {
          "model_module": "@jupyter-widgets/controls",
          "model_name": "HTMLModel",
          "model_module_version": "1.5.0",
          "state": {
            "_dom_classes": [],
            "_model_module": "@jupyter-widgets/controls",
            "_model_module_version": "1.5.0",
            "_model_name": "HTMLModel",
            "_view_count": null,
            "_view_module": "@jupyter-widgets/controls",
            "_view_module_version": "1.5.0",
            "_view_name": "HTMLView",
            "description": "",
            "description_tooltip": null,
            "layout": "IPY_MODEL_05af99ecd5994fff8a7f3174f4617274",
            "placeholder": "​",
            "style": "IPY_MODEL_a599350263db47ce9c183a7f1090134c",
            "value": " 2.24G/2.24G [00:58&lt;00:00, 41.1MB/s]"
          }
        },
        "4146dc25c9824d66ae6389b6d676e29d": {
          "model_module": "@jupyter-widgets/base",
          "model_name": "LayoutModel",
          "model_module_version": "1.2.0",
          "state": {
            "_model_module": "@jupyter-widgets/base",
            "_model_module_version": "1.2.0",
            "_model_name": "LayoutModel",
            "_view_count": null,
            "_view_module": "@jupyter-widgets/base",
            "_view_module_version": "1.2.0",
            "_view_name": "LayoutView",
            "align_content": null,
            "align_items": null,
            "align_self": null,
            "border": null,
            "bottom": null,
            "display": null,
            "flex": null,
            "flex_flow": null,
            "grid_area": null,
            "grid_auto_columns": null,
            "grid_auto_flow": null,
            "grid_auto_rows": null,
            "grid_column": null,
            "grid_gap": null,
            "grid_row": null,
            "grid_template_areas": null,
            "grid_template_columns": null,
            "grid_template_rows": null,
            "height": null,
            "justify_content": null,
            "justify_items": null,
            "left": null,
            "margin": null,
            "max_height": null,
            "max_width": null,
            "min_height": null,
            "min_width": null,
            "object_fit": null,
            "object_position": null,
            "order": null,
            "overflow": null,
            "overflow_x": null,
            "overflow_y": null,
            "padding": null,
            "right": null,
            "top": null,
            "visibility": null,
            "width": null
          }
        },
        "d038b10a164348a683d9e26c6b062c08": {
          "model_module": "@jupyter-widgets/base",
          "model_name": "LayoutModel",
          "model_module_version": "1.2.0",
          "state": {
            "_model_module": "@jupyter-widgets/base",
            "_model_module_version": "1.2.0",
            "_model_name": "LayoutModel",
            "_view_count": null,
            "_view_module": "@jupyter-widgets/base",
            "_view_module_version": "1.2.0",
            "_view_name": "LayoutView",
            "align_content": null,
            "align_items": null,
            "align_self": null,
            "border": null,
            "bottom": null,
            "display": null,
            "flex": null,
            "flex_flow": null,
            "grid_area": null,
            "grid_auto_columns": null,
            "grid_auto_flow": null,
            "grid_auto_rows": null,
            "grid_column": null,
            "grid_gap": null,
            "grid_row": null,
            "grid_template_areas": null,
            "grid_template_columns": null,
            "grid_template_rows": null,
            "height": null,
            "justify_content": null,
            "justify_items": null,
            "left": null,
            "margin": null,
            "max_height": null,
            "max_width": null,
            "min_height": null,
            "min_width": null,
            "object_fit": null,
            "object_position": null,
            "order": null,
            "overflow": null,
            "overflow_x": null,
            "overflow_y": null,
            "padding": null,
            "right": null,
            "top": null,
            "visibility": null,
            "width": null
          }
        },
        "d679ad03536d41f38e2fc0f6326add15": {
          "model_module": "@jupyter-widgets/controls",
          "model_name": "DescriptionStyleModel",
          "model_module_version": "1.5.0",
          "state": {
            "_model_module": "@jupyter-widgets/controls",
            "_model_module_version": "1.5.0",
            "_model_name": "DescriptionStyleModel",
            "_view_count": null,
            "_view_module": "@jupyter-widgets/base",
            "_view_module_version": "1.2.0",
            "_view_name": "StyleView",
            "description_width": ""
          }
        },
        "98142a787cf847d9b4de38ec5c83d0ef": {
          "model_module": "@jupyter-widgets/base",
          "model_name": "LayoutModel",
          "model_module_version": "1.2.0",
          "state": {
            "_model_module": "@jupyter-widgets/base",
            "_model_module_version": "1.2.0",
            "_model_name": "LayoutModel",
            "_view_count": null,
            "_view_module": "@jupyter-widgets/base",
            "_view_module_version": "1.2.0",
            "_view_name": "LayoutView",
            "align_content": null,
            "align_items": null,
            "align_self": null,
            "border": null,
            "bottom": null,
            "display": null,
            "flex": null,
            "flex_flow": null,
            "grid_area": null,
            "grid_auto_columns": null,
            "grid_auto_flow": null,
            "grid_auto_rows": null,
            "grid_column": null,
            "grid_gap": null,
            "grid_row": null,
            "grid_template_areas": null,
            "grid_template_columns": null,
            "grid_template_rows": null,
            "height": null,
            "justify_content": null,
            "justify_items": null,
            "left": null,
            "margin": null,
            "max_height": null,
            "max_width": null,
            "min_height": null,
            "min_width": null,
            "object_fit": null,
            "object_position": null,
            "order": null,
            "overflow": null,
            "overflow_x": null,
            "overflow_y": null,
            "padding": null,
            "right": null,
            "top": null,
            "visibility": null,
            "width": null
          }
        },
        "aa7b41b610454d0b90d62c3690a5f2a1": {
          "model_module": "@jupyter-widgets/controls",
          "model_name": "ProgressStyleModel",
          "model_module_version": "1.5.0",
          "state": {
            "_model_module": "@jupyter-widgets/controls",
            "_model_module_version": "1.5.0",
            "_model_name": "ProgressStyleModel",
            "_view_count": null,
            "_view_module": "@jupyter-widgets/base",
            "_view_module_version": "1.2.0",
            "_view_name": "StyleView",
            "bar_color": null,
            "description_width": ""
          }
        },
        "05af99ecd5994fff8a7f3174f4617274": {
          "model_module": "@jupyter-widgets/base",
          "model_name": "LayoutModel",
          "model_module_version": "1.2.0",
          "state": {
            "_model_module": "@jupyter-widgets/base",
            "_model_module_version": "1.2.0",
            "_model_name": "LayoutModel",
            "_view_count": null,
            "_view_module": "@jupyter-widgets/base",
            "_view_module_version": "1.2.0",
            "_view_name": "LayoutView",
            "align_content": null,
            "align_items": null,
            "align_self": null,
            "border": null,
            "bottom": null,
            "display": null,
            "flex": null,
            "flex_flow": null,
            "grid_area": null,
            "grid_auto_columns": null,
            "grid_auto_flow": null,
            "grid_auto_rows": null,
            "grid_column": null,
            "grid_gap": null,
            "grid_row": null,
            "grid_template_areas": null,
            "grid_template_columns": null,
            "grid_template_rows": null,
            "height": null,
            "justify_content": null,
            "justify_items": null,
            "left": null,
            "margin": null,
            "max_height": null,
            "max_width": null,
            "min_height": null,
            "min_width": null,
            "object_fit": null,
            "object_position": null,
            "order": null,
            "overflow": null,
            "overflow_x": null,
            "overflow_y": null,
            "padding": null,
            "right": null,
            "top": null,
            "visibility": null,
            "width": null
          }
        },
        "a599350263db47ce9c183a7f1090134c": {
          "model_module": "@jupyter-widgets/controls",
          "model_name": "DescriptionStyleModel",
          "model_module_version": "1.5.0",
          "state": {
            "_model_module": "@jupyter-widgets/controls",
            "_model_module_version": "1.5.0",
            "_model_name": "DescriptionStyleModel",
            "_view_count": null,
            "_view_module": "@jupyter-widgets/base",
            "_view_module_version": "1.2.0",
            "_view_name": "StyleView",
            "description_width": ""
          }
        },
        "d8b681f4b5c44e1bb9f02133828f40ad": {
          "model_module": "@jupyter-widgets/controls",
          "model_name": "HBoxModel",
          "model_module_version": "1.5.0",
          "state": {
            "_dom_classes": [],
            "_model_module": "@jupyter-widgets/controls",
            "_model_module_version": "1.5.0",
            "_model_name": "HBoxModel",
            "_view_count": null,
            "_view_module": "@jupyter-widgets/controls",
            "_view_module_version": "1.5.0",
            "_view_name": "HBoxView",
            "box_style": "",
            "children": [
              "IPY_MODEL_2509cf0b1f6749ccb06420099b114e82",
              "IPY_MODEL_986f37185dc14863ac77a977c48ee228",
              "IPY_MODEL_46a125df36204f81995a522ad9a10978"
            ],
            "layout": "IPY_MODEL_2f42e25ecc344324818d0ec6d336e5c6"
          }
        },
        "2509cf0b1f6749ccb06420099b114e82": {
          "model_module": "@jupyter-widgets/controls",
          "model_name": "HTMLModel",
          "model_module_version": "1.5.0",
          "state": {
            "_dom_classes": [],
            "_model_module": "@jupyter-widgets/controls",
            "_model_module_version": "1.5.0",
            "_model_name": "HTMLModel",
            "_view_count": null,
            "_view_module": "@jupyter-widgets/controls",
            "_view_module_version": "1.5.0",
            "_view_name": "HTMLView",
            "description": "",
            "description_tooltip": null,
            "layout": "IPY_MODEL_f27a862693324e48acfe09babb745476",
            "placeholder": "​",
            "style": "IPY_MODEL_c3759d70f2ae43be82f597ddfc64588b",
            "value": "generation_config.json: 100%"
          }
        },
        "986f37185dc14863ac77a977c48ee228": {
          "model_module": "@jupyter-widgets/controls",
          "model_name": "FloatProgressModel",
          "model_module_version": "1.5.0",
          "state": {
            "_dom_classes": [],
            "_model_module": "@jupyter-widgets/controls",
            "_model_module_version": "1.5.0",
            "_model_name": "FloatProgressModel",
            "_view_count": null,
            "_view_module": "@jupyter-widgets/controls",
            "_view_module_version": "1.5.0",
            "_view_name": "ProgressView",
            "bar_style": "success",
            "description": "",
            "description_tooltip": null,
            "layout": "IPY_MODEL_24a20b1f02e749fdb9f12a73ddda6350",
            "max": 121,
            "min": 0,
            "orientation": "horizontal",
            "style": "IPY_MODEL_282c807bd81545a3b80f481502a30d49",
            "value": 121
          }
        },
        "46a125df36204f81995a522ad9a10978": {
          "model_module": "@jupyter-widgets/controls",
          "model_name": "HTMLModel",
          "model_module_version": "1.5.0",
          "state": {
            "_dom_classes": [],
            "_model_module": "@jupyter-widgets/controls",
            "_model_module_version": "1.5.0",
            "_model_name": "HTMLModel",
            "_view_count": null,
            "_view_module": "@jupyter-widgets/controls",
            "_view_module_version": "1.5.0",
            "_view_name": "HTMLView",
            "description": "",
            "description_tooltip": null,
            "layout": "IPY_MODEL_add8658e97fe448bb619ee0ef855c13a",
            "placeholder": "​",
            "style": "IPY_MODEL_8efd2439fcd64c949a6f142c32008cde",
            "value": " 121/121 [00:00&lt;00:00, 6.22kB/s]"
          }
        },
        "2f42e25ecc344324818d0ec6d336e5c6": {
          "model_module": "@jupyter-widgets/base",
          "model_name": "LayoutModel",
          "model_module_version": "1.2.0",
          "state": {
            "_model_module": "@jupyter-widgets/base",
            "_model_module_version": "1.2.0",
            "_model_name": "LayoutModel",
            "_view_count": null,
            "_view_module": "@jupyter-widgets/base",
            "_view_module_version": "1.2.0",
            "_view_name": "LayoutView",
            "align_content": null,
            "align_items": null,
            "align_self": null,
            "border": null,
            "bottom": null,
            "display": null,
            "flex": null,
            "flex_flow": null,
            "grid_area": null,
            "grid_auto_columns": null,
            "grid_auto_flow": null,
            "grid_auto_rows": null,
            "grid_column": null,
            "grid_gap": null,
            "grid_row": null,
            "grid_template_areas": null,
            "grid_template_columns": null,
            "grid_template_rows": null,
            "height": null,
            "justify_content": null,
            "justify_items": null,
            "left": null,
            "margin": null,
            "max_height": null,
            "max_width": null,
            "min_height": null,
            "min_width": null,
            "object_fit": null,
            "object_position": null,
            "order": null,
            "overflow": null,
            "overflow_x": null,
            "overflow_y": null,
            "padding": null,
            "right": null,
            "top": null,
            "visibility": null,
            "width": null
          }
        },
        "f27a862693324e48acfe09babb745476": {
          "model_module": "@jupyter-widgets/base",
          "model_name": "LayoutModel",
          "model_module_version": "1.2.0",
          "state": {
            "_model_module": "@jupyter-widgets/base",
            "_model_module_version": "1.2.0",
            "_model_name": "LayoutModel",
            "_view_count": null,
            "_view_module": "@jupyter-widgets/base",
            "_view_module_version": "1.2.0",
            "_view_name": "LayoutView",
            "align_content": null,
            "align_items": null,
            "align_self": null,
            "border": null,
            "bottom": null,
            "display": null,
            "flex": null,
            "flex_flow": null,
            "grid_area": null,
            "grid_auto_columns": null,
            "grid_auto_flow": null,
            "grid_auto_rows": null,
            "grid_column": null,
            "grid_gap": null,
            "grid_row": null,
            "grid_template_areas": null,
            "grid_template_columns": null,
            "grid_template_rows": null,
            "height": null,
            "justify_content": null,
            "justify_items": null,
            "left": null,
            "margin": null,
            "max_height": null,
            "max_width": null,
            "min_height": null,
            "min_width": null,
            "object_fit": null,
            "object_position": null,
            "order": null,
            "overflow": null,
            "overflow_x": null,
            "overflow_y": null,
            "padding": null,
            "right": null,
            "top": null,
            "visibility": null,
            "width": null
          }
        },
        "c3759d70f2ae43be82f597ddfc64588b": {
          "model_module": "@jupyter-widgets/controls",
          "model_name": "DescriptionStyleModel",
          "model_module_version": "1.5.0",
          "state": {
            "_model_module": "@jupyter-widgets/controls",
            "_model_module_version": "1.5.0",
            "_model_name": "DescriptionStyleModel",
            "_view_count": null,
            "_view_module": "@jupyter-widgets/base",
            "_view_module_version": "1.2.0",
            "_view_name": "StyleView",
            "description_width": ""
          }
        },
        "24a20b1f02e749fdb9f12a73ddda6350": {
          "model_module": "@jupyter-widgets/base",
          "model_name": "LayoutModel",
          "model_module_version": "1.2.0",
          "state": {
            "_model_module": "@jupyter-widgets/base",
            "_model_module_version": "1.2.0",
            "_model_name": "LayoutModel",
            "_view_count": null,
            "_view_module": "@jupyter-widgets/base",
            "_view_module_version": "1.2.0",
            "_view_name": "LayoutView",
            "align_content": null,
            "align_items": null,
            "align_self": null,
            "border": null,
            "bottom": null,
            "display": null,
            "flex": null,
            "flex_flow": null,
            "grid_area": null,
            "grid_auto_columns": null,
            "grid_auto_flow": null,
            "grid_auto_rows": null,
            "grid_column": null,
            "grid_gap": null,
            "grid_row": null,
            "grid_template_areas": null,
            "grid_template_columns": null,
            "grid_template_rows": null,
            "height": null,
            "justify_content": null,
            "justify_items": null,
            "left": null,
            "margin": null,
            "max_height": null,
            "max_width": null,
            "min_height": null,
            "min_width": null,
            "object_fit": null,
            "object_position": null,
            "order": null,
            "overflow": null,
            "overflow_x": null,
            "overflow_y": null,
            "padding": null,
            "right": null,
            "top": null,
            "visibility": null,
            "width": null
          }
        },
        "282c807bd81545a3b80f481502a30d49": {
          "model_module": "@jupyter-widgets/controls",
          "model_name": "ProgressStyleModel",
          "model_module_version": "1.5.0",
          "state": {
            "_model_module": "@jupyter-widgets/controls",
            "_model_module_version": "1.5.0",
            "_model_name": "ProgressStyleModel",
            "_view_count": null,
            "_view_module": "@jupyter-widgets/base",
            "_view_module_version": "1.2.0",
            "_view_name": "StyleView",
            "bar_color": null,
            "description_width": ""
          }
        },
        "add8658e97fe448bb619ee0ef855c13a": {
          "model_module": "@jupyter-widgets/base",
          "model_name": "LayoutModel",
          "model_module_version": "1.2.0",
          "state": {
            "_model_module": "@jupyter-widgets/base",
            "_model_module_version": "1.2.0",
            "_model_name": "LayoutModel",
            "_view_count": null,
            "_view_module": "@jupyter-widgets/base",
            "_view_module_version": "1.2.0",
            "_view_name": "LayoutView",
            "align_content": null,
            "align_items": null,
            "align_self": null,
            "border": null,
            "bottom": null,
            "display": null,
            "flex": null,
            "flex_flow": null,
            "grid_area": null,
            "grid_auto_columns": null,
            "grid_auto_flow": null,
            "grid_auto_rows": null,
            "grid_column": null,
            "grid_gap": null,
            "grid_row": null,
            "grid_template_areas": null,
            "grid_template_columns": null,
            "grid_template_rows": null,
            "height": null,
            "justify_content": null,
            "justify_items": null,
            "left": null,
            "margin": null,
            "max_height": null,
            "max_width": null,
            "min_height": null,
            "min_width": null,
            "object_fit": null,
            "object_position": null,
            "order": null,
            "overflow": null,
            "overflow_x": null,
            "overflow_y": null,
            "padding": null,
            "right": null,
            "top": null,
            "visibility": null,
            "width": null
          }
        },
        "8efd2439fcd64c949a6f142c32008cde": {
          "model_module": "@jupyter-widgets/controls",
          "model_name": "DescriptionStyleModel",
          "model_module_version": "1.5.0",
          "state": {
            "_model_module": "@jupyter-widgets/controls",
            "_model_module_version": "1.5.0",
            "_model_name": "DescriptionStyleModel",
            "_view_count": null,
            "_view_module": "@jupyter-widgets/base",
            "_view_module_version": "1.2.0",
            "_view_name": "StyleView",
            "description_width": ""
          }
        },
        "0c413ed2e297424385168610ff249a5f": {
          "model_module": "@jupyter-widgets/controls",
          "model_name": "HBoxModel",
          "model_module_version": "1.5.0",
          "state": {
            "_dom_classes": [],
            "_model_module": "@jupyter-widgets/controls",
            "_model_module_version": "1.5.0",
            "_model_name": "HBoxModel",
            "_view_count": null,
            "_view_module": "@jupyter-widgets/controls",
            "_view_module_version": "1.5.0",
            "_view_name": "HBoxView",
            "box_style": "",
            "children": [
              "IPY_MODEL_16827efbcffb4659a9487670eea7f2b4",
              "IPY_MODEL_6bb5c25690174bc18c1961a048d531eb",
              "IPY_MODEL_aec5d80093334cdc9fff0e3771e408e7"
            ],
            "layout": "IPY_MODEL_ae09153fda6947809faf136aa0402f80"
          }
        },
        "16827efbcffb4659a9487670eea7f2b4": {
          "model_module": "@jupyter-widgets/controls",
          "model_name": "HTMLModel",
          "model_module_version": "1.5.0",
          "state": {
            "_dom_classes": [],
            "_model_module": "@jupyter-widgets/controls",
            "_model_module_version": "1.5.0",
            "_model_name": "HTMLModel",
            "_view_count": null,
            "_view_module": "@jupyter-widgets/controls",
            "_view_module_version": "1.5.0",
            "_view_name": "HTMLView",
            "description": "",
            "description_tooltip": null,
            "layout": "IPY_MODEL_fa4fced463b1413a86f097c0947d6a50",
            "placeholder": "​",
            "style": "IPY_MODEL_065bec47f8a94f1ea6f2da65600d79b1",
            "value": "tokenizer_config.json: 100%"
          }
        },
        "6bb5c25690174bc18c1961a048d531eb": {
          "model_module": "@jupyter-widgets/controls",
          "model_name": "FloatProgressModel",
          "model_module_version": "1.5.0",
          "state": {
            "_dom_classes": [],
            "_model_module": "@jupyter-widgets/controls",
            "_model_module_version": "1.5.0",
            "_model_name": "FloatProgressModel",
            "_view_count": null,
            "_view_module": "@jupyter-widgets/controls",
            "_view_module_version": "1.5.0",
            "_view_name": "ProgressView",
            "bar_style": "success",
            "description": "",
            "description_tooltip": null,
            "layout": "IPY_MODEL_49a53c2e511e4a1380632e792feb95c8",
            "max": 50570,
            "min": 0,
            "orientation": "horizontal",
            "style": "IPY_MODEL_024f9441163b4ed0a36839dec0dd2aec",
            "value": 50570
          }
        },
        "aec5d80093334cdc9fff0e3771e408e7": {
          "model_module": "@jupyter-widgets/controls",
          "model_name": "HTMLModel",
          "model_module_version": "1.5.0",
          "state": {
            "_dom_classes": [],
            "_model_module": "@jupyter-widgets/controls",
            "_model_module_version": "1.5.0",
            "_model_name": "HTMLModel",
            "_view_count": null,
            "_view_module": "@jupyter-widgets/controls",
            "_view_module_version": "1.5.0",
            "_view_name": "HTMLView",
            "description": "",
            "description_tooltip": null,
            "layout": "IPY_MODEL_708fb3153d3d446984b7ba65b4efe0af",
            "placeholder": "​",
            "style": "IPY_MODEL_9332f2d265a04ddda2642750f4f13364",
            "value": " 50.6k/50.6k [00:00&lt;00:00, 996kB/s]"
          }
        },
        "ae09153fda6947809faf136aa0402f80": {
          "model_module": "@jupyter-widgets/base",
          "model_name": "LayoutModel",
          "model_module_version": "1.2.0",
          "state": {
            "_model_module": "@jupyter-widgets/base",
            "_model_module_version": "1.2.0",
            "_model_name": "LayoutModel",
            "_view_count": null,
            "_view_module": "@jupyter-widgets/base",
            "_view_module_version": "1.2.0",
            "_view_name": "LayoutView",
            "align_content": null,
            "align_items": null,
            "align_self": null,
            "border": null,
            "bottom": null,
            "display": null,
            "flex": null,
            "flex_flow": null,
            "grid_area": null,
            "grid_auto_columns": null,
            "grid_auto_flow": null,
            "grid_auto_rows": null,
            "grid_column": null,
            "grid_gap": null,
            "grid_row": null,
            "grid_template_areas": null,
            "grid_template_columns": null,
            "grid_template_rows": null,
            "height": null,
            "justify_content": null,
            "justify_items": null,
            "left": null,
            "margin": null,
            "max_height": null,
            "max_width": null,
            "min_height": null,
            "min_width": null,
            "object_fit": null,
            "object_position": null,
            "order": null,
            "overflow": null,
            "overflow_x": null,
            "overflow_y": null,
            "padding": null,
            "right": null,
            "top": null,
            "visibility": null,
            "width": null
          }
        },
        "fa4fced463b1413a86f097c0947d6a50": {
          "model_module": "@jupyter-widgets/base",
          "model_name": "LayoutModel",
          "model_module_version": "1.2.0",
          "state": {
            "_model_module": "@jupyter-widgets/base",
            "_model_module_version": "1.2.0",
            "_model_name": "LayoutModel",
            "_view_count": null,
            "_view_module": "@jupyter-widgets/base",
            "_view_module_version": "1.2.0",
            "_view_name": "LayoutView",
            "align_content": null,
            "align_items": null,
            "align_self": null,
            "border": null,
            "bottom": null,
            "display": null,
            "flex": null,
            "flex_flow": null,
            "grid_area": null,
            "grid_auto_columns": null,
            "grid_auto_flow": null,
            "grid_auto_rows": null,
            "grid_column": null,
            "grid_gap": null,
            "grid_row": null,
            "grid_template_areas": null,
            "grid_template_columns": null,
            "grid_template_rows": null,
            "height": null,
            "justify_content": null,
            "justify_items": null,
            "left": null,
            "margin": null,
            "max_height": null,
            "max_width": null,
            "min_height": null,
            "min_width": null,
            "object_fit": null,
            "object_position": null,
            "order": null,
            "overflow": null,
            "overflow_x": null,
            "overflow_y": null,
            "padding": null,
            "right": null,
            "top": null,
            "visibility": null,
            "width": null
          }
        },
        "065bec47f8a94f1ea6f2da65600d79b1": {
          "model_module": "@jupyter-widgets/controls",
          "model_name": "DescriptionStyleModel",
          "model_module_version": "1.5.0",
          "state": {
            "_model_module": "@jupyter-widgets/controls",
            "_model_module_version": "1.5.0",
            "_model_name": "DescriptionStyleModel",
            "_view_count": null,
            "_view_module": "@jupyter-widgets/base",
            "_view_module_version": "1.2.0",
            "_view_name": "StyleView",
            "description_width": ""
          }
        },
        "49a53c2e511e4a1380632e792feb95c8": {
          "model_module": "@jupyter-widgets/base",
          "model_name": "LayoutModel",
          "model_module_version": "1.2.0",
          "state": {
            "_model_module": "@jupyter-widgets/base",
            "_model_module_version": "1.2.0",
            "_model_name": "LayoutModel",
            "_view_count": null,
            "_view_module": "@jupyter-widgets/base",
            "_view_module_version": "1.2.0",
            "_view_name": "LayoutView",
            "align_content": null,
            "align_items": null,
            "align_self": null,
            "border": null,
            "bottom": null,
            "display": null,
            "flex": null,
            "flex_flow": null,
            "grid_area": null,
            "grid_auto_columns": null,
            "grid_auto_flow": null,
            "grid_auto_rows": null,
            "grid_column": null,
            "grid_gap": null,
            "grid_row": null,
            "grid_template_areas": null,
            "grid_template_columns": null,
            "grid_template_rows": null,
            "height": null,
            "justify_content": null,
            "justify_items": null,
            "left": null,
            "margin": null,
            "max_height": null,
            "max_width": null,
            "min_height": null,
            "min_width": null,
            "object_fit": null,
            "object_position": null,
            "order": null,
            "overflow": null,
            "overflow_x": null,
            "overflow_y": null,
            "padding": null,
            "right": null,
            "top": null,
            "visibility": null,
            "width": null
          }
        },
        "024f9441163b4ed0a36839dec0dd2aec": {
          "model_module": "@jupyter-widgets/controls",
          "model_name": "ProgressStyleModel",
          "model_module_version": "1.5.0",
          "state": {
            "_model_module": "@jupyter-widgets/controls",
            "_model_module_version": "1.5.0",
            "_model_name": "ProgressStyleModel",
            "_view_count": null,
            "_view_module": "@jupyter-widgets/base",
            "_view_module_version": "1.2.0",
            "_view_name": "StyleView",
            "bar_color": null,
            "description_width": ""
          }
        },
        "708fb3153d3d446984b7ba65b4efe0af": {
          "model_module": "@jupyter-widgets/base",
          "model_name": "LayoutModel",
          "model_module_version": "1.2.0",
          "state": {
            "_model_module": "@jupyter-widgets/base",
            "_model_module_version": "1.2.0",
            "_model_name": "LayoutModel",
            "_view_count": null,
            "_view_module": "@jupyter-widgets/base",
            "_view_module_version": "1.2.0",
            "_view_name": "LayoutView",
            "align_content": null,
            "align_items": null,
            "align_self": null,
            "border": null,
            "bottom": null,
            "display": null,
            "flex": null,
            "flex_flow": null,
            "grid_area": null,
            "grid_auto_columns": null,
            "grid_auto_flow": null,
            "grid_auto_rows": null,
            "grid_column": null,
            "grid_gap": null,
            "grid_row": null,
            "grid_template_areas": null,
            "grid_template_columns": null,
            "grid_template_rows": null,
            "height": null,
            "justify_content": null,
            "justify_items": null,
            "left": null,
            "margin": null,
            "max_height": null,
            "max_width": null,
            "min_height": null,
            "min_width": null,
            "object_fit": null,
            "object_position": null,
            "order": null,
            "overflow": null,
            "overflow_x": null,
            "overflow_y": null,
            "padding": null,
            "right": null,
            "top": null,
            "visibility": null,
            "width": null
          }
        },
        "9332f2d265a04ddda2642750f4f13364": {
          "model_module": "@jupyter-widgets/controls",
          "model_name": "DescriptionStyleModel",
          "model_module_version": "1.5.0",
          "state": {
            "_model_module": "@jupyter-widgets/controls",
            "_model_module_version": "1.5.0",
            "_model_name": "DescriptionStyleModel",
            "_view_count": null,
            "_view_module": "@jupyter-widgets/base",
            "_view_module_version": "1.2.0",
            "_view_name": "StyleView",
            "description_width": ""
          }
        },
        "cea06bdb832a451c8e5a689b6d12be29": {
          "model_module": "@jupyter-widgets/controls",
          "model_name": "HBoxModel",
          "model_module_version": "1.5.0",
          "state": {
            "_dom_classes": [],
            "_model_module": "@jupyter-widgets/controls",
            "_model_module_version": "1.5.0",
            "_model_name": "HBoxModel",
            "_view_count": null,
            "_view_module": "@jupyter-widgets/controls",
            "_view_module_version": "1.5.0",
            "_view_name": "HBoxView",
            "box_style": "",
            "children": [
              "IPY_MODEL_beed5bef0f954226a3f96751e429bc98",
              "IPY_MODEL_77fd27d474064965a145770afdc784d5",
              "IPY_MODEL_0ee9770656c944b2beb882e1a249c447"
            ],
            "layout": "IPY_MODEL_bf94fe9d3b824941ab5f4a1c0826cf4a"
          }
        },
        "beed5bef0f954226a3f96751e429bc98": {
          "model_module": "@jupyter-widgets/controls",
          "model_name": "HTMLModel",
          "model_module_version": "1.5.0",
          "state": {
            "_dom_classes": [],
            "_model_module": "@jupyter-widgets/controls",
            "_model_module_version": "1.5.0",
            "_model_name": "HTMLModel",
            "_view_count": null,
            "_view_module": "@jupyter-widgets/controls",
            "_view_module_version": "1.5.0",
            "_view_name": "HTMLView",
            "description": "",
            "description_tooltip": null,
            "layout": "IPY_MODEL_3c8b6bb9d4ed4b89b4017fc22835592d",
            "placeholder": "​",
            "style": "IPY_MODEL_381216c2d3b64bab8e48dfa30862b2fd",
            "value": "tokenizer.json: 100%"
          }
        },
        "77fd27d474064965a145770afdc784d5": {
          "model_module": "@jupyter-widgets/controls",
          "model_name": "FloatProgressModel",
          "model_module_version": "1.5.0",
          "state": {
            "_dom_classes": [],
            "_model_module": "@jupyter-widgets/controls",
            "_model_module_version": "1.5.0",
            "_model_name": "FloatProgressModel",
            "_view_count": null,
            "_view_module": "@jupyter-widgets/controls",
            "_view_module_version": "1.5.0",
            "_view_name": "ProgressView",
            "bar_style": "success",
            "description": "",
            "description_tooltip": null,
            "layout": "IPY_MODEL_755ab4b0e89a41529f03d5970edfa88f",
            "max": 9085657,
            "min": 0,
            "orientation": "horizontal",
            "style": "IPY_MODEL_c9accc0e7a284c9aa4897e41b2d24443",
            "value": 9085657
          }
        },
        "0ee9770656c944b2beb882e1a249c447": {
          "model_module": "@jupyter-widgets/controls",
          "model_name": "HTMLModel",
          "model_module_version": "1.5.0",
          "state": {
            "_dom_classes": [],
            "_model_module": "@jupyter-widgets/controls",
            "_model_module_version": "1.5.0",
            "_model_name": "HTMLModel",
            "_view_count": null,
            "_view_module": "@jupyter-widgets/controls",
            "_view_module_version": "1.5.0",
            "_view_name": "HTMLView",
            "description": "",
            "description_tooltip": null,
            "layout": "IPY_MODEL_5cc7c884c3f840458e184c2916092901",
            "placeholder": "​",
            "style": "IPY_MODEL_859706ff47e74b60ba2216fb13433cf2",
            "value": " 9.09M/9.09M [00:00&lt;00:00, 27.0MB/s]"
          }
        },
        "bf94fe9d3b824941ab5f4a1c0826cf4a": {
          "model_module": "@jupyter-widgets/base",
          "model_name": "LayoutModel",
          "model_module_version": "1.2.0",
          "state": {
            "_model_module": "@jupyter-widgets/base",
            "_model_module_version": "1.2.0",
            "_model_name": "LayoutModel",
            "_view_count": null,
            "_view_module": "@jupyter-widgets/base",
            "_view_module_version": "1.2.0",
            "_view_name": "LayoutView",
            "align_content": null,
            "align_items": null,
            "align_self": null,
            "border": null,
            "bottom": null,
            "display": null,
            "flex": null,
            "flex_flow": null,
            "grid_area": null,
            "grid_auto_columns": null,
            "grid_auto_flow": null,
            "grid_auto_rows": null,
            "grid_column": null,
            "grid_gap": null,
            "grid_row": null,
            "grid_template_areas": null,
            "grid_template_columns": null,
            "grid_template_rows": null,
            "height": null,
            "justify_content": null,
            "justify_items": null,
            "left": null,
            "margin": null,
            "max_height": null,
            "max_width": null,
            "min_height": null,
            "min_width": null,
            "object_fit": null,
            "object_position": null,
            "order": null,
            "overflow": null,
            "overflow_x": null,
            "overflow_y": null,
            "padding": null,
            "right": null,
            "top": null,
            "visibility": null,
            "width": null
          }
        },
        "3c8b6bb9d4ed4b89b4017fc22835592d": {
          "model_module": "@jupyter-widgets/base",
          "model_name": "LayoutModel",
          "model_module_version": "1.2.0",
          "state": {
            "_model_module": "@jupyter-widgets/base",
            "_model_module_version": "1.2.0",
            "_model_name": "LayoutModel",
            "_view_count": null,
            "_view_module": "@jupyter-widgets/base",
            "_view_module_version": "1.2.0",
            "_view_name": "LayoutView",
            "align_content": null,
            "align_items": null,
            "align_self": null,
            "border": null,
            "bottom": null,
            "display": null,
            "flex": null,
            "flex_flow": null,
            "grid_area": null,
            "grid_auto_columns": null,
            "grid_auto_flow": null,
            "grid_auto_rows": null,
            "grid_column": null,
            "grid_gap": null,
            "grid_row": null,
            "grid_template_areas": null,
            "grid_template_columns": null,
            "grid_template_rows": null,
            "height": null,
            "justify_content": null,
            "justify_items": null,
            "left": null,
            "margin": null,
            "max_height": null,
            "max_width": null,
            "min_height": null,
            "min_width": null,
            "object_fit": null,
            "object_position": null,
            "order": null,
            "overflow": null,
            "overflow_x": null,
            "overflow_y": null,
            "padding": null,
            "right": null,
            "top": null,
            "visibility": null,
            "width": null
          }
        },
        "381216c2d3b64bab8e48dfa30862b2fd": {
          "model_module": "@jupyter-widgets/controls",
          "model_name": "DescriptionStyleModel",
          "model_module_version": "1.5.0",
          "state": {
            "_model_module": "@jupyter-widgets/controls",
            "_model_module_version": "1.5.0",
            "_model_name": "DescriptionStyleModel",
            "_view_count": null,
            "_view_module": "@jupyter-widgets/base",
            "_view_module_version": "1.2.0",
            "_view_name": "StyleView",
            "description_width": ""
          }
        },
        "755ab4b0e89a41529f03d5970edfa88f": {
          "model_module": "@jupyter-widgets/base",
          "model_name": "LayoutModel",
          "model_module_version": "1.2.0",
          "state": {
            "_model_module": "@jupyter-widgets/base",
            "_model_module_version": "1.2.0",
            "_model_name": "LayoutModel",
            "_view_count": null,
            "_view_module": "@jupyter-widgets/base",
            "_view_module_version": "1.2.0",
            "_view_name": "LayoutView",
            "align_content": null,
            "align_items": null,
            "align_self": null,
            "border": null,
            "bottom": null,
            "display": null,
            "flex": null,
            "flex_flow": null,
            "grid_area": null,
            "grid_auto_columns": null,
            "grid_auto_flow": null,
            "grid_auto_rows": null,
            "grid_column": null,
            "grid_gap": null,
            "grid_row": null,
            "grid_template_areas": null,
            "grid_template_columns": null,
            "grid_template_rows": null,
            "height": null,
            "justify_content": null,
            "justify_items": null,
            "left": null,
            "margin": null,
            "max_height": null,
            "max_width": null,
            "min_height": null,
            "min_width": null,
            "object_fit": null,
            "object_position": null,
            "order": null,
            "overflow": null,
            "overflow_x": null,
            "overflow_y": null,
            "padding": null,
            "right": null,
            "top": null,
            "visibility": null,
            "width": null
          }
        },
        "c9accc0e7a284c9aa4897e41b2d24443": {
          "model_module": "@jupyter-widgets/controls",
          "model_name": "ProgressStyleModel",
          "model_module_version": "1.5.0",
          "state": {
            "_model_module": "@jupyter-widgets/controls",
            "_model_module_version": "1.5.0",
            "_model_name": "ProgressStyleModel",
            "_view_count": null,
            "_view_module": "@jupyter-widgets/base",
            "_view_module_version": "1.2.0",
            "_view_name": "StyleView",
            "bar_color": null,
            "description_width": ""
          }
        },
        "5cc7c884c3f840458e184c2916092901": {
          "model_module": "@jupyter-widgets/base",
          "model_name": "LayoutModel",
          "model_module_version": "1.2.0",
          "state": {
            "_model_module": "@jupyter-widgets/base",
            "_model_module_version": "1.2.0",
            "_model_name": "LayoutModel",
            "_view_count": null,
            "_view_module": "@jupyter-widgets/base",
            "_view_module_version": "1.2.0",
            "_view_name": "LayoutView",
            "align_content": null,
            "align_items": null,
            "align_self": null,
            "border": null,
            "bottom": null,
            "display": null,
            "flex": null,
            "flex_flow": null,
            "grid_area": null,
            "grid_auto_columns": null,
            "grid_auto_flow": null,
            "grid_auto_rows": null,
            "grid_column": null,
            "grid_gap": null,
            "grid_row": null,
            "grid_template_areas": null,
            "grid_template_columns": null,
            "grid_template_rows": null,
            "height": null,
            "justify_content": null,
            "justify_items": null,
            "left": null,
            "margin": null,
            "max_height": null,
            "max_width": null,
            "min_height": null,
            "min_width": null,
            "object_fit": null,
            "object_position": null,
            "order": null,
            "overflow": null,
            "overflow_x": null,
            "overflow_y": null,
            "padding": null,
            "right": null,
            "top": null,
            "visibility": null,
            "width": null
          }
        },
        "859706ff47e74b60ba2216fb13433cf2": {
          "model_module": "@jupyter-widgets/controls",
          "model_name": "DescriptionStyleModel",
          "model_module_version": "1.5.0",
          "state": {
            "_model_module": "@jupyter-widgets/controls",
            "_model_module_version": "1.5.0",
            "_model_name": "DescriptionStyleModel",
            "_view_count": null,
            "_view_module": "@jupyter-widgets/base",
            "_view_module_version": "1.2.0",
            "_view_name": "StyleView",
            "description_width": ""
          }
        },
        "2afef23c65ea4030b01d8165bf56836a": {
          "model_module": "@jupyter-widgets/controls",
          "model_name": "HBoxModel",
          "model_module_version": "1.5.0",
          "state": {
            "_dom_classes": [],
            "_model_module": "@jupyter-widgets/controls",
            "_model_module_version": "1.5.0",
            "_model_name": "HBoxModel",
            "_view_count": null,
            "_view_module": "@jupyter-widgets/controls",
            "_view_module_version": "1.5.0",
            "_view_name": "HBoxView",
            "box_style": "",
            "children": [
              "IPY_MODEL_5d0f4e68a3384812afb29d1ab93307a4",
              "IPY_MODEL_751199ae5b734ce68e26792a20b0c7af",
              "IPY_MODEL_db45fb0df7eb40e2b035708cc6540b8f"
            ],
            "layout": "IPY_MODEL_f0eead5db0014f2b9d1f5a9a362acbd9"
          }
        },
        "5d0f4e68a3384812afb29d1ab93307a4": {
          "model_module": "@jupyter-widgets/controls",
          "model_name": "HTMLModel",
          "model_module_version": "1.5.0",
          "state": {
            "_dom_classes": [],
            "_model_module": "@jupyter-widgets/controls",
            "_model_module_version": "1.5.0",
            "_model_name": "HTMLModel",
            "_view_count": null,
            "_view_module": "@jupyter-widgets/controls",
            "_view_module_version": "1.5.0",
            "_view_name": "HTMLView",
            "description": "",
            "description_tooltip": null,
            "layout": "IPY_MODEL_a6ee8a02d351426abfa20a9518d87e35",
            "placeholder": "​",
            "style": "IPY_MODEL_32b14a6596434340af8060dd25801485",
            "value": "special_tokens_map.json: 100%"
          }
        },
        "751199ae5b734ce68e26792a20b0c7af": {
          "model_module": "@jupyter-widgets/controls",
          "model_name": "FloatProgressModel",
          "model_module_version": "1.5.0",
          "state": {
            "_dom_classes": [],
            "_model_module": "@jupyter-widgets/controls",
            "_model_module_version": "1.5.0",
            "_model_name": "FloatProgressModel",
            "_view_count": null,
            "_view_module": "@jupyter-widgets/controls",
            "_view_module_version": "1.5.0",
            "_view_name": "ProgressView",
            "bar_style": "success",
            "description": "",
            "description_tooltip": null,
            "layout": "IPY_MODEL_49d716df015449b59f76a3cde0c71aa6",
            "max": 459,
            "min": 0,
            "orientation": "horizontal",
            "style": "IPY_MODEL_5c0dbf7943014992a3fc2b6061b35903",
            "value": 459
          }
        },
        "db45fb0df7eb40e2b035708cc6540b8f": {
          "model_module": "@jupyter-widgets/controls",
          "model_name": "HTMLModel",
          "model_module_version": "1.5.0",
          "state": {
            "_dom_classes": [],
            "_model_module": "@jupyter-widgets/controls",
            "_model_module_version": "1.5.0",
            "_model_name": "HTMLModel",
            "_view_count": null,
            "_view_module": "@jupyter-widgets/controls",
            "_view_module_version": "1.5.0",
            "_view_name": "HTMLView",
            "description": "",
            "description_tooltip": null,
            "layout": "IPY_MODEL_56c6485c540f46418dcdf0c4fa6fabc9",
            "placeholder": "​",
            "style": "IPY_MODEL_50a2e01958464facb4a19734499ae040",
            "value": " 459/459 [00:00&lt;00:00, 10.7kB/s]"
          }
        },
        "f0eead5db0014f2b9d1f5a9a362acbd9": {
          "model_module": "@jupyter-widgets/base",
          "model_name": "LayoutModel",
          "model_module_version": "1.2.0",
          "state": {
            "_model_module": "@jupyter-widgets/base",
            "_model_module_version": "1.2.0",
            "_model_name": "LayoutModel",
            "_view_count": null,
            "_view_module": "@jupyter-widgets/base",
            "_view_module_version": "1.2.0",
            "_view_name": "LayoutView",
            "align_content": null,
            "align_items": null,
            "align_self": null,
            "border": null,
            "bottom": null,
            "display": null,
            "flex": null,
            "flex_flow": null,
            "grid_area": null,
            "grid_auto_columns": null,
            "grid_auto_flow": null,
            "grid_auto_rows": null,
            "grid_column": null,
            "grid_gap": null,
            "grid_row": null,
            "grid_template_areas": null,
            "grid_template_columns": null,
            "grid_template_rows": null,
            "height": null,
            "justify_content": null,
            "justify_items": null,
            "left": null,
            "margin": null,
            "max_height": null,
            "max_width": null,
            "min_height": null,
            "min_width": null,
            "object_fit": null,
            "object_position": null,
            "order": null,
            "overflow": null,
            "overflow_x": null,
            "overflow_y": null,
            "padding": null,
            "right": null,
            "top": null,
            "visibility": null,
            "width": null
          }
        },
        "a6ee8a02d351426abfa20a9518d87e35": {
          "model_module": "@jupyter-widgets/base",
          "model_name": "LayoutModel",
          "model_module_version": "1.2.0",
          "state": {
            "_model_module": "@jupyter-widgets/base",
            "_model_module_version": "1.2.0",
            "_model_name": "LayoutModel",
            "_view_count": null,
            "_view_module": "@jupyter-widgets/base",
            "_view_module_version": "1.2.0",
            "_view_name": "LayoutView",
            "align_content": null,
            "align_items": null,
            "align_self": null,
            "border": null,
            "bottom": null,
            "display": null,
            "flex": null,
            "flex_flow": null,
            "grid_area": null,
            "grid_auto_columns": null,
            "grid_auto_flow": null,
            "grid_auto_rows": null,
            "grid_column": null,
            "grid_gap": null,
            "grid_row": null,
            "grid_template_areas": null,
            "grid_template_columns": null,
            "grid_template_rows": null,
            "height": null,
            "justify_content": null,
            "justify_items": null,
            "left": null,
            "margin": null,
            "max_height": null,
            "max_width": null,
            "min_height": null,
            "min_width": null,
            "object_fit": null,
            "object_position": null,
            "order": null,
            "overflow": null,
            "overflow_x": null,
            "overflow_y": null,
            "padding": null,
            "right": null,
            "top": null,
            "visibility": null,
            "width": null
          }
        },
        "32b14a6596434340af8060dd25801485": {
          "model_module": "@jupyter-widgets/controls",
          "model_name": "DescriptionStyleModel",
          "model_module_version": "1.5.0",
          "state": {
            "_model_module": "@jupyter-widgets/controls",
            "_model_module_version": "1.5.0",
            "_model_name": "DescriptionStyleModel",
            "_view_count": null,
            "_view_module": "@jupyter-widgets/base",
            "_view_module_version": "1.2.0",
            "_view_name": "StyleView",
            "description_width": ""
          }
        },
        "49d716df015449b59f76a3cde0c71aa6": {
          "model_module": "@jupyter-widgets/base",
          "model_name": "LayoutModel",
          "model_module_version": "1.2.0",
          "state": {
            "_model_module": "@jupyter-widgets/base",
            "_model_module_version": "1.2.0",
            "_model_name": "LayoutModel",
            "_view_count": null,
            "_view_module": "@jupyter-widgets/base",
            "_view_module_version": "1.2.0",
            "_view_name": "LayoutView",
            "align_content": null,
            "align_items": null,
            "align_self": null,
            "border": null,
            "bottom": null,
            "display": null,
            "flex": null,
            "flex_flow": null,
            "grid_area": null,
            "grid_auto_columns": null,
            "grid_auto_flow": null,
            "grid_auto_rows": null,
            "grid_column": null,
            "grid_gap": null,
            "grid_row": null,
            "grid_template_areas": null,
            "grid_template_columns": null,
            "grid_template_rows": null,
            "height": null,
            "justify_content": null,
            "justify_items": null,
            "left": null,
            "margin": null,
            "max_height": null,
            "max_width": null,
            "min_height": null,
            "min_width": null,
            "object_fit": null,
            "object_position": null,
            "order": null,
            "overflow": null,
            "overflow_x": null,
            "overflow_y": null,
            "padding": null,
            "right": null,
            "top": null,
            "visibility": null,
            "width": null
          }
        },
        "5c0dbf7943014992a3fc2b6061b35903": {
          "model_module": "@jupyter-widgets/controls",
          "model_name": "ProgressStyleModel",
          "model_module_version": "1.5.0",
          "state": {
            "_model_module": "@jupyter-widgets/controls",
            "_model_module_version": "1.5.0",
            "_model_name": "ProgressStyleModel",
            "_view_count": null,
            "_view_module": "@jupyter-widgets/base",
            "_view_module_version": "1.2.0",
            "_view_name": "StyleView",
            "bar_color": null,
            "description_width": ""
          }
        },
        "56c6485c540f46418dcdf0c4fa6fabc9": {
          "model_module": "@jupyter-widgets/base",
          "model_name": "LayoutModel",
          "model_module_version": "1.2.0",
          "state": {
            "_model_module": "@jupyter-widgets/base",
            "_model_module_version": "1.2.0",
            "_model_name": "LayoutModel",
            "_view_count": null,
            "_view_module": "@jupyter-widgets/base",
            "_view_module_version": "1.2.0",
            "_view_name": "LayoutView",
            "align_content": null,
            "align_items": null,
            "align_self": null,
            "border": null,
            "bottom": null,
            "display": null,
            "flex": null,
            "flex_flow": null,
            "grid_area": null,
            "grid_auto_columns": null,
            "grid_auto_flow": null,
            "grid_auto_rows": null,
            "grid_column": null,
            "grid_gap": null,
            "grid_row": null,
            "grid_template_areas": null,
            "grid_template_columns": null,
            "grid_template_rows": null,
            "height": null,
            "justify_content": null,
            "justify_items": null,
            "left": null,
            "margin": null,
            "max_height": null,
            "max_width": null,
            "min_height": null,
            "min_width": null,
            "object_fit": null,
            "object_position": null,
            "order": null,
            "overflow": null,
            "overflow_x": null,
            "overflow_y": null,
            "padding": null,
            "right": null,
            "top": null,
            "visibility": null,
            "width": null
          }
        },
        "50a2e01958464facb4a19734499ae040": {
          "model_module": "@jupyter-widgets/controls",
          "model_name": "DescriptionStyleModel",
          "model_module_version": "1.5.0",
          "state": {
            "_model_module": "@jupyter-widgets/controls",
            "_model_module_version": "1.5.0",
            "_model_name": "DescriptionStyleModel",
            "_view_count": null,
            "_view_module": "@jupyter-widgets/base",
            "_view_module_version": "1.2.0",
            "_view_name": "StyleView",
            "description_width": ""
          }
        }
      }
    }
  },
  "nbformat_minor": 0,
  "nbformat": 4,
  "cells": [
    {
      "cell_type": "markdown",
      "source": [
        "<h1 align=\"center\" style=\"line-height:200%; font-family: Vazir; color: #80a8d2;\">Sleep stage classification using EEG data.\n",
        "</h1>\n",
        "\n"
      ],
      "metadata": {
        "id": "1gxtPpEvaKYh"
      }
    },
    {
      "cell_type": "markdown",
      "source": [
        "# Access to data"
      ],
      "metadata": {
        "id": "21FrPTJ0aKYl"
      }
    },
    {
      "cell_type": "code",
      "source": [
        "!unzip /content/checkpoint-600.zip -d /content/checkpoint-600"
      ],
      "metadata": {
        "colab": {
          "base_uri": "https://localhost:8080/"
        },
        "id": "_Xs7IkdqbMiX",
        "outputId": "8813ae05-b7a6-47e1-883e-c190e1ef81c3"
      },
      "execution_count": null,
      "outputs": [
        {
          "output_type": "stream",
          "name": "stdout",
          "text": [
            "Archive:  /content/checkpoint-600.zip\n",
            "   creating: /content/checkpoint-600/kaggle/working/peft-EEG-training-1735478979/checkpoint-600/\n",
            "  inflating: /content/checkpoint-600/kaggle/working/peft-EEG-training-1735478979/checkpoint-600/adapter_config.json  \n",
            "  inflating: /content/checkpoint-600/kaggle/working/peft-EEG-training-1735478979/checkpoint-600/training_args.bin  \n",
            "  inflating: /content/checkpoint-600/kaggle/working/peft-EEG-training-1735478979/checkpoint-600/rng_state.pth  \n",
            "  inflating: /content/checkpoint-600/kaggle/working/peft-EEG-training-1735478979/checkpoint-600/optimizer.pt  \n",
            "  inflating: /content/checkpoint-600/kaggle/working/peft-EEG-training-1735478979/checkpoint-600/adapter_model.safetensors  \n",
            "  inflating: /content/checkpoint-600/kaggle/working/peft-EEG-training-1735478979/checkpoint-600/README.md  \n",
            "  inflating: /content/checkpoint-600/kaggle/working/peft-EEG-training-1735478979/checkpoint-600/scheduler.pt  \n",
            "  inflating: /content/checkpoint-600/kaggle/working/peft-EEG-training-1735478979/checkpoint-600/trainer_state.json  \n"
          ]
        }
      ]
    },
    {
      "cell_type": "code",
      "source": [
        "!pip install -q -U bitsandbytes transformers peft accelerate datasets scipy einops evaluate trl"
      ],
      "metadata": {
        "trusted": true,
        "execution": {
          "iopub.status.busy": "2024-12-29T13:13:08.629234Z",
          "iopub.execute_input": "2024-12-29T13:13:08.629520Z",
          "iopub.status.idle": "2024-12-29T13:13:34.610017Z",
          "shell.execute_reply.started": "2024-12-29T13:13:08.629492Z",
          "shell.execute_reply": "2024-12-29T13:13:34.609027Z"
        },
        "colab": {
          "base_uri": "https://localhost:8080/"
        },
        "id": "H3TaBnrdaKYm",
        "outputId": "f597d4a9-a991-43e1-a8fc-9dbec34fb8fd"
      },
      "outputs": [
        {
          "output_type": "stream",
          "name": "stdout",
          "text": [
            "\u001b[2K     \u001b[90m━━━━━━━━━━━━━━━━━━━━━━━━━━━━━━━━━━━━━━━━\u001b[0m \u001b[32m60.8/60.8 kB\u001b[0m \u001b[31m5.5 MB/s\u001b[0m eta \u001b[36m0:00:00\u001b[0m\n",
            "\u001b[2K   \u001b[90m━━━━━━━━━━━━━━━━━━━━━━━━━━━━━━━━━━━━━━━━\u001b[0m \u001b[32m69.1/69.1 MB\u001b[0m \u001b[31m11.5 MB/s\u001b[0m eta \u001b[36m0:00:00\u001b[0m\n",
            "\u001b[2K   \u001b[90m━━━━━━━━━━━━━━━━━━━━━━━━━━━━━━━━━━━━━━━━\u001b[0m \u001b[32m480.6/480.6 kB\u001b[0m \u001b[31m38.5 MB/s\u001b[0m eta \u001b[36m0:00:00\u001b[0m\n",
            "\u001b[2K   \u001b[90m━━━━━━━━━━━━━━━━━━━━━━━━━━━━━━━━━━━━━━━━\u001b[0m \u001b[32m41.2/41.2 MB\u001b[0m \u001b[31m18.8 MB/s\u001b[0m eta \u001b[36m0:00:00\u001b[0m\n",
            "\u001b[2K   \u001b[90m━━━━━━━━━━━━━━━━━━━━━━━━━━━━━━━━━━━━━━━━\u001b[0m \u001b[32m84.0/84.0 kB\u001b[0m \u001b[31m7.2 MB/s\u001b[0m eta \u001b[36m0:00:00\u001b[0m\n",
            "\u001b[2K   \u001b[90m━━━━━━━━━━━━━━━━━━━━━━━━━━━━━━━━━━━━━━━━\u001b[0m \u001b[32m293.4/293.4 kB\u001b[0m \u001b[31m25.7 MB/s\u001b[0m eta \u001b[36m0:00:00\u001b[0m\n",
            "\u001b[2K   \u001b[90m━━━━━━━━━━━━━━━━━━━━━━━━━━━━━━━━━━━━━━━━\u001b[0m \u001b[32m116.3/116.3 kB\u001b[0m \u001b[31m10.9 MB/s\u001b[0m eta \u001b[36m0:00:00\u001b[0m\n",
            "\u001b[2K   \u001b[90m━━━━━━━━━━━━━━━━━━━━━━━━━━━━━━━━━━━━━━━━\u001b[0m \u001b[32m179.3/179.3 kB\u001b[0m \u001b[31m16.6 MB/s\u001b[0m eta \u001b[36m0:00:00\u001b[0m\n",
            "\u001b[2K   \u001b[90m━━━━━━━━━━━━━━━━━━━━━━━━━━━━━━━━━━━━━━━━\u001b[0m \u001b[32m134.8/134.8 kB\u001b[0m \u001b[31m13.7 MB/s\u001b[0m eta \u001b[36m0:00:00\u001b[0m\n",
            "\u001b[2K   \u001b[90m━━━━━━━━━━━━━━━━━━━━━━━━━━━━━━━━━━━━━━━━\u001b[0m \u001b[32m194.1/194.1 kB\u001b[0m \u001b[31m16.0 MB/s\u001b[0m eta \u001b[36m0:00:00\u001b[0m\n",
            "\u001b[?25h\u001b[31mERROR: pip's dependency resolver does not currently take into account all the packages that are installed. This behaviour is the source of the following dependency conflicts.\n",
            "gcsfs 2024.10.0 requires fsspec==2024.10.0, but you have fsspec 2024.9.0 which is incompatible.\n",
            "gensim 4.3.3 requires scipy<1.14.0,>=1.7.0, but you have scipy 1.14.1 which is incompatible.\u001b[0m\u001b[31m\n",
            "\u001b[0m"
          ]
        }
      ],
      "execution_count": null
    },
    {
      "cell_type": "code",
      "source": [
        "!pip install gdown\n",
        "\n",
        "import gdown\n",
        "file_id = '1Y2cTYR_t_10NAbznspE5bBjuATPdTgtq'\n",
        "gdown.download(f'https://drive.google.com/uc?export=download&id={file_id}', 'file.zip', quiet=False)"
      ],
      "metadata": {
        "trusted": true,
        "execution": {
          "iopub.status.busy": "2024-12-29T13:13:34.614584Z",
          "iopub.execute_input": "2024-12-29T13:13:34.615172Z",
          "iopub.status.idle": "2024-12-29T13:13:48.238952Z",
          "shell.execute_reply.started": "2024-12-29T13:13:34.615129Z",
          "shell.execute_reply": "2024-12-29T13:13:48.238096Z"
        },
        "colab": {
          "base_uri": "https://localhost:8080/",
          "height": 313
        },
        "id": "ekN1aDw6aKYn",
        "outputId": "4985c5ca-fcbb-4f15-9bd4-8f31c571e9f9"
      },
      "outputs": [
        {
          "output_type": "stream",
          "name": "stdout",
          "text": [
            "Requirement already satisfied: gdown in /usr/local/lib/python3.10/dist-packages (5.2.0)\n",
            "Requirement already satisfied: beautifulsoup4 in /usr/local/lib/python3.10/dist-packages (from gdown) (4.12.3)\n",
            "Requirement already satisfied: filelock in /usr/local/lib/python3.10/dist-packages (from gdown) (3.16.1)\n",
            "Requirement already satisfied: requests[socks] in /usr/local/lib/python3.10/dist-packages (from gdown) (2.32.3)\n",
            "Requirement already satisfied: tqdm in /usr/local/lib/python3.10/dist-packages (from gdown) (4.67.1)\n",
            "Requirement already satisfied: soupsieve>1.2 in /usr/local/lib/python3.10/dist-packages (from beautifulsoup4->gdown) (2.6)\n",
            "Requirement already satisfied: charset-normalizer<4,>=2 in /usr/local/lib/python3.10/dist-packages (from requests[socks]->gdown) (3.4.0)\n",
            "Requirement already satisfied: idna<4,>=2.5 in /usr/local/lib/python3.10/dist-packages (from requests[socks]->gdown) (3.10)\n",
            "Requirement already satisfied: urllib3<3,>=1.21.1 in /usr/local/lib/python3.10/dist-packages (from requests[socks]->gdown) (2.2.3)\n",
            "Requirement already satisfied: certifi>=2017.4.17 in /usr/local/lib/python3.10/dist-packages (from requests[socks]->gdown) (2024.12.14)\n",
            "Requirement already satisfied: PySocks!=1.5.7,>=1.5.6 in /usr/local/lib/python3.10/dist-packages (from requests[socks]->gdown) (1.7.1)\n"
          ]
        },
        {
          "output_type": "stream",
          "name": "stderr",
          "text": [
            "Downloading...\n",
            "From (original): https://drive.google.com/uc?export=download&id=1Y2cTYR_t_10NAbznspE5bBjuATPdTgtq\n",
            "From (redirected): https://drive.google.com/uc?export=download&id=1Y2cTYR_t_10NAbznspE5bBjuATPdTgtq&confirm=t&uuid=61d22510-1d69-4634-9bec-71b37207e129\n",
            "To: /content/file.zip\n",
            "100%|██████████| 134M/134M [00:00<00:00, 154MB/s]\n"
          ]
        },
        {
          "output_type": "execute_result",
          "data": {
            "text/plain": [
              "'file.zip'"
            ],
            "application/vnd.google.colaboratory.intrinsic+json": {
              "type": "string"
            }
          },
          "metadata": {},
          "execution_count": 2
        }
      ],
      "execution_count": null
    },
    {
      "cell_type": "code",
      "source": [
        "import zipfile\n",
        "import os\n",
        "\n",
        "zip_path = '/kaggle/working/file.zip'\n",
        "with zipfile.ZipFile(zip_path, 'r') as zip_ref:\n",
        "    extract_path = 'extracted_files'\n",
        "    zip_ref.extractall(extract_path)\n",
        "\n",
        "extracted_files = os.listdir(extract_path)\n",
        "print(f\"Extracted files and directories: {extracted_files}\")"
      ],
      "metadata": {
        "trusted": true,
        "execution": {
          "iopub.status.busy": "2024-12-29T13:13:48.241630Z",
          "iopub.execute_input": "2024-12-29T13:13:48.242369Z",
          "iopub.status.idle": "2024-12-29T13:13:49.733589Z",
          "shell.execute_reply.started": "2024-12-29T13:13:48.242337Z",
          "shell.execute_reply": "2024-12-29T13:13:49.732679Z"
        },
        "colab": {
          "base_uri": "https://localhost:8080/"
        },
        "id": "3Au5xelAaKYp",
        "outputId": "50b8405f-d2d7-4089-c22d-d8a1c776c240"
      },
      "outputs": [
        {
          "output_type": "stream",
          "name": "stdout",
          "text": [
            "Extracted files and directories: ['AISContest_Data']\n"
          ]
        }
      ],
      "execution_count": null
    },
    {
      "cell_type": "code",
      "source": [
        "import os\n",
        "import numpy as np\n",
        "\n",
        "data_path = '/kaggle/working/extracted_files/AISContest_Data'\n",
        "data_dict = {}\n",
        "\n",
        "for folder in os.listdir(data_path):\n",
        "    folder_path = os.path.join(data_path, folder)\n",
        "\n",
        "    if os.path.isdir(folder_path):\n",
        "        if folder == '0':\n",
        "            label = \"Drowsy Wakefulness\"\n",
        "        elif folder =='1':\n",
        "            label = \"Light Sleep Onset\"\n",
        "        elif folder == '2':\n",
        "            label = \"Stable Light Sleep\"\n",
        "        elif folder == '3':\n",
        "            label = \"Deep Restorative Sleep\"\n",
        "        else:\n",
        "            label = \"Dreaming REM Sleep\"\n",
        "\n",
        "        # label = int(folder)\n",
        "        files = []\n",
        "\n",
        "        for file in os.listdir(folder_path):\n",
        "            if file.endswith('.npy'):\n",
        "                file_path = os.path.join(folder_path, file)\n",
        "                data = np.load(file_path)\n",
        "                files.append(data)\n",
        "\n",
        "        data_dict[label] = files"
      ],
      "metadata": {
        "trusted": true,
        "execution": {
          "iopub.status.busy": "2024-12-29T13:13:49.734461Z",
          "iopub.execute_input": "2024-12-29T13:13:49.734713Z",
          "iopub.status.idle": "2024-12-29T13:13:50.485385Z",
          "shell.execute_reply.started": "2024-12-29T13:13:49.734688Z",
          "shell.execute_reply": "2024-12-29T13:13:50.484717Z"
        },
        "id": "Ey-NTglNaKYr"
      },
      "outputs": [],
      "execution_count": null
    },
    {
      "cell_type": "code",
      "source": [
        "#Number of data samples\n",
        "print(len(data_dict[\"Drowsy Wakefulness\"])+len(data_dict[\"Light Sleep Onset\"])+len(data_dict[\"Stable Light Sleep\"])+len(data_dict[\"Deep Restorative Sleep\"])+len(data_dict[\"Dreaming REM Sleep\"]))"
      ],
      "metadata": {
        "trusted": true,
        "execution": {
          "iopub.status.busy": "2024-12-29T13:13:50.486726Z",
          "iopub.execute_input": "2024-12-29T13:13:50.487061Z",
          "iopub.status.idle": "2024-12-29T13:13:50.492165Z",
          "shell.execute_reply.started": "2024-12-29T13:13:50.487022Z",
          "shell.execute_reply": "2024-12-29T13:13:50.491415Z"
        },
        "colab": {
          "base_uri": "https://localhost:8080/"
        },
        "id": "HpQZnPtAaKYs",
        "outputId": "c153029a-23ae-4474-c161-a8b2c9560b19"
      },
      "outputs": [
        {
          "output_type": "stream",
          "name": "stdout",
          "text": [
            "5813\n"
          ]
        }
      ],
      "execution_count": null
    },
    {
      "cell_type": "markdown",
      "source": [
        "# EEG FEATURE EXTRACTION"
      ],
      "metadata": {
        "id": "THdeL9hYaKYt"
      }
    },
    {
      "cell_type": "code",
      "source": [
        "!pip install -q PyWavelets"
      ],
      "metadata": {
        "colab": {
          "base_uri": "https://localhost:8080/"
        },
        "id": "P6FUxkMTdVGE",
        "outputId": "02524e18-99da-4ca2-c3a2-e16549b5e4a8"
      },
      "execution_count": null,
      "outputs": [
        {
          "output_type": "stream",
          "name": "stdout",
          "text": [
            "\u001b[?25l   \u001b[90m━━━━━━━━━━━━━━━━━━━━━━━━━━━━━━━━━━━━━━━━\u001b[0m \u001b[32m0.0/4.5 MB\u001b[0m \u001b[31m?\u001b[0m eta \u001b[36m-:--:--\u001b[0m\r\u001b[2K   \u001b[91m━━━━━━━━━━━━━━━━━━━━━━━\u001b[0m\u001b[90m╺\u001b[0m\u001b[90m━━━━━━━━━━━━━━━━\u001b[0m \u001b[32m2.6/4.5 MB\u001b[0m \u001b[31m69.2 MB/s\u001b[0m eta \u001b[36m0:00:01\u001b[0m\r\u001b[2K   \u001b[91m━━━━━━━━━━━━━━━━━━━━━━━━━━━━━━━━━━━━━━━\u001b[0m\u001b[91m╸\u001b[0m \u001b[32m4.5/4.5 MB\u001b[0m \u001b[31m75.0 MB/s\u001b[0m eta \u001b[36m0:00:01\u001b[0m\r\u001b[2K   \u001b[90m━━━━━━━━━━━━━━━━━━━━━━━━━━━━━━━━━━━━━━━━\u001b[0m \u001b[32m4.5/4.5 MB\u001b[0m \u001b[31m47.0 MB/s\u001b[0m eta \u001b[36m0:00:00\u001b[0m\n",
            "\u001b[?25h"
          ]
        }
      ]
    },
    {
      "cell_type": "code",
      "source": [
        "import numpy as np\n",
        "from scipy.stats import kurtosis, skew, entropy\n",
        "from scipy.signal import welch\n",
        "import pywt\n",
        "\n",
        "\n",
        "def calculate_time_features(data):\n",
        "    mean_amp = np.mean(data, axis=1)\n",
        "    rms = np.sqrt(np.mean(data ** 2, axis=1))\n",
        "    variance = np.var(data, axis=1)\n",
        "    return mean_amp, rms, variance\n",
        "\n",
        "\n",
        "def calculate_hjorth_parameters(data):\n",
        "    def hjorth_params(channel):\n",
        "        diff1 = np.diff(channel)\n",
        "        activity = np.var(channel)\n",
        "        mobility = np.sqrt(np.var(diff1) / activity)\n",
        "        complexity = np.sqrt(np.var(np.diff(diff1)) / np.var(diff1))\n",
        "        return mobility, activity, complexity\n",
        "\n",
        "    return np.apply_along_axis(hjorth_params, axis=1, arr=data)\n",
        "\n",
        "\n",
        "def calculate_skewness_kurtosis(data):\n",
        "    kurtosis_values = np.apply_along_axis(kurtosis, axis=1, arr=data)\n",
        "    skewness_values = np.apply_along_axis(skew, axis=1, arr=data)\n",
        "    return kurtosis_values, skewness_values\n",
        "\n",
        "\n",
        "def calculate_frequency_features(data, sfreq, fmin=1, fmax=40):\n",
        "    n_samples = data.shape[1]\n",
        "    nperseg = min(128, n_samples)\n",
        "\n",
        "    psd, freqs = welch(data, fs=sfreq, nperseg=nperseg, axis=1)\n",
        "    peak_freq = freqs[np.argmax(psd, axis=0 if psd.ndim == 1 else 1)]\n",
        "\n",
        "    # Check if psd is 1-dimensional and handle accordingly\n",
        "    if psd.ndim == 1:\n",
        "        spectral_entropy = entropy(psd)\n",
        "        spectral_centroid = np.sum(freqs * psd) / np.sum(psd)\n",
        "        spectral_flatness = np.exp(np.mean(np.log(psd))) / np.mean(psd)\n",
        "    else:\n",
        "        spectral_entropy = np.apply_along_axis(entropy, axis=1, arr=psd)\n",
        "        spectral_centroid = np.sum(freqs * psd, axis=1) / np.sum(psd, axis=1)\n",
        "        spectral_flatness = np.exp(np.mean(np.log(psd), axis=1)) / np.mean(psd, axis=1)\n",
        "\n",
        "    freq_bands = {\n",
        "        'delta': [0.5, 4],\n",
        "        'theta': [4, 8],\n",
        "        'alpha': [8, 12],\n",
        "        'beta': [12, 30],\n",
        "        'gamma': [30, 40]\n",
        "    }\n",
        "    band_power = {}\n",
        "    for band, (low, high) in freq_bands.items():\n",
        "        band_indices = np.where((freqs >= low) & (freqs <= high))[0]\n",
        "        # Handle 1-dimensional psd for band power calculation\n",
        "        if psd.ndim == 1:\n",
        "            band_power[band] = np.sum(psd[band_indices])\n",
        "        else:\n",
        "            band_power[band] = np.sum(psd[:, band_indices], axis=1)\n",
        "\n",
        "    return psd, freqs, peak_freq, spectral_entropy, spectral_centroid, spectral_flatness, band_power\n",
        "\n",
        "\n",
        "def calculate_wavelet_features(data):\n",
        "    wavelet = 'db4'\n",
        "    max_level = pywt.dwt_max_level(data.shape[1], pywt.Wavelet(wavelet).dec_len)\n",
        "    level = min(5, max_level)\n",
        "\n",
        "    coeffs = pywt.wavedec(data, wavelet, level=level, axis=1)\n",
        "\n",
        "    wavelet_entropies = []\n",
        "    for coef in coeffs:\n",
        "        norm_coef = np.abs(coef) ** 2\n",
        "        norm_coef /= np.sum(norm_coef, axis=1, keepdims=True)\n",
        "        wavelet_entropies.append(-np.sum(norm_coef * np.log2(norm_coef), axis=1))\n",
        "    return wavelet_entropies\n",
        "\n",
        "\n",
        "def process_eeg_data(data, sfreq):\n",
        "    data = np.squeeze(data)\n",
        "    time_features = calculate_time_features(data)\n",
        "    hjorth_params = calculate_hjorth_parameters(data)\n",
        "    kurtosis_values, skewness_values = calculate_skewness_kurtosis(data)\n",
        "    freq_features = calculate_frequency_features(data, sfreq)\n",
        "    wavelet_entropies = calculate_wavelet_features(data)\n",
        "\n",
        "    return time_features, hjorth_params, kurtosis_values, skewness_values, freq_features, wavelet_entropies\n",
        "\n"
      ],
      "metadata": {
        "trusted": true,
        "execution": {
          "iopub.status.busy": "2024-12-29T13:13:50.493270Z",
          "iopub.execute_input": "2024-12-29T13:13:50.493533Z",
          "iopub.status.idle": "2024-12-29T13:13:50.958411Z",
          "shell.execute_reply.started": "2024-12-29T13:13:50.493508Z",
          "shell.execute_reply": "2024-12-29T13:13:50.957752Z"
        },
        "id": "eKKjGNgFaKYu"
      },
      "outputs": [],
      "execution_count": null
    },
    {
      "cell_type": "code",
      "source": [
        "sfreq = 100\n",
        "features_dict = {}\n",
        "\n",
        "\n",
        "for label, files in data_dict.items():\n",
        "    label_features = []\n",
        "    for data in files:\n",
        "\n",
        "        time_features, hjorth_params, kurtosis_values, skewness_values, freq_features, wavelet_entropies = process_eeg_data(data, sfreq)\n",
        "\n",
        "        sample_features = {\n",
        "            'hjorth_params': hjorth_params,\n",
        "            'kurtosis_values': kurtosis_values,\n",
        "            'wavelet_entropies': wavelet_entropies\n",
        "        }\n",
        "\n",
        "        label_features.append(sample_features)\n",
        "\n",
        "    features_dict[label] = label_features\n",
        "\n",
        "\n",
        "print(\"Extracted features for each class:\")\n",
        "for label, features in features_dict.items():\n",
        "    print(f\"{label}:\")\n",
        "    for feature_name, feature_values in features[0].items():\n",
        "        print(f\"  {feature_name}: {len(feature_values)} samples processed.\")"
      ],
      "metadata": {
        "trusted": true,
        "execution": {
          "iopub.status.busy": "2024-12-29T13:13:50.959330Z",
          "iopub.execute_input": "2024-12-29T13:13:50.959694Z",
          "iopub.status.idle": "2024-12-29T13:19:19.309958Z",
          "shell.execute_reply.started": "2024-12-29T13:13:50.959669Z",
          "shell.execute_reply": "2024-12-29T13:19:19.309038Z"
        },
        "colab": {
          "base_uri": "https://localhost:8080/"
        },
        "id": "FJjlnl8PaKYv",
        "outputId": "84866ee1-f95f-4549-b17c-da849550a0ba"
      },
      "outputs": [
        {
          "output_type": "stream",
          "name": "stderr",
          "text": [
            "<ipython-input-11-95c8563f8dd2>:42: RuntimeWarning: divide by zero encountered in log\n",
            "  spectral_flatness = np.exp(np.mean(np.log(psd))) / np.mean(psd)\n"
          ]
        },
        {
          "output_type": "stream",
          "name": "stdout",
          "text": [
            "Extracted features for each class:\n",
            "Deep Restorative Sleep:\n",
            "  hjorth_params: 51 samples processed.\n",
            "  kurtosis_values: 51 samples processed.\n",
            "  wavelet_entropies: 4 samples processed.\n",
            "Dreaming REM Sleep:\n",
            "  hjorth_params: 51 samples processed.\n",
            "  kurtosis_values: 51 samples processed.\n",
            "  wavelet_entropies: 4 samples processed.\n",
            "Light Sleep Onset:\n",
            "  hjorth_params: 51 samples processed.\n",
            "  kurtosis_values: 51 samples processed.\n",
            "  wavelet_entropies: 4 samples processed.\n",
            "Stable Light Sleep:\n",
            "  hjorth_params: 51 samples processed.\n",
            "  kurtosis_values: 51 samples processed.\n",
            "  wavelet_entropies: 4 samples processed.\n",
            "Drowsy Wakefulness:\n",
            "  hjorth_params: 51 samples processed.\n",
            "  kurtosis_values: 51 samples processed.\n",
            "  wavelet_entropies: 4 samples processed.\n"
          ]
        }
      ],
      "execution_count": null
    },
    {
      "cell_type": "markdown",
      "source": [
        "# Saving the dataset in dictionary format"
      ],
      "metadata": {
        "id": "FWqxOO_WaKYw"
      }
    },
    {
      "cell_type": "code",
      "source": [
        "new_features_dict = []\n",
        "\n",
        "for key, values in features_dict.items():\n",
        "    for value in values:\n",
        "        new_entry = {\n",
        "            'x': value,\n",
        "            'y': key\n",
        "        }\n",
        "        new_features_dict.append(new_entry)"
      ],
      "metadata": {
        "trusted": true,
        "execution": {
          "iopub.status.busy": "2024-12-29T13:19:19.311271Z",
          "iopub.execute_input": "2024-12-29T13:19:19.311932Z",
          "iopub.status.idle": "2024-12-29T13:19:19.319359Z",
          "shell.execute_reply.started": "2024-12-29T13:19:19.311888Z",
          "shell.execute_reply": "2024-12-29T13:19:19.318397Z"
        },
        "id": "7C6Kyv54aKYw"
      },
      "outputs": [],
      "execution_count": null
    },
    {
      "cell_type": "code",
      "source": [
        "#Number of data samples\n",
        "len(new_features_dict)"
      ],
      "metadata": {
        "trusted": true,
        "execution": {
          "iopub.status.busy": "2024-12-29T13:19:19.322483Z",
          "iopub.execute_input": "2024-12-29T13:19:19.322795Z",
          "iopub.status.idle": "2024-12-29T13:19:19.339067Z",
          "shell.execute_reply.started": "2024-12-29T13:19:19.322755Z",
          "shell.execute_reply": "2024-12-29T13:19:19.338182Z"
        },
        "colab": {
          "base_uri": "https://localhost:8080/"
        },
        "id": "3w4F4tA7aKYw",
        "outputId": "c5b753b5-0234-46e1-933c-e7b2cc838819"
      },
      "outputs": [
        {
          "output_type": "execute_result",
          "data": {
            "text/plain": [
              "5813"
            ]
          },
          "metadata": {},
          "execution_count": 14
        }
      ],
      "execution_count": null
    },
    {
      "cell_type": "code",
      "source": [
        "from datasets import Dataset\n",
        "from sklearn.model_selection import train_test_split\n",
        "import random\n",
        "\n",
        "# Reordering the list randomly\n",
        "random.shuffle(new_features_dict)\n",
        "\n",
        "x_list = [item['x'] for item in new_features_dict]\n",
        "y_list = [item['y'] for item in new_features_dict]\n",
        "\n",
        "train_ratio = 0.80\n",
        "test_ratio = 0.20\n",
        "\n",
        "x_train, x_test, y_train, y_test = train_test_split(x_list, y_list, test_size=test_ratio, random_state=42)\n",
        "\n",
        "dataset_dict = {\n",
        "    'train': {'x': x_train, 'y': y_train},\n",
        "    'test': {'x': x_test, 'y': y_test}\n",
        "}\n",
        "\n",
        "dataset = {\n",
        "    'train': Dataset.from_dict(dataset_dict['train']),\n",
        "    'test': Dataset.from_dict(dataset_dict['test'])\n",
        "}"
      ],
      "metadata": {
        "trusted": true,
        "execution": {
          "iopub.status.busy": "2024-12-29T13:19:19.340137Z",
          "iopub.execute_input": "2024-12-29T13:19:19.340524Z",
          "iopub.status.idle": "2024-12-29T13:19:21.738195Z",
          "shell.execute_reply.started": "2024-12-29T13:19:19.340495Z",
          "shell.execute_reply": "2024-12-29T13:19:21.737252Z"
        },
        "id": "Oc3-Br2MaKYx"
      },
      "outputs": [],
      "execution_count": null
    },
    {
      "cell_type": "code",
      "source": [
        "print(len(dataset['train']), len(dataset['test']) )"
      ],
      "metadata": {
        "trusted": true,
        "execution": {
          "iopub.status.busy": "2024-12-29T13:19:21.739240Z",
          "iopub.execute_input": "2024-12-29T13:19:21.739521Z",
          "iopub.status.idle": "2024-12-29T13:19:21.744636Z",
          "shell.execute_reply.started": "2024-12-29T13:19:21.739495Z",
          "shell.execute_reply": "2024-12-29T13:19:21.743784Z"
        },
        "colab": {
          "base_uri": "https://localhost:8080/"
        },
        "id": "OaHsy2W3aKYx",
        "outputId": "38f58b6a-55f0-46e7-c3b6-1a3ea5f5a592"
      },
      "outputs": [
        {
          "output_type": "stream",
          "name": "stdout",
          "text": [
            "4650 1163\n"
          ]
        }
      ],
      "execution_count": null
    },
    {
      "cell_type": "code",
      "source": [
        "data_dict.clear()\n",
        "features_dict.clear()\n",
        "new_features_dict.clear()"
      ],
      "metadata": {
        "trusted": true,
        "execution": {
          "iopub.status.busy": "2024-12-29T13:19:21.745672Z",
          "iopub.execute_input": "2024-12-29T13:19:21.745951Z",
          "iopub.status.idle": "2024-12-29T13:19:21.758696Z",
          "shell.execute_reply.started": "2024-12-29T13:19:21.745894Z",
          "shell.execute_reply": "2024-12-29T13:19:21.757900Z"
        },
        "id": "QiB787ySaKYy"
      },
      "outputs": [],
      "execution_count": null
    },
    {
      "cell_type": "markdown",
      "source": [
        "# Install required libraries"
      ],
      "metadata": {
        "id": "Ahb6i14waKYy"
      }
    },
    {
      "cell_type": "code",
      "source": [
        "!pip install  -q -U huggingface-hub"
      ],
      "metadata": {
        "trusted": true,
        "execution": {
          "iopub.status.busy": "2024-12-29T13:26:41.265079Z",
          "iopub.execute_input": "2024-12-29T13:26:41.265735Z",
          "iopub.status.idle": "2024-12-29T13:26:50.367927Z",
          "shell.execute_reply.started": "2024-12-29T13:26:41.265695Z",
          "shell.execute_reply": "2024-12-29T13:26:50.366853Z"
        },
        "id": "9HtoXy9zaKYy"
      },
      "outputs": [],
      "execution_count": null
    },
    {
      "cell_type": "code",
      "source": [
        "from huggingface_hub import login\n",
        "\n",
        "#Access token for Hugging Face\n",
        "login(\"Token Hugging Face\")\n",
        "\n",
        "print(\"Successfully logged in to HuggingFace!\")"
      ],
      "metadata": {
        "trusted": true,
        "execution": {
          "iopub.status.busy": "2024-12-29T13:26:50.369759Z",
          "iopub.execute_input": "2024-12-29T13:26:50.370066Z",
          "iopub.status.idle": "2024-12-29T13:26:50.510796Z",
          "shell.execute_reply.started": "2024-12-29T13:26:50.370038Z",
          "shell.execute_reply": "2024-12-29T13:26:50.509885Z"
        },
        "colab": {
          "base_uri": "https://localhost:8080/"
        },
        "id": "YetXpXIbaKYy",
        "outputId": "3401417a-951e-4467-c1a4-58f946feaa25"
      },
      "outputs": [
        {
          "output_type": "stream",
          "name": "stdout",
          "text": [
            "Successfully logged in to HuggingFace!\n"
          ]
        }
      ],
      "execution_count": null
    },
    {
      "cell_type": "markdown",
      "source": [
        "# Loading the required libraries"
      ],
      "metadata": {
        "id": "nNwX8PE3aKYy"
      }
    },
    {
      "cell_type": "code",
      "source": [
        "from datasets import load_dataset\n",
        "from transformers import (\n",
        "    AutoModelForCausalLM,\n",
        "    AutoTokenizer,\n",
        "    BitsAndBytesConfig,\n",
        "    HfArgumentParser,\n",
        "    AutoTokenizer,\n",
        "    TrainingArguments,\n",
        "    Trainer,\n",
        "    GenerationConfig\n",
        ")\n",
        "from tqdm import tqdm\n",
        "#from trl import SFTTrainer\n",
        "import torch\n",
        "import time\n",
        "import pandas as pd\n",
        "import numpy as np\n"
      ],
      "metadata": {
        "trusted": true,
        "execution": {
          "iopub.status.busy": "2024-12-29T13:26:59.387650Z",
          "iopub.execute_input": "2024-12-29T13:26:59.387996Z",
          "iopub.status.idle": "2024-12-29T13:27:15.915224Z",
          "shell.execute_reply.started": "2024-12-29T13:26:59.387965Z",
          "shell.execute_reply": "2024-12-29T13:27:15.914542Z"
        },
        "id": "SKM4WUAWaKYy"
      },
      "outputs": [],
      "execution_count": null
    },
    {
      "cell_type": "markdown",
      "source": [
        "# deactivate Weights and Biases during the fine-tuning process"
      ],
      "metadata": {
        "id": "X3vZZ_8CaKYz"
      }
    },
    {
      "cell_type": "code",
      "source": [
        "import os\n",
        "# disable Weights and Biases\n",
        "os.environ['WANDB_DISABLED']=\"true\""
      ],
      "metadata": {
        "trusted": true,
        "execution": {
          "iopub.status.busy": "2024-12-29T13:27:15.916636Z",
          "iopub.execute_input": "2024-12-29T13:27:15.917165Z",
          "iopub.status.idle": "2024-12-29T13:27:15.921346Z",
          "shell.execute_reply.started": "2024-12-29T13:27:15.917137Z",
          "shell.execute_reply": "2024-12-29T13:27:15.920414Z"
        },
        "id": "crqvIR4AaKYz"
      },
      "outputs": [],
      "execution_count": null
    },
    {
      "cell_type": "markdown",
      "source": [
        "# Create Bitsandbytes configuration"
      ],
      "metadata": {
        "id": "FZvwYl9aaKYz"
      }
    },
    {
      "cell_type": "code",
      "source": [
        "compute_dtype = getattr(torch, \"float16\")\n",
        "bnb_config = BitsAndBytesConfig(\n",
        "        load_in_4bit=True,\n",
        "        bnb_4bit_quant_type='nf4',\n",
        "        bnb_4bit_compute_dtype=compute_dtype,\n",
        "        bnb_4bit_use_double_quant=False,\n",
        "    )"
      ],
      "metadata": {
        "trusted": true,
        "execution": {
          "iopub.status.busy": "2024-12-29T13:27:15.922540Z",
          "iopub.execute_input": "2024-12-29T13:27:15.922881Z",
          "iopub.status.idle": "2024-12-29T13:27:15.997998Z",
          "shell.execute_reply.started": "2024-12-29T13:27:15.922843Z",
          "shell.execute_reply": "2024-12-29T13:27:15.997330Z"
        },
        "id": "01nTizZIaKYz"
      },
      "outputs": [],
      "execution_count": null
    },
    {
      "cell_type": "markdown",
      "source": [
        "# Loading the Pre-Trained model"
      ],
      "metadata": {
        "id": "E-oJ0MMuaKYz"
      }
    },
    {
      "cell_type": "code",
      "source": [
        "!git config --global credential.helper store"
      ],
      "metadata": {
        "trusted": true,
        "execution": {
          "iopub.status.busy": "2024-12-29T13:27:15.999377Z",
          "iopub.execute_input": "2024-12-29T13:27:15.999677Z",
          "iopub.status.idle": "2024-12-29T13:27:17.025732Z",
          "shell.execute_reply.started": "2024-12-29T13:27:15.999650Z",
          "shell.execute_reply": "2024-12-29T13:27:17.024834Z"
        },
        "id": "hPmsvYpIaKYz"
      },
      "outputs": [],
      "execution_count": null
    },
    {
      "cell_type": "code",
      "source": [
        "from huggingface_hub import interpreter_login\n",
        "interpreter_login()"
      ],
      "metadata": {
        "trusted": true,
        "execution": {
          "iopub.status.busy": "2024-12-29T13:27:17.026989Z",
          "iopub.execute_input": "2024-12-29T13:27:17.027274Z",
          "iopub.status.idle": "2024-12-29T13:27:31.791935Z",
          "shell.execute_reply.started": "2024-12-29T13:27:17.027241Z",
          "shell.execute_reply": "2024-12-29T13:27:31.790998Z"
        },
        "colab": {
          "base_uri": "https://localhost:8080/"
        },
        "id": "muEYoyKxaKY0",
        "outputId": "3f23032d-cd39-4dae-a309-77108758d8b5"
      },
      "outputs": [
        {
          "output_type": "stream",
          "name": "stdout",
          "text": [
            "\n",
            "    _|    _|  _|    _|    _|_|_|    _|_|_|  _|_|_|  _|      _|    _|_|_|      _|_|_|_|    _|_|      _|_|_|  _|_|_|_|\n",
            "    _|    _|  _|    _|  _|        _|          _|    _|_|    _|  _|            _|        _|    _|  _|        _|\n",
            "    _|_|_|_|  _|    _|  _|  _|_|  _|  _|_|    _|    _|  _|  _|  _|  _|_|      _|_|_|    _|_|_|_|  _|        _|_|_|\n",
            "    _|    _|  _|    _|  _|    _|  _|    _|    _|    _|    _|_|  _|    _|      _|        _|    _|  _|        _|\n",
            "    _|    _|    _|_|      _|_|_|    _|_|_|  _|_|_|  _|      _|    _|_|_|      _|        _|    _|    _|_|_|  _|_|_|_|\n",
            "\n"
          ]
        },
        {
          "output_type": "stream",
          "name": "stderr",
          "text": [
            "/usr/local/lib/python3.10/dist-packages/huggingface_hub/utils/_auth.py:94: UserWarning: \n",
            "The secret `HF_TOKEN` does not exist in your Colab secrets.\n",
            "To authenticate with the Hugging Face Hub, create a token in your settings tab (https://huggingface.co/settings/tokens), set it as secret in your Google Colab and restart your session.\n",
            "You will be able to reuse this secret in all of your notebooks.\n",
            "Please note that authentication is recommended but still optional to access public models or datasets.\n",
            "  warnings.warn(\n"
          ]
        },
        {
          "name": "stdout",
          "output_type": "stream",
          "text": [
            "Enter your token (input will not be visible): ··········\n",
            "Add token as git credential? (Y/n) Y\n"
          ]
        }
      ],
      "execution_count": null
    },
    {
      "cell_type": "code",
      "source": [
        "model_name=\"unsloth/Llama-3.2-3B-bnb-4bit\"\n",
        "device_map = {\"\": 0}\n",
        "original_model = AutoModelForCausalLM.from_pretrained(model_name,\n",
        "                                                      device_map=device_map,\n",
        "                                                      quantization_config=bnb_config,\n",
        "                                                      trust_remote_code=True,\n",
        "                                                      use_auth_token=True)"
      ],
      "metadata": {
        "trusted": true,
        "execution": {
          "iopub.status.busy": "2024-12-29T13:27:37.139457Z",
          "iopub.execute_input": "2024-12-29T13:27:37.139828Z",
          "iopub.status.idle": "2024-12-29T13:28:34.296606Z",
          "shell.execute_reply.started": "2024-12-29T13:27:37.139795Z",
          "shell.execute_reply": "2024-12-29T13:28:34.295676Z"
        },
        "colab": {
          "base_uri": "https://localhost:8080/",
          "height": 220,
          "referenced_widgets": [
            "b17d3591b04d440bb79e6c2b209c97ab",
            "adc48bc747cb4a6d821b6e033caa615f",
            "8a302fc0d8884a509cbe084f832e72d1",
            "711b6e1b7ead4fada85e728a5e794664",
            "67107b6197674771abbe151fa7de715b",
            "c3a6624cd7334cb18c6e25aca2593364",
            "b0d8b58224d746c4962237e0ba5d09ac",
            "1def538c6a464a2986c22f9cbfa166a6",
            "987eb538f85f4cf1b574dc5f546fd86c",
            "9748712e9cb94187a4a8795bd2dcc668",
            "acb0418c3bf44f56aa5700554da22265",
            "81802a04541241efadd99511e806e3d6",
            "3362a55d549c48d69250f3dfcde1621f",
            "8ae5d83dd8fc45fc8ecc4ffbeacef154",
            "b78cf4d0f89743d0bc1fb959677d7603",
            "4146dc25c9824d66ae6389b6d676e29d",
            "d038b10a164348a683d9e26c6b062c08",
            "d679ad03536d41f38e2fc0f6326add15",
            "98142a787cf847d9b4de38ec5c83d0ef",
            "aa7b41b610454d0b90d62c3690a5f2a1",
            "05af99ecd5994fff8a7f3174f4617274",
            "a599350263db47ce9c183a7f1090134c",
            "d8b681f4b5c44e1bb9f02133828f40ad",
            "2509cf0b1f6749ccb06420099b114e82",
            "986f37185dc14863ac77a977c48ee228",
            "46a125df36204f81995a522ad9a10978",
            "2f42e25ecc344324818d0ec6d336e5c6",
            "f27a862693324e48acfe09babb745476",
            "c3759d70f2ae43be82f597ddfc64588b",
            "24a20b1f02e749fdb9f12a73ddda6350",
            "282c807bd81545a3b80f481502a30d49",
            "add8658e97fe448bb619ee0ef855c13a",
            "8efd2439fcd64c949a6f142c32008cde"
          ]
        },
        "id": "2V0U6ovMaKY0",
        "outputId": "eca99440-573e-4a10-ebdd-ebee8dbca442"
      },
      "outputs": [
        {
          "output_type": "stream",
          "name": "stderr",
          "text": [
            "/usr/local/lib/python3.10/dist-packages/transformers/models/auto/auto_factory.py:471: FutureWarning: The `use_auth_token` argument is deprecated and will be removed in v5 of Transformers. Please use `token` instead.\n",
            "  warnings.warn(\n"
          ]
        },
        {
          "output_type": "display_data",
          "data": {
            "text/plain": [
              "config.json:   0%|          | 0.00/1.37k [00:00<?, ?B/s]"
            ],
            "application/vnd.jupyter.widget-view+json": {
              "version_major": 2,
              "version_minor": 0,
              "model_id": "b17d3591b04d440bb79e6c2b209c97ab"
            }
          },
          "metadata": {}
        },
        {
          "output_type": "stream",
          "name": "stderr",
          "text": [
            "Unused kwargs: ['_load_in_4bit', '_load_in_8bit', 'quant_method']. These kwargs are not used in <class 'transformers.utils.quantization_config.BitsAndBytesConfig'>.\n",
            "/usr/local/lib/python3.10/dist-packages/transformers/quantizers/auto.py:186: UserWarning: You passed `quantization_config` or equivalent parameters to `from_pretrained` but the model you're loading already has a `quantization_config` attribute. The `quantization_config` from the model will be used.\n",
            "  warnings.warn(warning_msg)\n"
          ]
        },
        {
          "output_type": "display_data",
          "data": {
            "text/plain": [
              "model.safetensors:   0%|          | 0.00/2.24G [00:00<?, ?B/s]"
            ],
            "application/vnd.jupyter.widget-view+json": {
              "version_major": 2,
              "version_minor": 0,
              "model_id": "81802a04541241efadd99511e806e3d6"
            }
          },
          "metadata": {}
        },
        {
          "output_type": "display_data",
          "data": {
            "text/plain": [
              "generation_config.json:   0%|          | 0.00/121 [00:00<?, ?B/s]"
            ],
            "application/vnd.jupyter.widget-view+json": {
              "version_major": 2,
              "version_minor": 0,
              "model_id": "d8b681f4b5c44e1bb9f02133828f40ad"
            }
          },
          "metadata": {}
        }
      ],
      "execution_count": null
    },
    {
      "cell_type": "markdown",
      "source": [
        "# Tokenization"
      ],
      "metadata": {
        "id": "o1SmVYLfaKY0"
      }
    },
    {
      "cell_type": "code",
      "source": [
        "tokenizer = AutoTokenizer.from_pretrained(model_name,trust_remote_code=True,padding_side=\"left\",add_eos_token=True,add_bos_token=True,use_fast=False)\n",
        "tokenizer.pad_token = tokenizer.eos_token"
      ],
      "metadata": {
        "trusted": true,
        "execution": {
          "iopub.status.busy": "2024-12-29T13:28:34.298445Z",
          "iopub.execute_input": "2024-12-29T13:28:34.299245Z",
          "iopub.status.idle": "2024-12-29T13:28:36.002736Z",
          "shell.execute_reply.started": "2024-12-29T13:28:34.299202Z",
          "shell.execute_reply": "2024-12-29T13:28:36.001729Z"
        },
        "colab": {
          "base_uri": "https://localhost:8080/",
          "height": 113,
          "referenced_widgets": [
            "0c413ed2e297424385168610ff249a5f",
            "16827efbcffb4659a9487670eea7f2b4",
            "6bb5c25690174bc18c1961a048d531eb",
            "aec5d80093334cdc9fff0e3771e408e7",
            "ae09153fda6947809faf136aa0402f80",
            "fa4fced463b1413a86f097c0947d6a50",
            "065bec47f8a94f1ea6f2da65600d79b1",
            "49a53c2e511e4a1380632e792feb95c8",
            "024f9441163b4ed0a36839dec0dd2aec",
            "708fb3153d3d446984b7ba65b4efe0af",
            "9332f2d265a04ddda2642750f4f13364",
            "cea06bdb832a451c8e5a689b6d12be29",
            "beed5bef0f954226a3f96751e429bc98",
            "77fd27d474064965a145770afdc784d5",
            "0ee9770656c944b2beb882e1a249c447",
            "bf94fe9d3b824941ab5f4a1c0826cf4a",
            "3c8b6bb9d4ed4b89b4017fc22835592d",
            "381216c2d3b64bab8e48dfa30862b2fd",
            "755ab4b0e89a41529f03d5970edfa88f",
            "c9accc0e7a284c9aa4897e41b2d24443",
            "5cc7c884c3f840458e184c2916092901",
            "859706ff47e74b60ba2216fb13433cf2",
            "2afef23c65ea4030b01d8165bf56836a",
            "5d0f4e68a3384812afb29d1ab93307a4",
            "751199ae5b734ce68e26792a20b0c7af",
            "db45fb0df7eb40e2b035708cc6540b8f",
            "f0eead5db0014f2b9d1f5a9a362acbd9",
            "a6ee8a02d351426abfa20a9518d87e35",
            "32b14a6596434340af8060dd25801485",
            "49d716df015449b59f76a3cde0c71aa6",
            "5c0dbf7943014992a3fc2b6061b35903",
            "56c6485c540f46418dcdf0c4fa6fabc9",
            "50a2e01958464facb4a19734499ae040"
          ]
        },
        "id": "BXAI-MRlaKY1",
        "outputId": "38fc8bc5-ebe4-4278-a50a-8372789cc5ea"
      },
      "outputs": [
        {
          "output_type": "display_data",
          "data": {
            "text/plain": [
              "tokenizer_config.json:   0%|          | 0.00/50.6k [00:00<?, ?B/s]"
            ],
            "application/vnd.jupyter.widget-view+json": {
              "version_major": 2,
              "version_minor": 0,
              "model_id": "0c413ed2e297424385168610ff249a5f"
            }
          },
          "metadata": {}
        },
        {
          "output_type": "display_data",
          "data": {
            "text/plain": [
              "tokenizer.json:   0%|          | 0.00/9.09M [00:00<?, ?B/s]"
            ],
            "application/vnd.jupyter.widget-view+json": {
              "version_major": 2,
              "version_minor": 0,
              "model_id": "cea06bdb832a451c8e5a689b6d12be29"
            }
          },
          "metadata": {}
        },
        {
          "output_type": "display_data",
          "data": {
            "text/plain": [
              "special_tokens_map.json:   0%|          | 0.00/459 [00:00<?, ?B/s]"
            ],
            "application/vnd.jupyter.widget-view+json": {
              "version_major": 2,
              "version_minor": 0,
              "model_id": "2afef23c65ea4030b01d8165bf56836a"
            }
          },
          "metadata": {}
        }
      ],
      "execution_count": null
    },
    {
      "cell_type": "markdown",
      "source": [
        "# Test the Model with Zero Shot Inferencing"
      ],
      "metadata": {
        "id": "RZM0VgNfaKY1"
      }
    },
    {
      "cell_type": "code",
      "source": [
        "!pip install -q pynvml"
      ],
      "metadata": {
        "colab": {
          "base_uri": "https://localhost:8080/"
        },
        "id": "bNTtyC70g89k",
        "outputId": "94ad3192-d082-4da1-e990-fff1cfae1300"
      },
      "execution_count": null,
      "outputs": [
        {
          "output_type": "stream",
          "name": "stdout",
          "text": [
            "\u001b[?25l   \u001b[90m━━━━━━━━━━━━━━━━━━━━━━━━━━━━━━━━━━━━━━━━\u001b[0m \u001b[32m0.0/40.5 kB\u001b[0m \u001b[31m?\u001b[0m eta \u001b[36m-:--:--\u001b[0m\r\u001b[2K   \u001b[90m━━━━━━━━━━━━━━━━━━━━━━━━━━━━━━━━━━━━━━━━\u001b[0m \u001b[32m40.5/40.5 kB\u001b[0m \u001b[31m2.5 MB/s\u001b[0m eta \u001b[36m0:00:00\u001b[0m\n",
            "\u001b[?25h"
          ]
        }
      ]
    },
    {
      "cell_type": "code",
      "source": [
        "from pynvml import *\n",
        "\n",
        "def print_gpu_utilization():\n",
        "    nvmlInit()\n",
        "    handle = nvmlDeviceGetHandleByIndex(0)\n",
        "    info = nvmlDeviceGetMemoryInfo(handle)\n",
        "    print(f\"GPU memory occupied: {info.used//1024**2} MB.\")"
      ],
      "metadata": {
        "trusted": true,
        "execution": {
          "iopub.status.busy": "2024-12-29T13:28:36.003904Z",
          "iopub.execute_input": "2024-12-29T13:28:36.004189Z",
          "iopub.status.idle": "2024-12-29T13:28:36.009088Z",
          "shell.execute_reply.started": "2024-12-29T13:28:36.004162Z",
          "shell.execute_reply": "2024-12-29T13:28:36.008236Z"
        },
        "id": "-q0ZOFZaaKY1"
      },
      "outputs": [],
      "execution_count": null
    },
    {
      "cell_type": "code",
      "source": [
        "print_gpu_utilization()"
      ],
      "metadata": {
        "trusted": true,
        "execution": {
          "iopub.status.busy": "2024-12-29T13:28:36.011335Z",
          "iopub.execute_input": "2024-12-29T13:28:36.011713Z",
          "iopub.status.idle": "2024-12-29T13:28:36.021766Z",
          "shell.execute_reply.started": "2024-12-29T13:28:36.011681Z",
          "shell.execute_reply": "2024-12-29T13:28:36.020992Z"
        },
        "colab": {
          "base_uri": "https://localhost:8080/"
        },
        "id": "LVnAOwRfaKY1",
        "outputId": "d26a3620-4752-4ca3-8394-93a12d8a5f88"
      },
      "outputs": [
        {
          "output_type": "stream",
          "name": "stdout",
          "text": [
            "GPU memory occupied: 2520 MB.\n"
          ]
        }
      ],
      "execution_count": null
    },
    {
      "cell_type": "code",
      "source": [
        "eval_tokenizer = AutoTokenizer.from_pretrained(model_name, add_bos_token=True, trust_remote_code=True, use_fast=False)\n",
        "eval_tokenizer.pad_token = eval_tokenizer.eos_token\n",
        "\n",
        "def gen(model,p, maxlen=100, sample=True):\n",
        "    toks = eval_tokenizer(p, return_tensors=\"pt\")\n",
        "    res = model.generate(**toks.to(\"cuda\"), max_new_tokens=maxlen, do_sample=sample,num_return_sequences=1,temperature=0.1,num_beams=1,top_p=0.95,).to('cpu')\n",
        "    return eval_tokenizer.batch_decode(res,skip_special_tokens=True)"
      ],
      "metadata": {
        "trusted": true,
        "execution": {
          "iopub.status.busy": "2024-12-29T13:28:36.022759Z",
          "iopub.execute_input": "2024-12-29T13:28:36.023097Z",
          "iopub.status.idle": "2024-12-29T13:28:36.576166Z",
          "shell.execute_reply.started": "2024-12-29T13:28:36.023059Z",
          "shell.execute_reply": "2024-12-29T13:28:36.575478Z"
        },
        "id": "L90RgpqBaKY2"
      },
      "outputs": [],
      "execution_count": null
    },
    {
      "cell_type": "code",
      "source": [
        "%%time\n",
        "from transformers import set_seed\n",
        "seed = 42\n",
        "set_seed(seed)"
      ],
      "metadata": {
        "trusted": true,
        "execution": {
          "iopub.status.busy": "2024-12-29T13:28:36.577277Z",
          "iopub.execute_input": "2024-12-29T13:28:36.577585Z",
          "iopub.status.idle": "2024-12-29T13:28:36.590579Z",
          "shell.execute_reply.started": "2024-12-29T13:28:36.577556Z",
          "shell.execute_reply": "2024-12-29T13:28:36.589670Z"
        },
        "colab": {
          "base_uri": "https://localhost:8080/"
        },
        "id": "7No1gDmbaKY2",
        "outputId": "f7cc296c-88ae-4ddd-e766-a2b58496806b"
      },
      "outputs": [
        {
          "output_type": "stream",
          "name": "stdout",
          "text": [
            "CPU times: user 2.9 ms, sys: 972 µs, total: 3.87 ms\n",
            "Wall time: 5.2 ms\n"
          ]
        }
      ],
      "execution_count": null
    },
    {
      "cell_type": "code",
      "source": [
        "dataset['test'][10]['y']"
      ],
      "metadata": {
        "trusted": true,
        "execution": {
          "iopub.status.busy": "2024-12-28T16:12:28.939647Z",
          "iopub.execute_input": "2024-12-28T16:12:28.939994Z",
          "iopub.status.idle": "2024-12-28T16:12:28.946340Z",
          "shell.execute_reply.started": "2024-12-28T16:12:28.939952Z",
          "shell.execute_reply": "2024-12-28T16:12:28.945482Z"
        },
        "id": "PCJTT_CUaKY2",
        "outputId": "5f1cdd04-f53f-4911-b37a-257f17e78d3c"
      },
      "outputs": [
        {
          "execution_count": 97,
          "output_type": "execute_result",
          "data": {
            "text/plain": "'Stable Light Sleep'"
          },
          "metadata": {}
        }
      ],
      "execution_count": null
    },
    {
      "cell_type": "code",
      "source": [
        "index = 100\n",
        "\n",
        "prompt = dataset['test'][index]['x']\n",
        "\n",
        "\n",
        "formatted_prompt = f\"\"\"Instruct: An advanced sleep stage classifier designed for analyzing EEG data.\n",
        "Classify the input into one of the following sleep stage labels:\n",
        "1. Drowsy Wakefulness\n",
        "2. Light Sleep Onset\n",
        "3. Stable Light Sleep\n",
        "4. Deep Restorative Sleep\n",
        "5. Dreaming REM Sleep\n",
        "input : \\n {prompt}\\n\n",
        "The output clearly classifies the input into one of the sleep stage classes (ranging from 1 to 5)\n",
        "and provides the probability (in percentages) of the input belonging to each class.\n",
        "Output:\\n\"\"\"\n",
        "\n",
        "res = gen(original_model,formatted_prompt,150,)\n",
        "#print(res[0])\n",
        "output = res[0].split('Output:\\n')[1]\n",
        "\n",
        "dash_line = '-'.join('' for x in range(100))\n",
        "print(dash_line)\n",
        "print(f'INPUT PROMPT:\\n{formatted_prompt}')\n",
        "print(dash_line)\n",
        "print(f'MODEL GENERATION - ZERO SHOT:\\n{output}')"
      ],
      "metadata": {
        "trusted": true,
        "execution": {
          "iopub.status.busy": "2024-12-28T16:15:38.714982Z",
          "iopub.execute_input": "2024-12-28T16:15:38.715822Z",
          "iopub.status.idle": "2024-12-28T16:15:44.764410Z",
          "shell.execute_reply.started": "2024-12-28T16:15:38.715784Z",
          "shell.execute_reply": "2024-12-28T16:15:44.763484Z"
        },
        "id": "-qhajOp5aKY2",
        "outputId": "b4e7daf7-c806-404c-d20b-5f457234b7c8"
      },
      "outputs": [
        {
          "name": "stderr",
          "text": "Setting `pad_token_id` to `eos_token_id`:128001 for open-end generation.\n",
          "output_type": "stream"
        },
        {
          "name": "stdout",
          "text": "---------------------------------------------------------------------------------------------------\nINPUT PROMPT:\nInstruct: An advanced sleep stage classifier designed for analyzing EEG data. \nClassify the input into one of the following sleep stage labels:\n1. Drowsy Wakefulness \n2. Light Sleep Onset \n3. Stable Light Sleep \n4. Deep Restorative Sleep \n5. Dreaming REM Sleep\ninput : \n {'hjorth_params': [[1.4803928522422247, 1.7127980775469392e-10, 1.7977954990428815], [1.1244233962300274, 4.657422119385476e-11, 1.6108636110220471], [1.4173455319959478, 3.4153236569396347e-12, 1.7502717390784688], [1.4608436452782207, 1.5029765701337142e-12, 1.8100906292509857], [1.431546985114563, 1.1301128355443903e-12, 1.7695850176929535], [1.5218811488519972, 9.422468294205915e-13, 1.8320771129524638], [1.6272138477906635, 6.719777317038754e-13, 1.8923017399873017], [1.7175123589408614, 3.351197195811809e-13, 1.9120458643254787], [1.4970298891170855, 1.4488139773919223e-13, 1.828950951188861], [1.442978787597731, 1.2442890902167837e-13, 1.7688322770020917], [1.4937650505389113, 1.2789415350388027e-13, 1.8313405880657898], [1.5479375803711477, 6.288569088237711e-14, 1.8225645775819823], [1.3463752462800034, 7.276990877509632e-14, 1.737555488300124], [1.29960180024482, 6.571258141157599e-14, 1.63105581946586], [1.2405457066203596, 8.624251031559919e-14, 1.6544134945590916], [1.5042455017189273, 5.382515057418334e-14, 1.828919704113629], [1.3578475912542542, 5.11007018776057e-14, 1.8608880132521095], [1.5933683119608173, 3.8421579783502364e-14, 1.8395339334617715], [1.5364482880778614, 2.4554380295747223e-14, 1.844389294701688], [1.6187287689458534, 2.0999484721275216e-14, 1.8505663852352308], [1.4453065152184092, 1.2869483490061677e-14, 1.7183333125025433], [1.565305608698087, 1.5282856090640256e-14, 1.8699949058246197], [1.3715436653132853, 1.4719021515842093e-14, 1.7620991699547697], [1.4027488393192094, 1.182935286575898e-14, 1.7989556061512535], [1.46332870159149, 1.1837179758011365e-14, 1.7998633029052826], [1.5315889851199833, 1.0768922103514985e-14, 1.8713524646793775], [1.3766402737725483, 9.2836465424003e-15, 1.75431309305275], [1.5701121211857343, 6.861461723015622e-15, 1.8640092067999494], [1.5557800188420983, 5.442943911602624e-15, 1.8390981957719141], [1.555858477558568, 4.4204102567842325e-15, 1.7922296151199937], [1.4408240449529717, 3.3974433939500258e-15, 1.7673646218686454], [1.3510164096703825, 3.3682070202850333e-15, 1.697811976623935], [1.5004711422372607, 2.0071318839538316e-15, 1.7793757577959206], [1.4397783284548593, 2.031890512264612e-15, 1.7723117449951857], [1.447027738255805, 1.0685080688419479e-15, 1.7777962343406604], [1.558296837171118, 7.563212584235506e-16, 1.815116155914626], [1.4673298615358015, 6.228897146083656e-16, 1.8140340967963327], [1.547310375103745, 7.865730950917148e-16, 1.8234202262564803], [1.4745758847832116, 5.896843607811861e-16, 1.8019768380462722], [1.5185813983903567, 5.354522978338199e-16, 1.8422385248521815], [1.4889270803156114, 4.950022828558022e-16, 1.8166222438587154], [1.5310157305091638, 4.1709373813464787e-16, 1.826258803712566], [1.4134808050435255, 4.3794196900848306e-16, 1.789851092313265], [1.5140615391353986, 5.095861577827647e-16, 1.845241545903173], [1.4570901057867565, 4.284433541944744e-16, 1.812759085463543], [1.4530117544977437, 4.659350075205422e-16, 1.8169699875873002], [1.4809873893236092, 4.3862148925534483e-16, 1.8263855705712606], [1.483585635673128, 4.605705651692351e-16, 1.8199978925907128], [1.45299599387353, 4.324829840844813e-16, 1.814581971761696], [1.4644317508131892, 4.598140292712952e-16, 1.821002433626916], [1.454263367752953, 4.52987399461759e-16, 1.8170956678565626]], 'kurtosis_values': [1.7068752809670729, 2.3416259540629403, 2.1130742012912958, -0.751100718197824, -0.29186233997660116, -0.5461178764809729, -0.262821576502577, -0.6168448867484644, 2.438951199866752, 1.0320038581704694, 0.209676258341839, 0.24691891649538356, 0.18260558034713936, 3.614482107603381, 4.022798128082196, 0.33635076234153827, -0.8084641503904892, 0.07567805688629736, -0.6857254365784953, -0.252656168353909, -0.7322382894126869, 3.182594260717991, 0.29548099094497005, -0.9320936005726819, 1.396187525830734, -0.5271412618343119, -0.26077316247717874, -0.07719366094272795, 0.5070070943438103, -0.6863747182677256, -0.5621636195879787, 1.0816451181417808, -0.5709385180465394, 5.475067135010162, -0.04825386697793643, -0.6813644832278039, 0.4711453533179939, 0.9537747308510358, -0.17115597231341884, 2.3194035939292688, 0.35221383113119664, 1.1575508806601782, 0.9184241416382553, 0.8993387886699535, 0.15081567572890053, 0.7789683469570923, 0.7370214770412371, 0.6254467030412667, 0.3500522009174025, 0.8264088962957206, 0.5085239695588264], 'wavelet_entropies': [[3.333209200961605, 3.4326748679940806, 3.489617130673518, 3.6194825780219806, 3.5487593879310753, 3.562492710493414, 3.4418841157426776, 3.649438269991633, 3.6304129789677764, 3.6352532879434287, 3.597101630457492, 3.6525071803562246, 3.5942200287112924, 3.5811378341969067, 3.5646034033355622, 3.6296551151420258, 3.598455757983265, 3.6130705797326925, 3.6050217666098496, 3.6575615464748643, 3.6515568069628523, 3.4597644672805448, 3.6274738830021658, 3.5778687704921732, 3.608647896830358, 3.624108417924591, 3.6056520616395065, 3.631249035272485, 3.6291818588039884, 3.5593735646685203, 3.587979160316936, 3.4013564911551457, 3.600471436749913, 3.5655382358011884, 3.6076946987964567, 3.597020042375475, 3.6220723331199918, 3.4253189565019393, 3.5558955538822254, 3.485174071018449, 3.5183623136084368, 3.5094767426055156, 3.5247006634303846, 3.3811037242768234, 3.5116006922872094, 3.418526429084842, 3.450272660913227, 3.451639049590786, 3.426853470911338, 3.4287980917952536, 3.417695965111084], [2.903201827292618, 2.0081241771580522, 0.8562187762550864, 2.747835190881945, 2.5258142969109705, 2.7718092616197674, 2.4620739649196794, 2.8246600220729925, 1.5778677503332468, 1.9903586901344463, 2.326103125561203, 2.1259439398316533, 1.8370338200792102, 2.6778735578282755, 1.2180934966859787, 2.809917881195992, 2.7328253608621056, 3.199842245196167, 3.1658871951798235, 2.8059406935465256, 2.21464706275605, 2.8510663868696495, 2.7843801826983077, 1.9939978035289665, 1.7524995575480689, 2.733257005771131, 1.8798148174198492, 2.771161702840478, 2.556372444058031, 2.516947254023325, 3.2311144076770746, 2.1520926980516206, 2.083304521311347, 2.052709779919063, 1.6901122686109464, 2.8589611706352134, 2.7414813107837324, 2.5625602593365078, 1.9962944508234142, 1.6647416831660988, 2.675763470650436, 2.4094793447325857, 2.041598992588278, 2.4826677393277885, 2.525402234546714, 2.166899987445226, 2.546357838482697, 2.2747187612035336, 2.510851946063211, 2.325116411559306, 2.386777961696994], [3.1417590288106867, 2.7724645446715623, 3.3954526884059093, 3.3543158412193415, 3.384294313390876, 3.265384555800919, 2.942763300544887, 3.564972630794253, 2.9624343021459163, 2.6498748282155096, 3.197610157945215, 3.3810821145758343, 3.0362456184929685, 2.6685434421080654, 3.092234997677336, 2.2903618831965793, 2.887056685572713, 3.6799236365829238, 2.982371870483079, 3.315666088062737, 3.2709199035038083, 3.2400263410842167, 3.1125866104001374, 3.041808962441223, 2.198261966737287, 3.3397886585232417, 2.842648146160021, 3.3188080400537623, 3.0534619190340226, 3.258407330882539, 3.2634912239944076, 3.4122633415043846, 3.7847150261126514, 3.4134599407749415, 3.608860652981103, 3.263138366175355, 2.948991585958994, 2.575209932344562, 2.728039754625779, 2.7985730356265814, 2.8377209010545377, 3.5689731911986664, 3.2212513874244633, 3.041831380462937, 3.2498387426228157, 3.211253787967534, 3.0344391594252094, 3.2954285462241386, 3.2209581870487, 3.2085945432137013, 3.2152743305748244], [3.7966422797347357, 3.5819273891421397, 3.6554764786814666, 4.023361605810821, 3.9904992898484832, 4.422364791083806, 4.1216956681507355, 4.226461783632723, 4.273195901897927, 3.657585342396243, 4.269705750293922, 4.280868750109319, 4.052470532877987, 4.271398211811182, 3.6358138195180354, 3.97465011686444, 3.9648299427348515, 3.9064571886556747, 4.334058508243131, 4.0174225479020365, 4.1841778879069835, 3.265025873259563, 4.0315826800733685, 4.12872543455484, 4.006149819298384, 3.8914166553531064, 4.033385681455191, 4.030053097872878, 4.0811705057233585, 4.107304782575901, 4.128409262836842, 4.130488904125585, 4.115736670135338, 4.108893743382587, 3.716925739005744, 4.261271241942872, 4.1346941169400155, 3.7071503255690574, 4.186147161229165, 3.49158578953607, 4.149214258425904, 3.717389469324412, 3.696710409999996, 3.544816958923188, 3.8226703585950577, 3.66542151636345, 3.674628887903429, 3.7051832926564376, 3.6878892070971587, 3.6995226661662786, 3.753759521607513]]}\n\nThe output clearly classifies the input into one of the sleep stage classes (ranging from 1 to 5)\nand provides the probability (in percentages) of the input belonging to each class. \nOutput:\n\n---------------------------------------------------------------------------------------------------\nMODEL GENERATION - ZERO SHOT:\n{'sleep_stage': 4, 'probability': 100.0}\n\n",
          "output_type": "stream"
        }
      ],
      "execution_count": null
    },
    {
      "cell_type": "markdown",
      "source": [
        "# Pre-processing dataset"
      ],
      "metadata": {
        "id": "ZABj4tCvaKY3"
      }
    },
    {
      "cell_type": "code",
      "source": [
        "def create_prompt_formats(sample):\n",
        "    \"\"\"\n",
        "    Formats a concise and effective prompt for fine-tuning the Phi-3 model\n",
        "    on EEG-based sleep stage classification.\n",
        "    \"\"\"\n",
        "\n",
        "    # Description of the task and sleep stage labels\n",
        "    INTRO_BLURB = (\n",
        "        \"Classify the input into one of the following sleep stage labels:\\n\"\n",
        "        \"1. Drowsy Wakefulness\\n\"\n",
        "        \"2. Light Sleep Onset\\n\"\n",
        "        \"3. Stable Light Sleep\\n\"\n",
        "        \"4. Deep Restorative Sleep\\n\"\n",
        "        \"5. Dreaming REM Sleep\\n\\n\"\n",
        "    )\n",
        "\n",
        "    # Clear instruction for the model\n",
        "    INSTRUCTION_KEY = (\n",
        "        \"### Instruction:\\n\"\n",
        "        \"An advanced sleep stage classifier designed for analyzing EEG data.\"\n",
        "    )\n",
        "\n",
        "    # Response format for consistency\n",
        "    RESPONSE_KEY = \"### Sleep Stage Label:\"\n",
        "\n",
        "    # Constraints and expected output format\n",
        "    END_KEY = (\n",
        "        \"The output clearly classifies the input into one of the sleep stage classes (ranging from 1 to 5) and provides the probability (in percentages) of the input belonging to each class.\\nOutput:\\n\"\n",
        "    )\n",
        "\n",
        "    # Construct the full prompt\n",
        "    instruction = f\"{INSTRUCTION_KEY}\\nInput:\\n{sample['x']}\\n\"\n",
        "    response = f\"{RESPONSE_KEY} {sample['y']}\"\n",
        "    end = f\"{END_KEY}\"\n",
        "\n",
        "    # Combine all sections to create the final prompt\n",
        "    parts = [INTRO_BLURB, instruction, response, end]\n",
        "    formatted_prompt = \"\\n\\n\".join(parts)\n",
        "\n",
        "    # Update the sample dictionary with the formatted prompt\n",
        "    sample[\"text\"] = formatted_prompt\n",
        "\n",
        "    return sample\n"
      ],
      "metadata": {
        "trusted": true,
        "execution": {
          "iopub.status.busy": "2024-12-29T13:28:36.591528Z",
          "iopub.execute_input": "2024-12-29T13:28:36.591809Z",
          "iopub.status.idle": "2024-12-29T13:28:36.597701Z",
          "shell.execute_reply.started": "2024-12-29T13:28:36.591763Z",
          "shell.execute_reply": "2024-12-29T13:28:36.596937Z"
        },
        "id": "qw7pX6xIaKY-"
      },
      "outputs": [],
      "execution_count": null
    },
    {
      "cell_type": "code",
      "source": [
        "from functools import partial\n",
        "\n",
        "def get_max_length(model):\n",
        "    conf = model.config\n",
        "    max_length = None\n",
        "    for length_setting in [\"n_positions\", \"max_position_embeddings\", \"seq_length\"]:\n",
        "        max_length = getattr(model.config, length_setting, None)\n",
        "        if max_length:\n",
        "            print(f\"Found max lenth: {max_length}\")\n",
        "            break\n",
        "    if not max_length:\n",
        "        max_length = 1024\n",
        "        print(f\"Using default max length: {max_length}\")\n",
        "    return max_length\n",
        "\n",
        "\n",
        "\n",
        "\n",
        "def preprocess_batch(batch, tokenizer, max_length):\n",
        "    \"\"\"\n",
        "    Tokenizing a batch\n",
        "    \"\"\"\n",
        "    return tokenizer(\n",
        "        batch[\"text\"],\n",
        "        max_length=max_length,\n",
        "        truncation=True,\n",
        "    )\n",
        "\n",
        "\n",
        "# SOURCE https://github.com/databrickslabs/dolly/blob/master/training/trainer.py\n",
        "def preprocess_dataset(tokenizer: AutoTokenizer, max_length: int,seed, dataset):\n",
        "    \"\"\"Format & tokenize it so it is ready for training\n",
        "    :param tokenizer (AutoTokenizer): Model Tokenizer\n",
        "    :param max_length (int): Maximum number of tokens to emit from tokenizer\n",
        "    \"\"\"\n",
        "\n",
        "    # Add prompt to each sample\n",
        "    print(\"Preprocessing dataset...\")\n",
        "    dataset = dataset.map(create_prompt_formats)#, batched=True)\n",
        "\n",
        "    # Apply preprocessing to each batch of the dataset & and remove 'instruction', 'context', 'response', 'category' fields\n",
        "    _preprocessing_function = partial(preprocess_batch, max_length=max_length, tokenizer=tokenizer)\n",
        "    dataset = dataset.map(\n",
        "        _preprocessing_function,\n",
        "        batched=True,\n",
        "        remove_columns=['x', 'y'],\n",
        "    )\n",
        "\n",
        "    # Filter out samples that have input_ids exceeding max_length\n",
        "    dataset = dataset.filter(lambda sample: len(sample[\"input_ids\"]) < max_length)\n",
        "\n",
        "    # Shuffle dataset\n",
        "    dataset = dataset.shuffle(seed=seed)\n",
        "\n",
        "    return dataset"
      ],
      "metadata": {
        "trusted": true,
        "execution": {
          "iopub.status.busy": "2024-12-29T13:28:36.598863Z",
          "iopub.execute_input": "2024-12-29T13:28:36.599263Z",
          "iopub.status.idle": "2024-12-29T13:28:36.613369Z",
          "shell.execute_reply.started": "2024-12-29T13:28:36.599218Z",
          "shell.execute_reply": "2024-12-29T13:28:36.612696Z"
        },
        "id": "V88TME-QaKY-"
      },
      "outputs": [],
      "execution_count": null
    },
    {
      "cell_type": "code",
      "source": [
        "## Pre-process dataset\n",
        "max_length = get_max_length(original_model)\n",
        "print(max_length)\n",
        "\n",
        "train_dataset = preprocess_dataset(tokenizer, max_length,seed, dataset['train'])"
      ],
      "metadata": {
        "trusted": true,
        "execution": {
          "iopub.status.busy": "2024-12-29T13:28:36.614326Z",
          "iopub.execute_input": "2024-12-29T13:28:36.614591Z",
          "iopub.status.idle": "2024-12-29T13:29:15.483972Z",
          "shell.execute_reply.started": "2024-12-29T13:28:36.614566Z",
          "shell.execute_reply": "2024-12-29T13:29:15.483327Z"
        },
        "colab": {
          "referenced_widgets": [
            "7946dd8629ab41a49f9876cd55419731",
            "fd3236fe8f4e4021a9910996381efbfe",
            "252620d2a6d9433e889df2381c3ebfa7"
          ]
        },
        "id": "bIoVcDzSaKY_",
        "outputId": "3f4fdd99-5ee3-436f-e3ac-9a50762c8f60"
      },
      "outputs": [
        {
          "name": "stdout",
          "text": "Found max lenth: 131072\n131072\nPreprocessing dataset...\n",
          "output_type": "stream"
        },
        {
          "output_type": "display_data",
          "data": {
            "text/plain": "Map:   0%|          | 0/4650 [00:00<?, ? examples/s]",
            "application/vnd.jupyter.widget-view+json": {
              "version_major": 2,
              "version_minor": 0,
              "model_id": "7946dd8629ab41a49f9876cd55419731"
            }
          },
          "metadata": {}
        },
        {
          "output_type": "display_data",
          "data": {
            "text/plain": "Map:   0%|          | 0/4650 [00:00<?, ? examples/s]",
            "application/vnd.jupyter.widget-view+json": {
              "version_major": 2,
              "version_minor": 0,
              "model_id": "fd3236fe8f4e4021a9910996381efbfe"
            }
          },
          "metadata": {}
        },
        {
          "output_type": "display_data",
          "data": {
            "text/plain": "Filter:   0%|          | 0/4650 [00:00<?, ? examples/s]",
            "application/vnd.jupyter.widget-view+json": {
              "version_major": 2,
              "version_minor": 0,
              "model_id": "252620d2a6d9433e889df2381c3ebfa7"
            }
          },
          "metadata": {}
        }
      ],
      "execution_count": null
    },
    {
      "cell_type": "markdown",
      "source": [
        "# Preparing the model for QLoRA"
      ],
      "metadata": {
        "id": "qWc-d992aKY_"
      }
    },
    {
      "cell_type": "code",
      "source": [
        "def print_number_of_trainable_model_parameters(model):\n",
        "    trainable_model_params = 0\n",
        "    all_model_params = 0\n",
        "    for _, param in model.named_parameters():\n",
        "        all_model_params += param.numel()\n",
        "        if param.requires_grad:\n",
        "            trainable_model_params += param.numel()\n",
        "    return f\"trainable model parameters: {trainable_model_params}\\nall model parameters: {all_model_params}\\npercentage of trainable model parameters: {100 * trainable_model_params / all_model_params:.2f}%\"\n",
        "\n",
        "print(print_number_of_trainable_model_parameters(original_model))"
      ],
      "metadata": {
        "trusted": true,
        "execution": {
          "iopub.status.busy": "2024-12-29T13:29:27.873032Z",
          "iopub.execute_input": "2024-12-29T13:29:27.873779Z",
          "iopub.status.idle": "2024-12-29T13:29:27.881312Z",
          "shell.execute_reply.started": "2024-12-29T13:29:27.873743Z",
          "shell.execute_reply": "2024-12-29T13:29:27.880280Z"
        },
        "colab": {
          "base_uri": "https://localhost:8080/"
        },
        "id": "5NCNPojLaKY_",
        "outputId": "e79db841-b016-4ad1-9207-dbcd874ccc00"
      },
      "outputs": [
        {
          "output_type": "stream",
          "name": "stdout",
          "text": [
            "trainable model parameters: 394177536\n",
            "all model parameters: 1803463680\n",
            "percentage of trainable model parameters: 21.86%\n"
          ]
        }
      ],
      "execution_count": null
    },
    {
      "cell_type": "code",
      "source": [
        "print(original_model)"
      ],
      "metadata": {
        "trusted": true,
        "execution": {
          "iopub.status.busy": "2024-12-29T13:29:29.257488Z",
          "iopub.execute_input": "2024-12-29T13:29:29.258485Z",
          "iopub.status.idle": "2024-12-29T13:29:29.266088Z",
          "shell.execute_reply.started": "2024-12-29T13:29:29.258432Z",
          "shell.execute_reply": "2024-12-29T13:29:29.264945Z"
        },
        "colab": {
          "base_uri": "https://localhost:8080/"
        },
        "id": "09ZIYjzdaKZA",
        "outputId": "19981243-e59b-4449-d11a-47193a982d26"
      },
      "outputs": [
        {
          "output_type": "stream",
          "name": "stdout",
          "text": [
            "LlamaForCausalLM(\n",
            "  (model): LlamaModel(\n",
            "    (embed_tokens): Embedding(128256, 3072)\n",
            "    (layers): ModuleList(\n",
            "      (0-27): 28 x LlamaDecoderLayer(\n",
            "        (self_attn): LlamaSdpaAttention(\n",
            "          (q_proj): Linear4bit(in_features=3072, out_features=3072, bias=False)\n",
            "          (k_proj): Linear4bit(in_features=3072, out_features=1024, bias=False)\n",
            "          (v_proj): Linear4bit(in_features=3072, out_features=1024, bias=False)\n",
            "          (o_proj): Linear4bit(in_features=3072, out_features=3072, bias=False)\n",
            "          (rotary_emb): LlamaRotaryEmbedding()\n",
            "        )\n",
            "        (mlp): LlamaMLP(\n",
            "          (gate_proj): Linear4bit(in_features=3072, out_features=8192, bias=False)\n",
            "          (up_proj): Linear4bit(in_features=3072, out_features=8192, bias=False)\n",
            "          (down_proj): Linear4bit(in_features=8192, out_features=3072, bias=False)\n",
            "          (act_fn): SiLU()\n",
            "        )\n",
            "        (input_layernorm): LlamaRMSNorm((3072,), eps=1e-05)\n",
            "        (post_attention_layernorm): LlamaRMSNorm((3072,), eps=1e-05)\n",
            "      )\n",
            "    )\n",
            "    (norm): LlamaRMSNorm((3072,), eps=1e-05)\n",
            "    (rotary_emb): LlamaRotaryEmbedding()\n",
            "  )\n",
            "  (lm_head): Linear(in_features=3072, out_features=128256, bias=False)\n",
            ")\n"
          ]
        }
      ],
      "execution_count": null
    },
    {
      "cell_type": "code",
      "source": [
        "from peft import LoraConfig, get_peft_model, prepare_model_for_kbit_training\n",
        "\n",
        "config = LoraConfig(\n",
        "    r=4,  # Rank\n",
        "    lora_alpha=4,\n",
        "    target_modules=[\n",
        "        \"q_proj\", \"k_proj\", \"v_proj\", \"o_proj\",  # Attention layers in the Llama model\n",
        "        \"gate_proj\", \"up_proj\", \"down_proj\"      # MLP layers in the Llama model\n",
        "    ],\n",
        "    bias=\"none\",\n",
        "    lora_dropout=0.05,  # Conventional\n",
        "    task_type=\"CAUSAL_LM\",\n",
        ")\n",
        "\n",
        "# 1 - Enabling gradient checkpointing to reduce memory usage during fine-tuning\n",
        "original_model.gradient_checkpointing_enable()\n",
        "\n",
        "# 2 - Using the prepare_model_for_kbit_training method from PEFT\n",
        "original_model = prepare_model_for_kbit_training(original_model)\n",
        "\n",
        "peft_model = get_peft_model(original_model, config)"
      ],
      "metadata": {
        "trusted": true,
        "execution": {
          "iopub.status.busy": "2024-12-29T13:29:31.167675Z",
          "iopub.execute_input": "2024-12-29T13:29:31.168031Z",
          "iopub.status.idle": "2024-12-29T13:29:31.474244Z",
          "shell.execute_reply.started": "2024-12-29T13:29:31.168000Z",
          "shell.execute_reply": "2024-12-29T13:29:31.473559Z"
        },
        "id": "FPAaOhATaKZA"
      },
      "outputs": [],
      "execution_count": null
    },
    {
      "cell_type": "markdown",
      "source": [
        "# Setup PEFT for Fine-Tuning"
      ],
      "metadata": {
        "id": "N86ms138aKZA"
      }
    },
    {
      "cell_type": "code",
      "source": [
        "print(print_number_of_trainable_model_parameters(peft_model))"
      ],
      "metadata": {
        "trusted": true,
        "execution": {
          "iopub.status.busy": "2024-12-29T13:29:34.393056Z",
          "iopub.execute_input": "2024-12-29T13:29:34.393452Z",
          "iopub.status.idle": "2024-12-29T13:29:34.404184Z",
          "shell.execute_reply.started": "2024-12-29T13:29:34.393383Z",
          "shell.execute_reply": "2024-12-29T13:29:34.403384Z"
        },
        "id": "rMMi5KY9aKZA",
        "outputId": "124d551d-be48-45fd-e942-f0e5ebf9bd0e"
      },
      "outputs": [
        {
          "name": "stdout",
          "text": "trainable model parameters: 6078464\nall model parameters: 1809542144\npercentage of trainable model parameters: 0.34%\n",
          "output_type": "stream"
        }
      ],
      "execution_count": null
    },
    {
      "cell_type": "markdown",
      "source": [
        "# Train PEFT Adapter"
      ],
      "metadata": {
        "id": "9uyJSjb6aKZA"
      }
    },
    {
      "cell_type": "code",
      "source": [
        "output_dir = f'./peft-EEG-training-{str(int(time.time()))}'\n",
        "import transformers\n",
        "from transformers import Trainer, TrainingArguments\n",
        "\n",
        "peft_training_args = TrainingArguments(\n",
        "    output_dir=output_dir,\n",
        "    warmup_steps=1,\n",
        "    per_device_train_batch_size=1,\n",
        "    gradient_accumulation_steps=2,\n",
        "    max_steps=600,\n",
        "    learning_rate=2e-4,\n",
        "    optim=\"adamw_8bit\",\n",
        "    logging_steps=100, #1\n",
        "    logging_dir=\"./logs\",\n",
        "    save_strategy=\"steps\",\n",
        "    save_steps=100,\n",
        "    do_eval=False,\n",
        "    gradient_checkpointing=True,\n",
        "    report_to=\"none\",\n",
        "    overwrite_output_dir='True',\n",
        "    group_by_length=True,\n",
        "    fp16=True\n",
        ")\n",
        "\n",
        "\n",
        "peft_model.config.use_cache = False\n",
        "\n",
        "peft_trainer = transformers.Trainer(\n",
        "    model=peft_model,\n",
        "    train_dataset=train_dataset,\n",
        "    args=peft_training_args,\n",
        "    data_collator=transformers.DataCollatorForLanguageModeling(tokenizer, mlm=False),\n",
        ")"
      ],
      "metadata": {
        "trusted": true,
        "execution": {
          "iopub.status.busy": "2024-12-29T13:29:39.212832Z",
          "iopub.execute_input": "2024-12-29T13:29:39.213682Z",
          "iopub.status.idle": "2024-12-29T13:29:39.667644Z",
          "shell.execute_reply.started": "2024-12-29T13:29:39.213649Z",
          "shell.execute_reply": "2024-12-29T13:29:39.666942Z"
        },
        "id": "nP5D8f5GaKZB"
      },
      "outputs": [],
      "execution_count": null
    },
    {
      "cell_type": "code",
      "source": [
        "peft_training_args.device"
      ],
      "metadata": {
        "trusted": true,
        "execution": {
          "iopub.status.busy": "2024-12-29T13:29:45.980550Z",
          "iopub.execute_input": "2024-12-29T13:29:45.981230Z",
          "iopub.status.idle": "2024-12-29T13:29:45.986508Z",
          "shell.execute_reply.started": "2024-12-29T13:29:45.981197Z",
          "shell.execute_reply": "2024-12-29T13:29:45.985653Z"
        },
        "id": "4F42YoJJaKZB",
        "outputId": "60ecb891-cd9e-4f62-dfdc-1e816245d138"
      },
      "outputs": [
        {
          "execution_count": 35,
          "output_type": "execute_result",
          "data": {
            "text/plain": "device(type='cuda', index=0)"
          },
          "metadata": {}
        }
      ],
      "execution_count": null
    },
    {
      "cell_type": "code",
      "source": [
        "peft_trainer.train()"
      ],
      "metadata": {
        "trusted": true,
        "execution": {
          "iopub.status.busy": "2024-12-29T13:29:47.492608Z",
          "iopub.execute_input": "2024-12-29T13:29:47.492954Z",
          "iopub.status.idle": "2024-12-29T19:53:42.345730Z",
          "shell.execute_reply.started": "2024-12-29T13:29:47.492923Z",
          "shell.execute_reply": "2024-12-29T19:53:42.344809Z"
        },
        "id": "bN0-oK_DaKZB",
        "outputId": "768d64f7-12a6-4600-8056-80725de75705"
      },
      "outputs": [
        {
          "name": "stderr",
          "text": "/opt/conda/lib/python3.10/site-packages/torch/utils/checkpoint.py:295: FutureWarning: `torch.cpu.amp.autocast(args...)` is deprecated. Please use `torch.amp.autocast('cpu', args...)` instead.\n  with torch.enable_grad(), device_autocast_ctx, torch.cpu.amp.autocast(**ctx.cpu_autocast_kwargs):  # type: ignore[attr-defined]\n",
          "output_type": "stream"
        },
        {
          "output_type": "display_data",
          "data": {
            "text/plain": "<IPython.core.display.HTML object>",
            "text/html": "\n    <div>\n      \n      <progress value='600' max='600' style='width:300px; height:20px; vertical-align: middle;'></progress>\n      [600/600 6:23:00, Epoch 0/1]\n    </div>\n    <table border=\"1\" class=\"dataframe\">\n  <thead>\n <tr style=\"text-align: left;\">\n      <th>Step</th>\n      <th>Training Loss</th>\n    </tr>\n  </thead>\n  <tbody>\n    <tr>\n      <td>100</td>\n      <td>3.567800</td>\n    </tr>\n    <tr>\n      <td>200</td>\n      <td>3.544900</td>\n    </tr>\n    <tr>\n      <td>300</td>\n      <td>3.540000</td>\n    </tr>\n    <tr>\n      <td>400</td>\n      <td>3.542500</td>\n    </tr>\n    <tr>\n      <td>500</td>\n      <td>3.539700</td>\n    </tr>\n    <tr>\n      <td>600</td>\n      <td>3.538800</td>\n    </tr>\n  </tbody>\n</table><p>"
          },
          "metadata": {}
        },
        {
          "name": "stderr",
          "text": "/opt/conda/lib/python3.10/site-packages/torch/utils/checkpoint.py:295: FutureWarning: `torch.cpu.amp.autocast(args...)` is deprecated. Please use `torch.amp.autocast('cpu', args...)` instead.\n  with torch.enable_grad(), device_autocast_ctx, torch.cpu.amp.autocast(**ctx.cpu_autocast_kwargs):  # type: ignore[attr-defined]\n/opt/conda/lib/python3.10/site-packages/torch/utils/checkpoint.py:295: FutureWarning: `torch.cpu.amp.autocast(args...)` is deprecated. Please use `torch.amp.autocast('cpu', args...)` instead.\n  with torch.enable_grad(), device_autocast_ctx, torch.cpu.amp.autocast(**ctx.cpu_autocast_kwargs):  # type: ignore[attr-defined]\n/opt/conda/lib/python3.10/site-packages/torch/utils/checkpoint.py:295: FutureWarning: `torch.cpu.amp.autocast(args...)` is deprecated. Please use `torch.amp.autocast('cpu', args...)` instead.\n  with torch.enable_grad(), device_autocast_ctx, torch.cpu.amp.autocast(**ctx.cpu_autocast_kwargs):  # type: ignore[attr-defined]\n/opt/conda/lib/python3.10/site-packages/torch/utils/checkpoint.py:295: FutureWarning: `torch.cpu.amp.autocast(args...)` is deprecated. Please use `torch.amp.autocast('cpu', args...)` instead.\n  with torch.enable_grad(), device_autocast_ctx, torch.cpu.amp.autocast(**ctx.cpu_autocast_kwargs):  # type: ignore[attr-defined]\n/opt/conda/lib/python3.10/site-packages/torch/utils/checkpoint.py:295: FutureWarning: `torch.cpu.amp.autocast(args...)` is deprecated. Please use `torch.amp.autocast('cpu', args...)` instead.\n  with torch.enable_grad(), device_autocast_ctx, torch.cpu.amp.autocast(**ctx.cpu_autocast_kwargs):  # type: ignore[attr-defined]\n",
          "output_type": "stream"
        },
        {
          "execution_count": 36,
          "output_type": "execute_result",
          "data": {
            "text/plain": "TrainOutput(global_step=600, training_loss=3.5456341044108073, metrics={'train_runtime': 23019.846, 'train_samples_per_second': 0.052, 'train_steps_per_second': 0.026, 'total_flos': 8.560415550121574e+16, 'train_loss': 3.5456341044108073, 'epoch': 0.25806451612903225})"
          },
          "metadata": {}
        }
      ],
      "execution_count": null
    },
    {
      "cell_type": "code",
      "source": [
        "!zip -r checkpoint-600.zip /kaggle/working/peft-EEG-training-1735478979/checkpoint-600"
      ],
      "metadata": {
        "trusted": true,
        "execution": {
          "iopub.status.busy": "2024-12-29T19:55:27.669246Z",
          "iopub.execute_input": "2024-12-29T19:55:27.669958Z",
          "iopub.status.idle": "2024-12-29T19:55:30.490305Z",
          "shell.execute_reply.started": "2024-12-29T19:55:27.669920Z",
          "shell.execute_reply": "2024-12-29T19:55:30.489226Z"
        },
        "id": "7C5aZEHOaKZC",
        "outputId": "31ad13d3-01dc-4fb6-ae97-84fa768e2dea"
      },
      "outputs": [
        {
          "name": "stderr",
          "text": "/opt/conda/lib/python3.10/pty.py:89: RuntimeWarning: os.fork() was called. os.fork() is incompatible with multithreaded code, and JAX is multithreaded, so this will likely lead to a deadlock.\n  pid, fd = os.forkpty()\nhuggingface/tokenizers: The current process just got forked, after parallelism has already been used. Disabling parallelism to avoid deadlocks...\nTo disable this warning, you can either:\n\t- Avoid using `tokenizers` before the fork if possible\n\t- Explicitly set the environment variable TOKENIZERS_PARALLELISM=(true | false)\n",
          "output_type": "stream"
        },
        {
          "name": "stdout",
          "text": "  adding: kaggle/working/peft-EEG-training-1735478979/checkpoint-600/ (stored 0%)\n  adding: kaggle/working/peft-EEG-training-1735478979/checkpoint-600/adapter_config.json (deflated 56%)\n  adding: kaggle/working/peft-EEG-training-1735478979/checkpoint-600/training_args.bin (deflated 52%)\n  adding: kaggle/working/peft-EEG-training-1735478979/checkpoint-600/rng_state.pth (deflated 25%)\n  adding: kaggle/working/peft-EEG-training-1735478979/checkpoint-600/optimizer.pt (deflated 11%)\n  adding: kaggle/working/peft-EEG-training-1735478979/checkpoint-600/adapter_model.safetensors (deflated 8%)\n  adding: kaggle/working/peft-EEG-training-1735478979/checkpoint-600/README.md (deflated 66%)\n  adding: kaggle/working/peft-EEG-training-1735478979/checkpoint-600/scheduler.pt (deflated 56%)\n  adding: kaggle/working/peft-EEG-training-1735478979/checkpoint-600/trainer_state.json (deflated 65%)\n",
          "output_type": "stream"
        }
      ],
      "execution_count": null
    },
    {
      "cell_type": "code",
      "source": [
        "print_gpu_utilization()"
      ],
      "metadata": {
        "trusted": true,
        "execution": {
          "iopub.status.busy": "2024-12-29T19:55:35.047765Z",
          "iopub.execute_input": "2024-12-29T19:55:35.048124Z",
          "iopub.status.idle": "2024-12-29T19:55:35.053920Z",
          "shell.execute_reply.started": "2024-12-29T19:55:35.048094Z",
          "shell.execute_reply": "2024-12-29T19:55:35.052946Z"
        },
        "id": "g4H0L_-maKZC",
        "outputId": "62b0163e-4111-4c14-c2cb-f8b012ee106e"
      },
      "outputs": [
        {
          "name": "stdout",
          "text": "GPU memory occupied: 14172 MB.\n",
          "output_type": "stream"
        }
      ],
      "execution_count": null
    },
    {
      "cell_type": "code",
      "source": [
        "torch.cuda.empty_cache()"
      ],
      "metadata": {
        "trusted": true,
        "execution": {
          "iopub.status.busy": "2024-12-29T19:55:37.277973Z",
          "iopub.execute_input": "2024-12-29T19:55:37.278335Z",
          "iopub.status.idle": "2024-12-29T19:55:37.411393Z",
          "shell.execute_reply.started": "2024-12-29T19:55:37.278302Z",
          "shell.execute_reply": "2024-12-29T19:55:37.410264Z"
        },
        "id": "x4esvZgLaKZC"
      },
      "outputs": [],
      "execution_count": null
    },
    {
      "cell_type": "code",
      "source": [
        "# Free memory for merging weights\n",
        "del original_model\n",
        "del peft_trainer\n",
        "torch.cuda.empty_cache()"
      ],
      "metadata": {
        "trusted": true,
        "execution": {
          "iopub.status.busy": "2024-12-29T19:55:39.178243Z",
          "iopub.execute_input": "2024-12-29T19:55:39.179125Z",
          "iopub.status.idle": "2024-12-29T19:55:39.183540Z",
          "shell.execute_reply.started": "2024-12-29T19:55:39.179084Z",
          "shell.execute_reply": "2024-12-29T19:55:39.182555Z"
        },
        "id": "gcCAywFJaKZC"
      },
      "outputs": [],
      "execution_count": null
    },
    {
      "cell_type": "code",
      "source": [
        "print_gpu_utilization()"
      ],
      "metadata": {
        "trusted": true,
        "execution": {
          "iopub.status.busy": "2024-12-29T19:55:41.034325Z",
          "iopub.execute_input": "2024-12-29T19:55:41.035353Z",
          "iopub.status.idle": "2024-12-29T19:55:41.039903Z",
          "shell.execute_reply.started": "2024-12-29T19:55:41.035303Z",
          "shell.execute_reply": "2024-12-29T19:55:41.038973Z"
        },
        "id": "OCNRFt0FaKZD",
        "outputId": "f6ad3eb5-df41-4288-983f-e81aec1a41ee"
      },
      "outputs": [
        {
          "name": "stdout",
          "text": "GPU memory occupied: 3412 MB.\n",
          "output_type": "stream"
        }
      ],
      "execution_count": null
    },
    {
      "cell_type": "markdown",
      "source": [
        "# Evaluate the Model Qualitatively (Human Evaluation)"
      ],
      "metadata": {
        "id": "FbHBFmUDaKZD"
      }
    },
    {
      "cell_type": "code",
      "source": [
        "import torch\n",
        "from transformers import AutoTokenizer, AutoModelForCausalLM\n",
        "\n",
        "base_model_id=model_name\n",
        "base_model = AutoModelForCausalLM.from_pretrained(base_model_id,\n",
        "                                                      device_map='auto',\n",
        "                                                      quantization_config=bnb_config,\n",
        "                                                      trust_remote_code=True,\n",
        "                                                      use_auth_token=True)"
      ],
      "metadata": {
        "trusted": true,
        "execution": {
          "iopub.status.busy": "2024-12-29T19:55:45.821718Z",
          "iopub.execute_input": "2024-12-29T19:55:45.822344Z",
          "iopub.status.idle": "2024-12-29T19:55:48.391487Z",
          "shell.execute_reply.started": "2024-12-29T19:55:45.822306Z",
          "shell.execute_reply": "2024-12-29T19:55:48.390480Z"
        },
        "colab": {
          "base_uri": "https://localhost:8080/"
        },
        "id": "vHvKDODYaKZD",
        "outputId": "7afdd779-2243-4ab5-eedd-092cfdf91d46"
      },
      "outputs": [
        {
          "output_type": "stream",
          "name": "stderr",
          "text": [
            "/usr/local/lib/python3.10/dist-packages/transformers/models/auto/auto_factory.py:471: FutureWarning: The `use_auth_token` argument is deprecated and will be removed in v5 of Transformers. Please use `token` instead.\n",
            "  warnings.warn(\n",
            "Unused kwargs: ['_load_in_4bit', '_load_in_8bit', 'quant_method']. These kwargs are not used in <class 'transformers.utils.quantization_config.BitsAndBytesConfig'>.\n",
            "/usr/local/lib/python3.10/dist-packages/transformers/quantizers/auto.py:186: UserWarning: You passed `quantization_config` or equivalent parameters to `from_pretrained` but the model you're loading already has a `quantization_config` attribute. The `quantization_config` from the model will be used.\n",
            "  warnings.warn(warning_msg)\n"
          ]
        }
      ],
      "execution_count": null
    },
    {
      "cell_type": "code",
      "source": [
        "eval_tokenizer = AutoTokenizer.from_pretrained(base_model_id, add_bos_token=True, trust_remote_code=True, use_fast=False)\n",
        "eval_tokenizer.pad_token = eval_tokenizer.eos_token"
      ],
      "metadata": {
        "trusted": true,
        "execution": {
          "iopub.status.busy": "2024-12-29T19:55:51.561180Z",
          "iopub.execute_input": "2024-12-29T19:55:51.561557Z",
          "iopub.status.idle": "2024-12-29T19:55:52.162230Z",
          "shell.execute_reply.started": "2024-12-29T19:55:51.561517Z",
          "shell.execute_reply": "2024-12-29T19:55:52.161092Z"
        },
        "id": "Dqz6F87oaKZE"
      },
      "outputs": [],
      "execution_count": null
    },
    {
      "cell_type": "code",
      "source": [
        "from peft import PeftModel\n",
        "\n",
        "#ft_model = PeftModel.from_pretrained(base_model, \"/kaggle/working/peft-EEG-training-1735478979/checkpoint-600\",torch_dtype=torch.float16,is_trainable=False)\n",
        "ft_model = PeftModel.from_pretrained(base_model, \"/content/checkpoint-600/kaggle/working/peft-EEG-training-1735478979/checkpoint-600\",torch_dtype=torch.float16,is_trainable=False)"
      ],
      "metadata": {
        "trusted": true,
        "execution": {
          "iopub.status.busy": "2024-12-29T19:56:08.601747Z",
          "iopub.execute_input": "2024-12-29T19:56:08.602353Z",
          "iopub.status.idle": "2024-12-29T19:56:08.960646Z",
          "shell.execute_reply.started": "2024-12-29T19:56:08.602314Z",
          "shell.execute_reply": "2024-12-29T19:56:08.959665Z"
        },
        "id": "8TjBgp3raKZE"
      },
      "outputs": [],
      "execution_count": null
    },
    {
      "cell_type": "markdown",
      "source": [
        "# Evaluate the Model Qualitatively (Human Evaluation)"
      ],
      "metadata": {
        "id": "xT4GRJcHaKZE"
      }
    },
    {
      "cell_type": "code",
      "source": [
        "%%time\n",
        "from transformers import set_seed\n",
        "set_seed(seed)\n",
        "\n",
        "index = 2\n",
        "x = dataset['test'][index]['x']\n",
        "y = dataset['test'][index]['y']\n",
        "\n",
        "prompt = f\"\"\"\"Instruct: An advanced sleep stage classifier designed for analyzing EEG data.\n",
        "Classify the input into one of the following sleep stage labels:\n",
        "1. Drowsy Wakefulness\n",
        "2. Light Sleep Onset\n",
        "3. Stable Light Sleep\n",
        "4. Deep Restorative Sleep\n",
        "5. Dreaming REM Sleep\n",
        "input : \\n {x}\\n\n",
        "(The output is Classify sleep stage label for input.)\n",
        "Output:\\n\"\"\"\n",
        "\n",
        "\n",
        "peft_model_res = gen(ft_model,prompt,100,)\n",
        "peft_model_output = peft_model_res[0].split('Output:\\n')[1]\n",
        "#print(peft_model_output)\n",
        "prefix, success, result = peft_model_output.partition('###')\n",
        "\n",
        "dash_line = '-'.join('' for x in range(100))\n",
        "print(dash_line)\n",
        "print(f'INPUT PROMPT:\\n{prompt}')\n",
        "print(dash_line)\n",
        "print(f'BASELINE HUMAN Stages sleep number:\\n{y}\\n')\n",
        "print(dash_line)\n",
        "print(f'PEFT MODEL:\\n{prefix}')"
      ],
      "metadata": {
        "trusted": true,
        "execution": {
          "iopub.status.busy": "2024-12-29T20:14:52.605009Z",
          "iopub.execute_input": "2024-12-29T20:14:52.605863Z",
          "iopub.status.idle": "2024-12-29T20:15:07.351005Z",
          "shell.execute_reply.started": "2024-12-29T20:14:52.605822Z",
          "shell.execute_reply": "2024-12-29T20:15:07.350155Z"
        },
        "id": "_YiywIYGaKZE",
        "outputId": "00106425-11e9-4a20-fdfd-8ce60bc425c7"
      },
      "outputs": [
        {
          "name": "stderr",
          "text": "Setting `pad_token_id` to `eos_token_id`:128001 for open-end generation.\n",
          "output_type": "stream"
        },
        {
          "name": "stdout",
          "text": "---------------------------------------------------------------------------------------------------\nINPUT PROMPT:\n\"Instruct: An advanced sleep stage classifier designed for analyzing EEG data. \nClassify the input into one of the following sleep stage labels:\n1. Drowsy Wakefulness  \n2. Light Sleep Onset  \n3. Stable Light Sleep  \n4. Deep Restorative Sleep  \n5. Dreaming REM Sleep  \ninput : \n {'hjorth_params': [[0.9518534588439543, 7.600260869921925e-11, 1.55328263138652], [0.7662341391997871, 8.117545471800677e-11, 1.2058633136202694], [0.7304528928773373, 1.3186699837014625e-11, 1.1750514849080411], [1.0318495611334475, 1.8179743509413643e-12, 1.5642256851076155], [1.1408323815430896, 6.141499487014688e-13, 1.5730730878119499], [1.2813090965651144, 2.7112438900438205e-13, 1.7795079811059966], [1.415752603045438, 1.5186544364590866e-13, 1.753262664901251], [1.3378773184919677, 1.5344377342072014e-13, 1.65726509610303], [1.3353596029490096, 1.5843596992320144e-13, 1.6416248920912868], [1.2797231538150902, 1.7353378557512485e-13, 1.5992548483244733], [1.3260414205299142, 1.7195611968661419e-13, 1.5830017139516799], [1.4120212523540057, 1.3581775649785264e-13, 1.7669367230246629], [1.331681272603921, 1.2406449154628848e-13, 1.7577900029858085], [1.4673122732973343, 8.373242034863826e-14, 1.7738124269907378], [1.486547115487325, 1.0438544284464121e-13, 1.7657205441846369], [1.4313815479896161, 9.229445324501852e-14, 1.8105250940895186], [1.4367346827465057, 1.1812986614472993e-13, 1.8004208532169448], [1.2142242931389435, 4.5906816671731755e-14, 1.6196415797521937], [1.5221719765485737, 4.632166280990773e-14, 1.767228191503141], [1.5123751054021886, 6.88296399351426e-14, 1.804766953905542], [1.4059330093469, 7.897483000101632e-14, 1.7711803866841713], [1.3050110429510942, 1.0100870994410844e-13, 1.6580699570201836], [1.3142954774943325, 5.702471217579817e-14, 1.746085279655594], [1.2283999325991024, 7.283635824510072e-14, 1.6817959216320162], [1.378091228489781, 1.6111333869100262e-13, 1.7554298027906832], [1.3215862325556442, 2.5375148050564256e-13, 1.7406716788957908], [1.362467656673384, 3.0262530122591596e-13, 1.7139786336399516], [1.3641123943127242, 2.3019401265289967e-13, 1.7548909343022334], [1.399368125345894, 1.7130404250961329e-13, 1.76379036885888], [1.1722730453963854, 8.619209529474941e-14, 1.6730891648923665], [1.344663736284713, 5.730542443394422e-14, 1.7762557300646429], [1.165187702442574, 8.31616170954621e-14, 1.7322945771684053], [1.210062456555301, 7.761650853057048e-14, 1.6360139123659998], [1.371941501398838, 5.495579643764906e-14, 1.7134940996506651], [1.376413141076171, 7.471285527458992e-14, 1.7321771182794252], [1.4027591341955654, 1.0332116057655222e-13, 1.7528137755066888], [1.3893897963522364, 6.961771197705529e-14, 1.7316728510529384], [1.4007600147558719, 4.0104696562831115e-14, 1.7688764500869434], [0.890148012449876, 8.649119932680436e-15, 1.4232398565197315], [1.2969431581738173, 8.766915622949038e-15, 1.6407559231775941], [1.4230668638189736, 1.0236748009840514e-14, 1.7800003912185132], [1.349272392102765, 7.858164985620392e-15, 1.7291473618440805], [1.252442585706535, 3.0534530737074256e-15, 1.7473040159119868], [1.3318937781585662, 4.930543022748275e-16, 1.8234849659710834], [1.3744059194618214, 1.1050340899462598e-15, 1.7957017017325283], [1.219172932239633, 6.910917370618597e-16, 1.7911680389468776], [1.185331823440793, 9.057998315143982e-16, 1.7959148626679915], [1.3594683630237672, 8.449407509358033e-16, 1.8002826401828764], [1.345037330751487, 3.4634119205550775e-16, 1.8946564416910274], [1.3661192917548282, 4.772089219923367e-16, 1.8778616685608498], [1.0533693258551162, 1.7165098833915385e-16, 1.687536431427856]], 'kurtosis_values': [20.299432093764462, 21.14519635652505, 14.139670651229675, 17.278775194206716, 11.888355214621633, 2.041093607322142, 0.04241577681213782, 0.09170488175895963, 3.45348943570734, 1.9354034846810162, -0.08831529663012638, 0.5156183962068295, 1.0939658533751127, 0.23495011786933517, -0.2958897252435291, 5.584948937133721, 5.433774941812217, 0.06692598632867375, 0.09660624862950407, 13.46809554803935, 15.084260307836097, 7.478212474398811, 2.199793419279433, 4.019611500610583, 31.849294477413444, 29.70426547764425, 38.77605384439774, 41.56744910146117, 40.60333476399088, 19.914834075226118, 14.764894874891478, 16.88375453876704, 27.432947436220918, 35.32234210892671, 43.851683687250976, 46.16828034757387, 46.07141157059393, 45.33383206230102, 12.696818679715514, 31.358348633953952, 40.24908406720872, 43.54588027750612, 38.0627983975326, 7.954734185042538, 27.8015678196678, 23.376285459554595, 30.390619094259065, 36.75602121638049, 21.70384041745497, 27.608848105602238, 16.277083865755785], 'wavelet_entropies': [[1.3629292210076067, 1.3931799369916544, 1.7463145010604666, 2.6462877393014175, 3.503898549466645, 3.41943573749303, 3.5537367942976505, 3.470519110026166, 3.6043755470081162, 3.6334213837112324, 3.6327461701119317, 3.623596993869255, 3.2657015529205067, 3.553392561744823, 3.4934652963649593, 3.5085933716513735, 3.4552096628233993, 3.2961957149739707, 3.5779156356888837, 3.54491634339807, 3.4782859183475057, 3.4931827982603574, 3.454366378830892, 3.2435827662325125, 3.2506487462862563, 2.5892107233457238, 2.7653466060143805, 2.747657401093536, 2.646690862522817, 3.0014044510501727, 3.2117260398324246, 3.236912679176859, 3.1409661389837105, 3.3811342567100215, 2.9866416069232185, 2.764266610397991, 2.8759834988583144, 2.9521287346980807, 2.970041276741976, 3.1899083288912684, 2.9815233943487263, 2.4443246600812856, 2.4989208829394465, 3.157147359129854, 2.765343425737938, 2.5512976720702456, 2.023367164701076, 2.117814817680528, 2.5225148615069055, 1.8742024522554626, 2.741864540168063], [1.4616077201637694, 1.4006579796530205, 1.309049687572575, 1.2859775338291253, 1.6546261904830888, 2.799644732531671, 2.936300712187052, 2.5057867349037086, 2.4806452174287883, 2.550986199795533, 2.462319474312076, 2.5084474807037296, 2.918642213046073, 2.415455110139216, 2.6483445222973527, 2.961926197228241, 2.713888937650777, 2.950024726593901, 2.8831371357030857, 2.6308741851190183, 2.264255169601816, 2.6952837046356977, 2.8315751968529086, 2.948547242524438, 2.354841715167509, 2.0346608801670745, 2.2129131957277655, 1.5639517245550876, 2.333653294825078, 2.6877352342145038, 2.6808618550548617, 2.3617215726640786, 1.7377281378855487, 1.8752314266563115, 2.039267032189696, 2.0771992358754505, 1.7636447276864986, 1.659504790765079, 1.4954590760846498, 1.7252827042847965, 1.7592724422621742, 1.7132269636394821, 1.6243106271573933, 2.1721309398654998, 2.2434231549217385, 1.070009783618451, 1.4702868933588498, 1.4334237468874822, 1.4310534582500753, 1.3496591187516491, 2.013825561390837], [2.913607563330616, 2.114366498836157, 1.2413055729350893, 2.0808805589158057, 2.731794375499029, 3.075509005801044, 3.030266567922139, 3.00981735070413, 2.0012739599804914, 2.875556666821539, 3.2211501353938714, 3.4033913123808075, 2.9286505915125627, 3.060018615870161, 3.3504684145245345, 2.7085521595151603, 3.5903451243598306, 3.4919890475799886, 2.746524592658529, 3.076364055100466, 2.424057927093332, 2.8074987899025, 3.1832268628124036, 2.4624347493842103, 1.340935547829403, 1.6631391627191683, 1.0065572464902242, 0.9392704886332732, 0.5217537535534813, 1.5728439147223243, 3.1150299570222155, 3.0188862790983544, 1.4839526608058813, 0.9492554820825143, 0.8540481937745895, 0.41896060195668444, 0.43462992235649645, 0.7876238252275197, 2.9974961376010896, 1.6577040268016847, 1.0122667738452429, 0.4626459980819157, 0.645910964345554, 2.482147453734755, 1.727599165971125, 2.8615971016588855, 0.9690367974098676, 0.9905509175222004, 2.5711900036991704, 1.1665708255712273, 2.284632731804302], [2.3355630482206093, 2.0492134440834264, 2.5189194952543885, 3.697701021145414, 3.4332819625016078, 3.6940722305209595, 3.9630748822642285, 3.8567635319908966, 3.826224453519866, 4.055549482904384, 3.4582295709002286, 3.3265621711769673, 3.3000409327953744, 3.6128470211183847, 4.143527629132738, 3.0056693503550496, 3.731780428382184, 4.086953555056355, 3.6512717815015514, 3.0628421807875554, 2.6128330922041765, 3.095220911825524, 3.6352972408141273, 3.3963759749592684, 2.106573453683265, 1.9646484749913735, 1.1999768703378622, 1.7445396032479503, 1.8044208418075727, 2.2528549972034573, 3.062629833970234, 3.2084778682432065, 2.9558983912513503, 2.5425544701833354, 1.428760809546062, 1.2270394925188846, 1.6414323668052244, 1.8507691129455521, 3.5978084469308724, 1.4803506469876964, 1.595508567950477, 1.6290300806000448, 2.1298717541487044, 3.467182222003997, 1.898106724907027, 2.2879632958102234, 1.6605844471695226, 1.6165288060797514, 1.8273484594120513, 1.5650894647407727, 2.3077482957166633]]}\n\n(The output is Classify sleep stage label for input.)\nOutput:\n\n---------------------------------------------------------------------------------------------------\nBASELINE HUMAN Stages sleep number:\nDrowsy Wakefulness\n\n---------------------------------------------------------------------------------------------------\nPEFT MODEL:\nSleep Stage Label: Drowsy Wakefulness\nProbability (in percentages) of classifying input into each sleep stage label:\n1) Drowsy Wakefulness (50.000000000000006%)\n2) Stable Light Sleep (24.000000000000002%)\n3) Stable Light Sleep (24.000000000000002%)\n4) Stable Light Sleep (24.000000000000002%)\n5) Dreaming REM Sleep (3.0000000000000004%)\n6\nCPU times: user 12.9 s, sys: 1.83 s, total: 14.7 s\nWall time: 14.7 s\n",
          "output_type": "stream"
        }
      ],
      "execution_count": null
    },
    {
      "cell_type": "markdown",
      "source": [
        "# Evaluate the Model Quantitatively"
      ],
      "metadata": {
        "id": "5ta9wWuxaKZF"
      }
    },
    {
      "cell_type": "code",
      "source": [
        "original_model = AutoModelForCausalLM.from_pretrained(base_model_id,\n",
        "                                                      device_map='auto',\n",
        "                                                      quantization_config=bnb_config,\n",
        "                                                      trust_remote_code=True,\n",
        "                                                      use_auth_token=True)"
      ],
      "metadata": {
        "trusted": true,
        "execution": {
          "iopub.status.busy": "2024-12-29T19:58:56.144581Z",
          "iopub.execute_input": "2024-12-29T19:58:56.144959Z",
          "iopub.status.idle": "2024-12-29T19:58:58.628753Z",
          "shell.execute_reply.started": "2024-12-29T19:58:56.144928Z",
          "shell.execute_reply": "2024-12-29T19:58:58.627735Z"
        },
        "colab": {
          "base_uri": "https://localhost:8080/"
        },
        "id": "oxPQkBzUaKZF",
        "outputId": "8f3ea4a7-2b91-4c6c-8ada-2ea9d3e6867c"
      },
      "outputs": [
        {
          "output_type": "stream",
          "name": "stderr",
          "text": [
            "Unused kwargs: ['_load_in_4bit', '_load_in_8bit', 'quant_method']. These kwargs are not used in <class 'transformers.utils.quantization_config.BitsAndBytesConfig'>.\n"
          ]
        }
      ],
      "execution_count": null
    },
    {
      "cell_type": "code",
      "source": [
        "import pandas as pd\n",
        "\n",
        "x = dataset['test']['x']\n",
        "human_baseline_y = dataset['test']['y']\n",
        "\n",
        "original_model_y = []\n",
        "instruct_model_y = []\n",
        "peft_model_y = []\n",
        "\n",
        "for idx, x_i in enumerate(x):\n",
        "    print(\"test data number : \", idx+1)\n",
        "    human_baseline_text_output = human_baseline_y[idx]\n",
        "\n",
        "    prompt = f\"\"\"\"Instruct: An advanced sleep stage classifier designed for analyzing EEG data.\n",
        "    Classify the input into one of the following sleep stage labels:\n",
        "    1. Drowsy Wakefulness\n",
        "    2. Light Sleep Onset\n",
        "    3. Stable Light Sleep\n",
        "    4. Deep Restorative Sleep\n",
        "    5. Dreaming REM Sleep\n",
        "    input : \\n {x_i}\\n\n",
        "    (The output is the sleep stage label for the input.)\n",
        "    Output:\\n\"\"\"\n",
        "\n",
        "\n",
        "    original_model_res = gen(original_model,prompt,100,)\n",
        "    original_model_text_output = original_model_res[0].split('Output:\\n')[1]\n",
        "\n",
        "    peft_model_res = gen(ft_model,prompt,100,)\n",
        "    peft_model_output = peft_model_res[0].split('Output:\\n')[1]\n",
        "    print(peft_model_output)\n",
        "    peft_model_text_output, success, result = peft_model_output.partition('###')\n",
        "\n",
        "    original_model_y.append(original_model_text_output)\n",
        "    peft_model_y.append(peft_model_text_output)\n",
        "\n",
        "zipped_y = list(zip(human_baseline_y, original_model_y, peft_model_y))\n",
        "\n",
        "df = pd.DataFrame(zipped_y, columns = ['human_baseline_y', 'original_model_y', 'peft_model_y'])\n",
        "df"
      ],
      "metadata": {
        "trusted": true,
        "execution": {
          "iopub.status.busy": "2024-12-29T20:39:37.089846Z",
          "iopub.execute_input": "2024-12-29T20:39:37.090221Z",
          "iopub.status.idle": "2024-12-29T22:45:12.312717Z",
          "shell.execute_reply.started": "2024-12-29T20:39:37.090187Z",
          "shell.execute_reply": "2024-12-29T22:45:12.311040Z"
        },
        "colab": {
          "base_uri": "https://localhost:8080/"
        },
        "id": "i4_OUzyuaKZF",
        "outputId": "df3af847-9114-4300-85c0-5547d66d0495"
      },
      "outputs": [
        {
          "output_type": "stream",
          "name": "stderr",
          "text": [
            "Setting `pad_token_id` to `eos_token_id`:128001 for open-end generation.\n"
          ]
        },
        {
          "output_type": "stream",
          "name": "stdout",
          "text": [
            "test data number :  1\n"
          ]
        },
        {
          "output_type": "stream",
          "name": "stderr",
          "text": [
            "Setting `pad_token_id` to `eos_token_id`:128001 for open-end generation.\n",
            "Setting `pad_token_id` to `eos_token_id`:128001 for open-end generation.\n"
          ]
        },
        {
          "output_type": "stream",
          "name": "stdout",
          "text": [
            "    5\n",
            "    \"\"\"\n",
            "    output = {\n",
            "        'hjorth_params': [[1.408144840152645, 1.156272405203362e-12, 1.677576970142494], [1.386693594574586, 1.027619577752355e-12, 1.688542767297291], [1.430578979549915, 5.955156206216666e-13, 1\n",
            "test data number :  2\n"
          ]
        },
        {
          "output_type": "stream",
          "name": "stderr",
          "text": [
            "Setting `pad_token_id` to `eos_token_id`:128001 for open-end generation.\n",
            "Setting `pad_token_id` to `eos_token_id`:128001 for open-end generation.\n"
          ]
        },
        {
          "output_type": "stream",
          "name": "stdout",
          "text": [
            "    5\n",
            "    \"\"\"\n",
            "    output = {\n",
            "        'hjorth_params': [[1.300153534678629, 1.0500000000000001e-11, 1.618767347300919], [1.325405262372205, 1.037002487447029e-11, 1.677671448218362], [1.457573257856293, 1.004993860594646e-11, \n",
            "test data number :  3\n"
          ]
        },
        {
          "output_type": "stream",
          "name": "stderr",
          "text": [
            "Setting `pad_token_id` to `eos_token_id`:128001 for open-end generation.\n",
            "Setting `pad_token_id` to `eos_token_id`:128001 for open-end generation.\n"
          ]
        },
        {
          "output_type": "stream",
          "name": "stdout",
          "text": [
            "    4\n",
            "    \"\"\"\n",
            "    output = {\n",
            "        'hjorth_params': [[1.4156470321199632, 2.9923841831906106e-12, 1.7549372671570165], [1.101282838080688, 1.6980709048856584e-12, 1.4737504415374614], [1.419414782445255, 4.3991474789969104\n",
            "test data number :  4\n"
          ]
        },
        {
          "output_type": "stream",
          "name": "stderr",
          "text": [
            "Setting `pad_token_id` to `eos_token_id`:128001 for open-end generation.\n",
            "Setting `pad_token_id` to `eos_token_id`:128001 for open-end generation.\n"
          ]
        },
        {
          "output_type": "stream",
          "name": "stdout",
          "text": [
            "    4\n",
            "    \"\"\"\n",
            "    output = {\n",
            "        'hjorth_params': [[1.368311910083109, 2.5366608241576187e-11, 1.7280028673119505], [1.2667208376660295, 1.4482021438901807e-11, 1.6417351160604001], [1.492369182895679, 3.968702224685278e\n",
            "test data number :  5\n"
          ]
        },
        {
          "output_type": "stream",
          "name": "stderr",
          "text": [
            "Setting `pad_token_id` to `eos_token_id`:128001 for open-end generation.\n",
            "Setting `pad_token_id` to `eos_token_id`:128001 for open-end generation.\n"
          ]
        },
        {
          "output_type": "stream",
          "name": "stdout",
          "text": [
            "    4\n",
            "    \"\"\"\n",
            "    output = {\n",
            "        'hjorth_params': [[1.571415532309318, 6.260609660810878e-11, 1.7994451112521692], [1.439961266500891, 1.709458930200361e-11, 1.746634482666642], [1.4861604383838205, 1.4062059240540192e-12\n",
            "test data number :  6\n"
          ]
        },
        {
          "output_type": "stream",
          "name": "stderr",
          "text": [
            "Setting `pad_token_id` to `eos_token_id`:128001 for open-end generation.\n",
            "Setting `pad_token_id` to `eos_token_id`:128001 for open-end generation.\n"
          ]
        },
        {
          "output_type": "stream",
          "name": "stdout",
          "text": [
            "    4\n",
            "    \"\"\"\n",
            "    output = {\n",
            "        'hjorth_params': [[1.386573970453584, 1.017693542573825e-12, 1.679291955251262], [1.410017745678817, 1.051071036307205e-12, 1.708023608462339], [1.457001810186029, 1.029263542186148e-12, 1\n",
            "test data number :  7\n"
          ]
        },
        {
          "output_type": "stream",
          "name": "stderr",
          "text": [
            "Setting `pad_token_id` to `eos_token_id`:128001 for open-end generation.\n",
            "Setting `pad_token_id` to `eos_token_id`:128001 for open-end generation.\n"
          ]
        },
        {
          "output_type": "stream",
          "name": "stdout",
          "text": [
            "    3\n",
            "    \"\"\"\n",
            "    output = {\n",
            "        'hjorth_params': [[1.106111611917684, 1.022594570518736e-11, 1.598357367153919], [1.181254849253498, 1.028391640393262e-11, 1.679327549815251], [1.342523384160297, 1.024599690207114e-11, 1\n",
            "test data number :  8\n"
          ]
        },
        {
          "output_type": "stream",
          "name": "stderr",
          "text": [
            "Setting `pad_token_id` to `eos_token_id`:128001 for open-end generation.\n",
            "Setting `pad_token_id` to `eos_token_id`:128001 for open-end generation.\n"
          ]
        },
        {
          "output_type": "stream",
          "name": "stdout",
          "text": [
            "    5\n",
            "    \"\"\"\n",
            "    output = {\n",
            "        'hjorth_params': [[1.4458659704723091, 3.234643307548729e-11, 1.7463338125477994], [1.0044402328538826, 1.9866309578174892e-11, 1.4769031804482617], [1.3849396473028777, 5.80895277325018\n",
            "test data number :  9\n"
          ]
        },
        {
          "output_type": "stream",
          "name": "stderr",
          "text": [
            "Setting `pad_token_id` to `eos_token_id`:128001 for open-end generation.\n",
            "Setting `pad_token_id` to `eos_token_id`:128001 for open-end generation.\n"
          ]
        },
        {
          "output_type": "stream",
          "name": "stdout",
          "text": [
            "    5\n",
            "    \"\"\"\n",
            "    output = {\n",
            "        'hjorth_params': [[1.342537657611996, 1.038860714252029e-12, 1.673762530462737], [1.371459347257362, 1.004551530141942e-12, 1.7270875183000018], [1.405519542859898, 1.004040380840205e-12, \n",
            "test data number :  10\n"
          ]
        },
        {
          "output_type": "stream",
          "name": "stderr",
          "text": [
            "Setting `pad_token_id` to `eos_token_id`:128001 for open-end generation.\n",
            "Setting `pad_token_id` to `eos_token_id`:128001 for open-end generation.\n"
          ]
        },
        {
          "output_type": "stream",
          "name": "stdout",
          "text": [
            "    3\n",
            "    \"\"\"\n",
            "    output = {\n",
            "        'hjorth_params': [[1.242017796613363, 1.0117626575308984e-11, 1.582767693678498], [1.212153535870372, 1.029071762549531e-11, 1.618931347297013], [1.272267274124153, 1.045391930577079e-11, \n",
            "test data number :  11\n"
          ]
        },
        {
          "output_type": "stream",
          "name": "stderr",
          "text": [
            "Setting `pad_token_id` to `eos_token_id`:128001 for open-end generation.\n",
            "Setting `pad_token_id` to `eos_token_id`:128001 for open-end generation.\n"
          ]
        },
        {
          "output_type": "stream",
          "name": "stdout",
          "text": [
            "    5\n",
            "    \"\"\"\n",
            "    output = {\n",
            "        'hjorth_params': [[1.261123956207255, 1.051693523121462e-10, 1.687757957924255], [1.180850525530915, 1.053151630592563e-10, 1.648327761921919], [1.224121094290498, 1.026810481053258e-10, 1\n",
            "test data number :  12\n"
          ]
        },
        {
          "output_type": "stream",
          "name": "stderr",
          "text": [
            "Setting `pad_token_id` to `eos_token_id`:128001 for open-end generation.\n",
            "Setting `pad_token_id` to `eos_token_id`:128001 for open-end generation.\n"
          ]
        },
        {
          "output_type": "stream",
          "name": "stdout",
          "text": [
            "    4\n",
            "    \"\"\"\n",
            "    output = {\n",
            "        'hjorth_params': [[1.326830635117664, 1.3955805868821772e-09, 1.8680588491548393], [0.7651482859959035, 7.12223339775371e-10, 1.3070062815465127], [0.8224716030261905, 1.6715143959496715\n",
            "test data number :  13\n"
          ]
        },
        {
          "output_type": "stream",
          "name": "stderr",
          "text": [
            "Setting `pad_token_id` to `eos_token_id`:128001 for open-end generation.\n",
            "Setting `pad_token_id` to `eos_token_id`:128001 for open-end generation.\n"
          ]
        },
        {
          "output_type": "stream",
          "name": "stdout",
          "text": [
            "    4\n",
            "    \"\"\"\n",
            "    output = {\n",
            "        'hjorth_params': [[1.0593217019553232, 9.516977359537664e-10, 1.8063803465833412], [0.7478309552007384, 5.50568263365392e-10, 1.3710520080161557], [1.3278243861459313, 1.9423878783781104\n",
            "test data number :  14\n"
          ]
        },
        {
          "output_type": "stream",
          "name": "stderr",
          "text": [
            "Setting `pad_token_id` to `eos_token_id`:128001 for open-end generation.\n",
            "Setting `pad_token_id` to `eos_token_id`:128001 for open-end generation.\n"
          ]
        },
        {
          "output_type": "stream",
          "name": "stdout",
          "text": [
            "    4\n",
            "    \"\"\"\n",
            "    output = {\n",
            "        'hjorth_params': [[1.202153665260123, 1.099631757637659e-11, 1.629578888290372], [1.137757274850763, 1.010203036330623e-11, 1.629552762580508], [1.178092875011799, 5.901535164282318e-12, 1\n",
            "test data number :  15\n"
          ]
        },
        {
          "output_type": "stream",
          "name": "stderr",
          "text": [
            "Setting `pad_token_id` to `eos_token_id`:128001 for open-end generation.\n",
            "Setting `pad_token_id` to `eos_token_id`:128001 for open-end generation.\n"
          ]
        },
        {
          "output_type": "stream",
          "name": "stdout",
          "text": [
            "    5\n",
            "    \"\"\"\n",
            "    output = {\n",
            "        'hjorth_params': [[1.569856849457354, 1.414551857153443e-12, 1.763672630152268], [1.330679954849424, 1.037000693186772e-12, 1.684291053186687], [1.457576566526775, 1.018868274592576e-12, 1\n",
            "test data number :  16\n"
          ]
        },
        {
          "output_type": "stream",
          "name": "stderr",
          "text": [
            "Setting `pad_token_id` to `eos_token_id`:128001 for open-end generation.\n",
            "Setting `pad_token_id` to `eos_token_id`:128001 for open-end generation.\n"
          ]
        },
        {
          "output_type": "stream",
          "name": "stdout",
          "text": [
            "    4\n",
            "    \"\"\"\n",
            "    output = {\n",
            "        'hjorth_params': [[1.298156096819921, 1.103096957613079e-11, 1.667901507300174], [1.208628044678919, 1.037551693019943e-11, 1.644144607153113], [1.270575380850499, 1.039751665518576e-11, 1\n",
            "test data number :  17\n"
          ]
        },
        {
          "output_type": "stream",
          "name": "stderr",
          "text": [
            "Setting `pad_token_id` to `eos_token_id`:128001 for open-end generation.\n",
            "Setting `pad_token_id` to `eos_token_id`:128001 for open-end generation.\n"
          ]
        },
        {
          "output_type": "stream",
          "name": "stdout",
          "text": [
            "    5\n",
            "    \"\"\"\n",
            "    output = {\n",
            "        'hjorth_params': [[1.648557958518816, 1.214693637526366e-12, 1.760771684612251], [1.428534164980096, 1.057767637300906e-12, 1.701378767425464], [1.453684029300816, 1.026053814917383e-12, 1\n",
            "test data number :  18\n"
          ]
        },
        {
          "output_type": "stream",
          "name": "stderr",
          "text": [
            "Setting `pad_token_id` to `eos_token_id`:128001 for open-end generation.\n",
            "Setting `pad_token_id` to `eos_token_id`:128001 for open-end generation.\n"
          ]
        },
        {
          "output_type": "stream",
          "name": "stdout",
          "text": [
            "    5\n",
            "    \"\"\"\n",
            "    output = {\n",
            "        'hjorth_params': [[1.3220626190441058, 3.575878559070423e-11, 1.6374950543597527], [1.2595780443909994, 1.560633356354676e-11, 1.6778720399198777], [1.5544546685366987, 1.2604142883708761\n",
            "test data number :  19\n"
          ]
        },
        {
          "output_type": "stream",
          "name": "stderr",
          "text": [
            "Setting `pad_token_id` to `eos_token_id`:128001 for open-end generation.\n",
            "Setting `pad_token_id` to `eos_token_id`:128001 for open-end generation.\n"
          ]
        },
        {
          "output_type": "stream",
          "name": "stdout",
          "text": [
            "    4\n",
            "    \"\"\"\n",
            "    output = {\n",
            "        'hjorth_params': [[1.061987363093251, 1.1216477612909098e-11, 1.588771620570291], [1.098291979259799, 1.042901151153646e-11, 1.613693570142687], [1.125085594300359, 1.023059993144059e-11, \n",
            "test data number :  20\n"
          ]
        },
        {
          "output_type": "stream",
          "name": "stderr",
          "text": [
            "Setting `pad_token_id` to `eos_token_id`:128001 for open-end generation.\n",
            "Setting `pad_token_id` to `eos_token_id`:128001 for open-end generation.\n"
          ]
        },
        {
          "output_type": "stream",
          "name": "stdout",
          "text": [
            "    4\n",
            "    \"\"\"\n",
            "    output = {\n",
            "        'hjorth_params': [[1.386011894594255, 1.097264576542339e-12, 1.701144810594924], [1.325257550614738, 1.052551870378666e-12, 1.682901552753544], [1.386378142160643, 1.014577952375574e-12, 1\n",
            "test data number :  21\n"
          ]
        },
        {
          "output_type": "stream",
          "name": "stderr",
          "text": [
            "Setting `pad_token_id` to `eos_token_id`:128001 for open-end generation.\n",
            "Setting `pad_token_id` to `eos_token_id`:128001 for open-end generation.\n"
          ]
        },
        {
          "output_type": "stream",
          "name": "stdout",
          "text": [
            "    4\n",
            "    \"\"\"\n",
            "    output = {\n",
            "        'hjorth_params': [[1.213099767687921, 1.0138448703005196e-12, 1.609952053767763], [1.197164624850197, 1.040870901859198e-12, 1.666144765391824], [1.301526643459268, 1.004576591274144e-12, \n",
            "test data number :  22\n"
          ]
        },
        {
          "output_type": "stream",
          "name": "stderr",
          "text": [
            "Setting `pad_token_id` to `eos_token_id`:128001 for open-end generation.\n",
            "Setting `pad_token_id` to `eos_token_id`:128001 for open-end generation.\n"
          ]
        },
        {
          "output_type": "stream",
          "name": "stdout",
          "text": [
            "    4\n",
            "    \"\"\"\n",
            "    output = {\n",
            "        'hjorth_params': [[1.337850980113737, 1.229272957297684e-12, 1.613956570160107], [1.337850980113737, 1.229272957297684e-12, 1.613956570160107], [1.337850980113737, 1.229272957297684e-12, 1\n",
            "test data number :  23\n"
          ]
        },
        {
          "output_type": "stream",
          "name": "stderr",
          "text": [
            "Setting `pad_token_id` to `eos_token_id`:128001 for open-end generation.\n",
            "Setting `pad_token_id` to `eos_token_id`:128001 for open-end generation.\n"
          ]
        },
        {
          "output_type": "stream",
          "name": "stdout",
          "text": [
            "    4\n",
            "    \"\"\"\n",
            "    output = {\n",
            "        'hjorth_params': [[1.309779643149268, 1.144575164347297e-11, 1.612552570053096], [1.241257557291896, 1.058069804906333e-11, 1.622463665384896], [1.378155384156914, 5.556156053264262e-12, 1\n",
            "test data number :  24\n"
          ]
        },
        {
          "output_type": "stream",
          "name": "stderr",
          "text": [
            "Setting `pad_token_id` to `eos_token_id`:128001 for open-end generation.\n",
            "Setting `pad_token_id` to `eos_token_id`:128001 for open-end generation.\n"
          ]
        },
        {
          "output_type": "stream",
          "name": "stdout",
          "text": [
            "    5\n",
            "    \"\"\"\n",
            "    output = {\n",
            "        'hjorth_params': [[1.2000000000000001, 1.1130000000000001e-11, 1.6080000000000002], [1.2390000000000002, 1.0260000000000001e-11, 1.6180000000000002], [1.3730000000000004, 1.038000000000\n",
            "test data number :  25\n"
          ]
        },
        {
          "output_type": "stream",
          "name": "stderr",
          "text": [
            "Setting `pad_token_id` to `eos_token_id`:128001 for open-end generation.\n",
            "Setting `pad_token_id` to `eos_token_id`:128001 for open-end generation.\n"
          ]
        },
        {
          "output_type": "stream",
          "name": "stdout",
          "text": [
            "    5\n",
            "    \"\"\"\n",
            "    output = {\n",
            "        'hjorth_params': [[1.318556637317089, 1.173053970152841e-12, 1.649491542053362], [1.330703518053775, 1.057264628930829e-12, 1.676523446029262], [1.304099996506029, 1.023272017422096e-12, 1\n",
            "test data number :  26\n"
          ]
        },
        {
          "output_type": "stream",
          "name": "stderr",
          "text": [
            "Setting `pad_token_id` to `eos_token_id`:128001 for open-end generation.\n",
            "Setting `pad_token_id` to `eos_token_id`:128001 for open-end generation.\n"
          ]
        },
        {
          "output_type": "stream",
          "name": "stdout",
          "text": [
            "    5\n",
            "    \"\"\"\n",
            "    output = {\n",
            "        'hjorth_params': [[1.520094850915896, 1.3875705186132552e-12, 1.727538665144743], [1.431557549996372, 1.053684630770153e-12, 1.731096870530157], [1.490023745011816, 1.059761534570115e-12, \n",
            "test data number :  27\n"
          ]
        },
        {
          "output_type": "stream",
          "name": "stderr",
          "text": [
            "Setting `pad_token_id` to `eos_token_id`:128001 for open-end generation.\n",
            "Setting `pad_token_id` to `eos_token_id`:128001 for open-end generation.\n"
          ]
        },
        {
          "output_type": "stream",
          "name": "stdout",
          "text": [
            "    5\n",
            "    \"\"\"\n",
            "    output = {\n",
            "        'hjorth_params': [[1.565605346304248, 1.8960051871871425e-12, 1.7450015637275262], [1.433996591894114, 1.038631518611111e-12, 1.704702630542902], [1.455516551850491, 1.043391530581643e-12,\n",
            "test data number :  28\n"
          ]
        },
        {
          "output_type": "stream",
          "name": "stderr",
          "text": [
            "Setting `pad_token_id` to `eos_token_id`:128001 for open-end generation.\n",
            "Setting `pad_token_id` to `eos_token_id`:128001 for open-end generation.\n"
          ]
        },
        {
          "output_type": "stream",
          "name": "stdout",
          "text": [
            "    4\n",
            "    \"\"\"\n",
            "    output = {\n",
            "        'hjorth_params': [[1.397144850459854, 1.0290009217679198e-12, 1.669857367350199], [1.272462767378919, 1.042552628384291e-12, 1.644767253506153], [1.308352679350297, 1.029700630980115e-12, \n",
            "test data number :  29\n"
          ]
        },
        {
          "output_type": "stream",
          "name": "stderr",
          "text": [
            "Setting `pad_token_id` to `eos_token_id`:128001 for open-end generation.\n",
            "Setting `pad_token_id` to `eos_token_id`:128001 for open-end generation.\n"
          ]
        },
        {
          "output_type": "stream",
          "name": "stdout",
          "text": [
            "    3\n",
            "    \"\"\"\n",
            "    output = {\n",
            "        'hjorth_params': [[1.238767542457854, 1.0506937511512053e-12, 1.662857523142996], [1.225546631251952, 1.049182894930096e-12, 1.656607761297262], [1.342142274144443, 1.052542657700199e-12, \n",
            "test data number :  30\n"
          ]
        },
        {
          "output_type": "stream",
          "name": "stderr",
          "text": [
            "Setting `pad_token_id` to `eos_token_id`:128001 for open-end generation.\n",
            "Setting `pad_token_id` to `eos_token_id`:128001 for open-end generation.\n"
          ]
        },
        {
          "output_type": "stream",
          "name": "stdout",
          "text": [
            "    4\n",
            "    \"\"\"\n",
            "    output = {\n",
            "        'hjorth_params': [[1.376757053262915, 1.144900745011841e-12, 1.702327849767363], [1.310765096781798, 1.045156770207366e-12, 1.679531530029134], [1.405556525015684, 1.029133594241798e-12, 1\n",
            "test data number :  31\n"
          ]
        },
        {
          "output_type": "stream",
          "name": "stderr",
          "text": [
            "Setting `pad_token_id` to `eos_token_id`:128001 for open-end generation.\n",
            "Setting `pad_token_id` to `eos_token_id`:128001 for open-end generation.\n"
          ]
        },
        {
          "output_type": "stream",
          "name": "stdout",
          "text": [
            "    5\n",
            "    \"\"\"\n",
            "    output = {\n",
            "        'hjorth_params': [[1.359090857849643, 1.156096870917906e-12, 1.632672463422096], [1.351459757856736, 1.019762563260808e-12, 1.685765257350924], [1.431375850594643, 1.012085153958355e-12, 1\n",
            "test data number :  32\n"
          ]
        },
        {
          "output_type": "stream",
          "name": "stderr",
          "text": [
            "Setting `pad_token_id` to `eos_token_id`:128001 for open-end generation.\n",
            "Setting `pad_token_id` to `eos_token_id`:128001 for open-end generation.\n"
          ]
        },
        {
          "output_type": "stream",
          "name": "stdout",
          "text": [
            "    5\n",
            "    \"\"\"\n",
            "    output = {\n",
            "        'hjorth_params': [[1.377058954980097, 1.027091193019114e-12, 1.686523849241666], [1.285720272815799, 1.006387781156113e-12, 1.651581921297462], [1.359857549343921, 6.37006914851829e-13, 1\n",
            "test data number :  33\n"
          ]
        },
        {
          "output_type": "stream",
          "name": "stderr",
          "text": [
            "Setting `pad_token_id` to `eos_token_id`:128001 for open-end generation.\n",
            "Setting `pad_token_id` to `eos_token_id`:128001 for open-end generation.\n"
          ]
        },
        {
          "output_type": "stream",
          "name": "stdout",
          "text": [
            "    4\n",
            "    \"\"\"\n",
            "    output = {\n",
            "        'hjorth_params': [[1.329647957666629, 2.264765372186347e-12, 1.680857270113291], [1.230053817678951, 1.573379678943366e-12, 1.646556577871772], [1.386123849151251, 1.058966330153355e-12, 1\n",
            "test data number :  34\n"
          ]
        },
        {
          "output_type": "stream",
          "name": "stderr",
          "text": [
            "Setting `pad_token_id` to `eos_token_id`:128001 for open-end generation.\n",
            "Setting `pad_token_id` to `eos_token_id`:128001 for open-end generation.\n"
          ]
        },
        {
          "output_type": "stream",
          "name": "stdout",
          "text": [
            "    4\n",
            "    \"\"\"\n",
            "    output = {\n",
            "        'hjorth_params': [[1.293923817450486, 3.3044590494997965e-12, 1.8250926773410894], [1.0946890363273136, 1.5714048249148506e-12, 1.6010910561238928], [1.2235697790512459, 6.55841709690794\n",
            "test data number :  35\n"
          ]
        },
        {
          "output_type": "stream",
          "name": "stderr",
          "text": [
            "Setting `pad_token_id` to `eos_token_id`:128001 for open-end generation.\n",
            "Setting `pad_token_id` to `eos_token_id`:128001 for open-end generation.\n"
          ]
        },
        {
          "output_type": "stream",
          "name": "stdout",
          "text": [
            "    4\n",
            "    \"\"\"\n",
            "    output = {\n",
            "        'hjorth_params': [[1.492762253553518, 4.0009638286467345e-12, 1.8291033310126947], [1.2709765918331646, 3.275498452488178e-12, 1.5891100719302846], [1.4394036431120072, 1.5384155286294806\n",
            "test data number :  36\n"
          ]
        },
        {
          "output_type": "stream",
          "name": "stderr",
          "text": [
            "Setting `pad_token_id` to `eos_token_id`:128001 for open-end generation.\n",
            "Setting `pad_token_id` to `eos_token_id`:128001 for open-end generation.\n"
          ]
        },
        {
          "output_type": "stream",
          "name": "stdout",
          "text": [
            "    4\n",
            "    \"\"\"\n",
            "    output = {\n",
            "        'hjorth_params': [[1.366574767856372, 2.156271271121282e-12, 1.662462817141498], [1.372096347850289, 1.347278570574362e-12, 1.708058487152289], [1.378291144134763, 1.051980446225215e-12, 1\n",
            "test data number :  37\n"
          ]
        },
        {
          "output_type": "stream",
          "name": "stderr",
          "text": [
            "Setting `pad_token_id` to `eos_token_id`:128001 for open-end generation.\n",
            "Setting `pad_token_id` to `eos_token_id`:128001 for open-end generation.\n"
          ]
        },
        {
          "output_type": "stream",
          "name": "stdout",
          "text": [
            "    4\n",
            "    \"\"\"\n",
            "    output = {\n",
            "        'hjorth_params': [[1.098291817462915, 1.013262647274315e-11, 1.647894866677161], [1.144123542594096, 1.020624542152079e-11, 1.694058859613339], [1.200224745850268, 1.022767546391439e-11, 1\n",
            "test data number :  38\n"
          ]
        },
        {
          "output_type": "stream",
          "name": "stderr",
          "text": [
            "Setting `pad_token_id` to `eos_token_id`:128001 for open-end generation.\n",
            "Setting `pad_token_id` to `eos_token_id`:128001 for open-end generation.\n"
          ]
        },
        {
          "output_type": "stream",
          "name": "stdout",
          "text": [
            "    4\n",
            "    \"\"\"\n",
            "    output = {\n",
            "        'hjorth_params': [[1.0099553900566849, 1.4144728175811307e-09, 1.6966967494150098], [0.8822041368890958, 1.023732080418992e-09, 1.5404434333754704], [1.0003022636102878, 2.120701223147717\n",
            "test data number :  39\n"
          ]
        },
        {
          "output_type": "stream",
          "name": "stderr",
          "text": [
            "Setting `pad_token_id` to `eos_token_id`:128001 for open-end generation.\n",
            "Setting `pad_token_id` to `eos_token_id`:128001 for open-end generation.\n"
          ]
        },
        {
          "output_type": "stream",
          "name": "stdout",
          "text": [
            "    4\n",
            "    \"\"\"\n",
            "    output = {\n",
            "        'hjorth_params': [[1.332693956785586, 1.117089011574017e-12, 1.648850968770531], [1.300099367612858, 1.053762839767672e-12, 1.650529446327172], [1.441262550870906, 7.03872030290693e-13, 1\n",
            "test data number :  40\n"
          ]
        },
        {
          "output_type": "stream",
          "name": "stderr",
          "text": [
            "Setting `pad_token_id` to `eos_token_id`:128001 for open-end generation.\n",
            "Setting `pad_token_id` to `eos_token_id`:128001 for open-end generation.\n"
          ]
        },
        {
          "output_type": "stream",
          "name": "stdout",
          "text": [
            "    5\n",
            "    \"\"\"\n",
            "    output = {\n",
            "        'hjorth_params': [[1.5391894355361815, 5.317571269089555e-10, 1.6941170602732152], [1.3451283556850593, 1.1903577162271406e-10, 1.6735377814136283], [1.2728185617123537, 8.539693232515516\n",
            "test data number :  41\n"
          ]
        },
        {
          "output_type": "stream",
          "name": "stderr",
          "text": [
            "Setting `pad_token_id` to `eos_token_id`:128001 for open-end generation.\n",
            "Setting `pad_token_id` to `eos_token_id`:128001 for open-end generation.\n"
          ]
        },
        {
          "output_type": "stream",
          "name": "stdout",
          "text": [
            "    4\n",
            "    \"\"\"\n",
            "    output = {\n",
            "        'hjorth_params': [[1.327347761151763, 1.108156144193906e-12, 1.692954556563123], [1.342096745457799, 1.056767274300216e-12, 1.702002611850819], [1.428241765573262, 1.005051144330906e-12, 1\n",
            "test data number :  42\n"
          ]
        },
        {
          "output_type": "stream",
          "name": "stderr",
          "text": [
            "Setting `pad_token_id` to `eos_token_id`:128001 for open-end generation.\n",
            "Setting `pad_token_id` to `eos_token_id`:128001 for open-end generation.\n"
          ]
        },
        {
          "output_type": "stream",
          "name": "stdout",
          "text": [
            "    4\n",
            "    \"\"\"\n",
            "    output = {\n",
            "        'hjorth_params': [[1.507573619516914, 1.173534040870164e-12, 1.758693870011666], [1.491357643094029, 1.029693446002729e-12, 1.762643506563924], [1.528017272378798, 6.30063127290697e-13, 1\n",
            "test data number :  43\n"
          ]
        },
        {
          "output_type": "stream",
          "name": "stderr",
          "text": [
            "Setting `pad_token_id` to `eos_token_id`:128001 for open-end generation.\n",
            "Setting `pad_token_id` to `eos_token_id`:128001 for open-end generation.\n"
          ]
        },
        {
          "output_type": "stream",
          "name": "stdout",
          "text": [
            "    3\n",
            "    \"\"\"\n",
            "    output = {\n",
            "        'hjorth_params': [[1.175085864720123, 1.0405732823069068e-10, 1.632576594506342], [1.187121458573906, 1.013262954610059e-10, 1.651553931839019], [1.272631979372153, 1.053952693290213e-11, \n",
            "test data number :  44\n"
          ]
        },
        {
          "output_type": "stream",
          "name": "stderr",
          "text": [
            "Setting `pad_token_id` to `eos_token_id`:128001 for open-end generation.\n",
            "Setting `pad_token_id` to `eos_token_id`:128001 for open-end generation.\n"
          ]
        },
        {
          "output_type": "stream",
          "name": "stdout",
          "text": [
            "    5\n",
            "    \"\"\"\n",
            "    output = {\n",
            "        'hjorth_params': [[1.118096954915268, 1.152494610096268e-11, 1.648835518630492], [1.068347703594798, 1.007203011274262e-11, 1.606638572422029], [1.241376153090229, 1.013610703264498e-11, 1\n",
            "test data number :  45\n"
          ]
        },
        {
          "output_type": "stream",
          "name": "stderr",
          "text": [
            "Setting `pad_token_id` to `eos_token_id`:128001 for open-end generation.\n",
            "Setting `pad_token_id` to `eos_token_id`:128001 for open-end generation.\n"
          ]
        },
        {
          "output_type": "stream",
          "name": "stdout",
          "text": [
            "    4\n",
            "    \"\"\"\n",
            "    output = {\n",
            "        'hjorth_params': [[1.3271079765203175, 2.3876627174028358e-11, 1.6802993826552282], [1.2041081449023154, 1.1870413162389066e-11, 1.6822730771608605], [1.574040865972555, 5.600895196766181\n",
            "test data number :  46\n"
          ]
        },
        {
          "output_type": "stream",
          "name": "stderr",
          "text": [
            "Setting `pad_token_id` to `eos_token_id`:128001 for open-end generation.\n",
            "Setting `pad_token_id` to `eos_token_id`:128001 for open-end generation.\n"
          ]
        },
        {
          "output_type": "stream",
          "name": "stdout",
          "text": [
            "    5\n",
            "    \"\"\"\n",
            "    output = {\n",
            "        'hjorth_params': [[1.273273462856775, 1.020151860920643e-11, 1.632144611459906], [1.244248720362462, 1.094274657900123e-11, 1.629491531901666], [1.298765518151616, 1.051144019004033e-11, 1\n",
            "test data number :  47\n"
          ]
        },
        {
          "output_type": "stream",
          "name": "stderr",
          "text": [
            "Setting `pad_token_id` to `eos_token_id`:128001 for open-end generation.\n",
            "Setting `pad_token_id` to `eos_token_id`:128001 for open-end generation.\n"
          ]
        },
        {
          "output_type": "stream",
          "name": "stdout",
          "text": [
            "    4\n",
            "    \"\"\"\n",
            "    output = {\n",
            "        'hjorth_params': [[1.369870557958775, 1.243762765090215e-12, 1.667574257574251], [1.308300570327114, 1.122684811519672e-12, 1.657573300362824], [1.401762849347029, 1.034859530767363e-12, 1\n",
            "test data number :  48\n"
          ]
        },
        {
          "output_type": "stream",
          "name": "stderr",
          "text": [
            "Setting `pad_token_id` to `eos_token_id`:128001 for open-end generation.\n",
            "Setting `pad_token_id` to `eos_token_id`:128001 for open-end generation.\n"
          ]
        },
        {
          "output_type": "stream",
          "name": "stdout",
          "text": [
            "    5\n",
            "    \"\"\"\n",
            "    output = {\n",
            "        'hjorth_params': [[1.142767856362114, 1.029870425090624e-12, 1.641720023096017], [1.152182566574454, 1.040860957053119e-12, 1.666672523901591], [1.197274693324096, 1.020900300613079e-12, 1\n",
            "test data number :  49\n"
          ]
        },
        {
          "output_type": "stream",
          "name": "stderr",
          "text": [
            "Setting `pad_token_id` to `eos_token_id`:128001 for open-end generation.\n",
            "Setting `pad_token_id` to `eos_token_id`:128001 for open-end generation.\n"
          ]
        },
        {
          "output_type": "stream",
          "name": "stdout",
          "text": [
            "    4\n",
            "    \"\"\"\n",
            "    output = {\n",
            "        'hjorth_params': [[1.328182273611096, 1.241546870090258e-12, 1.673241761342255], [1.272573530958854, 1.007610860447668e-12, 1.661672657506255], [1.339519542870736, 1.043576631577366e-12, 1\n",
            "test data number :  50\n"
          ]
        },
        {
          "output_type": "stream",
          "name": "stderr",
          "text": [
            "Setting `pad_token_id` to `eos_token_id`:128001 for open-end generation.\n",
            "Setting `pad_token_id` to `eos_token_id`:128001 for open-end generation.\n"
          ]
        },
        {
          "output_type": "stream",
          "name": "stdout",
          "text": [
            "    4\n",
            "    \"\"\"\n",
            "    output = {\n",
            "        'hjorth_params': [[1.323761144817363, 1.070690868148029e-12, 1.664693952563746], [1.272085620841349, 1.024170860156114e-12, 1.651499757624798], [1.327377630530574, 1.026380690278079e-12, 1\n",
            "test data number :  51\n"
          ]
        },
        {
          "output_type": "stream",
          "name": "stderr",
          "text": [
            "Setting `pad_token_id` to `eos_token_id`:128001 for open-end generation.\n",
            "Setting `pad_token_id` to `eos_token_id`:128001 for open-end generation.\n"
          ]
        },
        {
          "output_type": "stream",
          "name": "stdout",
          "text": [
            "    5\n",
            "    \"\"\"\n",
            "    output = {\n",
            "        'hjorth_params': [[1.327574665362362, 1.036177628151529e-12, 1.634835770370629], [1.328091868841996, 1.026300422765766e-12, 1.645581563251666], [1.372765248518029, 5.840274133850825e-13, 1\n",
            "test data number :  52\n"
          ]
        },
        {
          "output_type": "stream",
          "name": "stderr",
          "text": [
            "Setting `pad_token_id` to `eos_token_id`:128001 for open-end generation.\n",
            "Setting `pad_token_id` to `eos_token_id`:128001 for open-end generation.\n"
          ]
        },
        {
          "output_type": "stream",
          "name": "stdout",
          "text": [
            "    5\n",
            "    \"\"\"\n",
            "    output = {\n",
            "        'hjorth_params': [[1.5357509629466974, 4.162127574665646e-12, 1.839597000215161], [1.3883996672711438, 2.4298473629800106e-12, 1.6802058050083568], [1.3162754808000385, 1.9978643778806656\n",
            "test data number :  53\n"
          ]
        },
        {
          "output_type": "stream",
          "name": "stderr",
          "text": [
            "Setting `pad_token_id` to `eos_token_id`:128001 for open-end generation.\n",
            "Setting `pad_token_id` to `eos_token_id`:128001 for open-end generation.\n"
          ]
        },
        {
          "output_type": "stream",
          "name": "stdout",
          "text": [
            "    4\n",
            "    \"\"\"\n",
            "    output = {\n",
            "        'hjorth_params': [[1.4106612146265278, 2.081834560204387e-12, 1.7800884766147753], [1.1648070627013287, 2.1010714780344815e-12, 1.6097025306234787], [1.295925356280937, 1.1556766051628886\n",
            "test data number :  54\n"
          ]
        },
        {
          "output_type": "stream",
          "name": "stderr",
          "text": [
            "Setting `pad_token_id` to `eos_token_id`:128001 for open-end generation.\n",
            "Setting `pad_token_id` to `eos_token_id`:128001 for open-end generation.\n"
          ]
        },
        {
          "output_type": "stream",
          "name": "stdout",
          "text": [
            "    3\n",
            "    \"\"\"\n",
            "    output = {\n",
            "        'hjorth_params': [[1.3103490321017288, 1.8030061100838858e-12, 1.7285248670877833], [1.3853216012243805, 1.2260559412562653e-12, 1.73121560067338], [1.4827634653654713, 7.214291227917506\n",
            "test data number :  55\n"
          ]
        },
        {
          "output_type": "stream",
          "name": "stderr",
          "text": [
            "Setting `pad_token_id` to `eos_token_id`:128001 for open-end generation.\n",
            "Setting `pad_token_id` to `eos_token_id`:128001 for open-end generation.\n"
          ]
        },
        {
          "output_type": "stream",
          "name": "stdout",
          "text": [
            "    5\n",
            "    \"\"\"\n",
            "    output = {\n",
            "        'hjorth_params': [[1.127954970906729, 1.023330090400229e-10, 1.583763850053947], [1.171594628542952, 1.043860177164919e-10, 1.590481693372464], [1.173241253359161, 1.013546770901616e-11, 1\n",
            "test data number :  56\n"
          ]
        },
        {
          "output_type": "stream",
          "name": "stderr",
          "text": [
            "Setting `pad_token_id` to `eos_token_id`:128001 for open-end generation.\n",
            "Setting `pad_token_id` to `eos_token_id`:128001 for open-end generation.\n"
          ]
        },
        {
          "output_type": "stream",
          "name": "stdout",
          "text": [
            "    4\n",
            "    \"\"\"\n",
            "    output = {\n",
            "        'hjorth_params': [[1.4554016069591642, 6.473364766711036e-10, 1.8485157680967694], [1.2114781917333282, 2.768653591212713e-10, 1.6974659692591547], [1.2667879963469932, 1.051991590971113e\n",
            "test data number :  57\n"
          ]
        },
        {
          "output_type": "stream",
          "name": "stderr",
          "text": [
            "Setting `pad_token_id` to `eos_token_id`:128001 for open-end generation.\n",
            "Setting `pad_token_id` to `eos_token_id`:128001 for open-end generation.\n"
          ]
        },
        {
          "output_type": "stream",
          "name": "stdout",
          "text": [
            "    5\n",
            "    \"\"\"\n",
            "    output = {\n",
            "        'hjorth_params': [[1.298894935594921, 1.019751546463573e-12, 1.634529657207255], [1.422091023347737, 1.010153594745584e-12, 1.727578023350297], [1.504574608389366, 1.019192624053529e-12, 1\n",
            "test data number :  58\n"
          ]
        },
        {
          "output_type": "stream",
          "name": "stderr",
          "text": [
            "Setting `pad_token_id` to `eos_token_id`:128001 for open-end generation.\n",
            "Setting `pad_token_id` to `eos_token_id`:128001 for open-end generation.\n"
          ]
        },
        {
          "output_type": "stream",
          "name": "stdout",
          "text": [
            "    4\n",
            "    \"\"\"\n",
            "    output = {\n",
            "        'hjorth_params': [[1.302222594274174, 1.218765690384942e-11, 1.657631954757645], [1.241307327186845, 1.027379053040107e-11, 1.637859871857924], [1.300274300142345, 1.014274860193148e-11, 1\n",
            "test data number :  59\n"
          ]
        },
        {
          "output_type": "stream",
          "name": "stderr",
          "text": [
            "Setting `pad_token_id` to `eos_token_id`:128001 for open-end generation.\n",
            "Setting `pad_token_id` to `eos_token_id`:128001 for open-end generation.\n"
          ]
        },
        {
          "output_type": "stream",
          "name": "stdout",
          "text": [
            "    4\n",
            "    \"\"\"\n",
            "    output = {\n",
            "        'hjorth_params': [[1.341751849807113, 1.327977757771841e-12, 1.648144954767354], [1.344151810616919, 1.0100000000000001e-12, 1.675274556678249], [1.416518870453268, 1.0510000000000001e-12,\n",
            "test data number :  60\n"
          ]
        },
        {
          "output_type": "stream",
          "name": "stderr",
          "text": [
            "Setting `pad_token_id` to `eos_token_id`:128001 for open-end generation.\n",
            "Setting `pad_token_id` to `eos_token_id`:128001 for open-end generation.\n"
          ]
        },
        {
          "output_type": "stream",
          "name": "stdout",
          "text": [
            "    3\n",
            "    \"\"\"\n",
            "    output = {\n",
            "        'hjorth_params': [[1.196335500276359, 2.0604814805236315e-11, 1.793751292487353], [0.95844931411671, 3.5484724313011215e-11, 1.4091088647026018], [0.9990270982001755, 1.0078349598881868e\n",
            "test data number :  61\n"
          ]
        },
        {
          "output_type": "stream",
          "name": "stderr",
          "text": [
            "Setting `pad_token_id` to `eos_token_id`:128001 for open-end generation.\n",
            "Setting `pad_token_id` to `eos_token_id`:128001 for open-end generation.\n"
          ]
        },
        {
          "output_type": "stream",
          "name": "stdout",
          "text": [
            "    5\n",
            "    \"\"\"\n",
            "    output = {\n",
            "        'hjorth_params': [[1.0313448241142815, 3.899158178251103e-10, 1.817926764011028], [0.6776763339353951, 1.9381813796948123e-10, 1.4023358732072346], [1.137654358357146, 1.202883845801811e-\n",
            "test data number :  62\n"
          ]
        },
        {
          "output_type": "stream",
          "name": "stderr",
          "text": [
            "Setting `pad_token_id` to `eos_token_id`:128001 for open-end generation.\n",
            "Setting `pad_token_id` to `eos_token_id`:128001 for open-end generation.\n"
          ]
        },
        {
          "output_type": "stream",
          "name": "stdout",
          "text": [
            "    5\n",
            "    \"\"\"\n",
            "    output = {\n",
            "        'hjorth_params': [[1.48858188108487, 5.088543938844013e-12, 1.866406254465442], [1.2707932525013, 1.8943265922129703e-12, 1.6829910474355168], [1.4105984899115642, 1.0028287226756158e-\n",
            "test data number :  63\n"
          ]
        },
        {
          "output_type": "stream",
          "name": "stderr",
          "text": [
            "Setting `pad_token_id` to `eos_token_id`:128001 for open-end generation.\n",
            "Setting `pad_token_id` to `eos_token_id`:128001 for open-end generation.\n"
          ]
        },
        {
          "output_type": "stream",
          "name": "stdout",
          "text": [
            "    3\n",
            "    \"\"\"\n",
            "    output = {\n",
            "        'hjorth_params': [[1.102988144991749, 2.506330592770372e-12, 1.651666767523291], [1.051762693678462, 1.428156752678666e-12, 1.643257019253824], [1.148142347457251, 1.045091621096776e-12, 1\n",
            "test data number :  64\n"
          ]
        },
        {
          "output_type": "stream",
          "name": "stderr",
          "text": [
            "Setting `pad_token_id` to `eos_token_id`:128001 for open-end generation.\n",
            "Setting `pad_token_id` to `eos_token_id`:128001 for open-end generation.\n"
          ]
        },
        {
          "output_type": "stream",
          "name": "stdout",
          "text": [
            "    5\n",
            "    \"\"\"\n",
            "    output = {\n",
            "        'hjorth_params': [[1.293134817362729, 1.0138606301528448e-11, 1.648523519347372], [1.301144518624672, 1.029090765186629e-11, 1.708096859053172], [1.325385487530114, 1.031876840324205e-11, \n",
            "test data number :  65\n"
          ]
        },
        {
          "output_type": "stream",
          "name": "stderr",
          "text": [
            "Setting `pad_token_id` to `eos_token_id`:128001 for open-end generation.\n",
            "Setting `pad_token_id` to `eos_token_id`:128001 for open-end generation.\n"
          ]
        },
        {
          "output_type": "stream",
          "name": "stdout",
          "text": [
            "    4\n",
            "    \"\"\"\n",
            "    output = {\n",
            "        'hjorth_params': [[1.342751657815586, 1.080164874278123e-11, 1.679484954611064], [1.308546535257921, 1.022804643023355e-11, 1.662643757153153], [1.372594743298915, 1.018391690518885e-11, 1\n",
            "test data number :  66\n"
          ]
        },
        {
          "output_type": "stream",
          "name": "stderr",
          "text": [
            "Setting `pad_token_id` to `eos_token_id`:128001 for open-end generation.\n",
            "Setting `pad_token_id` to `eos_token_id`:128001 for open-end generation.\n"
          ]
        },
        {
          "output_type": "stream",
          "name": "stdout",
          "text": [
            "    4\n",
            "    \"\"\"\n",
            "    output = {\n",
            "        'hjorth_params': [[1.317670153817339, 1.090359300665573e-12, 1.626611622921574], [1.327693094262854, 1.034372481300215e-12, 1.688561921850355], [1.361573516186746, 6.190278040004318e-13, 1\n",
            "test data number :  67\n"
          ]
        },
        {
          "output_type": "stream",
          "name": "stderr",
          "text": [
            "Setting `pad_token_id` to `eos_token_id`:128001 for open-end generation.\n",
            "Setting `pad_token_id` to `eos_token_id`:128001 for open-end generation.\n"
          ]
        },
        {
          "output_type": "stream",
          "name": "stdout",
          "text": [
            "    5\n",
            "    \"\"\"\n",
            "    output = {\n",
            "        'hjorth_params': [[1.254594947151268, 1.053300690714096e-11, 1.681798274657896], [1.151530144834348, 1.043552594693736e-11, 1.618857767053574], [1.298164849144402, 1.041638849613848e-11, 1\n",
            "test data number :  68\n"
          ]
        },
        {
          "output_type": "stream",
          "name": "stderr",
          "text": [
            "Setting `pad_token_id` to `eos_token_id`:128001 for open-end generation.\n",
            "Setting `pad_token_id` to `eos_token_id`:128001 for open-end generation.\n"
          ]
        },
        {
          "output_type": "stream",
          "name": "stdout",
          "text": [
            "    4\n",
            "    \"\"\"\n",
            "    output = {\n",
            "        'hjorth_params': [[1.345901053260174, 1.039552809687089e-12, 1.681693630612268], [1.340291765859347, 1.029577714300177e-12, 1.678857573870665], [1.377257094857096, 1.040577781029529e-12, 1\n",
            "test data number :  69\n"
          ]
        },
        {
          "output_type": "stream",
          "name": "stderr",
          "text": [
            "Setting `pad_token_id` to `eos_token_id`:128001 for open-end generation.\n",
            "Setting `pad_token_id` to `eos_token_id`:128001 for open-end generation.\n"
          ]
        },
        {
          "output_type": "stream",
          "name": "stdout",
          "text": [
            "    5\n",
            "    \"\"\"\n",
            "    output = {\n",
            "        'hjorth_params': [[1.3412192141509587, 2.8064402958518446e-11, 1.8469313258224371], [1.0547111839952368, 1.462559389957526e-11, 1.6595588540874864], [0.8469944077329375, 7.648066798997998\n",
            "test data number :  70\n"
          ]
        },
        {
          "output_type": "stream",
          "name": "stderr",
          "text": [
            "Setting `pad_token_id` to `eos_token_id`:128001 for open-end generation.\n",
            "Setting `pad_token_id` to `eos_token_id`:128001 for open-end generation.\n"
          ]
        },
        {
          "output_type": "stream",
          "name": "stdout",
          "text": [
            "    5\n",
            "    \"\"\"\n",
            "    output = {\n",
            "        'hjorth_params': [[1.336628712290315, 1.0100000000000001e-12, 1.708857757306129], [1.337096859460205, 1.0450000000000001e-12, 1.696574487531666], [1.370459815560531, 1.0100000000000001e-12\n",
            "test data number :  71\n"
          ]
        },
        {
          "output_type": "stream",
          "name": "stderr",
          "text": [
            "Setting `pad_token_id` to `eos_token_id`:128001 for open-end generation.\n",
            "Setting `pad_token_id` to `eos_token_id`:128001 for open-end generation.\n"
          ]
        },
        {
          "output_type": "stream",
          "name": "stdout",
          "text": [
            "    4\n",
            "    \"\"\"\n",
            "    output = {\n",
            "        'hjorth_params': [[1.273088850980499, 1.030570657144029e-11, 1.663144858460444], [1.225082979291029, 1.017262552614464e-11, 1.678248850594851], [1.273090770621712, 1.007840153148898e-11, 1\n",
            "test data number :  72\n"
          ]
        },
        {
          "output_type": "stream",
          "name": "stderr",
          "text": [
            "Setting `pad_token_id` to `eos_token_id`:128001 for open-end generation.\n",
            "Setting `pad_token_id` to `eos_token_id`:128001 for open-end generation.\n"
          ]
        },
        {
          "output_type": "stream",
          "name": "stdout",
          "text": [
            "    5\n",
            "    \"\"\"\n",
            "    output = {\n",
            "        'hjorth_params': [[1.3005153973894257, 5.4440071225256894e-12, 1.7789952391077122], [0.8704716003277706, 7.39390736691852e-12, 1.4907006610676021], [1.0233253819844468, 3.192061194931484\n",
            "test data number :  73\n"
          ]
        },
        {
          "output_type": "stream",
          "name": "stderr",
          "text": [
            "Setting `pad_token_id` to `eos_token_id`:128001 for open-end generation.\n",
            "Setting `pad_token_id` to `eos_token_id`:128001 for open-end generation.\n"
          ]
        },
        {
          "output_type": "stream",
          "name": "stdout",
          "text": [
            "    5\n",
            "    \"\"\"\n",
            "    output = {\n",
            "        'hjorth_params': [[1.4371455725941704, 2.9214886696910676e-11, 1.7520640930749245], [1.3945818556488043, 1.3336120560110645e-11, 1.7778165706979523], [1.5444954577566612, 4.652257534649\n",
            "test data number :  74\n"
          ]
        },
        {
          "output_type": "stream",
          "name": "stderr",
          "text": [
            "Setting `pad_token_id` to `eos_token_id`:128001 for open-end generation.\n",
            "Setting `pad_token_id` to `eos_token_id`:128001 for open-end generation.\n"
          ]
        },
        {
          "output_type": "stream",
          "name": "stdout",
          "text": [
            "    4\n",
            "    \"\"\"\n",
            "    output = {\n",
            "        'hjorth_params': [[1.381508860251942, 1.105868809877775e-12, 1.705714573152123], [1.327384643040107, 1.030090425624574e-12, 1.692693552297017], [1.430359594817262, 1.053153637038919e-12, 1\n",
            "test data number :  75\n"
          ]
        },
        {
          "output_type": "stream",
          "name": "stderr",
          "text": [
            "Setting `pad_token_id` to `eos_token_id`:128001 for open-end generation.\n",
            "Setting `pad_token_id` to `eos_token_id`:128001 for open-end generation.\n"
          ]
        },
        {
          "output_type": "stream",
          "name": "stdout",
          "text": [
            "    4\n",
            "    \"\"\"\n",
            "    output = {\n",
            "        'hjorth_params': [[1.1666182939307888, 1.0583281308756406e-11, 1.7829821502305843], [0.766121011661977, 7.258895745766089e-12, 1.6050164019467623], [1.0125818029466664, 3.590404947122366e\n",
            "test data number :  76\n"
          ]
        },
        {
          "output_type": "stream",
          "name": "stderr",
          "text": [
            "Setting `pad_token_id` to `eos_token_id`:128001 for open-end generation.\n",
            "Setting `pad_token_id` to `eos_token_id`:128001 for open-end generation.\n"
          ]
        },
        {
          "output_type": "stream",
          "name": "stdout",
          "text": [
            "    5\n",
            "    \"\"\"\n",
            "    output = {\n",
            "        'hjorth_params': [[1.4443338412796143, 1.234739744054263e-10, 1.9325690209191435], [0.650980330869628, 5.638482315060258e-11, 1.3674697426609462], [1.3567662984281341, 5.607460335031084e-\n",
            "test data number :  77\n"
          ]
        },
        {
          "output_type": "stream",
          "name": "stderr",
          "text": [
            "Setting `pad_token_id` to `eos_token_id`:128001 for open-end generation.\n",
            "Setting `pad_token_id` to `eos_token_id`:128001 for open-end generation.\n"
          ]
        },
        {
          "output_type": "stream",
          "name": "stdout",
          "text": [
            "    5\n",
            "    \"\"\"\n",
            "    output = {\n",
            "        'hjorth_params': [[1.1142569696660285, 1.1803729624483383e-11, 1.5675962862754185], [1.0829692091520235, 7.596271273289376e-12, 1.4627797664729731], [1.3986767211944475, 1.890795685194359\n",
            "test data number :  78\n"
          ]
        },
        {
          "output_type": "stream",
          "name": "stderr",
          "text": [
            "Setting `pad_token_id` to `eos_token_id`:128001 for open-end generation.\n",
            "Setting `pad_token_id` to `eos_token_id`:128001 for open-end generation.\n"
          ]
        },
        {
          "output_type": "stream",
          "name": "stdout",
          "text": [
            "    5\n",
            "    \"\"\"\n",
            "    output = {\n",
            "        'hjorth_params': [[1.493153518153942, 1.053053870770355e-11, 1.741594900624763], [1.361257038831096, 1.152148359591354e-11, 1.684693693015199], [1.378519559857291, 1.011765372225339e-11, 1\n",
            "test data number :  79\n"
          ]
        },
        {
          "output_type": "stream",
          "name": "stderr",
          "text": [
            "Setting `pad_token_id` to `eos_token_id`:128001 for open-end generation.\n",
            "Setting `pad_token_id` to `eos_token_id`:128001 for open-end generation.\n"
          ]
        },
        {
          "output_type": "stream",
          "name": "stdout",
          "text": [
            "    4\n",
            "    \"\"\"\n",
            "    output = {\n",
            "        'hjorth_params': [[1.369088875858854, 1.3276316908302894e-12, 1.683087347917113], [1.311765272151849, 1.044090870849868e-12, 1.681259556657906], [1.360347352518017, 7.241164241257115e-13, \n",
            "test data number :  80\n"
          ]
        },
        {
          "output_type": "stream",
          "name": "stderr",
          "text": [
            "Setting `pad_token_id` to `eos_token_id`:128001 for open-end generation.\n",
            "Setting `pad_token_id` to `eos_token_id`:128001 for open-end generation.\n"
          ]
        },
        {
          "output_type": "stream",
          "name": "stdout",
          "text": [
            "    4\n",
            "    \"\"\"\n",
            "    output = {\n",
            "        'hjorth_params': [[1.293090979870262, 1.023665546917919e-12, 1.632771637023919], [1.148850628148914, 1.042816164113258e-12, 1.621523594906776], [1.291264023152531, 1.039121762053666e-12, 1\n",
            "test data number :  81\n"
          ]
        },
        {
          "output_type": "stream",
          "name": "stderr",
          "text": [
            "Setting `pad_token_id` to `eos_token_id`:128001 for open-end generation.\n",
            "Setting `pad_token_id` to `eos_token_id`:128001 for open-end generation.\n"
          ]
        },
        {
          "output_type": "stream",
          "name": "stdout",
          "text": [
            "    5\n",
            "    \"\"\"\n",
            "    output = {\n",
            "        'hjorth_params': [[1.206594762207362, 1.064954807264919e-12, 1.590144925152123], [1.241278156534315, 1.014878272113355e-12, 1.626611594624808], [1.334347753324262, 1.058767840613961e-12, 1\n",
            "test data number :  82\n"
          ]
        },
        {
          "output_type": "stream",
          "name": "stderr",
          "text": [
            "Setting `pad_token_id` to `eos_token_id`:128001 for open-end generation.\n",
            "Setting `pad_token_id` to `eos_token_id`:128001 for open-end generation.\n"
          ]
        },
        {
          "output_type": "stream",
          "name": "stdout",
          "text": [
            "    4\n",
            "    \"\"\"\n",
            "    output = {\n",
            "        'hjorth_params': [[1.394090835921914, 1.156530690144114e-12, 1.686857870011736], [1.272870151900829, 1.043144624594584e-12, 1.672327624291123], [1.301378257462574, 1.027379876023807e-12, 1\n",
            "test data number :  83\n"
          ]
        },
        {
          "output_type": "stream",
          "name": "stderr",
          "text": [
            "Setting `pad_token_id` to `eos_token_id`:128001 for open-end generation.\n",
            "Setting `pad_token_id` to `eos_token_id`:128001 for open-end generation.\n"
          ]
        },
        {
          "output_type": "stream",
          "name": "stdout",
          "text": [
            "    3\n",
            "    \"\"\"\n",
            "    output = {\n",
            "        'hjorth_params': [[1.119153611884297, 1.051700164613898e-11, 1.633499557767255], [1.136779678665366, 1.059182876610943e-11, 1.622702298602776], [1.274134770859354, 1.029700714029772e-11, 1\n",
            "test data number :  84\n"
          ]
        },
        {
          "output_type": "stream",
          "name": "stderr",
          "text": [
            "Setting `pad_token_id` to `eos_token_id`:128001 for open-end generation.\n",
            "Setting `pad_token_id` to `eos_token_id`:128001 for open-end generation.\n"
          ]
        },
        {
          "output_type": "stream",
          "name": "stdout",
          "text": [
            "    5\n",
            "    \"\"\"\n",
            "    output = {\n",
            "        'hjorth_params': [[1.0913428537885754, 2.3722652582695313e-11, 1.6349753438645755], [1.0171589574550912, 1.148534574819787e-11, 1.6044792278949092], [1.4578577704667661, 1.029530637059798\n",
            "test data number :  85\n"
          ]
        },
        {
          "output_type": "stream",
          "name": "stderr",
          "text": [
            "Setting `pad_token_id` to `eos_token_id`:128001 for open-end generation.\n",
            "Setting `pad_token_id` to `eos_token_id`:128001 for open-end generation.\n"
          ]
        },
        {
          "output_type": "stream",
          "name": "stdout",
          "text": [
            "    4\n",
            "    \"\"\"\n",
            "    output = {\n",
            "        'hjorth_params': [[1.392134363160921, 1.120751546612345e-12, 1.706857053148498], [1.487144860570153, 1.007347096380107e-12, 1.760576751628666], [1.501091761563349, 1.064205678164643e-12, 1\n",
            "test data number :  86\n"
          ]
        },
        {
          "output_type": "stream",
          "name": "stderr",
          "text": [
            "Setting `pad_token_id` to `eos_token_id`:128001 for open-end generation.\n",
            "Setting `pad_token_id` to `eos_token_id`:128001 for open-end generation.\n"
          ]
        },
        {
          "output_type": "stream",
          "name": "stdout",
          "text": [
            "    4\n",
            "    \"\"\"\n",
            "    output = {\n",
            "        'hjorth_params': [[1.3033628548376726, 1.418643162536228e-10, 1.8078747667534636], [0.7696587862117888, 4.525750476118124e-11, 1.459074951297327], [1.2394129110061656, 2.3549402711529818e\n",
            "test data number :  87\n"
          ]
        },
        {
          "output_type": "stream",
          "name": "stderr",
          "text": [
            "Setting `pad_token_id` to `eos_token_id`:128001 for open-end generation.\n",
            "Setting `pad_token_id` to `eos_token_id`:128001 for open-end generation.\n"
          ]
        },
        {
          "output_type": "stream",
          "name": "stdout",
          "text": [
            "    4\n",
            "    \"\"\"\n",
            "    output = {\n",
            "        'hjorth_params': [[1.419840745186161, 1.2300000000000001e-12, 1.718720859186498, 1.490261921298574, 1.467870849612362, 1.538757487871712, 1.579096608906339, 1.597526459613256, 1.644414519819\n",
            "test data number :  88\n"
          ]
        },
        {
          "output_type": "stream",
          "name": "stderr",
          "text": [
            "Setting `pad_token_id` to `eos_token_id`:128001 for open-end generation.\n",
            "Setting `pad_token_id` to `eos_token_id`:128001 for open-end generation.\n"
          ]
        },
        {
          "output_type": "stream",
          "name": "stdout",
          "text": [
            "    5\n",
            "    \"\"\"\n",
            "    output = {\n",
            "        'hjorth_params': [[1.272071850817772, 1.064053956860363e-11, 1.637835347347017], [1.193455955856096, 1.029273029040898e-11, 1.618576352563921], [1.291254262362251, 1.051177059156258e-11, 1\n",
            "test data number :  89\n"
          ]
        },
        {
          "output_type": "stream",
          "name": "stderr",
          "text": [
            "Setting `pad_token_id` to `eos_token_id`:128001 for open-end generation.\n",
            "Setting `pad_token_id` to `eos_token_id`:128001 for open-end generation.\n"
          ]
        },
        {
          "output_type": "stream",
          "name": "stdout",
          "text": [
            "    4\n",
            "    \"\"\"\n",
            "    output = {\n",
            "        'hjorth_params': [[1.392457273290205, 1.218300767040174e-12, 1.629538347671251], [1.291462253152858, 1.010300761630119e-12, 1.628405594611853], [1.322459757530529, 7.460840720300174e-13, 1\n",
            "test data number :  90\n"
          ]
        },
        {
          "output_type": "stream",
          "name": "stderr",
          "text": [
            "Setting `pad_token_id` to `eos_token_id`:128001 for open-end generation.\n",
            "Setting `pad_token_id` to `eos_token_id`:128001 for open-end generation.\n"
          ]
        },
        {
          "output_type": "stream",
          "name": "stdout",
          "text": [
            "    4\n",
            "    \"\"\"\n",
            "    output = {\n",
            "        'hjorth_params': [[1.096550401074388, 8.161446808820508e-10, 1.7854994571265939], [0.7204743742901781, 6.651378087844824e-10, 1.3798957864993833], [0.7345309987694923, 1.3734567962246886e\n",
            "test data number :  91\n"
          ]
        },
        {
          "output_type": "stream",
          "name": "stderr",
          "text": [
            "Setting `pad_token_id` to `eos_token_id`:128001 for open-end generation.\n",
            "Setting `pad_token_id` to `eos_token_id`:128001 for open-end generation.\n"
          ]
        },
        {
          "output_type": "stream",
          "name": "stdout",
          "text": [
            "    4\n",
            "    \"\"\"\n",
            "    output = {\n",
            "        'hjorth_params': [[1.309088915570129, 1.100870577714029e-12, 1.625556665307017], [1.283762369029844, 1.022274272262906e-12, 1.656556954839624], [1.413566359870824, 1.023225921819906e-12, 1\n",
            "test data number :  92\n"
          ]
        },
        {
          "output_type": "stream",
          "name": "stderr",
          "text": [
            "Setting `pad_token_id` to `eos_token_id`:128001 for open-end generation.\n",
            "Setting `pad_token_id` to `eos_token_id`:128001 for open-end generation.\n"
          ]
        },
        {
          "output_type": "stream",
          "name": "stdout",
          "text": [
            "    4\n",
            "    \"\"\"\n",
            "    output = {\n",
            "        'hjorth_params': [[1.211053965186462, 1.038878607300205e-11, 1.595870849327013], [1.268053870151799, 1.041144523592059e-11, 1.666628594153297], [1.359291380594763, 1.018591810920355e-11, 1\n",
            "test data number :  93\n"
          ]
        },
        {
          "output_type": "stream",
          "name": "stderr",
          "text": [
            "Setting `pad_token_id` to `eos_token_id`:128001 for open-end generation.\n",
            "Setting `pad_token_id` to `eos_token_id`:128001 for open-end generation.\n"
          ]
        },
        {
          "output_type": "stream",
          "name": "stdout",
          "text": [
            "    4\n",
            "    \"\"\"\n",
            "    output = {\n",
            "        'hjorth_params': [[1.3357190051343721, 1.9666427233102492e-11, 1.7589619421685456], [0.9109211425858185, 2.1169140400169082e-11, 1.448305116784013], [1.2388084093342602, 6.098870810803367\n",
            "test data number :  94\n"
          ]
        },
        {
          "output_type": "stream",
          "name": "stderr",
          "text": [
            "Setting `pad_token_id` to `eos_token_id`:128001 for open-end generation.\n",
            "Setting `pad_token_id` to `eos_token_id`:128001 for open-end generation.\n"
          ]
        },
        {
          "output_type": "stream",
          "name": "stdout",
          "text": [
            "    3\n",
            "    \"\"\"\n",
            "    output = {\n",
            "        'hjorth_params': [[1.323017506970616, 1.017494542857366e-11, 1.677757628757896], [1.198856875019291, 1.023151659570629e-11, 1.645693624924672], [1.230264725530829, 1.036574610241746e-11, 1\n",
            "test data number :  95\n"
          ]
        },
        {
          "output_type": "stream",
          "name": "stderr",
          "text": [
            "Setting `pad_token_id` to `eos_token_id`:128001 for open-end generation.\n",
            "Setting `pad_token_id` to `eos_token_id`:128001 for open-end generation.\n"
          ]
        },
        {
          "output_type": "stream",
          "name": "stdout",
          "text": [
            "    5\n",
            "    \"\"\"\n",
            "    output = {\n",
            "        'hjorth_params': [[1.0830020494725008, 1.1592022595618554e-12, 1.6469361399900513], [0.9346972821917592, 4.670690775934524e-13, 1.593454567500636], [1.3059115323222419, 3.218104776876533e\n",
            "test data number :  96\n"
          ]
        },
        {
          "output_type": "stream",
          "name": "stderr",
          "text": [
            "Setting `pad_token_id` to `eos_token_id`:128001 for open-end generation.\n",
            "Setting `pad_token_id` to `eos_token_id`:128001 for open-end generation.\n"
          ]
        },
        {
          "output_type": "stream",
          "name": "stdout",
          "text": [
            "    4\n",
            "    \"\"\"\n",
            "    output = {\n",
            "        'hjorth_params': [[1.132241849324906, 1.058690980384906e-11, 1.619530011011921], [1.141761274324402, 1.004760053381629e-11, 1.678384372425639], [1.186248720129029, 1.027610955720616e-11, 1\n",
            "test data number :  97\n"
          ]
        },
        {
          "output_type": "stream",
          "name": "stderr",
          "text": [
            "Setting `pad_token_id` to `eos_token_id`:128001 for open-end generation.\n",
            "Setting `pad_token_id` to `eos_token_id`:128001 for open-end generation.\n"
          ]
        },
        {
          "output_type": "stream",
          "name": "stdout",
          "text": [
            "    4\n",
            "    \"\"\"\n",
            "    output = {\n",
            "        'hjorth_params': [[1.285457372613736, 1.004693859637906e-12, 1.618556525182666], [1.312144134186798, 1.053594144859079e-12, 1.677576459613498], [1.401144446611297, 1.013603542391029e-12, 1\n",
            "test data number :  98\n"
          ]
        },
        {
          "output_type": "stream",
          "name": "stderr",
          "text": [
            "Setting `pad_token_id` to `eos_token_id`:128001 for open-end generation.\n",
            "Setting `pad_token_id` to `eos_token_id`:128001 for open-end generation.\n"
          ]
        },
        {
          "output_type": "stream",
          "name": "stdout",
          "text": [
            "    4\n",
            "    \"\"\"\n",
            "    output = {\n",
            "        'hjorth_params': [[1.524534534560921, 1.004542372094089e-11, 1.729684924921919], [1.430087352463841, 1.011264767690113e-11, 1.728684931574291], [1.428462592518029, 1.008000003030629e-11, 1\n",
            "test data number :  99\n"
          ]
        },
        {
          "output_type": "stream",
          "name": "stderr",
          "text": [
            "Setting `pad_token_id` to `eos_token_id`:128001 for open-end generation.\n",
            "Setting `pad_token_id` to `eos_token_id`:128001 for open-end generation.\n"
          ]
        },
        {
          "output_type": "stream",
          "name": "stdout",
          "text": [
            "    5\n",
            "    \"\"\"\n",
            "    output = {\n",
            "        'hjorth_params': [[1.3909166420046426, 1.5787545484770616e-11, 1.704377713220365], [1.2790008984508645, 1.3545855182155571e-11, 1.5806148057405502], [1.4610602053055375, 1.962835880473607\n",
            "test data number :  100\n"
          ]
        },
        {
          "output_type": "stream",
          "name": "stderr",
          "text": [
            "Setting `pad_token_id` to `eos_token_id`:128001 for open-end generation.\n",
            "Setting `pad_token_id` to `eos_token_id`:128001 for open-end generation.\n"
          ]
        },
        {
          "output_type": "stream",
          "name": "stdout",
          "text": [
            "    4\n",
            "    \"\"\"\n",
            "    output = {\n",
            "        'hjorth_params': [[1.293134693906734, 1.090300090204646e-11, 1.665378665958666], [1.271384552530079, 1.017380767546646e-11, 1.701761337574464], [1.293262551526915, 5.757954765530782e-12, 1\n",
            "test data number :  101\n"
          ]
        },
        {
          "output_type": "stream",
          "name": "stderr",
          "text": [
            "Setting `pad_token_id` to `eos_token_id`:128001 for open-end generation.\n",
            "Setting `pad_token_id` to `eos_token_id`:128001 for open-end generation.\n"
          ]
        },
        {
          "output_type": "stream",
          "name": "stdout",
          "text": [
            "    4\n",
            "    \"\"\"\n",
            "    output = {\n",
            "        'hjorth_params': [[1.5787707906070887, 1.982695000421195e-12, 1.7828923751198675], [1.2366710597162902, 7.632621483573109e-13, 1.577804130141635], [1.5770119429614953, 5.311521189994028e-\n",
            "test data number :  102\n"
          ]
        },
        {
          "output_type": "stream",
          "name": "stderr",
          "text": [
            "Setting `pad_token_id` to `eos_token_id`:128001 for open-end generation.\n",
            "Setting `pad_token_id` to `eos_token_id`:128001 for open-end generation.\n"
          ]
        },
        {
          "output_type": "stream",
          "name": "stdout",
          "text": [
            "    5\n",
            "    \"\"\"\n",
            "    output = {\n",
            "        'hjorth_params': [[1.394241870817372, 1.011144096594215e-12, 1.662634053630113], [1.448144858372919, 1.004090272254919e-12, 1.735556359531924], [1.467272762850255, 1.031156871129885e-12, 1\n",
            "test data number :  103\n"
          ]
        },
        {
          "output_type": "stream",
          "name": "stderr",
          "text": [
            "Setting `pad_token_id` to `eos_token_id`:128001 for open-end generation.\n",
            "Setting `pad_token_id` to `eos_token_id`:128001 for open-end generation.\n"
          ]
        },
        {
          "output_type": "stream",
          "name": "stdout",
          "text": [
            "    4\n",
            "    \"\"\"\n",
            "    output = {\n",
            "        'hjorth_params': [[1.343241850849268, 1.010804659274375e-11, 1.704894992422297], [1.215762023096629, 1.015203647274339e-11, 1.661631871297529], [1.334857755156919, 6.011080876164594e-12, 1\n",
            "test data number :  104\n"
          ]
        },
        {
          "output_type": "stream",
          "name": "stderr",
          "text": [
            "Setting `pad_token_id` to `eos_token_id`:128001 for open-end generation.\n",
            "Setting `pad_token_id` to `eos_token_id`:128001 for open-end generation.\n"
          ]
        },
        {
          "output_type": "stream",
          "name": "stdout",
          "text": [
            "    4\n",
            "    \"\"\"\n",
            "    output = {\n",
            "        'hjorth_params': [[1.304857620372096, 1.2163796780238083e-11, 1.673531901921666], [1.200099094921848, 1.144405577781443e-11, 1.618594577611574], [1.295262300384161, 1.042205241151366e-11, \n",
            "test data number :  105\n"
          ]
        },
        {
          "output_type": "stream",
          "name": "stderr",
          "text": [
            "Setting `pad_token_id` to `eos_token_id`:128001 for open-end generation.\n",
            "Setting `pad_token_id` to `eos_token_id`:128001 for open-end generation.\n"
          ]
        },
        {
          "output_type": "stream",
          "name": "stdout",
          "text": [
            "    4\n",
            "    \"\"\"\n",
            "    output = {\n",
            "        'hjorth_params': [[1.362557560124096, 1.0277651535706592e-11, 1.682144563525114], [1.250091762979059, 1.029241859519919e-11, 1.661091570160402], [1.344591463815898, 1.004264762956529e-11, \n",
            "test data number :  106\n"
          ]
        },
        {
          "output_type": "stream",
          "name": "stderr",
          "text": [
            "Setting `pad_token_id` to `eos_token_id`:128001 for open-end generation.\n",
            "Setting `pad_token_id` to `eos_token_id`:128001 for open-end generation.\n"
          ]
        },
        {
          "output_type": "stream",
          "name": "stdout",
          "text": [
            "    4\n",
            "    \"\"\"\n",
            "    output = {\n",
            "        'hjorth_params': [[1.277594053630616, 1.010751487207355e-11, 1.634953871594291], [1.243097011850359, 1.048144487023262e-11, 1.628431523142851], [1.272556516040011, 1.010551745573201e-11, 1\n",
            "test data number :  107\n"
          ]
        },
        {
          "output_type": "stream",
          "name": "stderr",
          "text": [
            "Setting `pad_token_id` to `eos_token_id`:128001 for open-end generation.\n",
            "Setting `pad_token_id` to `eos_token_id`:128001 for open-end generation.\n"
          ]
        },
        {
          "output_type": "stream",
          "name": "stdout",
          "text": [
            "    4\n",
            "    \"\"\"\n",
            "    output = {\n",
            "        'hjorth_params': [[1.298347687290229, 1.0241646106280194e-11, 1.692628611459737], [1.225537481463906, 1.023151151761574e-11, 1.669347591574947], [1.342357380359494, 1.013144530570148e-11, \n",
            "test data number :  108\n"
          ]
        },
        {
          "output_type": "stream",
          "name": "stderr",
          "text": [
            "Setting `pad_token_id` to `eos_token_id`:128001 for open-end generation.\n",
            "Setting `pad_token_id` to `eos_token_id`:128001 for open-end generation.\n"
          ]
        },
        {
          "output_type": "stream",
          "name": "stdout",
          "text": [
            "    4\n",
            "    \"\"\"\n",
            "    output = {\n",
            "        'hjorth_params': [[1.111029965153255, 1.040844611380193e-11, 1.629767273457531], [1.101894678624763, 1.007110241767808e-11, 1.637628053422845], [1.141383679819799, 1.012124225300114e-11, 1\n",
            "test data number :  109\n"
          ]
        },
        {
          "output_type": "stream",
          "name": "stderr",
          "text": [
            "Setting `pad_token_id` to `eos_token_id`:128001 for open-end generation.\n",
            "Setting `pad_token_id` to `eos_token_id`:128001 for open-end generation.\n"
          ]
        },
        {
          "output_type": "stream",
          "name": "stdout",
          "text": [
            "    5\n",
            "    \"\"\"\n",
            "    output = {\n",
            "        'hjorth_params': [[1.3640955258870342, 4.923791357825866e-11, 1.8329241015609143], [0.7820363840151021, 3.864837794021902e-11, 1.5728791872925542], [1.2138139493694573, 2.3540542485482214\n",
            "test data number :  110\n"
          ]
        },
        {
          "output_type": "stream",
          "name": "stderr",
          "text": [
            "Setting `pad_token_id` to `eos_token_id`:128001 for open-end generation.\n",
            "Setting `pad_token_id` to `eos_token_id`:128001 for open-end generation.\n"
          ]
        },
        {
          "output_type": "stream",
          "name": "stdout",
          "text": [
            "    5\n",
            "    \"\"\"\n",
            "    output = {\n",
            "        'hjorth_params': [[1.5446518554261879, 6.760278411198948e-12, 1.8136077878469157], [0.9138708365942179, 7.576091086798526e-12, 1.5466578630691739], [1.1804762895239531, 3.649553263113231e\n",
            "test data number :  111\n"
          ]
        },
        {
          "output_type": "stream",
          "name": "stderr",
          "text": [
            "Setting `pad_token_id` to `eos_token_id`:128001 for open-end generation.\n",
            "Setting `pad_token_id` to `eos_token_id`:128001 for open-end generation.\n"
          ]
        },
        {
          "output_type": "stream",
          "name": "stdout",
          "text": [
            "    5\n",
            "    \"\"\"\n",
            "    output = {\n",
            "        'hjorth_params': [[1.341870687870161, 1.186600920807297e-11, 1.673757901613498], [1.210631059678339, 1.059630630630096e-11, 1.634327573857372], [1.238779257324684, 1.027300921900193e-11, 1\n",
            "test data number :  112\n"
          ]
        },
        {
          "output_type": "stream",
          "name": "stderr",
          "text": [
            "Setting `pad_token_id` to `eos_token_id`:128001 for open-end generation.\n",
            "Setting `pad_token_id` to `eos_token_id`:128001 for open-end generation.\n"
          ]
        },
        {
          "output_type": "stream",
          "name": "stdout",
          "text": [
            "    5\n",
            "    \"\"\"\n",
            "    output = {\n",
            "        'hjorth_params': [[1.414099849459114, 1.023573657053651e-12, 1.718352921422085], [1.385023765530096, 1.002693562549798e-12, 1.710702519458172], [1.439542578678996, 6.400000000000001e-13, 1\n",
            "test data number :  113\n"
          ]
        },
        {
          "output_type": "stream",
          "name": "stderr",
          "text": [
            "Setting `pad_token_id` to `eos_token_id`:128001 for open-end generation.\n",
            "Setting `pad_token_id` to `eos_token_id`:128001 for open-end generation.\n"
          ]
        },
        {
          "output_type": "stream",
          "name": "stdout",
          "text": [
            "    4\n",
            "    \"\"\"\n",
            "    output = {\n",
            "        'hjorth_params': [[1.412144566850113, 1.0400968075428256e-12, 1.682347381186153], [1.300462857384825, 1.043121551603575e-12, 1.648573530542746], [1.405023809611639, 1.010952614254258e-12, \n",
            "test data number :  114\n"
          ]
        },
        {
          "output_type": "stream",
          "name": "stderr",
          "text": [
            "Setting `pad_token_id` to `eos_token_id`:128001 for open-end generation.\n",
            "Setting `pad_token_id` to `eos_token_id`:128001 for open-end generation.\n"
          ]
        },
        {
          "output_type": "stream",
          "name": "stdout",
          "text": [
            "    5\n",
            "    \"\"\"\n",
            "    output = {\n",
            "        'hjorth_params': [[1.119359693029996, 1.054096868148129e-12, 1.677850542392829], [1.148850453274096, 1.052085225870355e-12, 1.677371970181687], [1.197124980372362, 1.029860665463798e-12, 1\n",
            "test data number :  115\n"
          ]
        },
        {
          "output_type": "stream",
          "name": "stderr",
          "text": [
            "Setting `pad_token_id` to `eos_token_id`:128001 for open-end generation.\n",
            "Setting `pad_token_id` to `eos_token_id`:128001 for open-end generation.\n"
          ]
        },
        {
          "output_type": "stream",
          "name": "stdout",
          "text": [
            "    5\n",
            "    \"\"\"\n",
            "    output = {\n",
            "        'hjorth_params': [[1.141160705596589, 8.353114943998603e-09, 1.716531484559855], [0.7492372044111857, 6.464495757163211e-09, 1.3936526423612197], [0.9338295597970541, 1.5918429732509744e-\n",
            "test data number :  116\n"
          ]
        },
        {
          "output_type": "stream",
          "name": "stderr",
          "text": [
            "Setting `pad_token_id` to `eos_token_id`:128001 for open-end generation.\n",
            "Setting `pad_token_id` to `eos_token_id`:128001 for open-end generation.\n"
          ]
        },
        {
          "output_type": "stream",
          "name": "stdout",
          "text": [
            "    4\n",
            "    \"\"\"\n",
            "    output = {\n",
            "        'hjorth_params': [[1.532205847643639, 1.110108952563736e-13, 1.726647367307492], [1.372085849153268, 1.041203040002919e-13, 1.712103542611262], [1.438576573350291, 1.051204144186629e-13, 1\n",
            "test data number :  117\n"
          ]
        },
        {
          "output_type": "stream",
          "name": "stderr",
          "text": [
            "Setting `pad_token_id` to `eos_token_id`:128001 for open-end generation.\n",
            "Setting `pad_token_id` to `eos_token_id`:128001 for open-end generation.\n"
          ]
        },
        {
          "output_type": "stream",
          "name": "stdout",
          "text": [
            "    4\n",
            "    \"\"\"\n",
            "    output = {\n",
            "        'hjorth_params': [[1.101893765274919, 1.064765560693059e-11, 1.677576023327113], [1.068534979040574, 1.010151592186268e-11, 1.634835621924919], [1.199375096850333, 5.539693040152825e-12, 1\n",
            "test data number :  118\n"
          ]
        },
        {
          "output_type": "stream",
          "name": "stderr",
          "text": [
            "Setting `pad_token_id` to `eos_token_id`:128001 for open-end generation.\n",
            "Setting `pad_token_id` to `eos_token_id`:128001 for open-end generation.\n"
          ]
        },
        {
          "output_type": "stream",
          "name": "stdout",
          "text": [
            "    5\n",
            "    \"\"\"\n",
            "    output = {\n",
            "        'hjorth_params': [[1.312762970762258, 1.156665241610643e-12, 1.692594839367123], [1.344628372207775, 1.038573870870798e-12, 1.680870870121687], [1.425494665817498, 7.300693327591818e-13, 1\n",
            "test data number :  119\n"
          ]
        },
        {
          "output_type": "stream",
          "name": "stderr",
          "text": [
            "Setting `pad_token_id` to `eos_token_id`:128001 for open-end generation.\n",
            "Setting `pad_token_id` to `eos_token_id`:128001 for open-end generation.\n"
          ]
        },
        {
          "output_type": "stream",
          "name": "stdout",
          "text": [
            "    4\n",
            "    \"\"\"\n",
            "    output = {\n",
            "        'hjorth_params': [[1.408533637996902, 1.001121840610229e-12, 1.704702860251906], [1.351257542253362, 1.048156023186629e-12, 1.680241144844029], [1.431241849262297, 6.57079867738094e-13, 1\n",
            "test data number :  120\n"
          ]
        },
        {
          "output_type": "stream",
          "name": "stderr",
          "text": [
            "Setting `pad_token_id` to `eos_token_id`:128001 for open-end generation.\n",
            "Setting `pad_token_id` to `eos_token_id`:128001 for open-end generation.\n"
          ]
        },
        {
          "output_type": "stream",
          "name": "stdout",
          "text": [
            "    3\n",
            "    \"\"\"\n",
            "    output = {\n",
            "        'hjorth_params': [[1.370458678956729, 1.017090096956651e-11, 1.729144857530229], [1.148151556462996, 1.054141840384772e-11, 1.624257977094127], [1.141085849152096, 1.038760274460594e-11, 1\n",
            "test data number :  121\n"
          ]
        },
        {
          "output_type": "stream",
          "name": "stderr",
          "text": [
            "Setting `pad_token_id` to `eos_token_id`:128001 for open-end generation.\n",
            "Setting `pad_token_id` to `eos_token_id`:128001 for open-end generation.\n"
          ]
        },
        {
          "output_type": "stream",
          "name": "stdout",
          "text": [
            "    4\n",
            "    \"\"\"\n",
            "    output = {\n",
            "        'hjorth_params': [[0.606585619819914, 1.105330690332736e-10, 1.471757624347639], [0.6845426375188583, 1.075225637156464e-10, 1.577638958757772], [0.7623598172794628, 1.041460375457354e-10,\n",
            "test data number :  122\n"
          ]
        },
        {
          "output_type": "stream",
          "name": "stderr",
          "text": [
            "Setting `pad_token_id` to `eos_token_id`:128001 for open-end generation.\n",
            "Setting `pad_token_id` to `eos_token_id`:128001 for open-end generation.\n"
          ]
        },
        {
          "output_type": "stream",
          "name": "stdout",
          "text": [
            "    5\n",
            "    \"\"\"\n",
            "    output = {\n",
            "        'hjorth_params': [[1.594759839643898, 1.108594523277825e-11, 1.741684943542268], [1.448153628160333, 1.090144614610798e-11, 1.732767531577383], [1.472765556613255, 1.029610860519129e-11, 1\n",
            "test data number :  123\n"
          ]
        },
        {
          "output_type": "stream",
          "name": "stderr",
          "text": [
            "Setting `pad_token_id` to `eos_token_id`:128001 for open-end generation.\n",
            "Setting `pad_token_id` to `eos_token_id`:128001 for open-end generation.\n"
          ]
        },
        {
          "output_type": "stream",
          "name": "stdout",
          "text": [
            "    4\n",
            "    \"\"\"\n",
            "    output = {\n",
            "        'hjorth_params': [[1.098893870613366, 1.053359779153643e-10, 1.622771367241746], [1.167082347856258, 1.071177591300193e-11, 1.660703693257687], [1.208359038745153, 1.041760930291845e-11, 1\n",
            "test data number :  124\n"
          ]
        },
        {
          "output_type": "stream",
          "name": "stderr",
          "text": [
            "Setting `pad_token_id` to `eos_token_id`:128001 for open-end generation.\n",
            "Setting `pad_token_id` to `eos_token_id`:128001 for open-end generation.\n"
          ]
        },
        {
          "output_type": "stream",
          "name": "stdout",
          "text": [
            "    4\n",
            "    \"\"\"\n",
            "    output = {\n",
            "        'hjorth_params': [[1.030850090834339, 1.111690939943798e-10, 1.623574927637362], [1.045300693134915, 1.053156069011123e-10, 1.612835381927402], [1.156272611291729, 1.011380958530199e-11, 1\n",
            "test data number :  125\n"
          ]
        },
        {
          "output_type": "stream",
          "name": "stderr",
          "text": [
            "Setting `pad_token_id` to `eos_token_id`:128001 for open-end generation.\n",
            "Setting `pad_token_id` to `eos_token_id`:128001 for open-end generation.\n"
          ]
        },
        {
          "output_type": "stream",
          "name": "stdout",
          "text": [
            "    5\n",
            "    \"\"\"\n",
            "    output = {\n",
            "        'hjorth_params': [[1.300186665574921, 1.044282523577562e-12, 1.688693950971019], [1.311553537019268, 1.036610804375282e-12, 1.679327422422924], [1.402144757350831, 1.007379647129123e-12, 1\n",
            "test data number :  126\n"
          ]
        },
        {
          "output_type": "stream",
          "name": "stderr",
          "text": [
            "Setting `pad_token_id` to `eos_token_id`:128001 for open-end generation.\n",
            "Setting `pad_token_id` to `eos_token_id`:128001 for open-end generation.\n"
          ]
        },
        {
          "output_type": "stream",
          "name": "stdout",
          "text": [
            "    5\n",
            "    \"\"\"\n",
            "    output = {\n",
            "        'hjorth_params': [[1.007751935849372, 1.097053359164464e-10, 1.584762029300002], [1.089551556152849, 1.017751810958807e-10, 1.624085422002808], [1.135291850817255, 5.539573781460654e-11, 1\n",
            "test data number :  127\n"
          ]
        },
        {
          "output_type": "stream",
          "name": "stderr",
          "text": [
            "Setting `pad_token_id` to `eos_token_id`:128001 for open-end generation.\n",
            "Setting `pad_token_id` to `eos_token_id`:128001 for open-end generation.\n"
          ]
        },
        {
          "output_type": "stream",
          "name": "stdout",
          "text": [
            "    4\n",
            "    \"\"\"\n",
            "    output = {\n",
            "        'hjorth_params': [[1.180156991915643, 1.020690551164844e-11, 1.648327300980684], [1.216082290029841, 1.080770637610594e-11, 1.667378767330107], [1.293270053350293, 1.043272876124115e-11, 1\n",
            "test data number :  128\n"
          ]
        },
        {
          "output_type": "stream",
          "name": "stderr",
          "text": [
            "Setting `pad_token_id` to `eos_token_id`:128001 for open-end generation.\n",
            "Setting `pad_token_id` to `eos_token_id`:128001 for open-end generation.\n"
          ]
        },
        {
          "output_type": "stream",
          "name": "stdout",
          "text": [
            "    4\n",
            "    \"\"\"\n",
            "    output = {\n",
            "        'hjorth_params': [[1.305822665153914, 1.013090506770114e-11, 1.649637628574572], [1.279459096307914, 1.003182036581339e-11, 1.677519613518493], [1.330539849151362, 1.029868186019584e-11, 1\n",
            "test data number :  129\n"
          ]
        },
        {
          "output_type": "stream",
          "name": "stderr",
          "text": [
            "Setting `pad_token_id` to `eos_token_id`:128001 for open-end generation.\n",
            "Setting `pad_token_id` to `eos_token_id`:128001 for open-end generation.\n"
          ]
        },
        {
          "output_type": "stream",
          "name": "stdout",
          "text": [
            "    4\n",
            "    \"\"\"\n",
            "    output = {\n",
            "        'hjorth_params': [[1.274570557324629, 1.053751860425643e-11, 1.646850448332919], [1.342539499499029, 1.024868151059129e-11, 1.686556531556947], [1.413765347613123, 1.015241153059355e-11, 1\n",
            "test data number :  130\n"
          ]
        },
        {
          "output_type": "stream",
          "name": "stderr",
          "text": [
            "Setting `pad_token_id` to `eos_token_id`:128001 for open-end generation.\n",
            "Setting `pad_token_id` to `eos_token_id`:128001 for open-end generation.\n"
          ]
        },
        {
          "output_type": "stream",
          "name": "stdout",
          "text": [
            "    5\n",
            "    \"\"\"\n",
            "    output = {\n",
            "        'hjorth_params': [[1.371019251847113, 1.013877970745652e-12, 1.662511577850268], [1.364262519153772, 1.040153359840207e-12, 1.686012968594914], [1.387263840160355, 5.787425542906845e-13, 1\n",
            "test data number :  131\n"
          ]
        },
        {
          "output_type": "stream",
          "name": "stderr",
          "text": [
            "Setting `pad_token_id` to `eos_token_id`:128001 for open-end generation.\n",
            "Setting `pad_token_id` to `eos_token_id`:128001 for open-end generation.\n"
          ]
        },
        {
          "output_type": "stream",
          "name": "stdout",
          "text": [
            "    4\n",
            "    \"\"\"\n",
            "    output = {\n",
            "        'hjorth_params': [[1.3149010111270785, 5.0599595687417944e-11, 1.7650183201009808], [0.92357032422502, 3.6174248343911784e-11, 1.512910113145212], [1.1800275947968424, 8.68638819027913e\n",
            "test data number :  132\n"
          ]
        },
        {
          "output_type": "stream",
          "name": "stderr",
          "text": [
            "Setting `pad_token_id` to `eos_token_id`:128001 for open-end generation.\n",
            "Setting `pad_token_id` to `eos_token_id`:128001 for open-end generation.\n"
          ]
        },
        {
          "output_type": "stream",
          "name": "stdout",
          "text": [
            "    5\n",
            "    \"\"\"\n",
            "    output = {\n",
            "        'hjorth_params': [[1.330751518518291, 1.113951894542906e-12, 1.622530954186672], [1.351359751614262, 1.058771576518354e-12, 1.660757957381924], [1.377300703029643, 1.014141814542534e-12, 1\n",
            "test data number :  133\n"
          ]
        },
        {
          "output_type": "stream",
          "name": "stderr",
          "text": [
            "Setting `pad_token_id` to `eos_token_id`:128001 for open-end generation.\n",
            "Setting `pad_token_id` to `eos_token_id`:128001 for open-end generation.\n"
          ]
        },
        {
          "output_type": "stream",
          "name": "stdout",
          "text": [
            "    4\n",
            "    \"\"\"\n",
            "    output = {\n",
            "        'hjorth_params': [[1.148164425153841, 1.053857096152996e-11, 1.629767053526348], [1.122307487142896, 1.029053703620736e-11, 1.605534624096464], [1.272362347463952, 1.039391994613943e-11, 1\n",
            "test data number :  134\n"
          ]
        },
        {
          "output_type": "stream",
          "name": "stderr",
          "text": [
            "Setting `pad_token_id` to `eos_token_id`:128001 for open-end generation.\n",
            "Setting `pad_token_id` to `eos_token_id`:128001 for open-end generation.\n"
          ]
        },
        {
          "output_type": "stream",
          "name": "stdout",
          "text": [
            "    4\n",
            "    \"\"\"\n",
            "    output = {\n",
            "        'hjorth_params': [[1.389647817921059, 1.215090631745915e-12, 1.727523518612153], [1.305516594457339, 1.024693628624902e-12, 1.662085367917896], [1.358870144251652, 1.006182225274297e-12, 1\n",
            "test data number :  135\n"
          ]
        },
        {
          "output_type": "stream",
          "name": "stderr",
          "text": [
            "Setting `pad_token_id` to `eos_token_id`:128001 for open-end generation.\n",
            "Setting `pad_token_id` to `eos_token_id`:128001 for open-end generation.\n"
          ]
        },
        {
          "output_type": "stream",
          "name": "stdout",
          "text": [
            "    4\n",
            "    \"\"\"\n",
            "    output = {\n",
            "        'hjorth_params': [[1.148894894611906, 1.254762957958798e-10, 1.561647352563297], [1.156053619841772, 1.036860955614919e-10, 1.591144857530199], [1.300291094152919, 1.005240446225339e-10, 1\n",
            "test data number :  136\n"
          ]
        },
        {
          "output_type": "stream",
          "name": "stderr",
          "text": [
            "Setting `pad_token_id` to `eos_token_id`:128001 for open-end generation.\n",
            "Setting `pad_token_id` to `eos_token_id`:128001 for open-end generation.\n"
          ]
        },
        {
          "output_type": "stream",
          "name": "stdout",
          "text": [
            "    5\n",
            "    \"\"\"\n",
            "    output = {\n",
            "        'hjorth_params': [[1.5317877352352114, 2.0716578087990707e-11, 1.7813190080539558], [1.340535541631407, 1.9473665833053755e-11, 1.6514548926490102], [1.4513119931139253, 1.072393141459177\n",
            "test data number :  137\n"
          ]
        },
        {
          "output_type": "stream",
          "name": "stderr",
          "text": [
            "Setting `pad_token_id` to `eos_token_id`:128001 for open-end generation.\n",
            "Setting `pad_token_id` to `eos_token_id`:128001 for open-end generation.\n"
          ]
        },
        {
          "output_type": "stream",
          "name": "stdout",
          "text": [
            "    4\n",
            "    \"\"\"\n",
            "    output = {\n",
            "        'hjorth_params': [[1.594720153113113, 1.075091090979643e-11, 1.762761594542085], [1.372537637153153, 1.040177040225799e-11, 1.674643970608684], [1.372262274148096, 6.37209659459195e-12, 1\n",
            "test data number :  138\n"
          ]
        },
        {
          "output_type": "stream",
          "name": "stderr",
          "text": [
            "Setting `pad_token_id` to `eos_token_id`:128001 for open-end generation.\n",
            "Setting `pad_token_id` to `eos_token_id`:128001 for open-end generation.\n"
          ]
        },
        {
          "output_type": "stream",
          "name": "stdout",
          "text": [
            "    4\n",
            "    \"\"\"\n",
            "    output = {\n",
            "        'hjorth_params': [[1.283241619096291, 1.022546693921464e-12, 1.631574570921684], [1.274027647996362, 1.003274518745772e-12, 1.628431556274424], [1.357534573300115, 6.800241011372205e-13, 1\n",
            "test data number :  139\n"
          ]
        },
        {
          "output_type": "stream",
          "name": "stderr",
          "text": [
            "Setting `pad_token_id` to `eos_token_id`:128001 for open-end generation.\n",
            "Setting `pad_token_id` to `eos_token_id`:128001 for open-end generation.\n"
          ]
        },
        {
          "output_type": "stream",
          "name": "stdout",
          "text": [
            "    5\n",
            "    \"\"\"\n",
            "    output = {\n",
            "        'hjorth_params': [[1.412518935870289, 1.002630379156362e-12, 1.675384264526498], [1.429383980712666, 1.019552631141282e-12, 1.739573611859199], [1.471164023096763, 6.093216141216594e-13, 1\n",
            "test data number :  140\n"
          ]
        },
        {
          "output_type": "stream",
          "name": "stderr",
          "text": [
            "Setting `pad_token_id` to `eos_token_id`:128001 for open-end generation.\n",
            "Setting `pad_token_id` to `eos_token_id`:128001 for open-end generation.\n"
          ]
        },
        {
          "output_type": "stream",
          "name": "stdout",
          "text": [
            "    5\n",
            "    \"\"\"\n",
            "    output = {\n",
            "        'hjorth_params': [[1.395347144090123, 1.022546614148262e-11, 1.708085448241114], [1.348573693900255, 1.053693757956255e-11, 1.708372753678924], [1.409448516613029, 1.012053144422906e-11, 1\n",
            "test data number :  141\n"
          ]
        },
        {
          "output_type": "stream",
          "name": "stderr",
          "text": [
            "Setting `pad_token_id` to `eos_token_id`:128001 for open-end generation.\n",
            "Setting `pad_token_id` to `eos_token_id`:128001 for open-end generation.\n"
          ]
        },
        {
          "output_type": "stream",
          "name": "stdout",
          "text": [
            "    4\n",
            "    \"\"\"\n",
            "    output = {\n",
            "        'hjorth_params': [[1.482847921870174, 1.156494980870919e-12, 1.739765811678339], [1.373347643743255, 1.027619023043333e-12, 1.702291870499915], [1.414693577151255, 1.010599725182123e-12, 1\n",
            "test data number :  142\n"
          ]
        },
        {
          "output_type": "stream",
          "name": "stderr",
          "text": [
            "Setting `pad_token_id` to `eos_token_id`:128001 for open-end generation.\n",
            "Setting `pad_token_id` to `eos_token_id`:128001 for open-end generation.\n"
          ]
        },
        {
          "output_type": "stream",
          "name": "stdout",
          "text": [
            "    4\n",
            "    \"\"\"\n",
            "    output = {\n",
            "        'hjorth_params': [[1.396085956251251, 1.229684757263114e-12, 1.669556523152531], [1.372291901666363, 1.011144637193362e-12, 1.700523924678809], [1.427391620372258, 7.370164530124355e-13, 1\n",
            "test data number :  143\n"
          ]
        },
        {
          "output_type": "stream",
          "name": "stderr",
          "text": [
            "Setting `pad_token_id` to `eos_token_id`:128001 for open-end generation.\n",
            "Setting `pad_token_id` to `eos_token_id`:128001 for open-end generation.\n"
          ]
        },
        {
          "output_type": "stream",
          "name": "stdout",
          "text": [
            "    3\n",
            "    \"\"\"\n",
            "    output = {\n",
            "        'hjorth_params': [[1.306011551570289, 1.164156665011251e-11, 1.677850871666096], [1.211762519958849, 1.002751096463919e-11, 1.633538273015123], [1.298182483611345, 1.020693023307772e-11, 1\n",
            "test data number :  144\n"
          ]
        },
        {
          "output_type": "stream",
          "name": "stderr",
          "text": [
            "Setting `pad_token_id` to `eos_token_id`:128001 for open-end generation.\n",
            "Setting `pad_token_id` to `eos_token_id`:128001 for open-end generation.\n"
          ]
        },
        {
          "output_type": "stream",
          "name": "stdout",
          "text": [
            "    3\n",
            "    \"\"\"\n",
            "    output = {\n",
            "        'hjorth_params': [[1.141142693819915, 1.029737665372629e-11, 1.670371956019529], [1.103270637362262, 1.054767257592646e-11, 1.633856011186464], [1.216134857350462, 1.031090930053825e-11, 1\n",
            "test data number :  145\n"
          ]
        },
        {
          "output_type": "stream",
          "name": "stderr",
          "text": [
            "Setting `pad_token_id` to `eos_token_id`:128001 for open-end generation.\n",
            "Setting `pad_token_id` to `eos_token_id`:128001 for open-end generation.\n"
          ]
        },
        {
          "output_type": "stream",
          "name": "stdout",
          "text": [
            "    4\n",
            "    \"\"\"\n",
            "    output = {\n",
            "        'hjorth_params': [[1.142573773594921, 1.051542870630262e-12, 1.578594921875293], [1.113096619815914, 1.022876036362667e-12, 1.591523257053687], [1.274484160113462, 1.029610752678119e-12, 1\n",
            "test data number :  146\n"
          ]
        },
        {
          "output_type": "stream",
          "name": "stderr",
          "text": [
            "Setting `pad_token_id` to `eos_token_id`:128001 for open-end generation.\n",
            "Setting `pad_token_id` to `eos_token_id`:128001 for open-end generation.\n"
          ]
        },
        {
          "output_type": "stream",
          "name": "stdout",
          "text": [
            "    4\n",
            "    \"\"\"\n",
            "    output = {\n",
            "        'hjorth_params': [[1.135679728900193, 1.108760952530096e-11, 1.677693849144462], [1.146164567362297, 1.019870610447976e-11, 1.6438353301238458], [1.272094347459612, 1.031182863463666e-11, \n",
            "test data number :  147\n"
          ]
        },
        {
          "output_type": "stream",
          "name": "stderr",
          "text": [
            "Setting `pad_token_id` to `eos_token_id`:128001 for open-end generation.\n",
            "Setting `pad_token_id` to `eos_token_id`:128001 for open-end generation.\n"
          ]
        },
        {
          "output_type": "stream",
          "name": "stdout",
          "text": [
            "    4\n",
            "    \"\"\"\n",
            "    output = {\n",
            "        'hjorth_params': [[1.439771372657366, 1.173153273624898e-12, 1.734856248549743], [1.408779753563114, 1.043844372530829e-12, 1.692538549343763], [1.467371518391114, 6.15364716525473e-13, 1\n",
            "test data number :  148\n"
          ]
        },
        {
          "output_type": "stream",
          "name": "stderr",
          "text": [
            "Setting `pad_token_id` to `eos_token_id`:128001 for open-end generation.\n",
            "Setting `pad_token_id` to `eos_token_id`:128001 for open-end generation.\n"
          ]
        },
        {
          "output_type": "stream",
          "name": "stdout",
          "text": [
            "    5\n",
            "    \"\"\"\n",
            "    output = {\n",
            "        'hjorth_params': [[1.433148935544915, 1.0212747705949063e-11, 1.680647737297029], [1.300156367519347, 1.004551991260906e-11, 1.634672372956508], [1.394262519324798, 6.53035272553023e-12, \n",
            "test data number :  149\n"
          ]
        },
        {
          "output_type": "stream",
          "name": "stderr",
          "text": [
            "Setting `pad_token_id` to `eos_token_id`:128001 for open-end generation.\n",
            "Setting `pad_token_id` to `eos_token_id`:128001 for open-end generation.\n"
          ]
        },
        {
          "output_type": "stream",
          "name": "stdout",
          "text": [
            "    4\n",
            "    \"\"\"\n",
            "    output = {\n",
            "        'hjorth_params': [[1.111996090262952, 1.080809693257282e-11, 1.553552631921293], [1.216094894372763, 1.038330679372666e-11, 1.688144628391772], [1.325371519096366, 1.014761760148885e-11, 1\n",
            "test data number :  150\n"
          ]
        },
        {
          "output_type": "stream",
          "name": "stderr",
          "text": [
            "Setting `pad_token_id` to `eos_token_id`:128001 for open-end generation.\n",
            "Setting `pad_token_id` to `eos_token_id`:128001 for open-end generation.\n"
          ]
        },
        {
          "output_type": "stream",
          "name": "stdout",
          "text": [
            "    3\n",
            "    \"\"\"\n",
            "    output = {\n",
            "        'hjorth_params': [[1.3915121850447492, 1.0146653822436929e-12, 1.7634271513969015], [1.0161745182259545, 9.092656086122434e-13, 1.5668505466034428], [1.2759143519644276, 4.053985639526342\n",
            "test data number :  151\n"
          ]
        },
        {
          "output_type": "stream",
          "name": "stderr",
          "text": [
            "Setting `pad_token_id` to `eos_token_id`:128001 for open-end generation.\n",
            "Setting `pad_token_id` to `eos_token_id`:128001 for open-end generation.\n"
          ]
        },
        {
          "output_type": "stream",
          "name": "stdout",
          "text": [
            "    5\n",
            "    \"\"\"\n",
            "    output = {\n",
            "        'hjorth_params': [[1.241096094290763, 1.052164761921424e-12, 1.670647761425493], [1.236567253257123, 1.030264576053198e-12, 1.674534448257029], [1.366594519458919, 1.029085446921643e-12, 1\n",
            "test data number :  152\n"
          ]
        },
        {
          "output_type": "stream",
          "name": "stderr",
          "text": [
            "Setting `pad_token_id` to `eos_token_id`:128001 for open-end generation.\n",
            "Setting `pad_token_id` to `eos_token_id`:128001 for open-end generation.\n"
          ]
        },
        {
          "output_type": "stream",
          "name": "stdout",
          "text": [
            "    5\n",
            "    \"\"\"\n",
            "    output = {\n",
            "        'hjorth_params': [[1.377858810712161, 1.260300693040422e-12, 1.705956274459017], [1.344094849628736, 1.0400000000000001e-12, 1.681351523142127], [1.457053053819262, 1.0220000000000001e-12,\n",
            "test data number :  153\n"
          ]
        },
        {
          "output_type": "stream",
          "name": "stderr",
          "text": [
            "Setting `pad_token_id` to `eos_token_id`:128001 for open-end generation.\n",
            "Setting `pad_token_id` to `eos_token_id`:128001 for open-end generation.\n"
          ]
        },
        {
          "output_type": "stream",
          "name": "stdout",
          "text": [
            "    3\n",
            "    \"\"\"\n",
            "    output = {\n",
            "        'hjorth_params': [[1.2578714258469714, 2.152472358471879e-09, 1.830608555430795], [0.8914440796624642, 9.721081047719711e-10, 1.4947930950117834], [1.4532759743709527, 1.4132662429561482e\n",
            "test data number :  154\n"
          ]
        },
        {
          "output_type": "stream",
          "name": "stderr",
          "text": [
            "Setting `pad_token_id` to `eos_token_id`:128001 for open-end generation.\n",
            "Setting `pad_token_id` to `eos_token_id`:128001 for open-end generation.\n"
          ]
        },
        {
          "output_type": "stream",
          "name": "stdout",
          "text": [
            "    5\n",
            "    \"\"\"\n",
            "    output = {\n",
            "        'hjorth_params': [[1.5551701681951384, 1.948549366780655e-12, 1.8310446314809103], [1.3667638267759623, 7.166730296895077e-13, 1.753416083357063], [1.454966699019898, 3.889240973493278e-13\n",
            "test data number :  155\n"
          ]
        },
        {
          "output_type": "stream",
          "name": "stderr",
          "text": [
            "Setting `pad_token_id` to `eos_token_id`:128001 for open-end generation.\n",
            "Setting `pad_token_id` to `eos_token_id`:128001 for open-end generation.\n"
          ]
        },
        {
          "output_type": "stream",
          "name": "stdout",
          "text": [
            "    5\n",
            "    \"\"\"\n",
            "    output = {\n",
            "        'hjorth_params': [[1.255858260160915, 1.012810751666798e-11, 1.619765570531529], [1.285085094915262, 1.031767096422807e-11, 1.677019607096339], [1.309347767186114, 1.042400752156798e-11, 1\n",
            "test data number :  156\n"
          ]
        },
        {
          "output_type": "stream",
          "name": "stderr",
          "text": [
            "Setting `pad_token_id` to `eos_token_id`:128001 for open-end generation.\n",
            "Setting `pad_token_id` to `eos_token_id`:128001 for open-end generation.\n"
          ]
        },
        {
          "output_type": "stream",
          "name": "stdout",
          "text": [
            "    4\n",
            "    \"\"\"\n",
            "    output = {\n",
            "        'hjorth_params': [[1.108094611657462, 1.0292726846936596e-11, 1.591684857677947], [1.080267894393366, 1.022144257574119e-11, 1.588835274637574], [1.141300628819029, 1.044379518815738e-11, \n",
            "test data number :  157\n"
          ]
        },
        {
          "output_type": "stream",
          "name": "stderr",
          "text": [
            "Setting `pad_token_id` to `eos_token_id`:128001 for open-end generation.\n",
            "Setting `pad_token_id` to `eos_token_id`:128001 for open-end generation.\n"
          ]
        },
        {
          "output_type": "stream",
          "name": "stdout",
          "text": [
            "    5\n",
            "    \"\"\"\n",
            "    output = {\n",
            "        'hjorth_params': [[1.396106920962977, 3.841263389318776e-11, 1.7031742393230829], [0.9686187823884522, 2.1526845355529032e-11, 1.5154293385056545], [1.3431505412152631, 3.512579076733545e\n",
            "test data number :  158\n"
          ]
        },
        {
          "output_type": "stream",
          "name": "stderr",
          "text": [
            "Setting `pad_token_id` to `eos_token_id`:128001 for open-end generation.\n",
            "Setting `pad_token_id` to `eos_token_id`:128001 for open-end generation.\n"
          ]
        },
        {
          "output_type": "stream",
          "name": "stdout",
          "text": [
            "    5\n",
            "    \"\"\"\n",
            "    output = {\n",
            "        'hjorth_params': [[1.460153809254763, 1.0052746310969153e-12, 1.712538860624896], [1.348053144023299, 1.029542530870193e-12, 1.679422391767153], [1.439870628300492, 1.029552575152498e-12, \n",
            "test data number :  159\n"
          ]
        },
        {
          "output_type": "stream",
          "name": "stderr",
          "text": [
            "Setting `pad_token_id` to `eos_token_id`:128001 for open-end generation.\n",
            "Setting `pad_token_id` to `eos_token_id`:128001 for open-end generation.\n"
          ]
        },
        {
          "output_type": "stream",
          "name": "stdout",
          "text": [
            "    5\n",
            "    \"\"\"\n",
            "    output = {\n",
            "        'hjorth_params': [[1.426023151980921, 1.264765751148362e-12, 1.706762624182161], [1.370036849687919, 1.080951840186498e-12, 1.663956518506508], [1.473274144462293, 1.007693752257297e-12, 1\n",
            "test data number :  160\n"
          ]
        },
        {
          "output_type": "stream",
          "name": "stderr",
          "text": [
            "Setting `pad_token_id` to `eos_token_id`:128001 for open-end generation.\n",
            "Setting `pad_token_id` to `eos_token_id`:128001 for open-end generation.\n"
          ]
        },
        {
          "output_type": "stream",
          "name": "stdout",
          "text": [
            "    4\n",
            "    \"\"\"\n",
            "    output = {\n",
            "        'hjorth_params': [[1.1747226548965946, 9.372210366941472e-11, 1.8320941101109716], [0.8727085101555913, 7.001362358272805e-11, 1.5569592306153925], [1.1882593972253412, 1.8313398147338008\n",
            "test data number :  161\n"
          ]
        },
        {
          "output_type": "stream",
          "name": "stderr",
          "text": [
            "Setting `pad_token_id` to `eos_token_id`:128001 for open-end generation.\n",
            "Setting `pad_token_id` to `eos_token_id`:128001 for open-end generation.\n"
          ]
        },
        {
          "output_type": "stream",
          "name": "stdout",
          "text": [
            "    4\n",
            "    \"\"\"\n",
            "    output = {\n",
            "        'hjorth_params': [[1.372090819900315, 1.103091164144646e-12, 1.704459765612363], [1.405088622819799, 1.027182274053255e-12, 1.738573628612345], [1.438870979573362, 1.013804248300115e-12, 1\n",
            "test data number :  162\n"
          ]
        },
        {
          "output_type": "stream",
          "name": "stderr",
          "text": [
            "Setting `pad_token_id` to `eos_token_id`:128001 for open-end generation.\n",
            "Setting `pad_token_id` to `eos_token_id`:128001 for open-end generation.\n"
          ]
        },
        {
          "output_type": "stream",
          "name": "stdout",
          "text": [
            "    4\n",
            "    \"\"\"\n",
            "    output = {\n",
            "        'hjorth_params': [[1.0971111008829366, 1.5864074204194517e-11, 1.645849245587187], [0.8334944481634328, 2.3828721273641908e-11, 1.4949606078763278], [0.6909443945640436, 2.366030717450152\n",
            "test data number :  163\n"
          ]
        },
        {
          "output_type": "stream",
          "name": "stderr",
          "text": [
            "Setting `pad_token_id` to `eos_token_id`:128001 for open-end generation.\n",
            "Setting `pad_token_id` to `eos_token_id`:128001 for open-end generation.\n"
          ]
        },
        {
          "output_type": "stream",
          "name": "stdout",
          "text": [
            "    3\n",
            "    \"\"\"\n",
            "    output = {\n",
            "        'hjorth_params': [[1.204011251712258, 1.173000007519952e-12, 1.624702956463262], [1.273257248350498, 1.024900053164633e-12, 1.650761622849947], [1.332278487290293, 1.0420000000000001e-12, \n",
            "test data number :  164\n"
          ]
        },
        {
          "output_type": "stream",
          "name": "stderr",
          "text": [
            "Setting `pad_token_id` to `eos_token_id`:128001 for open-end generation.\n",
            "Setting `pad_token_id` to `eos_token_id`:128001 for open-end generation.\n"
          ]
        },
        {
          "output_type": "stream",
          "name": "stdout",
          "text": [
            "    5\n",
            "    \"\"\"\n",
            "    output = {\n",
            "        'hjorth_params': [[1.330779619594919, 1.017530156193574e-12, 1.670019901693639], [1.298578619372816, 1.022225765530201e-12, 1.6486286576248248], [1.364519573029798, 5.900705810124146e-13, \n",
            "test data number :  165\n"
          ]
        },
        {
          "output_type": "stream",
          "name": "stderr",
          "text": [
            "Setting `pad_token_id` to `eos_token_id`:128001 for open-end generation.\n",
            "Setting `pad_token_id` to `eos_token_id`:128001 for open-end generation.\n"
          ]
        },
        {
          "output_type": "stream",
          "name": "stdout",
          "text": [
            "    4\n",
            "    \"\"\"\n",
            "    output = {\n",
            "        'hjorth_params': [[1.152090761290444, 1.023272684053339e-11, 1.630549956531096], [1.191088745362291, 1.027570563002354e-11, 1.669378272556268], [1.273379380980919, 1.004144581152114e-11, 1\n",
            "test data number :  166\n"
          ]
        },
        {
          "output_type": "stream",
          "name": "stderr",
          "text": [
            "Setting `pad_token_id` to `eos_token_id`:128001 for open-end generation.\n",
            "Setting `pad_token_id` to `eos_token_id`:128001 for open-end generation.\n"
          ]
        },
        {
          "output_type": "stream",
          "name": "stdout",
          "text": [
            "    5\n",
            "    \"\"\"\n",
            "    output = {\n",
            "        'hjorth_params': [[1.446574765834919, 1.200844765141921e-12, 1.678761996594684], [1.372630810203841, 1.061380330362123e-12, 1.662144352850493], [1.453779577573255, 1.021757767372355e-12, 1\n",
            "test data number :  167\n"
          ]
        },
        {
          "output_type": "stream",
          "name": "stderr",
          "text": [
            "Setting `pad_token_id` to `eos_token_id`:128001 for open-end generation.\n",
            "Setting `pad_token_id` to `eos_token_id`:128001 for open-end generation.\n"
          ]
        },
        {
          "output_type": "stream",
          "name": "stdout",
          "text": [
            "    5\n",
            "    \"\"\"\n",
            "    output = {\n",
            "        'hjorth_params': [[1.328123765156798, 1.017534703678089e-12, 1.651762957612085], [1.391291628144921, 6.21627842511433e-13, 1.706530577619163], [1.439375446850454, 3.800690053207355e-13, 1\n",
            "test data number :  168\n"
          ]
        },
        {
          "output_type": "stream",
          "name": "stderr",
          "text": [
            "Setting `pad_token_id` to `eos_token_id`:128001 for open-end generation.\n",
            "Setting `pad_token_id` to `eos_token_id`:128001 for open-end generation.\n"
          ]
        },
        {
          "output_type": "stream",
          "name": "stdout",
          "text": [
            "    5\n",
            "    \"\"\"\n",
            "    output = {\n",
            "        'hjorth_params': [[1.148090849186114, 1.200775053153643e-11, 1.526467767767291], [1.224156134856113, 1.061542930594736e-11, 1.606952839277085], [1.373023023720199, 1.051600621372347e-11, 1\n",
            "test data number :  169\n"
          ]
        },
        {
          "output_type": "stream",
          "name": "stderr",
          "text": [
            "Setting `pad_token_id` to `eos_token_id`:128001 for open-end generation.\n",
            "Setting `pad_token_id` to `eos_token_id`:128001 for open-end generation.\n"
          ]
        },
        {
          "output_type": "stream",
          "name": "stdout",
          "text": [
            "    5\n",
            "    \"\"\"\n",
            "    output = {\n",
            "        'hjorth_params': [[1.378129251666772, 1.051090193306089e-12, 1.702534900906666], [1.272090359300444, 1.011225248463355e-12, 1.678144594372161], [1.370870530849339, 1.011767767264563e-12, 1\n",
            "test data number :  170\n"
          ]
        },
        {
          "output_type": "stream",
          "name": "stderr",
          "text": [
            "Setting `pad_token_id` to `eos_token_id`:128001 for open-end generation.\n",
            "Setting `pad_token_id` to `eos_token_id`:128001 for open-end generation.\n"
          ]
        },
        {
          "output_type": "stream",
          "name": "stdout",
          "text": [
            "    3\n",
            "    \"\"\"\n",
            "    output = {\n",
            "        'hjorth_params': [[1.365129857574798, 1.021241751300363e-11, 1.704877808251258], [1.278556955053366, 1.018090551129643e-11, 1.688628849594013], [1.342029446458114, 1.058110530980825e-11, 1\n",
            "test data number :  171\n"
          ]
        },
        {
          "output_type": "stream",
          "name": "stderr",
          "text": [
            "Setting `pad_token_id` to `eos_token_id`:128001 for open-end generation.\n",
            "Setting `pad_token_id` to `eos_token_id`:128001 for open-end generation.\n"
          ]
        },
        {
          "output_type": "stream",
          "name": "stdout",
          "text": [
            "    5\n",
            "    \"\"\"\n",
            "    output = {\n",
            "        'hjorth_params': [[1.344763636666629, 1.023053225023096e-12, 1.618519367850251], [1.292011144362369, 1.040270372751646e-12, 1.651351954142064], [1.467594575152129, 1.002857720917736e-12, 1\n",
            "test data number :  172\n"
          ]
        },
        {
          "output_type": "stream",
          "name": "stderr",
          "text": [
            "Setting `pad_token_id` to `eos_token_id`:128001 for open-end generation.\n",
            "Setting `pad_token_id` to `eos_token_id`:128001 for open-end generation.\n"
          ]
        },
        {
          "output_type": "stream",
          "name": "stdout",
          "text": [
            "    4\n",
            "    \"\"\"\n",
            "    output = {\n",
            "        'hjorth_params': [[1.058763340779629, 1.0269017574598414e-11, 1.639720677563492], [1.114267767612114, 1.046767257164574e-11, 1.677484153630019], [1.214142628300029, 1.010767053519355e-11, \n",
            "test data number :  173\n"
          ]
        },
        {
          "output_type": "stream",
          "name": "stderr",
          "text": [
            "Setting `pad_token_id` to `eos_token_id`:128001 for open-end generation.\n",
            "Setting `pad_token_id` to `eos_token_id`:128001 for open-end generation.\n"
          ]
        },
        {
          "output_type": "stream",
          "name": "stdout",
          "text": [
            "    4\n",
            "    \"\"\"\n",
            "    output = {\n",
            "        'hjorth_params': [[1.5403940824159366, 1.8392631463687586e-12, 1.7998061057539585], [1.4375712464628922, 1.020857581819161e-12, 1.7335076824522968], [1.370338608823832, 1.027876920767798e\n",
            "test data number :  174\n"
          ]
        },
        {
          "output_type": "stream",
          "name": "stderr",
          "text": [
            "Setting `pad_token_id` to `eos_token_id`:128001 for open-end generation.\n",
            "Setting `pad_token_id` to `eos_token_id`:128001 for open-end generation.\n"
          ]
        },
        {
          "output_type": "stream",
          "name": "stdout",
          "text": [
            "    4\n",
            "    \"\"\"\n",
            "    output = {\n",
            "        'hjorth_params': [[1.2777237390424634, 1.051951862925059e-11, 1.694443367459291], [1.097094960151736, 1.013274534262575e-11, 1.628144448391591], [1.229300499611799, 1.018144290566115e-11, \n",
            "test data number :  175\n"
          ]
        },
        {
          "output_type": "stream",
          "name": "stderr",
          "text": [
            "Setting `pad_token_id` to `eos_token_id`:128001 for open-end generation.\n",
            "Setting `pad_token_id` to `eos_token_id`:128001 for open-end generation.\n"
          ]
        },
        {
          "output_type": "stream",
          "name": "stdout",
          "text": [
            "    5\n",
            "    \"\"\"\n",
            "    output = {\n",
            "        'hjorth_params': [[1.365957620919775, 1.1820536788409192e-12, 1.682108448156508], [1.387538620327262, 1.071156036023258e-12, 1.711574274573924], [1.429857622372468, 1.024810151542029e-12, \n",
            "test data number :  176\n"
          ]
        },
        {
          "output_type": "stream",
          "name": "stderr",
          "text": [
            "Setting `pad_token_id` to `eos_token_id`:128001 for open-end generation.\n",
            "Setting `pad_token_id` to `eos_token_id`:128001 for open-end generation.\n"
          ]
        },
        {
          "output_type": "stream",
          "name": "stdout",
          "text": [
            "    4\n",
            "    \"\"\"\n",
            "    output = {\n",
            "        'hjorth_params': [[1.173455970186863, 1.019010665628498e-10, 1.618931611207215], [1.117029850262258, 1.005091875720339e-10, 1.645484530262919], [1.214059762144029, 1.011901693038736e-11, 1\n",
            "test data number :  177\n"
          ]
        },
        {
          "output_type": "stream",
          "name": "stderr",
          "text": [
            "Setting `pad_token_id` to `eos_token_id`:128001 for open-end generation.\n",
            "Setting `pad_token_id` to `eos_token_id`:128001 for open-end generation.\n"
          ]
        },
        {
          "output_type": "stream",
          "name": "stdout",
          "text": [
            "    5\n",
            "    \"\"\"\n",
            "    output = {\n",
            "        'hjorth_params': [[1.237023090113772, 1.053546040153915e-11, 1.637556693425877], [1.308576011349684, 1.059216594921863e-11, 1.684850327291996], [1.402594578720468, 1.003720272291498e-11, 1\n",
            "test data number :  178\n"
          ]
        },
        {
          "output_type": "stream",
          "name": "stderr",
          "text": [
            "Setting `pad_token_id` to `eos_token_id`:128001 for open-end generation.\n",
            "Setting `pad_token_id` to `eos_token_id`:128001 for open-end generation.\n"
          ]
        },
        {
          "output_type": "stream",
          "name": "stdout",
          "text": [
            "    4\n",
            "    \"\"\"\n",
            "    output = {\n",
            "        'hjorth_params': [[1.201518958970161, 1.0500000000000001e-11, 1.605866630241064, [1.203672507841684, 1.151156530090643, 1.578011300096289, 1.297291958160205, 1.361630307498729, 1.378262377096\n",
            "test data number :  179\n"
          ]
        },
        {
          "output_type": "stream",
          "name": "stderr",
          "text": [
            "Setting `pad_token_id` to `eos_token_id`:128001 for open-end generation.\n",
            "Setting `pad_token_id` to `eos_token_id`:128001 for open-end generation.\n"
          ]
        },
        {
          "output_type": "stream",
          "name": "stdout",
          "text": [
            "    4\n",
            "    \"\"\"\n",
            "    output = {\n",
            "        'hjorth_params': [[1.119782767153113, 1.019877839425898e-11, 1.590767577330134], [1.113164144815736, 1.056156631282498e-11, 1.646529564330462], [1.238405901160255, 1.010810523767885e-11, 1\n",
            "test data number :  180\n"
          ]
        },
        {
          "output_type": "stream",
          "name": "stderr",
          "text": [
            "Setting `pad_token_id` to `eos_token_id`:128001 for open-end generation.\n",
            "Setting `pad_token_id` to `eos_token_id`:128001 for open-end generation.\n"
          ]
        },
        {
          "output_type": "stream",
          "name": "stdout",
          "text": [
            "    4\n",
            "    \"\"\"\n",
            "    output = {\n",
            "        'hjorth_params': [[1.1662711794151073, 4.4718782671032936e-08, 1.7601304601776158], [0.8552866176024689, 2.299963306532205e-08, 1.3015769170409237], [1.286046706270447, 3.880706319482264e\n",
            "test data number :  181\n"
          ]
        },
        {
          "output_type": "stream",
          "name": "stderr",
          "text": [
            "Setting `pad_token_id` to `eos_token_id`:128001 for open-end generation.\n",
            "Setting `pad_token_id` to `eos_token_id`:128001 for open-end generation.\n"
          ]
        },
        {
          "output_type": "stream",
          "name": "stdout",
          "text": [
            "    4\n",
            "    \"\"\"\n",
            "    output = {\n",
            "        'hjorth_params': [[1.431012862459684, 1.051151594859914e-11, 1.715241448950268], [1.227849253152915, 1.050182757152672e-11, 1.629619954342017], [1.292262757300193, 1.038751980819807e-11, 1\n",
            "test data number :  182\n"
          ]
        },
        {
          "output_type": "stream",
          "name": "stderr",
          "text": [
            "Setting `pad_token_id` to `eos_token_id`:128001 for open-end generation.\n",
            "Setting `pad_token_id` to `eos_token_id`:128001 for open-end generation.\n"
          ]
        },
        {
          "output_type": "stream",
          "name": "stdout",
          "text": [
            "    4\n",
            "    \"\"\"\n",
            "    output = {\n",
            "        'hjorth_params': [[1.428019955462854, 1.0531130360292826e-12, 1.727856757624763], [1.302248352460736, 1.023379274053885e-12, 1.678761337254684], [1.378156518291251, 1.043278044053798e-12, \n",
            "test data number :  183\n"
          ]
        },
        {
          "output_type": "stream",
          "name": "stderr",
          "text": [
            "Setting `pad_token_id` to `eos_token_id`:128001 for open-end generation.\n",
            "Setting `pad_token_id` to `eos_token_id`:128001 for open-end generation.\n"
          ]
        },
        {
          "output_type": "stream",
          "name": "stdout",
          "text": [
            "    5\n",
            "    \"\"\"\n",
            "    output = {\n",
            "        'hjorth_params': [[1.2328959950916198, 1.801145734886917e-11, 1.7472506650833495], [0.9093433878870537, 1.485994783745636e-11, 1.4108820402508977], [1.1242936750938983, 6.056953980282294e\n",
            "test data number :  184\n"
          ]
        },
        {
          "output_type": "stream",
          "name": "stderr",
          "text": [
            "Setting `pad_token_id` to `eos_token_id`:128001 for open-end generation.\n",
            "Setting `pad_token_id` to `eos_token_id`:128001 for open-end generation.\n"
          ]
        },
        {
          "output_type": "stream",
          "name": "stdout",
          "text": [
            "    4\n",
            "    \"\"\"\n",
            "    output = {\n",
            "        'hjorth_params': [[0.762720781850096, 1.144053023300121e-10, 1.553371144327464], [0.8395341512592544, 1.004877272207366e-11, 1.618870144841896], [0.883458781094358, 1.038264762370798e-12, \n",
            "test data number :  185\n"
          ]
        },
        {
          "output_type": "stream",
          "name": "stderr",
          "text": [
            "Setting `pad_token_id` to `eos_token_id`:128001 for open-end generation.\n",
            "Setting `pad_token_id` to `eos_token_id`:128001 for open-end generation.\n"
          ]
        },
        {
          "output_type": "stream",
          "name": "stdout",
          "text": [
            "    4\n",
            "    \"\"\"\n",
            "    output = {\n",
            "        'hjorth_params': [[1.102099875347089, 1.027866628614829e-11, 1.606858622422672], [1.091164566260262, 1.015877856023643e-11, 1.578538931570289], [1.211307857327366, 1.005600525053115e-11, 1\n",
            "test data number :  186\n"
          ]
        },
        {
          "output_type": "stream",
          "name": "stderr",
          "text": [
            "Setting `pad_token_id` to `eos_token_id`:128001 for open-end generation.\n",
            "Setting `pad_token_id` to `eos_token_id`:128001 for open-end generation.\n"
          ]
        },
        {
          "output_type": "stream",
          "name": "stdout",
          "text": [
            "    4\n",
            "    \"\"\"\n",
            "    output = {\n",
            "        'hjorth_params': [[1.452153457570366, 1.2042647617650965e-12, 1.679762257362737], [1.324357637327845, 1.017156518096291e-12, 1.674591901870824], [1.427459958291845, 6.096405752840583e-13, \n",
            "test data number :  187\n"
          ]
        },
        {
          "output_type": "stream",
          "name": "stderr",
          "text": [
            "Setting `pad_token_id` to `eos_token_id`:128001 for open-end generation.\n",
            "Setting `pad_token_id` to `eos_token_id`:128001 for open-end generation.\n"
          ]
        },
        {
          "output_type": "stream",
          "name": "stdout",
          "text": [
            "    4\n",
            "    \"\"\"\n",
            "    output = {\n",
            "        'hjorth_params': [[1.053841681996114, 1.182359570665863e-10, 1.662628857970297], [1.075182518349372, 1.029156770570362e-11, 1.625556906666998], [1.171307550819498, 1.006156952518736e-11, 1\n",
            "test data number :  188\n"
          ]
        },
        {
          "output_type": "stream",
          "name": "stderr",
          "text": [
            "Setting `pad_token_id` to `eos_token_id`:128001 for open-end generation.\n",
            "Setting `pad_token_id` to `eos_token_id`:128001 for open-end generation.\n"
          ]
        },
        {
          "output_type": "stream",
          "name": "stdout",
          "text": [
            "    4\n",
            "    \"\"\"\n",
            "    output = {\n",
            "        'hjorth_params': [[1.543542053779737, 1.156690980144844e-12, 1.824576542422255], [1.428835566053059, 1.082816307856976e-12, 1.718529359029574], [1.487385566290297, 1.007631930770909e-12, 1\n",
            "test data number :  189\n"
          ]
        },
        {
          "output_type": "stream",
          "name": "stderr",
          "text": [
            "Setting `pad_token_id` to `eos_token_id`:128001 for open-end generation.\n",
            "Setting `pad_token_id` to `eos_token_id`:128001 for open-end generation.\n"
          ]
        },
        {
          "output_type": "stream",
          "name": "stdout",
          "text": [
            "    4\n",
            "    \"\"\"\n",
            "    output = {\n",
            "        'hjorth_params': [[1.215636954260252, 1.075630757347251e-11, 1.647448141297013], [1.143850536457123, 1.015164053090366e-11, 1.618871248153345], [1.329516957566498, 1.020551563252333e-12, 1\n",
            "test data number :  190\n"
          ]
        },
        {
          "output_type": "stream",
          "name": "stderr",
          "text": [
            "Setting `pad_token_id` to `eos_token_id`:128001 for open-end generation.\n",
            "Setting `pad_token_id` to `eos_token_id`:128001 for open-end generation.\n"
          ]
        },
        {
          "output_type": "stream",
          "name": "stdout",
          "text": [
            "    5\n",
            "    \"\"\"\n",
            "    output = {\n",
            "        'hjorth_params': [[1.201762573362262, 1.100108874901089e-11, 1.620576011574362], [1.225271029530529, 1.013040901700574e-11, 1.634594924556672], [1.299257557457643, 1.039844487720115e-11, 1\n",
            "test data number :  191\n"
          ]
        },
        {
          "output_type": "stream",
          "name": "stderr",
          "text": [
            "Setting `pad_token_id` to `eos_token_id`:128001 for open-end generation.\n",
            "Setting `pad_token_id` to `eos_token_id`:128001 for open-end generation.\n"
          ]
        },
        {
          "output_type": "stream",
          "name": "stdout",
          "text": [
            "    4\n",
            "    \"\"\"\n",
            "    output = {\n",
            "        'hjorth_params': [[1.046849153186347, 1.059164725347215e-11, 1.578347657901064], [1.092182530577544, 1.015765193152115e-11, 1.634591637141339], [1.175262611849898, 1.021460023207119e-11, 1\n",
            "test data number :  192\n"
          ]
        },
        {
          "output_type": "stream",
          "name": "stderr",
          "text": [
            "Setting `pad_token_id` to `eos_token_id`:128001 for open-end generation.\n",
            "Setting `pad_token_id` to `eos_token_id`:128001 for open-end generation.\n"
          ]
        },
        {
          "output_type": "stream",
          "name": "stdout",
          "text": [
            "    4\n",
            "    \"\"\"\n",
            "    output = {\n",
            "        'hjorth_params': [[1.270141257900297, 1.092330011610629e-11, 1.612659556017498], [1.329573300330666, 1.039241760384906e-11, 1.684591372592339], [1.448484446463574, 1.014720274330262e-11, 1\n",
            "test data number :  193\n"
          ]
        },
        {
          "output_type": "stream",
          "name": "stderr",
          "text": [
            "Setting `pad_token_id` to `eos_token_id`:128001 for open-end generation.\n",
            "Setting `pad_token_id` to `eos_token_id`:128001 for open-end generation.\n"
          ]
        },
        {
          "output_type": "stream",
          "name": "stdout",
          "text": [
            "    3\n",
            "    \"\"\"\n",
            "    output = {\n",
            "        'hjorth_params': [[1.259534681463363, 1.429870628144898e-12, 1.649643611815258], [1.237273350279366, 1.028765532027363e-12, 1.644952761839943], [1.241241094036629, 1.075870871241529e-12, 1\n",
            "test data number :  194\n"
          ]
        },
        {
          "output_type": "stream",
          "name": "stderr",
          "text": [
            "Setting `pad_token_id` to `eos_token_id`:128001 for open-end generation.\n",
            "Setting `pad_token_id` to `eos_token_id`:128001 for open-end generation.\n"
          ]
        },
        {
          "output_type": "stream",
          "name": "stdout",
          "text": [
            "    3\n",
            "    \"\"\"\n",
            "    output = {\n",
            "        'hjorth_params': [[1.344751380151906, 1.090144693141464e-12, 1.677767257459424], [1.200164352019951, 1.036241577860205e-12, 1.632771901094362], [1.273241359594114, 1.053860757059672e-12, 1\n",
            "test data number :  195\n"
          ]
        },
        {
          "output_type": "stream",
          "name": "stderr",
          "text": [
            "Setting `pad_token_id` to `eos_token_id`:128001 for open-end generation.\n",
            "Setting `pad_token_id` to `eos_token_id`:128001 for open-end generation.\n"
          ]
        },
        {
          "output_type": "stream",
          "name": "stdout",
          "text": [
            "    4\n",
            "    \"\"\"\n",
            "    output = {\n",
            "        'hjorth_params': [[1.327019954841347, 1.013952647457639e-12, 1.705087380425919], [1.268546372378921, 1.026570770400366e-12, 1.676367556372523], [1.344096761460898, 1.017690870124529e-12, 1\n",
            "test data number :  196\n"
          ]
        },
        {
          "output_type": "stream",
          "name": "stderr",
          "text": [
            "Setting `pad_token_id` to `eos_token_id`:128001 for open-end generation.\n",
            "Setting `pad_token_id` to `eos_token_id`:128001 for open-end generation.\n"
          ]
        },
        {
          "output_type": "stream",
          "name": "stdout",
          "text": [
            "    4\n",
            "    \"\"\"\n",
            "    output = {\n",
            "        'hjorth_params': [[1.513858765011347, 1.156767252745114e-12, 1.703573857359824], [1.405539767254799, 1.013810930241529e-12, 1.677570808459127], [1.441085094327297, 5.556090693215594e-13, 1\n",
            "test data number :  197\n"
          ]
        },
        {
          "output_type": "stream",
          "name": "stderr",
          "text": [
            "Setting `pad_token_id` to `eos_token_id`:128001 for open-end generation.\n",
            "Setting `pad_token_id` to `eos_token_id`:128001 for open-end generation.\n"
          ]
        },
        {
          "output_type": "stream",
          "name": "stdout",
          "text": [
            "    5\n",
            "    \"\"\"\n",
            "    output = {\n",
            "        'hjorth_params': [[1.2777106831475085, 3.2391871053983754e-12, 1.7013151015827106], [1.1178475837519934, 5.5731306289010315e-12, 1.4904011839482115], [1.2885251567731957, 2.434442724216\n",
            "test data number :  198\n"
          ]
        },
        {
          "output_type": "stream",
          "name": "stderr",
          "text": [
            "Setting `pad_token_id` to `eos_token_id`:128001 for open-end generation.\n",
            "Setting `pad_token_id` to `eos_token_id`:128001 for open-end generation.\n"
          ]
        },
        {
          "output_type": "stream",
          "name": "stdout",
          "text": [
            "    5\n",
            "    \"\"\"\n",
            "    output = {\n",
            "        'hjorth_params': [[1.432672372970229, 1.178011877372298e-11, 1.682573693053291], [1.430559970291716, 1.034347542693825e-11, 1.699542927330153], [1.415263693053729, 7.023379144859584e-12, 1\n",
            "test data number :  199\n"
          ]
        },
        {
          "output_type": "stream",
          "name": "stderr",
          "text": [
            "Setting `pad_token_id` to `eos_token_id`:128001 for open-end generation.\n",
            "Setting `pad_token_id` to `eos_token_id`:128001 for open-end generation.\n"
          ]
        },
        {
          "output_type": "stream",
          "name": "stdout",
          "text": [
            "    3\n",
            "    \"\"\"\n",
            "    output = {\n",
            "        'hjorth_params': [[1.6685117888496668, 3.386621654405383e-11, 1.8212471700975155], [1.2763185434842041, 1.7796580288667176e-11, 1.6766408498585392], [1.3656496402930152, 1.808149171632342\n",
            "test data number :  200\n"
          ]
        },
        {
          "output_type": "stream",
          "name": "stderr",
          "text": [
            "Setting `pad_token_id` to `eos_token_id`:128001 for open-end generation.\n",
            "Setting `pad_token_id` to `eos_token_id`:128001 for open-end generation.\n"
          ]
        },
        {
          "output_type": "stream",
          "name": "stdout",
          "text": [
            "    4\n",
            "    \"\"\"\n",
            "    output = {\n",
            "        'hjorth_params': [[1.202144881193215, 1.051203225257251e-12, 1.621693761612464], [1.230779980372915, 1.004300703186366e-12, 1.632523549531763], [1.309405631291629, 1.0100000000000002e-12, \n",
            "test data number :  201\n"
          ]
        },
        {
          "output_type": "stream",
          "name": "stderr",
          "text": [
            "Setting `pad_token_id` to `eos_token_id`:128001 for open-end generation.\n",
            "Setting `pad_token_id` to `eos_token_id`:128001 for open-end generation.\n"
          ]
        },
        {
          "output_type": "stream",
          "name": "stdout",
          "text": [
            "    5\n",
            "    \"\"\"\n",
            "    output = {\n",
            "        'hjorth_params': [[1.272839952678291, 1.024091372017898e-12, 1.618621556053161], [1.216767577624629, 1.053096751144363e-12, 1.620578767274339], [1.293856870581258, 1.029630153856885e-12, 1\n",
            "test data number :  202\n"
          ]
        },
        {
          "output_type": "stream",
          "name": "stderr",
          "text": [
            "Setting `pad_token_id` to `eos_token_id`:128001 for open-end generation.\n",
            "Setting `pad_token_id` to `eos_token_id`:128001 for open-end generation.\n"
          ]
        },
        {
          "output_type": "stream",
          "name": "stdout",
          "text": [
            "    4\n",
            "    \"\"\"\n",
            "    output = {\n",
            "        'hjorth_params': [[1.392751053457372, 1.0290911441488445e-11, 1.678531557519129], [1.268058956029899, 1.045546141023258e-11, 1.677307871859523], [1.344378096611029, 1.046542372241667e-11, \n",
            "test data number :  203\n"
          ]
        },
        {
          "output_type": "stream",
          "name": "stderr",
          "text": [
            "Setting `pad_token_id` to `eos_token_id`:128001 for open-end generation.\n",
            "Setting `pad_token_id` to `eos_token_id`:128001 for open-end generation.\n"
          ]
        },
        {
          "output_type": "stream",
          "name": "stdout",
          "text": [
            "    5\n",
            "    \"\"\"\n",
            "    output = {\n",
            "        'hjorth_params': [[1.321841762011358, 1.019170096152919e-12, 1.618643053693113], [1.283053534359629, 1.011144272029339e-12, 1.633611144186372], [1.301850448372029, 6.53057786037532e-13, 1\n",
            "test data number :  204\n"
          ]
        },
        {
          "output_type": "stream",
          "name": "stderr",
          "text": [
            "Setting `pad_token_id` to `eos_token_id`:128001 for open-end generation.\n",
            "Setting `pad_token_id` to `eos_token_id`:128001 for open-end generation.\n"
          ]
        },
        {
          "output_type": "stream",
          "name": "stdout",
          "text": [
            "    3\n",
            "    \"\"\"\n",
            "    output = {\n",
            "        'hjorth_params': [[1.212262029113123, 1.002053040530333e-11, 1.644530970677574], [1.224133765858123, 1.017870970870115e-11, 1.645757607577616], [1.388459352053029, 1.053170814096113e-11, 1\n",
            "test data number :  205\n"
          ]
        },
        {
          "output_type": "stream",
          "name": "stderr",
          "text": [
            "Setting `pad_token_id` to `eos_token_id`:128001 for open-end generation.\n",
            "Setting `pad_token_id` to `eos_token_id`:128001 for open-end generation.\n"
          ]
        },
        {
          "output_type": "stream",
          "name": "stdout",
          "text": [
            "    4\n",
            "    \"\"\"\n",
            "    output = {\n",
            "        'hjorth_params': [[1.413779870906996, 1.0277519570949964e-12, 1.681628761186574], [1.304523462300277, 1.058375765549825e-12, 1.666631144347684], [1.467519757053362, 1.006144993546736e-12, \n",
            "test data number :  206\n"
          ]
        },
        {
          "output_type": "stream",
          "name": "stderr",
          "text": [
            "Setting `pad_token_id` to `eos_token_id`:128001 for open-end generation.\n",
            "Setting `pad_token_id` to `eos_token_id`:128001 for open-end generation.\n"
          ]
        },
        {
          "output_type": "stream",
          "name": "stdout",
          "text": [
            "    5\n",
            "    \"\"\"\n",
            "    output = {\n",
            "        'hjorth_params': [[1.423012921687798, 1.0753006650293664e-12, 1.678856837251424], [1.271567573349763, 1.002996248040798e-12, 1.636954487359998], [1.392384570260315, 1.019000839850161e-12, \n",
            "test data number :  207\n"
          ]
        },
        {
          "output_type": "stream",
          "name": "stderr",
          "text": [
            "Setting `pad_token_id` to `eos_token_id`:128001 for open-end generation.\n",
            "Setting `pad_token_id` to `eos_token_id`:128001 for open-end generation.\n"
          ]
        },
        {
          "output_type": "stream",
          "name": "stdout",
          "text": [
            "    3\n",
            "    \"\"\"\n",
            "    output = {\n",
            "        'hjorth_params': [[1.1085412501276684, 1.8488130164026428e-09, 1.6618513810163317], [0.6981439986241255, 1.076825726767896e-10, 1.580906481356297], [0.8104886344296368, 1.050241591994799e\n",
            "test data number :  208\n"
          ]
        },
        {
          "output_type": "stream",
          "name": "stderr",
          "text": [
            "Setting `pad_token_id` to `eos_token_id`:128001 for open-end generation.\n",
            "Setting `pad_token_id` to `eos_token_id`:128001 for open-end generation.\n"
          ]
        },
        {
          "output_type": "stream",
          "name": "stdout",
          "text": [
            "    5\n",
            "    \"\"\"\n",
            "    output = {\n",
            "        'hjorth_params': [[1.589537870630544, 1.110690659248942e-12, 1.761391556624824], [1.385096611612799, 1.026347534029885e-12, 1.684552951581424], [1.408391810770268, 6.340241040460667e-13, 1\n",
            "test data number :  209\n"
          ]
        },
        {
          "output_type": "stream",
          "name": "stderr",
          "text": [
            "Setting `pad_token_id` to `eos_token_id`:128001 for open-end generation.\n",
            "Setting `pad_token_id` to `eos_token_id`:128001 for open-end generation.\n"
          ]
        },
        {
          "output_type": "stream",
          "name": "stdout",
          "text": [
            "    5\n",
            "    \"\"\"\n",
            "    output = {\n",
            "        'hjorth_params': [[1.382987994979729, 1.630053546090206e-12, 1.684241542958262], [1.358771530001902, 1.022262523980115e-12, 1.708529367011529], [1.469459550611059, 7.300952148327736e-13, 1\n",
            "test data number :  210\n"
          ]
        },
        {
          "output_type": "stream",
          "name": "stderr",
          "text": [
            "Setting `pad_token_id` to `eos_token_id`:128001 for open-end generation.\n",
            "Setting `pad_token_id` to `eos_token_id`:128001 for open-end generation.\n"
          ]
        },
        {
          "output_type": "stream",
          "name": "stdout",
          "text": [
            "    4\n",
            "    \"\"\"\n",
            "    output = {\n",
            "        'hjorth_params': [[1.4957769200364517, 5.541256277777482e-12, 1.8300105251970755], [1.2908769522135108, 3.5870122861009962e-12, 1.6118814169874094], [1.3125423455362755, 2.001552747691622\n",
            "test data number :  211\n"
          ]
        },
        {
          "output_type": "stream",
          "name": "stderr",
          "text": [
            "Setting `pad_token_id` to `eos_token_id`:128001 for open-end generation.\n",
            "Setting `pad_token_id` to `eos_token_id`:128001 for open-end generation.\n"
          ]
        },
        {
          "output_type": "stream",
          "name": "stdout",
          "text": [
            "    4\n",
            "    \"\"\"\n",
            "    output = {\n",
            "        'hjorth_params': [[1.371121839463297, 1.156384647347633e-12, 1.631531023362114], [1.354099894915029, 1.011840610943969e-12, 1.684087871342297], [1.469085628678355, 7.36687014128297e-13, 1\n",
            "test data number :  212\n"
          ]
        },
        {
          "output_type": "stream",
          "name": "stderr",
          "text": [
            "Setting `pad_token_id` to `eos_token_id`:128001 for open-end generation.\n",
            "Setting `pad_token_id` to `eos_token_id`:128001 for open-end generation.\n"
          ]
        },
        {
          "output_type": "stream",
          "name": "stdout",
          "text": [
            "    5\n",
            "    \"\"\"\n",
            "    output = {\n",
            "        'hjorth_params': [[1.141203570819462, 1.004263770574584e-10, 1.625405628614402], [1.098767463859736, 1.044762624152594e-10, 1.618765337320123], [1.082347857094763, 1.019804481113443e-10, 1\n",
            "test data number :  213\n"
          ]
        },
        {
          "output_type": "stream",
          "name": "stderr",
          "text": [
            "Setting `pad_token_id` to `eos_token_id`:128001 for open-end generation.\n",
            "Setting `pad_token_id` to `eos_token_id`:128001 for open-end generation.\n"
          ]
        },
        {
          "output_type": "stream",
          "name": "stdout",
          "text": [
            "    5\n",
            "    \"\"\"\n",
            "    output = {\n",
            "        'hjorth_params': [[1.344085274849464, 1.1000116370401198e-12, 1.644530761808666], [1.435029952260115, 1.064053372282355e-12, 1.741576871378947], [1.516153144628772, 1.021379781460366e-12, \n",
            "test data number :  214\n"
          ]
        },
        {
          "output_type": "stream",
          "name": "stderr",
          "text": [
            "Setting `pad_token_id` to `eos_token_id`:128001 for open-end generation.\n",
            "Setting `pad_token_id` to `eos_token_id`:128001 for open-end generation.\n"
          ]
        },
        {
          "output_type": "stream",
          "name": "stdout",
          "text": [
            "    5\n",
            "    \"\"\"\n",
            "    output = {\n",
            "        'hjorth_params': [[1.204763759011798, 1.094573614624363e-11, 1.594459359859372], [1.200538762029798, 1.034069262640262e-11, 1.618762551153919], [1.262757611151921, 1.024901767053898e-11, 1\n",
            "test data number :  215\n"
          ]
        },
        {
          "output_type": "stream",
          "name": "stderr",
          "text": [
            "Setting `pad_token_id` to `eos_token_id`:128001 for open-end generation.\n",
            "Setting `pad_token_id` to `eos_token_id`:128001 for open-end generation.\n"
          ]
        },
        {
          "output_type": "stream",
          "name": "stdout",
          "text": [
            "    4\n",
            "    \"\"\"\n",
            "    output = {\n",
            "        'hjorth_params': [[1.327144856053354, 1.051757591152807e-11, 1.678702870927114], [1.277870621870896, 1.017121141901921e-11, 1.648023506384639], [1.342375036160519, 7.04035914451803e-12, 1\n",
            "test data number :  216\n"
          ]
        },
        {
          "output_type": "stream",
          "name": "stderr",
          "text": [
            "Setting `pad_token_id` to `eos_token_id`:128001 for open-end generation.\n",
            "Setting `pad_token_id` to `eos_token_id`:128001 for open-end generation.\n"
          ]
        },
        {
          "output_type": "stream",
          "name": "stdout",
          "text": [
            "    5\n",
            "    \"\"\"\n",
            "    output = {\n",
            "        'hjorth_params': [[1.138968915815906, 1.1510000020040292e-10, 1.7078549505706242], [1.094203955915643, 1.064193542630362e-10, 1.688525970614113], [1.171779273186775, 1.015300761096594e-11,\n",
            "test data number :  217\n"
          ]
        },
        {
          "output_type": "stream",
          "name": "stderr",
          "text": [
            "Setting `pad_token_id` to `eos_token_id`:128001 for open-end generation.\n",
            "Setting `pad_token_id` to `eos_token_id`:128001 for open-end generation.\n"
          ]
        },
        {
          "output_type": "stream",
          "name": "stdout",
          "text": [
            "    5\n",
            "    \"\"\"\n",
            "    output = {\n",
            "        'hjorth_params': [[1.320751575290915, 1.229151920819161e-12, 1.634859621957743], [1.274578153330161, 1.034359534156668e-12, 1.622501391425402], [1.378019053612824, 1.004053573274215e-12, 1\n",
            "test data number :  218\n"
          ]
        },
        {
          "output_type": "stream",
          "name": "stderr",
          "text": [
            "Setting `pad_token_id` to `eos_token_id`:128001 for open-end generation.\n",
            "Setting `pad_token_id` to `eos_token_id`:128001 for open-end generation.\n"
          ]
        },
        {
          "output_type": "stream",
          "name": "stdout",
          "text": [
            "    5\n",
            "    \"\"\"\n",
            "    output = {\n",
            "        'hjorth_params': [[1.402573518841896, 1.026546631637114e-11, 1.669952637053494], [1.342870630156643, 1.019069762752443e-11, 1.663061144592199], [1.405272519160347, 1.048108811290199e-11, 1\n",
            "test data number :  219\n"
          ]
        },
        {
          "output_type": "stream",
          "name": "stderr",
          "text": [
            "Setting `pad_token_id` to `eos_token_id`:128001 for open-end generation.\n",
            "Setting `pad_token_id` to `eos_token_id`:128001 for open-end generation.\n"
          ]
        },
        {
          "output_type": "stream",
          "name": "stdout",
          "text": [
            "    5\n",
            "    \"\"\"\n",
            "    output = {\n",
            "        'hjorth_params': [[1.5109556635249812, 7.549178958578697e-12, 1.7693117365072366], [1.6158435412806515, 4.418318048762795e-12, 1.7963655235969067], [1.729104611854976, 4.6745193659942575e\n",
            "test data number :  220\n"
          ]
        },
        {
          "output_type": "stream",
          "name": "stderr",
          "text": [
            "Setting `pad_token_id` to `eos_token_id`:128001 for open-end generation.\n",
            "Setting `pad_token_id` to `eos_token_id`:128001 for open-end generation.\n"
          ]
        },
        {
          "output_type": "stream",
          "name": "stdout",
          "text": [
            "    4\n",
            "    \"\"\"\n",
            "    output = {\n",
            "        'hjorth_params': [[1.146225453096464, 1.0372635705770964e-11, 1.634619612858297], [1.186578144815297, 1.042619591282255e-11, 1.672771767186268], [1.304279952053268, 1.017857860819919e-11, \n",
            "test data number :  221\n"
          ]
        },
        {
          "output_type": "stream",
          "name": "stderr",
          "text": [
            "Setting `pad_token_id` to `eos_token_id`:128001 for open-end generation.\n",
            "Setting `pad_token_id` to `eos_token_id`:128001 for open-end generation.\n"
          ]
        },
        {
          "output_type": "stream",
          "name": "stdout",
          "text": [
            "    5\n",
            "    \"\"\"\n",
            "    output = {\n",
            "        'hjorth_params': [[1.371141761761775, 1.230090523745844e-12, 1.704542954506494], [1.360455274463291, 1.023177274124123e-12, 1.714594372850172], [1.473278954856262, 1.029193053678736e-12, 1\n",
            "test data number :  222\n"
          ]
        },
        {
          "output_type": "stream",
          "name": "stderr",
          "text": [
            "Setting `pad_token_id` to `eos_token_id`:128001 for open-end generation.\n",
            "Setting `pad_token_id` to `eos_token_id`:128001 for open-end generation.\n"
          ]
        },
        {
          "output_type": "stream",
          "name": "stdout",
          "text": [
            "    4\n",
            "    \"\"\"\n",
            "    output = {\n",
            "        'hjorth_params': [[1.2904939719234072, 7.616902321012375e-12, 1.7957008785180923], [1.2349751757746732, 8.670731692015499e-12, 1.748960768850758], [1.1808445721981695, 5.589490546548535e-\n",
            "test data number :  223\n"
          ]
        },
        {
          "output_type": "stream",
          "name": "stderr",
          "text": [
            "Setting `pad_token_id` to `eos_token_id`:128001 for open-end generation.\n",
            "Setting `pad_token_id` to `eos_token_id`:128001 for open-end generation.\n"
          ]
        },
        {
          "output_type": "stream",
          "name": "stdout",
          "text": [
            "    3\n",
            "    \"\"\"\n",
            "    output = {\n",
            "        'hjorth_params': [[1.285053546611951, 1.173684761921339e-12, 1.620529611343896], [1.225462753253921, 1.013954765019702e-12, 1.618530703901591], [1.330291094144123, 1.031225690004123e-12, 1\n",
            "test data number :  224\n"
          ]
        },
        {
          "output_type": "stream",
          "name": "stderr",
          "text": [
            "Setting `pad_token_id` to `eos_token_id`:128001 for open-end generation.\n",
            "Setting `pad_token_id` to `eos_token_id`:128001 for open-end generation.\n"
          ]
        },
        {
          "output_type": "stream",
          "name": "stdout",
          "text": [
            "    4\n",
            "    \"\"\"\n",
            "    output = {\n",
            "        'hjorth_params': [[1.4868302415251298, 6.520194209609674e-12, 1.8798126639321087], [1.155476398159853, 2.971426129570419e-12, 1.6355104062822012], [1.6313906570234685, 1.2837742575180022e\n",
            "test data number :  225\n"
          ]
        },
        {
          "output_type": "stream",
          "name": "stderr",
          "text": [
            "Setting `pad_token_id` to `eos_token_id`:128001 for open-end generation.\n",
            "Setting `pad_token_id` to `eos_token_id`:128001 for open-end generation.\n"
          ]
        },
        {
          "output_type": "stream",
          "name": "stdout",
          "text": [
            "    4\n",
            "    \"\"\"\n",
            "    output = {\n",
            "        'hjorth_params': [[1.5536151957419595, 1.9685323974309415e-11, 1.7362157964152463], [1.246884144683317, 5.905425299344165e-12, 1.6128508733327835], [1.4188176194153752, 3.120124460148139e\n",
            "test data number :  226\n"
          ]
        },
        {
          "output_type": "stream",
          "name": "stderr",
          "text": [
            "Setting `pad_token_id` to `eos_token_id`:128001 for open-end generation.\n",
            "Setting `pad_token_id` to `eos_token_id`:128001 for open-end generation.\n"
          ]
        },
        {
          "output_type": "stream",
          "name": "stdout",
          "text": [
            "    5\n",
            "    \"\"\"\n",
            "    output = {\n",
            "        'hjorth_params': [[1.431881347362372, 1.0299707652482828e-12, 1.683857866526123], [1.386274542462798, 1.027274594372347e-12, 1.662953952943924], [1.473557023156462, 1.048300755447666e-12, \n",
            "test data number :  227\n"
          ]
        },
        {
          "output_type": "stream",
          "name": "stderr",
          "text": [
            "Setting `pad_token_id` to `eos_token_id`:128001 for open-end generation.\n",
            "Setting `pad_token_id` to `eos_token_id`:128001 for open-end generation.\n"
          ]
        },
        {
          "output_type": "stream",
          "name": "stdout",
          "text": [
            "    4\n",
            "    \"\"\"\n",
            "    output = {\n",
            "        'hjorth_params': [[1.291769194445966, 5.1944554667368884e-12, 1.6175566074021948], [1.231060920308049, 4.514061336379404e-12, 1.6198539138958523], [1.3252499272915779, 2.4290123972614236e\n",
            "test data number :  228\n"
          ]
        },
        {
          "output_type": "stream",
          "name": "stderr",
          "text": [
            "Setting `pad_token_id` to `eos_token_id`:128001 for open-end generation.\n",
            "Setting `pad_token_id` to `eos_token_id`:128001 for open-end generation.\n"
          ]
        },
        {
          "output_type": "stream",
          "name": "stdout",
          "text": [
            "    5\n",
            "    \"\"\"\n",
            "    output = {\n",
            "        'hjorth_params': [[1.505280980251251, 1.019619849687629e-13, 1.734684372320492], [1.327761362849349, 1.039637518096594e-13, 1.687654372156919], [1.431573665463462, 1.040300751152777e-13, 1\n",
            "test data number :  229\n"
          ]
        },
        {
          "output_type": "stream",
          "name": "stderr",
          "text": [
            "Setting `pad_token_id` to `eos_token_id`:128001 for open-end generation.\n",
            "Setting `pad_token_id` to `eos_token_id`:128001 for open-end generation.\n"
          ]
        },
        {
          "output_type": "stream",
          "name": "stdout",
          "text": [
            "    4\n",
            "    \"\"\"\n",
            "    output = {\n",
            "        'hjorth_params': [[0.7167627129702975, 1.0131778493001198e-09, 1.5899569916124984], [0.7077706215269585, 1.017767375096153e-09, 1.508901598927684], [0.7066846933917448, 1.023860380700409e\n",
            "test data number :  230\n"
          ]
        },
        {
          "output_type": "stream",
          "name": "stderr",
          "text": [
            "Setting `pad_token_id` to `eos_token_id`:128001 for open-end generation.\n",
            "Setting `pad_token_id` to `eos_token_id`:128001 for open-end generation.\n"
          ]
        },
        {
          "output_type": "stream",
          "name": "stdout",
          "text": [
            "    4\n",
            "    \"\"\"\n",
            "    output = {\n",
            "        'hjorth_params': [[1.117856963980178, 1.026264577761798e-11, 1.620762753463123], [1.141996557542799, 1.027534151447863e-11, 1.629529563857775], [1.270300725270123, 1.018619906720629e-11, 1\n",
            "test data number :  231\n"
          ]
        },
        {
          "output_type": "stream",
          "name": "stderr",
          "text": [
            "Setting `pad_token_id` to `eos_token_id`:128001 for open-end generation.\n",
            "Setting `pad_token_id` to `eos_token_id`:128001 for open-end generation.\n"
          ]
        },
        {
          "output_type": "stream",
          "name": "stdout",
          "text": [
            "    5\n",
            "    \"\"\"\n",
            "    output = {\n",
            "        'hjorth_params': [[1.373053273459251, 1.110053980817096e-11, 1.677531953463019], [1.272871279574736, 1.036870129610736e-11, 1.620643921573462], [1.345347023499268, 1.013840530447297e-11, 1\n",
            "test data number :  232\n"
          ]
        },
        {
          "output_type": "stream",
          "name": "stderr",
          "text": [
            "Setting `pad_token_id` to `eos_token_id`:128001 for open-end generation.\n",
            "Setting `pad_token_id` to `eos_token_id`:128001 for open-end generation.\n"
          ]
        },
        {
          "output_type": "stream",
          "name": "stdout",
          "text": [
            "    5\n",
            "    \"\"\"\n",
            "    output = {\n",
            "        'hjorth_params': [[1.396870817850424, 1.053274506714798e-12, 1.686372817956354], [1.370751762251029, 1.029870693901666e-12, 1.705594359613019], [1.429779620703468, 1.013307330330289e-12, 1\n",
            "test data number :  233\n"
          ]
        },
        {
          "output_type": "stream",
          "name": "stderr",
          "text": [
            "Setting `pad_token_id` to `eos_token_id`:128001 for open-end generation.\n",
            "Setting `pad_token_id` to `eos_token_id`:128001 for open-end generation.\n"
          ]
        },
        {
          "output_type": "stream",
          "name": "stdout",
          "text": [
            "    4\n",
            "    \"\"\"\n",
            "    output = {\n",
            "        'hjorth_params': [[1.455273059956468, 1.053665542850114e-12, 1.704531947151775], [1.402871566856268, 1.028241264384119e-12, 1.713278572362924], [1.413241637463255, 1.015241257542079e-12, 1\n",
            "test data number :  234\n"
          ]
        },
        {
          "output_type": "stream",
          "name": "stderr",
          "text": [
            "Setting `pad_token_id` to `eos_token_id`:128001 for open-end generation.\n",
            "Setting `pad_token_id` to `eos_token_id`:128001 for open-end generation.\n"
          ]
        },
        {
          "output_type": "stream",
          "name": "stdout",
          "text": [
            "    5\n",
            "    \"\"\"\n",
            "    output = {\n",
            "        'hjorth_params': [[1.216153868808639, 1.094380761665643e-11, 1.673894679678161], [1.342069761767258, 1.004156614262629e-11, 1.677144871549919], [1.413241725359763, 1.019870951038258e-11, 1\n",
            "test data number :  235\n"
          ]
        },
        {
          "output_type": "stream",
          "name": "stderr",
          "text": [
            "Setting `pad_token_id` to `eos_token_id`:128001 for open-end generation.\n",
            "Setting `pad_token_id` to `eos_token_id`:128001 for open-end generation.\n"
          ]
        },
        {
          "output_type": "stream",
          "name": "stdout",
          "text": [
            "    5\n",
            "    \"\"\"\n",
            "    output = {\n",
            "        'hjorth_params': [[1.402643687011858, 1.064225693152666e-12, 1.711954756678736], [1.370762767542297, 1.048091876274205e-12, 1.721870665298019], [1.463643274186915, 6.800405876029233e-13, 1\n",
            "test data number :  236\n"
          ]
        },
        {
          "output_type": "stream",
          "name": "stderr",
          "text": [
            "Setting `pad_token_id` to `eos_token_id`:128001 for open-end generation.\n",
            "Setting `pad_token_id` to `eos_token_id`:128001 for open-end generation.\n"
          ]
        },
        {
          "output_type": "stream",
          "name": "stdout",
          "text": [
            "    4\n",
            "    \"\"\"\n",
            "    output = {\n",
            "        'hjorth_params': [[1.186857970678736, 1.0048577615733394e-11, 1.666894144391096], [1.186156053859899, 1.011096610096464e-11, 1.634953970677127], [1.283257765594919, 1.008330679017079e-11, \n",
            "test data number :  237\n"
          ]
        },
        {
          "output_type": "stream",
          "name": "stderr",
          "text": [
            "Setting `pad_token_id` to `eos_token_id`:128001 for open-end generation.\n",
            "Setting `pad_token_id` to `eos_token_id`:128001 for open-end generation.\n"
          ]
        },
        {
          "output_type": "stream",
          "name": "stdout",
          "text": [
            "    3\n",
            "    \"\"\"\n",
            "    output = {\n",
            "        'hjorth_params': [[1.218856765152363, 1.117757610241129e-11, 1.622859274121123], [1.182359362457772, 1.022225859151129e-11, 1.630953523177127], [1.308751979594919, 1.027600725148943e-11, 1\n",
            "test data number :  238\n"
          ]
        },
        {
          "output_type": "stream",
          "name": "stderr",
          "text": [
            "Setting `pad_token_id` to `eos_token_id`:128001 for open-end generation.\n",
            "Setting `pad_token_id` to `eos_token_id`:128001 for open-end generation.\n"
          ]
        },
        {
          "output_type": "stream",
          "name": "stdout",
          "text": [
            "    5\n",
            "    \"\"\"\n",
            "    output = {\n",
            "        'hjorth_params': [[1.484402381323737, 1.3379527658689066e-12, 1.761529448123153], [1.321762519519375, 1.081156257630434e-12, 1.674574901053494], [1.387481577856775, 1.052810542053633e-12, \n",
            "test data number :  239\n"
          ]
        },
        {
          "output_type": "stream",
          "name": "stderr",
          "text": [
            "Setting `pad_token_id` to `eos_token_id`:128001 for open-end generation.\n",
            "Setting `pad_token_id` to `eos_token_id`:128001 for open-end generation.\n"
          ]
        },
        {
          "output_type": "stream",
          "name": "stdout",
          "text": [
            "    5\n",
            "    \"\"\"\n",
            "    output = {\n",
            "        'hjorth_params': [[1.369956757915424, 1.103103751274572e-12, 1.701448811113345], [1.465166815915255, 1.004654519745079e-12, 1.764767029372402], [1.526053703761899, 5.810425657241326e-13, 1\n",
            "test data number :  240\n"
          ]
        },
        {
          "output_type": "stream",
          "name": "stderr",
          "text": [
            "Setting `pad_token_id` to `eos_token_id`:128001 for open-end generation.\n",
            "Setting `pad_token_id` to `eos_token_id`:128001 for open-end generation.\n"
          ]
        },
        {
          "output_type": "stream",
          "name": "stdout",
          "text": [
            "    4\n",
            "    \"\"\"\n",
            "    output = {\n",
            "        'hjorth_params': [[1.453153647720624, 1.110096144053807e-12, 1.702835274007251], [1.338765621262114, 1.153278770859807e-12, 1.667871810393906], [1.439481621460029, 1.027347765614609e-12, 1\n",
            "test data number :  241\n"
          ]
        },
        {
          "output_type": "stream",
          "name": "stderr",
          "text": [
            "Setting `pad_token_id` to `eos_token_id`:128001 for open-end generation.\n",
            "Setting `pad_token_id` to `eos_token_id`:128001 for open-end generation.\n"
          ]
        },
        {
          "output_type": "stream",
          "name": "stdout",
          "text": [
            "    5\n",
            "    \"\"\"\n",
            "    output = {\n",
            "        'hjorth_params': [[1.3604787311597033, 3.151340060445346e-11, 1.7212188346628345], [0.9182554972133438, 2.4117698952448404e-11, 1.4270241136454638], [1.2631765542086917, 5.836641665063331\n",
            "test data number :  242\n"
          ]
        },
        {
          "output_type": "stream",
          "name": "stderr",
          "text": [
            "Setting `pad_token_id` to `eos_token_id`:128001 for open-end generation.\n",
            "Setting `pad_token_id` to `eos_token_id`:128001 for open-end generation.\n"
          ]
        },
        {
          "output_type": "stream",
          "name": "stdout",
          "text": [
            "    5\n",
            "    \"\"\"\n",
            "    output = {\n",
            "        'hjorth_params': [[1.201144153343205, 1.024534156859915e-12, 1.632857622274737], [1.342121134291464, 1.004765144153643e-12, 1.710901506129402], [1.458141606871363, 1.053631264400201e-12, 1\n",
            "test data number :  243\n"
          ]
        },
        {
          "output_type": "stream",
          "name": "stderr",
          "text": [
            "Setting `pad_token_id` to `eos_token_id`:128001 for open-end generation.\n",
            "Setting `pad_token_id` to `eos_token_id`:128001 for open-end generation.\n"
          ]
        },
        {
          "output_type": "stream",
          "name": "stdout",
          "text": [
            "    4\n",
            "    \"\"\"\n",
            "    output = {\n",
            "        'hjorth_params': [[1.141893881678716, 1.0410000000000001e-11, 1.625857542142013], [1.152134351745123, 1.004631530375898e-11, 1.679241871530123], [1.256575518372297, 1.003762225040574e-11, \n",
            "test data number :  244\n"
          ]
        },
        {
          "output_type": "stream",
          "name": "stderr",
          "text": [
            "Setting `pad_token_id` to `eos_token_id`:128001 for open-end generation.\n",
            "Setting `pad_token_id` to `eos_token_id`:128001 for open-end generation.\n"
          ]
        },
        {
          "output_type": "stream",
          "name": "stdout",
          "text": [
            "    4\n",
            "    \"\"\"\n",
            "    output = {\n",
            "        'hjorth_params': [[1.5011313259709282, 1.2525285235367355e-13, 1.8495706112707566], [1.2717983850823975, 6.628065440974466e-13, 1.755928912465677], [1.488960690871655, 3.984770375956347e-\n",
            "test data number :  245\n"
          ]
        },
        {
          "output_type": "stream",
          "name": "stderr",
          "text": [
            "Setting `pad_token_id` to `eos_token_id`:128001 for open-end generation.\n",
            "Setting `pad_token_id` to `eos_token_id`:128001 for open-end generation.\n"
          ]
        },
        {
          "output_type": "stream",
          "name": "stdout",
          "text": [
            "    3\n",
            "    \"\"\"\n",
            "    output = {\n",
            "        'hjorth_params': [[0.728870518834462, 1.110757630745844e-10, 1.591556859350493], [0.7745168703079582, 1.090637607156282e-11, 1.591529811298462], [0.8591532736307455, 1.032876563207898e-11,\n",
            "test data number :  246\n"
          ]
        },
        {
          "output_type": "stream",
          "name": "stderr",
          "text": [
            "Setting `pad_token_id` to `eos_token_id`:128001 for open-end generation.\n",
            "Setting `pad_token_id` to `eos_token_id`:128001 for open-end generation.\n"
          ]
        },
        {
          "output_type": "stream",
          "name": "stdout",
          "text": [
            "    5\n",
            "    \"\"\"\n",
            "    output = {\n",
            "        'hjorth_params': [[1.4012119776894134, 1.4040418834780167e-12, 1.7653233280129474], [1.4133947589263771, 1.0747507874289763e-12, 1.7498706703102107], [1.4476864537270402, 1.048861562545\n",
            "test data number :  247\n"
          ]
        },
        {
          "output_type": "stream",
          "name": "stderr",
          "text": [
            "Setting `pad_token_id` to `eos_token_id`:128001 for open-end generation.\n",
            "Setting `pad_token_id` to `eos_token_id`:128001 for open-end generation.\n"
          ]
        },
        {
          "output_type": "stream",
          "name": "stdout",
          "text": [
            "    4\n",
            "    \"\"\"\n",
            "    output = {\n",
            "        'hjorth_params': [[1.236573954630251, 1.054262563153919e-11, 1.591857372152013], [1.137849643815919, 1.042765372460129e-11, 1.561300011290123], [1.212151272153255, 6.029585359216355e-12, 1\n",
            "test data number :  248\n"
          ]
        },
        {
          "output_type": "stream",
          "name": "stderr",
          "text": [
            "Setting `pad_token_id` to `eos_token_id`:128001 for open-end generation.\n",
            "Setting `pad_token_id` to `eos_token_id`:128001 for open-end generation.\n"
          ]
        },
        {
          "output_type": "stream",
          "name": "stdout",
          "text": [
            "    5\n",
            "    \"\"\"\n",
            "    output = {\n",
            "        'hjorth_params': [[1.3999101244405674, 3.847377123092199e-12, 1.738568214318219], [1.2450443678017453, 2.714159726735692e-12, 1.620309792023045], [1.2749836584260357, 1.19878896947521e-12\n",
            "test data number :  249\n"
          ]
        },
        {
          "output_type": "stream",
          "name": "stderr",
          "text": [
            "Setting `pad_token_id` to `eos_token_id`:128001 for open-end generation.\n",
            "Setting `pad_token_id` to `eos_token_id`:128001 for open-end generation.\n"
          ]
        },
        {
          "output_type": "stream",
          "name": "stdout",
          "text": [
            "    4\n",
            "    \"\"\"\n",
            "    output = {\n",
            "        'hjorth_params': [[1.201767817613841, 1.029765164549123e-11, 1.648870761291921], [1.173270815297829, 1.015264693425829e-11, 1.645531552753523], [1.254156815563268, 1.042059951392943e-11, 1\n",
            "test data number :  250\n"
          ]
        },
        {
          "output_type": "stream",
          "name": "stderr",
          "text": [
            "Setting `pad_token_id` to `eos_token_id`:128001 for open-end generation.\n",
            "Setting `pad_token_id` to `eos_token_id`:128001 for open-end generation.\n"
          ]
        },
        {
          "output_type": "stream",
          "name": "stdout",
          "text": [
            "    5\n",
            "    \"\"\"\n",
            "    output = {\n",
            "        'hjorth_params': [[1.326053272678716, 1.011091610096807e-11, 1.648631577757643], [1.307578767624268, 1.022156040144825e-11, 1.681761372186914], [1.405064519327362, 1.019630044362339e-11, 1\n",
            "test data number :  251\n"
          ]
        },
        {
          "output_type": "stream",
          "name": "stderr",
          "text": [
            "Setting `pad_token_id` to `eos_token_id`:128001 for open-end generation.\n",
            "Setting `pad_token_id` to `eos_token_id`:128001 for open-end generation.\n"
          ]
        },
        {
          "output_type": "stream",
          "name": "stdout",
          "text": [
            "    4\n",
            "    \"\"\"\n",
            "    output = {\n",
            "        'hjorth_params': [[1.372779620425114, 1.0230000000000001e-12, 1.649343274573772], [1.327017300380064, 1.0247000000000002e-12, 1.662253622753776], [1.344094620819293, 6.540000000000001e-13,\n",
            "test data number :  252\n"
          ]
        },
        {
          "output_type": "stream",
          "name": "stderr",
          "text": [
            "Setting `pad_token_id` to `eos_token_id`:128001 for open-end generation.\n",
            "Setting `pad_token_id` to `eos_token_id`:128001 for open-end generation.\n"
          ]
        },
        {
          "output_type": "stream",
          "name": "stdout",
          "text": [
            "    5\n",
            "    \"\"\"\n",
            "    output = {\n",
            "        'hjorth_params': [[1.078904123783079, 3.859585952389123e-10, 1.6688374609572684], [1.083012781530574, 1.870164347860282e-10, 1.684144053556624], [1.133267359144736, 1.039977693053672e-10, \n",
            "test data number :  253\n"
          ]
        },
        {
          "output_type": "stream",
          "name": "stderr",
          "text": [
            "Setting `pad_token_id` to `eos_token_id`:128001 for open-end generation.\n",
            "Setting `pad_token_id` to `eos_token_id`:128001 for open-end generation.\n"
          ]
        },
        {
          "output_type": "stream",
          "name": "stdout",
          "text": [
            "    5\n",
            "    \"\"\"\n",
            "    output = {\n",
            "        'hjorth_params': [[1.330850659849262, 1.0299519016575426e-12, 1.644144425594293], [1.354359519519029, 1.071216053765772e-12, 1.688854657298019], [1.415519351460251, 1.058857384241845e-12, \n",
            "test data number :  254\n"
          ]
        },
        {
          "output_type": "stream",
          "name": "stderr",
          "text": [
            "Setting `pad_token_id` to `eos_token_id`:128001 for open-end generation.\n",
            "Setting `pad_token_id` to `eos_token_id`:128001 for open-end generation.\n"
          ]
        },
        {
          "output_type": "stream",
          "name": "stdout",
          "text": [
            "    5\n",
            "    \"\"\"\n",
            "    output = {\n",
            "        'hjorth_params': [[1.215672613144848, 1.013177506693952e-11, 1.639631767029129], [1.212763562956749, 1.004000770164943e-11, 1.634347592007666], [1.308534352767362, 1.004700144542563e-11, 1\n",
            "test data number :  255\n"
          ]
        },
        {
          "output_type": "stream",
          "name": "stderr",
          "text": [
            "Setting `pad_token_id` to `eos_token_id`:128001 for open-end generation.\n",
            "Setting `pad_token_id` to `eos_token_id`:128001 for open-end generation.\n"
          ]
        },
        {
          "output_type": "stream",
          "name": "stdout",
          "text": [
            "    5\n",
            "    \"\"\"\n",
            "    output = {\n",
            "        'hjorth_params': [[1.3795928647477809, 3.989817138823064e-11, 1.7395294499122516], [1.3119420916489748, 1.3985713772669313e-11, 1.6272108579703672], [1.7130747372667707, 5.391466141834366\n",
            "test data number :  256\n"
          ]
        },
        {
          "output_type": "stream",
          "name": "stderr",
          "text": [
            "Setting `pad_token_id` to `eos_token_id`:128001 for open-end generation.\n",
            "Setting `pad_token_id` to `eos_token_id`:128001 for open-end generation.\n"
          ]
        },
        {
          "output_type": "stream",
          "name": "stdout",
          "text": [
            "    4\n",
            "    \"\"\"\n",
            "    output = {\n",
            "        'hjorth_params': [[1.456164330611798, 1.173200549607215e-12, 1.708762053144402], [1.416870351307251, 1.028787598610215e-12, 1.711771029124736], [1.486870630011562, 6.75753557259418e-13, 1\n",
            "test data number :  257\n"
          ]
        },
        {
          "output_type": "stream",
          "name": "stderr",
          "text": [
            "Setting `pad_token_id` to `eos_token_id`:128001 for open-end generation.\n",
            "Setting `pad_token_id` to `eos_token_id`:128001 for open-end generation.\n"
          ]
        },
        {
          "output_type": "stream",
          "name": "stdout",
          "text": [
            "    4\n",
            "    \"\"\"\n",
            "    output = {\n",
            "        'hjorth_params': [[1.418762665291464, 1.330610868186915e-12, 1.688857377391424], [1.302144518462029, 1.004262614530659e-12, 1.645019594611824], [1.373523850381362, 1.023535096011919e-12, 1\n",
            "test data number :  258\n"
          ]
        },
        {
          "output_type": "stream",
          "name": "stderr",
          "text": [
            "Setting `pad_token_id` to `eos_token_id`:128001 for open-end generation.\n",
            "Setting `pad_token_id` to `eos_token_id`:128001 for open-end generation.\n"
          ]
        },
        {
          "output_type": "stream",
          "name": "stdout",
          "text": [
            "    3\n",
            "    \"\"\"\n",
            "    output = {\n",
            "        'hjorth_params': [[1.0651921315217747, 1.710597375304104e-08, 1.8311146191226126], [0.5500310295496583, 7.063385190564152e-09, 1.5652104415608756], [0.6327325012947637, 2.1205890379250167\n",
            "test data number :  259\n"
          ]
        },
        {
          "output_type": "stream",
          "name": "stderr",
          "text": [
            "Setting `pad_token_id` to `eos_token_id`:128001 for open-end generation.\n",
            "Setting `pad_token_id` to `eos_token_id`:128001 for open-end generation.\n"
          ]
        },
        {
          "output_type": "stream",
          "name": "stdout",
          "text": [
            "    4\n",
            "    \"\"\"\n",
            "    output = {\n",
            "        'hjorth_params': [[1.508542844121255, 1.264534952745646e-12, 1.762779448666494], [1.354038894666251, 1.007901630921339e-12, 1.696019924029951], [1.372262757870629, 1.053272693300919e-12, 1\n",
            "test data number :  260\n"
          ]
        },
        {
          "output_type": "stream",
          "name": "stderr",
          "text": [
            "Setting `pad_token_id` to `eos_token_id`:128001 for open-end generation.\n",
            "Setting `pad_token_id` to `eos_token_id`:128001 for open-end generation.\n"
          ]
        },
        {
          "output_type": "stream",
          "name": "stdout",
          "text": [
            "    4\n",
            "    \"\"\"\n",
            "    output = {\n",
            "        'hjorth_params': [[1.359153053186772, 1.096751481260124e-11, 1.648556767153123], [1.273085519980129, 1.040300530096119e-11, 1.648684684549462], [1.342762499300355, 1.029274534029947e-11, 1\n",
            "test data number :  261\n"
          ]
        },
        {
          "output_type": "stream",
          "name": "stderr",
          "text": [
            "Setting `pad_token_id` to `eos_token_id`:128001 for open-end generation.\n",
            "Setting `pad_token_id` to `eos_token_id`:128001 for open-end generation.\n"
          ]
        },
        {
          "output_type": "stream",
          "name": "stdout",
          "text": [
            "    5\n",
            "    \"\"\"\n",
            "    output = {\n",
            "        'hjorth_params': [[1.468127523204379, 2.8644818885723807e-11, 1.780603175907347], [1.3060067237471893, 1.4222964336536518e-11, 1.6951472121660416], [1.3327564094122877, 1.7138937630769648\n",
            "test data number :  262\n"
          ]
        },
        {
          "output_type": "stream",
          "name": "stderr",
          "text": [
            "Setting `pad_token_id` to `eos_token_id`:128001 for open-end generation.\n",
            "Setting `pad_token_id` to `eos_token_id`:128001 for open-end generation.\n"
          ]
        },
        {
          "output_type": "stream",
          "name": "stdout",
          "text": [
            "    4\n",
            "    \"\"\"\n",
            "    output = {\n",
            "        'hjorth_params': [[1.193156535151258, 1.100157765113736e-12, 1.679856630096297], [1.229523257186736, 1.041976762151808e-12, 1.700594534141291], [1.329591850153256, 1.028901851262798e-12, 1\n",
            "test data number :  263\n"
          ]
        },
        {
          "output_type": "stream",
          "name": "stderr",
          "text": [
            "Setting `pad_token_id` to `eos_token_id`:128001 for open-end generation.\n",
            "Setting `pad_token_id` to `eos_token_id`:128001 for open-end generation.\n"
          ]
        },
        {
          "output_type": "stream",
          "name": "stdout",
          "text": [
            "    3\n",
            "    \"\"\"\n",
            "    output = {\n",
            "        'hjorth_params': [[1.1150937696118184, 8.091611910011513e-10, 1.8060429531623547], [0.46325817303036015, 6.825731586227969e-10, 1.1281049483219217], [0.893426496374689, 1.365691940501121e-\n",
            "test data number :  264\n"
          ]
        },
        {
          "output_type": "stream",
          "name": "stderr",
          "text": [
            "Setting `pad_token_id` to `eos_token_id`:128001 for open-end generation.\n",
            "Setting `pad_token_id` to `eos_token_id`:128001 for open-end generation.\n"
          ]
        },
        {
          "output_type": "stream",
          "name": "stdout",
          "text": [
            "    5\n",
            "    \"\"\"\n",
            "    output = {\n",
            "        'hjorth_params': [[1.0797628252121574, 7.712598434112181e-08, 1.8941282736992942], [0.5166894580389856, 3.7327322716499e-08, 1.137309182737462], [1.2707176517006442, 4.7863919986295585e\n",
            "test data number :  265\n"
          ]
        },
        {
          "output_type": "stream",
          "name": "stderr",
          "text": [
            "Setting `pad_token_id` to `eos_token_id`:128001 for open-end generation.\n",
            "Setting `pad_token_id` to `eos_token_id`:128001 for open-end generation.\n"
          ]
        },
        {
          "output_type": "stream",
          "name": "stdout",
          "text": [
            "    4\n",
            "    \"\"\"\n",
            "    output = {\n",
            "        'hjorth_params': [[1.1713433426360529, 5.98683765502468e-11, 1.8390720528804086], [0.7157675942734088, 6.895979069987012e-11, 1.4864269658504935], [0.7479029640058275, 1.6498345081789227\n",
            "test data number :  266\n"
          ]
        },
        {
          "output_type": "stream",
          "name": "stderr",
          "text": [
            "Setting `pad_token_id` to `eos_token_id`:128001 for open-end generation.\n",
            "Setting `pad_token_id` to `eos_token_id`:128001 for open-end generation.\n"
          ]
        },
        {
          "output_type": "stream",
          "name": "stdout",
          "text": [
            "    5\n",
            "    \"\"\"\n",
            "    output = {\n",
            "        'hjorth_params': [[1.3753031742157398, 8.825458584858862e-12, 1.744231818731616], [1.164367694697037, 5.946468443567452e-12, 1.7323830532886302], [1.3292225618648495, 3.3120035575611324e-\n",
            "test data number :  267\n"
          ]
        },
        {
          "output_type": "stream",
          "name": "stderr",
          "text": [
            "Setting `pad_token_id` to `eos_token_id`:128001 for open-end generation.\n",
            "Setting `pad_token_id` to `eos_token_id`:128001 for open-end generation.\n"
          ]
        },
        {
          "output_type": "stream",
          "name": "stdout",
          "text": [
            "    4\n",
            "    \"\"\"\n",
            "    output = {\n",
            "        'hjorth_params': [[1.327611090392666, 1.053565040677841e-12, 1.651518857297775], [1.311405372182161, 1.036870029613114e-12, 1.678291053950616], [1.452575525156345, 1.003610594004114e-12, 1\n",
            "test data number :  268\n"
          ]
        },
        {
          "output_type": "stream",
          "name": "stderr",
          "text": [
            "Setting `pad_token_id` to `eos_token_id`:128001 for open-end generation.\n",
            "Setting `pad_token_id` to `eos_token_id`:128001 for open-end generation.\n"
          ]
        },
        {
          "output_type": "stream",
          "name": "stdout",
          "text": [
            "    3\n",
            "    \"\"\"\n",
            "    output = {\n",
            "        'hjorth_params': [[1.202203023347089, 1.144274631767201e-11, 1.632901901378293], [1.153377156458123, 1.029762621144464e-11, 1.643549549459808], [1.304099367134268, 1.022170628207282e-11, 1\n",
            "test data number :  269\n"
          ]
        },
        {
          "output_type": "stream",
          "name": "stderr",
          "text": [
            "Setting `pad_token_id` to `eos_token_id`:128001 for open-end generation.\n",
            "Setting `pad_token_id` to `eos_token_id`:128001 for open-end generation.\n"
          ]
        },
        {
          "output_type": "stream",
          "name": "stdout",
          "text": [
            "    4\n",
            "    \"\"\"\n",
            "    output = {\n",
            "        'hjorth_params': [[1.277841687678763, 1.216000053900798e-12, 1.648144556019019], [1.272576248151113, 1.0110000000000002e-12, 1.686594551148639, 1.686661457144845, 1.651274677186262, 1.702\n",
            "test data number :  270\n"
          ]
        },
        {
          "output_type": "stream",
          "name": "stderr",
          "text": [
            "Setting `pad_token_id` to `eos_token_id`:128001 for open-end generation.\n",
            "Setting `pad_token_id` to `eos_token_id`:128001 for open-end generation.\n"
          ]
        },
        {
          "output_type": "stream",
          "name": "stdout",
          "text": [
            "    4\n",
            "    \"\"\"\n",
            "    output = {\n",
            "        'hjorth_params': [[1.432311947422921, 1.1440009572639198e-12, 1.704085151996017], [1.238371153019297, 1.081100530113825e-12, 1.646857378153462], [1.372762468850491, 1.027530628613529e-12, \n",
            "test data number :  271\n"
          ]
        },
        {
          "output_type": "stream",
          "name": "stderr",
          "text": [
            "Setting `pad_token_id` to `eos_token_id`:128001 for open-end generation.\n",
            "Setting `pad_token_id` to `eos_token_id`:128001 for open-end generation.\n"
          ]
        },
        {
          "output_type": "stream",
          "name": "stdout",
          "text": [
            "    5\n",
            "    \"\"\"\n",
            "    output = {\n",
            "        'hjorth_params': [[1.5245552377025509, 1.166860657743464e-11, 1.7285561440236844], [1.387875751613849, 1.102751678530633e-11, 1.694327053638172], [1.480481598815297, 1.041091659156498e-11,\n",
            "test data number :  272\n"
          ]
        },
        {
          "output_type": "stream",
          "name": "stderr",
          "text": [
            "Setting `pad_token_id` to `eos_token_id`:128001 for open-end generation.\n",
            "Setting `pad_token_id` to `eos_token_id`:128001 for open-end generation.\n"
          ]
        },
        {
          "output_type": "stream",
          "name": "stdout",
          "text": [
            "    5\n",
            "    \"\"\"\n",
            "    output = {\n",
            "        'hjorth_params': [[1.540491996819096, 1.0940901445738415e-12, 1.742844274330113], [1.457367518850906, 1.054099631053952e-12, 1.755459619857262], [1.428455458678462, 1.054090300630609e-12, \n",
            "test data number :  273\n"
          ]
        },
        {
          "output_type": "stream",
          "name": "stderr",
          "text": [
            "Setting `pad_token_id` to `eos_token_id`:128001 for open-end generation.\n",
            "Setting `pad_token_id` to `eos_token_id`:128001 for open-end generation.\n"
          ]
        },
        {
          "output_type": "stream",
          "name": "stdout",
          "text": [
            "    5\n",
            "    \"\"\"\n",
            "    output = {\n",
            "        'hjorth_params': [[1.1969266986501759, 3.396764556510008e-11, 1.6453903408594706], [1.0508968317923673, 2.2548788433831552e-11, 1.5687833435764993], [1.2679185400807393, 1.830512176929005\n",
            "test data number :  274\n"
          ]
        },
        {
          "output_type": "stream",
          "name": "stderr",
          "text": [
            "Setting `pad_token_id` to `eos_token_id`:128001 for open-end generation.\n",
            "Setting `pad_token_id` to `eos_token_id`:128001 for open-end generation.\n"
          ]
        },
        {
          "output_type": "stream",
          "name": "stdout",
          "text": [
            "    3\n",
            "    \"\"\"\n",
            "    output = {\n",
            "        'hjorth_params': [[1.378099611518612, 1.0506315340119217e-12, 1.640574815637339], [1.428484023849942, 1.032637264921354e-12, 1.720556274362654], [1.485491581920736, 1.042765591630198e-12, \n",
            "test data number :  275\n"
          ]
        },
        {
          "output_type": "stream",
          "name": "stderr",
          "text": [
            "Setting `pad_token_id` to `eos_token_id`:128001 for open-end generation.\n",
            "Setting `pad_token_id` to `eos_token_id`:128001 for open-end generation.\n"
          ]
        },
        {
          "output_type": "stream",
          "name": "stdout",
          "text": [
            "    5\n",
            "    \"\"\"\n",
            "    output = {\n",
            "        'hjorth_params': [[1.489672455594297, 1.151352518148161e-12, 1.741556857425424], [1.309693762152347, 1.153414610153848e-12, 1.683058622613896], [1.391857761347529, 1.045151870029666e-12, 1\n",
            "test data number :  276\n"
          ]
        },
        {
          "output_type": "stream",
          "name": "stderr",
          "text": [
            "Setting `pad_token_id` to `eos_token_id`:128001 for open-end generation.\n",
            "Setting `pad_token_id` to `eos_token_id`:128001 for open-end generation.\n"
          ]
        },
        {
          "output_type": "stream",
          "name": "stdout",
          "text": [
            "    5\n",
            "    \"\"\"\n",
            "    output = {\n",
            "        'hjorth_params': [[1.2869532026111759, 1.3794195764961318e-11, 1.7795768135904053], [0.9596781037866396, 1.371174243343475e-11, 1.4452880086080226], [1.199440356119169, 2.83540123266177e\n",
            "test data number :  277\n"
          ]
        },
        {
          "output_type": "stream",
          "name": "stderr",
          "text": [
            "Setting `pad_token_id` to `eos_token_id`:128001 for open-end generation.\n",
            "Setting `pad_token_id` to `eos_token_id`:128001 for open-end generation.\n"
          ]
        },
        {
          "output_type": "stream",
          "name": "stdout",
          "text": [
            "    4\n",
            "    \"\"\"\n",
            "    output = {\n",
            "        'hjorth_params': [[1.398858954457743, 2.4000000000000002e-10, 1.712762352300174], [1.206556762186996, 1.0900000000000001e-10, 1.660481761320919], [1.224038011542952, 1.1100000000000001e-10\n",
            "test data number :  278\n"
          ]
        },
        {
          "output_type": "stream",
          "name": "stderr",
          "text": [
            "Setting `pad_token_id` to `eos_token_id`:128001 for open-end generation.\n",
            "Setting `pad_token_id` to `eos_token_id`:128001 for open-end generation.\n"
          ]
        },
        {
          "output_type": "stream",
          "name": "stdout",
          "text": [
            "    5\n",
            "    \"\"\"\n",
            "    output = {\n",
            "        'hjorth_params': [[1.380064273053262, 1.157144725053258e-12, 1.646631141144462], [1.308779637563736, 1.058534144090096e-12, 1.664559757207291], [1.387121566096736, 1.054330755624799e-12, 1\n",
            "test data number :  279\n"
          ]
        },
        {
          "output_type": "stream",
          "name": "stderr",
          "text": [
            "Setting `pad_token_id` to `eos_token_id`:128001 for open-end generation.\n",
            "Setting `pad_token_id` to `eos_token_id`:128001 for open-end generation.\n"
          ]
        },
        {
          "output_type": "stream",
          "name": "stdout",
          "text": [
            "    3\n",
            "    \"\"\"\n",
            "    output = {\n",
            "        'hjorth_params': [[1.320156955958339, 1.216156594854798e-12, 1.676347703767947], [1.238576611262363, 1.037552857148119e-12, 1.631241954019687], [1.337484952857736, 1.028684950053863e-12, 1\n",
            "test data number :  280\n"
          ]
        },
        {
          "output_type": "stream",
          "name": "stderr",
          "text": [
            "Setting `pad_token_id` to `eos_token_id`:128001 for open-end generation.\n",
            "Setting `pad_token_id` to `eos_token_id`:128001 for open-end generation.\n"
          ]
        },
        {
          "output_type": "stream",
          "name": "stdout",
          "text": [
            "    3\n",
            "    \"\"\"\n",
            "    output = {\n",
            "        'hjorth_params': [[1.152763952839736, 1.182900920425089e-11, 1.678702970141019], [1.208257693518255, 1.027751762029574e-11, 1.677459367153736], [1.328765352849498, 1.053499552463863e-11, 1\n",
            "test data number :  281\n"
          ]
        },
        {
          "output_type": "stream",
          "name": "stderr",
          "text": [
            "Setting `pad_token_id` to `eos_token_id`:128001 for open-end generation.\n",
            "Setting `pad_token_id` to `eos_token_id`:128001 for open-end generation.\n"
          ]
        },
        {
          "output_type": "stream",
          "name": "stdout",
          "text": [
            "    3\n",
            "    \"\"\"\n",
            "    output = {\n",
            "        'hjorth_params': [[1.482720952839339, 1.152534690151119e-12, 1.705901762720113], [1.386156023372096, 1.004638610307258e-12, 1.701499943573153], [1.463087857307841, 1.003870620518079e-12, 1\n",
            "test data number :  282\n"
          ]
        },
        {
          "output_type": "stream",
          "name": "stderr",
          "text": [
            "Setting `pad_token_id` to `eos_token_id`:128001 for open-end generation.\n",
            "Setting `pad_token_id` to `eos_token_id`:128001 for open-end generation.\n"
          ]
        },
        {
          "output_type": "stream",
          "name": "stdout",
          "text": [
            "    4\n",
            "    \"\"\"\n",
            "    output = {\n",
            "        'hjorth_params': [[1.158856657011896, 1.231952542859339e-11, 1.651630901943127], [1.146856530815586, 1.055182591447736e-11, 1.653857550257845], [1.182087367019062, 1.030272752542129e-11, 1\n",
            "test data number :  283\n"
          ]
        },
        {
          "output_type": "stream",
          "name": "stderr",
          "text": [
            "Setting `pad_token_id` to `eos_token_id`:128001 for open-end generation.\n",
            "Setting `pad_token_id` to `eos_token_id`:128001 for open-end generation.\n"
          ]
        },
        {
          "output_type": "stream",
          "name": "stdout",
          "text": [
            "    4\n",
            "    \"\"\"\n",
            "    output = {\n",
            "        'hjorth_params': [[1.408647462712362, 1.038000971207633e-10, 1.731702954300293], [1.204151535343464, 1.053090549678629e-10, 1.612144858594127], [1.232262023241268, 1.026591810144059e-11, 1\n",
            "test data number :  284\n"
          ]
        },
        {
          "output_type": "stream",
          "name": "stderr",
          "text": [
            "Setting `pad_token_id` to `eos_token_id`:128001 for open-end generation.\n",
            "Setting `pad_token_id` to `eos_token_id`:128001 for open-end generation.\n"
          ]
        },
        {
          "output_type": "stream",
          "name": "stdout",
          "text": [
            "    3\n",
            "    \"\"\"\n",
            "    output = {\n",
            "        'hjorth_params': [[1.463241557921366, 1.340053542090899e-12, 1.726534765549624], [1.371064011129898, 1.013693552752333e-12, 1.685530767530124], [1.300300425160205, 1.007960591760129e-12, 1\n",
            "test data number :  285\n"
          ]
        },
        {
          "output_type": "stream",
          "name": "stderr",
          "text": [
            "Setting `pad_token_id` to `eos_token_id`:128001 for open-end generation.\n",
            "Setting `pad_token_id` to `eos_token_id`:128001 for open-end generation.\n"
          ]
        },
        {
          "output_type": "stream",
          "name": "stdout",
          "text": [
            "    3\n",
            "    \"\"\"\n",
            "    output = {\n",
            "        'hjorth_params': [[1.3684259841911584, 1.937618380769292e-10, 1.855999776963712], [1.065457775710782, 1.400164257257113e-10, 1.662384870770251], [1.186019678463896, 1.021767767260643e-11, \n",
            "test data number :  286\n"
          ]
        },
        {
          "output_type": "stream",
          "name": "stderr",
          "text": [
            "Setting `pad_token_id` to `eos_token_id`:128001 for open-end generation.\n",
            "Setting `pad_token_id` to `eos_token_id`:128001 for open-end generation.\n"
          ]
        },
        {
          "output_type": "stream",
          "name": "stdout",
          "text": [
            "    5\n",
            "    \"\"\"\n",
            "    output = {\n",
            "        'hjorth_params': [[1.094273678053629, 1.071630631592282e-11, 1.639573531320372], [1.119144462023849, 1.027760624186629e-11, 1.626518870029574], [1.148225745218736, 1.053760690225919e-11, 1\n",
            "test data number :  287\n"
          ]
        },
        {
          "output_type": "stream",
          "name": "stderr",
          "text": [
            "Setting `pad_token_id` to `eos_token_id`:128001 for open-end generation.\n",
            "Setting `pad_token_id` to `eos_token_id`:128001 for open-end generation.\n"
          ]
        },
        {
          "output_type": "stream",
          "name": "stdout",
          "text": [
            "    5\n",
            "    \"\"\"\n",
            "    output = {\n",
            "        'hjorth_params': [[1.197113257378736, 1.096951797745659e-11, 1.608767499153645], [1.277594870053915, 1.028765372297114e-11, 1.677241757141085], [1.377377257677952, 1.007700762519574e-11, 1\n",
            "test data number :  288\n"
          ]
        },
        {
          "output_type": "stream",
          "name": "stderr",
          "text": [
            "Setting `pad_token_id` to `eos_token_id`:128001 for open-end generation.\n",
            "Setting `pad_token_id` to `eos_token_id`:128001 for open-end generation.\n"
          ]
        },
        {
          "output_type": "stream",
          "name": "stdout",
          "text": [
            "    5\n",
            "    \"\"\"\n",
            "    output = {\n",
            "        'hjorth_params': [[1.333017864290798, 1.210952751113258e-12, 1.651347359053297], [1.354017952462345, 1.048000752297947e-12, 1.680693931943845], [1.431273542613666, 1.014993535770262e-12, 1\n",
            "test data number :  289\n"
          ]
        },
        {
          "output_type": "stream",
          "name": "stderr",
          "text": [
            "Setting `pad_token_id` to `eos_token_id`:128001 for open-end generation.\n",
            "Setting `pad_token_id` to `eos_token_id`:128001 for open-end generation.\n"
          ]
        },
        {
          "output_type": "stream",
          "name": "stdout",
          "text": [
            "    4\n",
            "    \"\"\"\n",
            "    output = {\n",
            "        'hjorth_params': [[1.266096864612029, 1.0389511649506662e-11, 1.634552992901776], [1.271576535144942, 1.026144762574825e-11, 1.662019594526127], [1.410578637324915, 1.036053765767123e-11, \n",
            "test data number :  290\n"
          ]
        },
        {
          "output_type": "stream",
          "name": "stderr",
          "text": [
            "Setting `pad_token_id` to `eos_token_id`:128001 for open-end generation.\n",
            "Setting `pad_token_id` to `eos_token_id`:128001 for open-end generation.\n"
          ]
        },
        {
          "output_type": "stream",
          "name": "stdout",
          "text": [
            "    4\n",
            "    \"\"\"\n",
            "    output = {\n",
            "        'hjorth_params': [[1.3780559099115086, 2.7602631713487152e-11, 1.7892246471454517], [1.2774917013720066, 1.628231758809314e-11, 1.5483070309665377], [1.3485690622176207, 1.052981435910297\n",
            "test data number :  291\n"
          ]
        },
        {
          "output_type": "stream",
          "name": "stderr",
          "text": [
            "Setting `pad_token_id` to `eos_token_id`:128001 for open-end generation.\n",
            "Setting `pad_token_id` to `eos_token_id`:128001 for open-end generation.\n"
          ]
        },
        {
          "output_type": "stream",
          "name": "stdout",
          "text": [
            "    4\n",
            "    \"\"\"\n",
            "    output = {\n",
            "        'hjorth_params': [[1.309439517925737, 1.1732048682517982e-12, 1.644444628850378], [1.297094446859738, 1.039877921840355e-12, 1.657463665036574], [1.408534631781772, 5.868535570274333e-13, \n",
            "test data number :  292\n"
          ]
        },
        {
          "output_type": "stream",
          "name": "stderr",
          "text": [
            "Setting `pad_token_id` to `eos_token_id`:128001 for open-end generation.\n",
            "Setting `pad_token_id` to `eos_token_id`:128001 for open-end generation.\n"
          ]
        },
        {
          "output_type": "stream",
          "name": "stdout",
          "text": [
            "    5\n",
            "    \"\"\"\n",
            "    output = {\n",
            "        'hjorth_params': [[1.392659712362574, 1.2100000000000001e-12, 1.674693996186297], [1.309300839463996, 1.1220000000000001e-12, 1.6484915564596243], [1.385757241996291, 1.0060000000000001e-\n",
            "test data number :  293\n"
          ]
        },
        {
          "output_type": "stream",
          "name": "stderr",
          "text": [
            "Setting `pad_token_id` to `eos_token_id`:128001 for open-end generation.\n",
            "Setting `pad_token_id` to `eos_token_id`:128001 for open-end generation.\n"
          ]
        },
        {
          "output_type": "stream",
          "name": "stdout",
          "text": [
            "    4\n",
            "    \"\"\"\n",
            "    output = {\n",
            "        'hjorth_params': [[1.416360703570462, 1.3000000000000001e-11, 1.7417716841864024], [1.300352448094255, 1.0550000000000001e-11, 1.686367631019574], [1.372053347152291, 1.0400000000000001e-\n",
            "test data number :  294\n"
          ]
        },
        {
          "output_type": "stream",
          "name": "stderr",
          "text": [
            "Setting `pad_token_id` to `eos_token_id`:128001 for open-end generation.\n",
            "Setting `pad_token_id` to `eos_token_id`:128001 for open-end generation.\n"
          ]
        },
        {
          "output_type": "stream",
          "name": "stdout",
          "text": [
            "    3\n",
            "    \"\"\"\n",
            "    output = {\n",
            "        'hjorth_params': [[1.089870921372369, 1.164300300096574e-11, 1.620765085425529], [1.152767347011736, 1.049166300347807e-11, 1.645954924144996], [1.283058850616687, 1.040300665901666e-11, 1\n",
            "test data number :  295\n"
          ]
        },
        {
          "output_type": "stream",
          "name": "stderr",
          "text": [
            "Setting `pad_token_id` to `eos_token_id`:128001 for open-end generation.\n",
            "Setting `pad_token_id` to `eos_token_id`:128001 for open-end generation.\n"
          ]
        },
        {
          "output_type": "stream",
          "name": "stdout",
          "text": [
            "    3\n",
            "    \"\"\"\n",
            "    output = {\n",
            "        'hjorth_params': [[1.389241457372544, 1.105530637573363e-12, 1.696391274144291], [1.318378257574586, 1.014877594542799e-12, 1.670484767017523], [1.328378453577841, 1.006666144534129e-12, 1\n",
            "test data number :  296\n"
          ]
        },
        {
          "output_type": "stream",
          "name": "stderr",
          "text": [
            "Setting `pad_token_id` to `eos_token_id`:128001 for open-end generation.\n",
            "Setting `pad_token_id` to `eos_token_id`:128001 for open-end generation.\n"
          ]
        },
        {
          "output_type": "stream",
          "name": "stdout",
          "text": [
            "    4\n",
            "    \"\"\"\n",
            "    output = {\n",
            "        'hjorth_params': [[1.137630053678123, 1.011857921372241e-11, 1.591529931260315], [1.152383029463746, 1.019630519264643e-11, 1.619611036053684], [1.197870536040684, 1.023144523614354e-11, 1\n",
            "test data number :  297\n"
          ]
        },
        {
          "output_type": "stream",
          "name": "stderr",
          "text": [
            "Setting `pad_token_id` to `eos_token_id`:128001 for open-end generation.\n",
            "Setting `pad_token_id` to `eos_token_id`:128001 for open-end generation.\n"
          ]
        },
        {
          "output_type": "stream",
          "name": "stdout",
          "text": [
            "    5\n",
            "    \"\"\"\n",
            "    output = {\n",
            "        'hjorth_params': [[1.354858518915362, 1.097000665164251e-11, 1.612857643422743], [1.328011901388291, 1.006010040930201e-11, 1.649414594637161], [1.327347153570508, 1.027182693036646e-11, 1\n",
            "test data number :  298\n"
          ]
        },
        {
          "output_type": "stream",
          "name": "stderr",
          "text": [
            "Setting `pad_token_id` to `eos_token_id`:128001 for open-end generation.\n",
            "Setting `pad_token_id` to `eos_token_id`:128001 for open-end generation.\n"
          ]
        },
        {
          "output_type": "stream",
          "name": "stdout",
          "text": [
            "    4\n",
            "    \"\"\"\n",
            "    output = {\n",
            "        'hjorth_params': [[1.202534262761113, 2.204771053340229e-11, 1.683870871677498], [1.119094970574915, 1.148952637053464e-11, 1.644954342094824], [1.198108378980002, 1.021757871591123e-11, 1\n",
            "test data number :  299\n"
          ]
        },
        {
          "output_type": "stream",
          "name": "stderr",
          "text": [
            "Setting `pad_token_id` to `eos_token_id`:128001 for open-end generation.\n",
            "Setting `pad_token_id` to `eos_token_id`:128001 for open-end generation.\n"
          ]
        },
        {
          "output_type": "stream",
          "name": "stdout",
          "text": [
            "    4\n",
            "    \"\"\"\n",
            "    output = {\n",
            "        'hjorth_params': [[1.2070074880933328, 1.012084578458099e-10, 1.8722184764359895], [0.8259893211674013, 5.441049465351169e-11, 1.4950634522699837], [1.176459970090026, 1.162237913585615e-\n",
            "test data number :  300\n"
          ]
        },
        {
          "output_type": "stream",
          "name": "stderr",
          "text": [
            "Setting `pad_token_id` to `eos_token_id`:128001 for open-end generation.\n",
            "Setting `pad_token_id` to `eos_token_id`:128001 for open-end generation.\n"
          ]
        },
        {
          "output_type": "stream",
          "name": "stdout",
          "text": [
            "    4\n",
            "    \"\"\"\n",
            "    output = {\n",
            "        'hjorth_params': [[1.278817921712798, 1.003840592958518e-12, 1.632536352457366], [1.268901765858114, 1.059765840592672e-12, 1.634525849677896], [1.380300350327251, 1.029630870193643e-12, 1\n",
            "test data number :  301\n"
          ]
        },
        {
          "output_type": "stream",
          "name": "stderr",
          "text": [
            "Setting `pad_token_id` to `eos_token_id`:128001 for open-end generation.\n",
            "Setting `pad_token_id` to `eos_token_id`:128001 for open-end generation.\n"
          ]
        },
        {
          "output_type": "stream",
          "name": "stdout",
          "text": [
            "    3\n",
            "    \"\"\"\n",
            "    output = {\n",
            "        'hjorth_params': [[1.302779657274629, 1.173170053156919e-12, 1.6498585425490134], [1.317534530819129, 1.050330690921363e-12, 1.677538665372096], [1.402538349349289, 1.013144241043798e-12, \n",
            "test data number :  302\n"
          ]
        },
        {
          "output_type": "stream",
          "name": "stderr",
          "text": [
            "Setting `pad_token_id` to `eos_token_id`:128001 for open-end generation.\n",
            "Setting `pad_token_id` to `eos_token_id`:128001 for open-end generation.\n"
          ]
        },
        {
          "output_type": "stream",
          "name": "stdout",
          "text": [
            "    5\n",
            "    \"\"\"\n",
            "    output = {\n",
            "        'hjorth_params': [[1.452262272870059, 2.216767542518915e-12, 1.725767499927363], [1.431850557525921, 1.486552591144825e-12, 1.732499657808113], [1.451383594761113, 1.039240762053161e-12, 1\n",
            "test data number :  303\n"
          ]
        },
        {
          "output_type": "stream",
          "name": "stderr",
          "text": [
            "Setting `pad_token_id` to `eos_token_id`:128001 for open-end generation.\n",
            "Setting `pad_token_id` to `eos_token_id`:128001 for open-end generation.\n"
          ]
        },
        {
          "output_type": "stream",
          "name": "stdout",
          "text": [
            "    4\n",
            "    \"\"\"\n",
            "    output = {\n",
            "        'hjorth_params': [[1.241935813956749, 1.344090620921633e-11, 1.612894053300359], [1.239871817573775, 1.059193448690443e-11, 1.595578551577383], [1.330349751298123, 1.032765678300079e-11, 1\n",
            "test data number :  304\n"
          ]
        },
        {
          "output_type": "stream",
          "name": "stderr",
          "text": [
            "Setting `pad_token_id` to `eos_token_id`:128001 for open-end generation.\n",
            "Setting `pad_token_id` to `eos_token_id`:128001 for open-end generation.\n"
          ]
        },
        {
          "output_type": "stream",
          "name": "stdout",
          "text": [
            "    3\n",
            "    \"\"\"\n",
            "    output = {\n",
            "        'hjorth_params': [[0.653759619875858, 1.027542875347362e-11, 1.637594096257854], [0.685767870630914, 1.017878856019123e-11, 1.626248980613763], [0.8080905981448492, 1.075630665574574e-11, \n",
            "test data number :  305\n"
          ]
        },
        {
          "output_type": "stream",
          "name": "stderr",
          "text": [
            "Setting `pad_token_id` to `eos_token_id`:128001 for open-end generation.\n",
            "Setting `pad_token_id` to `eos_token_id`:128001 for open-end generation.\n"
          ]
        },
        {
          "output_type": "stream",
          "name": "stdout",
          "text": [
            "    4\n",
            "    \"\"\"\n",
            "    output = {\n",
            "        'hjorth_params': [[1.400129347666255, 1.400153856310355e-10, 1.714619950850402], [1.186631526859746, 1.040096506592291e-11, 1.671952888859464], [1.302029487577738, 1.055193762573668e-11, 1\n",
            "test data number :  306\n"
          ]
        },
        {
          "output_type": "stream",
          "name": "stderr",
          "text": [
            "Setting `pad_token_id` to `eos_token_id`:128001 for open-end generation.\n",
            "Setting `pad_token_id` to `eos_token_id`:128001 for open-end generation.\n"
          ]
        },
        {
          "output_type": "stream",
          "name": "stdout",
          "text": [
            "    5\n",
            "    \"\"\"\n",
            "    output = {\n",
            "        'hjorth_params': [[1.1934017699439334, 5.388572783657608e-10, 1.7760016125419051], [0.6039165308493507, 3.2102650167988647e-10, 1.2906821674918647], [1.2061237717536477, 3.546847106683850\n",
            "test data number :  307\n"
          ]
        },
        {
          "output_type": "stream",
          "name": "stderr",
          "text": [
            "Setting `pad_token_id` to `eos_token_id`:128001 for open-end generation.\n",
            "Setting `pad_token_id` to `eos_token_id`:128001 for open-end generation.\n"
          ]
        },
        {
          "output_type": "stream",
          "name": "stdout",
          "text": [
            "    4\n",
            "    \"\"\"\n",
            "    output = {\n",
            "        'hjorth_params': [[1.387085810156952, 1.064121860901829e-10, 1.718538956817372], [1.254029053574996, 1.026000859770829e-10, 1.678371300448129], [1.293573550182255, 1.0100000000000001e-10, \n",
            "test data number :  308\n"
          ]
        },
        {
          "output_type": "stream",
          "name": "stderr",
          "text": [
            "Setting `pad_token_id` to `eos_token_id`:128001 for open-end generation.\n",
            "Setting `pad_token_id` to `eos_token_id`:128001 for open-end generation.\n"
          ]
        },
        {
          "output_type": "stream",
          "name": "stdout",
          "text": [
            "    5\n",
            "    \"\"\"\n",
            "    output = {\n",
            "        'hjorth_params': [[1.212775273613646, 1.059901859096464e-11, 1.645628850207672], [1.242372457253498, 1.053546023362845e-11, 1.670499765274687], [1.361870425186824, 1.064096756570114e-11, 1\n",
            "test data number :  309\n"
          ]
        },
        {
          "output_type": "stream",
          "name": "stderr",
          "text": [
            "Setting `pad_token_id` to `eos_token_id`:128001 for open-end generation.\n",
            "Setting `pad_token_id` to `eos_token_id`:128001 for open-end generation.\n"
          ]
        },
        {
          "output_type": "stream",
          "name": "stdout",
          "text": [
            "    4\n",
            "    \"\"\"\n",
            "    output = {\n",
            "        'hjorth_params': [[1.204000422218362, 1.0933005499800025e-11, 1.618523970350574], [1.206573534546161, 1.071610425518666e-11, 1.662291577384255], [1.312459096819268, 1.038000542029366e-11, \n",
            "test data number :  310\n"
          ]
        },
        {
          "output_type": "stream",
          "name": "stderr",
          "text": [
            "Setting `pad_token_id` to `eos_token_id`:128001 for open-end generation.\n",
            "Setting `pad_token_id` to `eos_token_id`:128001 for open-end generation.\n"
          ]
        },
        {
          "output_type": "stream",
          "name": "stdout",
          "text": [
            "    3\n",
            "    \"\"\"\n",
            "    output = {\n",
            "        'hjorth_params': [[1.091262273679366, 1.110693359877362e-10, 1.620531630300402], [1.094090099612291, 1.011053757594362e-10, 1.622859518384402], [1.186254954720461, 1.011591519300424e-11, 1\n",
            "test data number :  311\n"
          ]
        },
        {
          "output_type": "stream",
          "name": "stderr",
          "text": [
            "Setting `pad_token_id` to `eos_token_id`:128001 for open-end generation.\n",
            "Setting `pad_token_id` to `eos_token_id`:128001 for open-end generation.\n"
          ]
        },
        {
          "output_type": "stream",
          "name": "stdout",
          "text": [
            "    4\n",
            "    \"\"\"\n",
            "    output = {\n",
            "        'hjorth_params': [[1.237894965850161, 1.156000007124424e-11, 1.612347550624291], [1.182518612841468, 1.1520000000000002e-11, 1.581870624347462], [1.212594248241255, 1.0530000000000001e-11,\n",
            "test data number :  312\n"
          ]
        },
        {
          "output_type": "stream",
          "name": "stderr",
          "text": [
            "Setting `pad_token_id` to `eos_token_id`:128001 for open-end generation.\n",
            "Setting `pad_token_id` to `eos_token_id`:128001 for open-end generation.\n"
          ]
        },
        {
          "output_type": "stream",
          "name": "stdout",
          "text": [
            "    5\n",
            "    \"\"\"\n",
            "    output = {\n",
            "        'hjorth_params': [[1.2632250358187296, 5.549490249432972e-11, 1.667428976509487], [1.07640897374921, 2.255022114611101e-11, 1.5590109021012597], [1.3595091230839453, 1.8162074261711532e-\n",
            "test data number :  313\n"
          ]
        },
        {
          "output_type": "stream",
          "name": "stderr",
          "text": [
            "Setting `pad_token_id` to `eos_token_id`:128001 for open-end generation.\n",
            "Setting `pad_token_id` to `eos_token_id`:128001 for open-end generation.\n"
          ]
        },
        {
          "output_type": "stream",
          "name": "stdout",
          "text": [
            "    4\n",
            "    \"\"\"\n",
            "    output = {\n",
            "        'hjorth_params': [[1.238893728678729, 1.100274745053079e-11, 1.631347870177906], [1.227384352023113, 1.053059144519885e-11, 1.595556556594906], [1.311094352518921, 7.400570570770825e-12, 1\n",
            "test data number :  314\n"
          ]
        },
        {
          "output_type": "stream",
          "name": "stderr",
          "text": [
            "Setting `pad_token_id` to `eos_token_id`:128001 for open-end generation.\n",
            "Setting `pad_token_id` to `eos_token_id`:128001 for open-end generation.\n"
          ]
        },
        {
          "output_type": "stream",
          "name": "stdout",
          "text": [
            "    5\n",
            "    \"\"\"\n",
            "    output = {\n",
            "        'hjorth_params': [[1.518273290113687, 1.023096849761915e-12, 1.755956619917498], [1.338327053570915, 1.029300664241643e-12, 1.683560703530493], [1.439542550300114, 6.090460720124773e-13, 1\n",
            "test data number :  315\n"
          ]
        },
        {
          "output_type": "stream",
          "name": "stderr",
          "text": [
            "Setting `pad_token_id` to `eos_token_id`:128001 for open-end generation.\n",
            "Setting `pad_token_id` to `eos_token_id`:128001 for open-end generation.\n"
          ]
        },
        {
          "output_type": "stream",
          "name": "stdout",
          "text": [
            "    4\n",
            "    \"\"\"\n",
            "    output = {\n",
            "        'hjorth_params': [[1.329153273096114, 1.152594156570164e-12, 1.681531693153654], [1.370534761519362, 1.052619633207333e-12, 1.703085053029372], [1.458096817366996, 6.091570755040906e-13, 1\n",
            "test data number :  316\n"
          ]
        },
        {
          "output_type": "stream",
          "name": "stderr",
          "text": [
            "Setting `pad_token_id` to `eos_token_id`:128001 for open-end generation.\n",
            "Setting `pad_token_id` to `eos_token_id`:128001 for open-end generation.\n"
          ]
        },
        {
          "output_type": "stream",
          "name": "stdout",
          "text": [
            "    4\n",
            "    \"\"\"\n",
            "    output = {\n",
            "        'hjorth_params': [[1.438148148830359, 1.300542874767952e-11, 1.688666300332114], [1.304262757612562, 1.015090920624574e-11, 1.665530391870255], [1.386023901834113, 5.775757017380167e-12, 1\n",
            "test data number :  317\n"
          ]
        },
        {
          "output_type": "stream",
          "name": "stderr",
          "text": [
            "Setting `pad_token_id` to `eos_token_id`:128001 for open-end generation.\n",
            "Setting `pad_token_id` to `eos_token_id`:128001 for open-end generation.\n"
          ]
        },
        {
          "output_type": "stream",
          "name": "stdout",
          "text": [
            "    5\n",
            "    \"\"\"\n",
            "    output = {\n",
            "        'hjorth_params': [[1.215271839207643, 1.058330921819639e-11, 1.648901767678947], [1.236375952160816, 1.032816765290205e-11, 1.677850819499444], [1.346405481273906, 1.029400817856019e-11, 1\n",
            "test data number :  318\n"
          ]
        },
        {
          "output_type": "stream",
          "name": "stderr",
          "text": [
            "Setting `pad_token_id` to `eos_token_id`:128001 for open-end generation.\n",
            "Setting `pad_token_id` to `eos_token_id`:128001 for open-end generation.\n"
          ]
        },
        {
          "output_type": "stream",
          "name": "stdout",
          "text": [
            "    4\n",
            "    \"\"\"\n",
            "    output = {\n",
            "        'hjorth_params': [[1.1542522281875782, 1.183447444370193e-11, 1.8211095434476376], [0.6998646328249238, 5.237861308019046e-12, 1.4146450492071296], [1.267770081042202, 3.770870892613498e-\n",
            "test data number :  319\n"
          ]
        },
        {
          "output_type": "stream",
          "name": "stderr",
          "text": [
            "Setting `pad_token_id` to `eos_token_id`:128001 for open-end generation.\n",
            "Setting `pad_token_id` to `eos_token_id`:128001 for open-end generation.\n"
          ]
        },
        {
          "output_type": "stream",
          "name": "stdout",
          "text": [
            "    3\n",
            "    \"\"\"\n",
            "    output = {\n",
            "        'hjorth_params': [[1.182720687743366, 1.100804714693809e-10, 1.612144952090498], [1.178209765459096, 1.022241253518119e-10, 1.625525931342508], [1.311556182570114, 1.029391693563123e-10, 1\n",
            "test data number :  320\n"
          ]
        },
        {
          "output_type": "stream",
          "name": "stderr",
          "text": [
            "Setting `pad_token_id` to `eos_token_id`:128001 for open-end generation.\n",
            "Setting `pad_token_id` to `eos_token_id`:128001 for open-end generation.\n"
          ]
        },
        {
          "output_type": "stream",
          "name": "stdout",
          "text": [
            "    4\n",
            "    \"\"\"\n",
            "    output = {\n",
            "        'hjorth_params': [[1.186155762857958, 1.144164040190365e-12, 1.618523871274572], [1.153762767040498, 1.075953860156736e-12, 1.645591352186523], [1.298378463019123, 1.005000341153114e-12, 1\n",
            "test data number :  321\n"
          ]
        },
        {
          "output_type": "stream",
          "name": "stderr",
          "text": [
            "Setting `pad_token_id` to `eos_token_id`:128001 for open-end generation.\n",
            "Setting `pad_token_id` to `eos_token_id`:128001 for open-end generation.\n"
          ]
        },
        {
          "output_type": "stream",
          "name": "stdout",
          "text": [
            "    5\n",
            "    \"\"\"\n",
            "    output = {\n",
            "        'hjorth_params': [[1.401458849262574, 1.054164637612629e-12, 1.715144980425123], [1.373537546257029, 1.020751971591616e-12, 1.685693551530148], [1.468378857257315, 1.006387307810215e-12, 1\n",
            "test data number :  322\n"
          ]
        },
        {
          "output_type": "stream",
          "name": "stderr",
          "text": [
            "Setting `pad_token_id` to `eos_token_id`:128001 for open-end generation.\n",
            "Setting `pad_token_id` to `eos_token_id`:128001 for open-end generation.\n"
          ]
        },
        {
          "output_type": "stream",
          "name": "stdout",
          "text": [
            "    5\n",
            "    \"\"\"\n",
            "    output = {\n",
            "        'hjorth_params': [[1.330573362291775, 1.0170001530539192e-12, 1.657767518900498], [1.309357849624816, 1.007000876856297e-12, 1.6494636225191232], [1.427085535262096, 5.600000000000001e-13,\n",
            "test data number :  323\n"
          ]
        },
        {
          "output_type": "stream",
          "name": "stderr",
          "text": [
            "Setting `pad_token_id` to `eos_token_id`:128001 for open-end generation.\n",
            "Setting `pad_token_id` to `eos_token_id`:128001 for open-end generation.\n"
          ]
        },
        {
          "output_type": "stream",
          "name": "stdout",
          "text": [
            "    5\n",
            "    \"\"\"\n",
            "    output = {\n",
            "        'hjorth_params': [[1.270557854343363, 1.0397515348591996e-12, 1.618870952391293], [1.272011462019129, 1.011577761164424e-12, 1.649241377817255], [1.380262535463339, 1.038571029264736e-12, \n",
            "test data number :  324\n"
          ]
        },
        {
          "output_type": "stream",
          "name": "stderr",
          "text": [
            "Setting `pad_token_id` to `eos_token_id`:128001 for open-end generation.\n",
            "Setting `pad_token_id` to `eos_token_id`:128001 for open-end generation.\n"
          ]
        },
        {
          "output_type": "stream",
          "name": "stdout",
          "text": [
            "    3\n",
            "    \"\"\"\n",
            "    output = {\n",
            "        'hjorth_params': [[1.254099809611996, 1.182400164274362e-12, 1.591631359518029], [1.241134300225339, 1.032760840372282e-12, 1.618531523542085], [1.342372465160915, 1.029400096519114e-12, 1\n",
            "test data number :  325\n"
          ]
        },
        {
          "output_type": "stream",
          "name": "stderr",
          "text": [
            "Setting `pad_token_id` to `eos_token_id`:128001 for open-end generation.\n",
            "Setting `pad_token_id` to `eos_token_id`:128001 for open-end generation.\n"
          ]
        },
        {
          "output_type": "stream",
          "name": "stdout",
          "text": [
            "    5\n",
            "    \"\"\"\n",
            "    output = {\n",
            "        'hjorth_params': [[1.373779637342736, 1.156090330186123e-11, 1.684858770362751], [1.298019859029114, 1.017693274840943e-11, 1.676576359015819], [1.360059530350114, 1.026378274029123e-11, 1\n",
            "test data number :  326\n"
          ]
        },
        {
          "output_type": "stream",
          "name": "stderr",
          "text": [
            "Setting `pad_token_id` to `eos_token_id`:128001 for open-end generation.\n",
            "Setting `pad_token_id` to `eos_token_id`:128001 for open-end generation.\n"
          ]
        },
        {
          "output_type": "stream",
          "name": "stdout",
          "text": [
            "    4\n",
            "    \"\"\"\n",
            "    output = {\n",
            "        'hjorth_params': [[1.326557856767339, 1.0268092645499968e-10, 1.666901877270239], [1.299248573457841, 1.052216751241943e-10, 1.647531857372906], [1.387870765781366, 1.054637757920123e-10, \n",
            "test data number :  327\n"
          ]
        },
        {
          "output_type": "stream",
          "name": "stderr",
          "text": [
            "Setting `pad_token_id` to `eos_token_id`:128001 for open-end generation.\n",
            "Setting `pad_token_id` to `eos_token_id`:128001 for open-end generation.\n"
          ]
        },
        {
          "output_type": "stream",
          "name": "stdout",
          "text": [
            "    4\n",
            "    \"\"\"\n",
            "    output = {\n",
            "        'hjorth_params': [[1.299996518160123, 1.114638530300225e-11, 1.647552693330129], [1.227241849678255, 1.053857647203161e-11, 1.622608811678666], [1.291144592958114, 1.030144810870919e-11, 1\n",
            "test data number :  328\n"
          ]
        },
        {
          "output_type": "stream",
          "name": "stderr",
          "text": [
            "Setting `pad_token_id` to `eos_token_id`:128001 for open-end generation.\n",
            "Setting `pad_token_id` to `eos_token_id`:128001 for open-end generation.\n"
          ]
        },
        {
          "output_type": "stream",
          "name": "stdout",
          "text": [
            "    4\n",
            "    \"\"\"\n",
            "    output = {\n",
            "        'hjorth_params': [[1.425093679291775, 1.053151647273339e-12, 1.725835342463013], [1.446566815151914, 1.026144518906029e-12, 1.760573144186029], [1.591743519186293, 1.048216921819799e-12, 1\n",
            "test data number :  329\n"
          ]
        },
        {
          "output_type": "stream",
          "name": "stderr",
          "text": [
            "Setting `pad_token_id` to `eos_token_id`:128001 for open-end generation.\n",
            "Setting `pad_token_id` to `eos_token_id`:128001 for open-end generation.\n"
          ]
        },
        {
          "output_type": "stream",
          "name": "stdout",
          "text": [
            "    3\n",
            "    \"\"\"\n",
            "    output = {\n",
            "        'hjorth_params': [[1.207619745996921, 1.0262413793003723e-10, 1.650531665693017], [1.171377257038736, 1.043757860979947e-10, 1.650541953612746], [1.295153765613096, 1.022850693860096e-10, \n",
            "test data number :  330\n"
          ]
        },
        {
          "output_type": "stream",
          "name": "stderr",
          "text": [
            "Setting `pad_token_id` to `eos_token_id`:128001 for open-end generation.\n",
            "Setting `pad_token_id` to `eos_token_id`:128001 for open-end generation.\n"
          ]
        },
        {
          "output_type": "stream",
          "name": "stdout",
          "text": [
            "    5\n",
            "    \"\"\"\n",
            "    output = {\n",
            "        'hjorth_params': [[1.279085921462463, 1.2102047650049425e-11, 1.605901573327161], [1.338856446349268, 1.007870274075666e-11, 1.704534953029624], [1.431761347367293, 5.770573863530825e-12, \n",
            "test data number :  331\n"
          ]
        },
        {
          "output_type": "stream",
          "name": "stderr",
          "text": [
            "Setting `pad_token_id` to `eos_token_id`:128001 for open-end generation.\n",
            "Setting `pad_token_id` to `eos_token_id`:128001 for open-end generation.\n"
          ]
        },
        {
          "output_type": "stream",
          "name": "stdout",
          "text": [
            "    5\n",
            "    \"\"\"\n",
            "    output = {\n",
            "        'hjorth_params': [[1.529090636152746, 1.260264372870372e-12, 1.755274957850029], [1.392871372262402, 1.045271153462575e-12, 1.682556380372919], [1.468850153274919, 6.300840186274943e-13, 1\n",
            "test data number :  332\n"
          ]
        },
        {
          "output_type": "stream",
          "name": "stderr",
          "text": [
            "Setting `pad_token_id` to `eos_token_id`:128001 for open-end generation.\n",
            "Setting `pad_token_id` to `eos_token_id`:128001 for open-end generation.\n"
          ]
        },
        {
          "output_type": "stream",
          "name": "stdout",
          "text": [
            "    5\n",
            "    \"\"\"\n",
            "    output = {\n",
            "        'hjorth_params': [[1.302085367767366, 2.013241757207885e-12, 1.702085810624492], [1.327017253134772, 1.387877859956591e-12, 1.693414965362013], [1.364141857218494, 1.042878264549059e-12, 1\n",
            "test data number :  333\n"
          ]
        },
        {
          "output_type": "stream",
          "name": "stderr",
          "text": [
            "Setting `pad_token_id` to `eos_token_id`:128001 for open-end generation.\n",
            "Setting `pad_token_id` to `eos_token_id`:128001 for open-end generation.\n"
          ]
        },
        {
          "output_type": "stream",
          "name": "stdout",
          "text": [
            "    4\n",
            "    \"\"\"\n",
            "    output = {\n",
            "        'hjorth_params': [[1.320954762367366, 1.270560551592017e-13, 1.674856531570402], [1.329630536090899, 1.151762761870123e-13, 1.661053594506255], [1.392357359153906, 1.050767637151129e-13, 1\n",
            "test data number :  334\n"
          ]
        },
        {
          "output_type": "stream",
          "name": "stderr",
          "text": [
            "Setting `pad_token_id` to `eos_token_id`:128001 for open-end generation.\n",
            "Setting `pad_token_id` to `eos_token_id`:128001 for open-end generation.\n"
          ]
        },
        {
          "output_type": "stream",
          "name": "stdout",
          "text": [
            "    5\n",
            "    \"\"\"\n",
            "    output = {\n",
            "        'hjorth_params': [[1.366779367153362, 1.074684530921282e-12, 1.674657811186297], [1.453693761616736, 1.037151257113255e-12, 1.762538563570199], [1.510011511241736, 1.003170546384825e-12, 1\n",
            "test data number :  335\n"
          ]
        },
        {
          "output_type": "stream",
          "name": "stderr",
          "text": [
            "Setting `pad_token_id` to `eos_token_id`:128001 for open-end generation.\n",
            "Setting `pad_token_id` to `eos_token_id`:128001 for open-end generation.\n"
          ]
        },
        {
          "output_type": "stream",
          "name": "stdout",
          "text": [
            "    5\n",
            "    \"\"\"\n",
            "    output = {\n",
            "        'hjorth_params': [[1.431123864657645, 1.074241096053531e-12, 1.683594767297464], [1.342094857273362, 1.075121659152666e-12, 1.672671352343523], [1.405300665300831, 1.013499755019798e-12, 1\n",
            "test data number :  336\n"
          ]
        },
        {
          "output_type": "stream",
          "name": "stderr",
          "text": [
            "Setting `pad_token_id` to `eos_token_id`:128001 for open-end generation.\n",
            "Setting `pad_token_id` to `eos_token_id`:128001 for open-end generation.\n"
          ]
        },
        {
          "output_type": "stream",
          "name": "stdout",
          "text": [
            "    4\n",
            "    \"\"\"\n",
            "    output = {\n",
            "        'hjorth_params': [[1.386088457457113, 1.022844144019844e-12, 1.687549943996919], [1.324357372291914, 1.027225614151148e-12, 1.675347257297161], [1.396274850297349, 1.008439875577161e-12, 1\n",
            "test data number :  337\n"
          ]
        },
        {
          "output_type": "stream",
          "name": "stderr",
          "text": [
            "Setting `pad_token_id` to `eos_token_id`:128001 for open-end generation.\n",
            "Setting `pad_token_id` to `eos_token_id`:128001 for open-end generation.\n"
          ]
        },
        {
          "output_type": "stream",
          "name": "stdout",
          "text": [
            "    4\n",
            "    \"\"\"\n",
            "    output = {\n",
            "        'hjorth_params': [[1.308915958153251, 1.0235945300298292e-11, 1.648857693207258], [1.144578274577562, 1.010546446148262e-11, 1.620835085011498], [1.197870628463355, 1.019999977002919e-11, \n",
            "test data number :  338\n"
          ]
        },
        {
          "output_type": "stream",
          "name": "stderr",
          "text": [
            "Setting `pad_token_id` to `eos_token_id`:128001 for open-end generation.\n",
            "Setting `pad_token_id` to `eos_token_id`:128001 for open-end generation.\n"
          ]
        },
        {
          "output_type": "stream",
          "name": "stdout",
          "text": [
            "    5\n",
            "    \"\"\"\n",
            "    output = {\n",
            "        'hjorth_params': [[1.402996613029531, 1.108809372580633e-12, 1.705357857542096], [1.430762693327029, 1.022840767549262e-12, 1.739391631530029], [1.468241637023059, 1.007787591755079e-12, 1\n",
            "test data number :  339\n"
          ]
        },
        {
          "output_type": "stream",
          "name": "stderr",
          "text": [
            "Setting `pad_token_id` to `eos_token_id`:128001 for open-end generation.\n",
            "Setting `pad_token_id` to `eos_token_id`:128001 for open-end generation.\n"
          ]
        },
        {
          "output_type": "stream",
          "name": "stdout",
          "text": [
            "    4\n",
            "    \"\"\"\n",
            "    output = {\n",
            "        'hjorth_params': [[1.463611059260919, 1.122264425153096e-12, 1.702901850151643], [1.318628487767339, 1.027053631038672e-12, 1.677327542523297], [1.354573053566841, 1.032610767678119e-12, 1\n",
            "test data number :  340\n"
          ]
        },
        {
          "output_type": "stream",
          "name": "stderr",
          "text": [
            "Setting `pad_token_id` to `eos_token_id`:128001 for open-end generation.\n",
            "Setting `pad_token_id` to `eos_token_id`:128001 for open-end generation.\n"
          ]
        },
        {
          "output_type": "stream",
          "name": "stdout",
          "text": [
            "    4\n",
            "    \"\"\"\n",
            "    output = {\n",
            "        'hjorth_params': [[1.298153965594529, 1.023177164693952e-12, 1.702693894859896], [1.230038573028652, 1.030637551637736e-12, 1.679692144950402], [1.293462053463462, 1.010387487040113e-12, 1\n",
            "test data number :  341\n"
          ]
        },
        {
          "output_type": "stream",
          "name": "stderr",
          "text": [
            "Setting `pad_token_id` to `eos_token_id`:128001 for open-end generation.\n",
            "Setting `pad_token_id` to `eos_token_id`:128001 for open-end generation.\n"
          ]
        },
        {
          "output_type": "stream",
          "name": "stdout",
          "text": [
            "    5\n",
            "    \"\"\"\n",
            "    output = {\n",
            "        'hjorth_params': [[1.336123463019123, 1.193630921900544e-11, 1.647591851378129], [1.298152274378255, 1.039860781594919e-11, 1.649566144858019], [1.405574575856919, 1.011141920613666e-11, 1\n",
            "test data number :  342\n"
          ]
        },
        {
          "output_type": "stream",
          "name": "stderr",
          "text": [
            "Setting `pad_token_id` to `eos_token_id`:128001 for open-end generation.\n",
            "Setting `pad_token_id` to `eos_token_id`:128001 for open-end generation.\n"
          ]
        },
        {
          "output_type": "stream",
          "name": "stdout",
          "text": [
            "    4\n",
            "    \"\"\"\n",
            "    output = {\n",
            "        'hjorth_params': [[1.386088858611258, 1.106810011630215e-12, 1.715144367004666], [1.301751753053736, 1.075085252040079e-12, 1.677542953347462], [1.394094094630915, 6.75797076205907e-13, 1\n",
            "test data number :  343\n"
          ]
        },
        {
          "output_type": "stream",
          "name": "stderr",
          "text": [
            "Setting `pad_token_id` to `eos_token_id`:128001 for open-end generation.\n",
            "Setting `pad_token_id` to `eos_token_id`:128001 for open-end generation.\n"
          ]
        },
        {
          "output_type": "stream",
          "name": "stdout",
          "text": [
            "    4\n",
            "    \"\"\"\n",
            "    output = {\n",
            "        'hjorth_params': [[1.360085096849684, 1.230000040002807e-12, 1.718870153858383], [1.272762518849262, 1.0236000000000002e-12, 1.694835343556775], [1.358574850594019, 1.0310000000000001e-12,\n",
            "test data number :  344\n"
          ]
        },
        {
          "output_type": "stream",
          "name": "stderr",
          "text": [
            "Setting `pad_token_id` to `eos_token_id`:128001 for open-end generation.\n",
            "Setting `pad_token_id` to `eos_token_id`:128001 for open-end generation.\n"
          ]
        },
        {
          "output_type": "stream",
          "name": "stdout",
          "text": [
            "    4\n",
            "    \"\"\"\n",
            "    output = {\n",
            "        'hjorth_params': [[1.480142840679996, 1.0042637673001648e-12, 1.745720391523743], [1.358383566577799, 1.013264628193059e-12, 1.705519563613339], [1.342096563053898, 1.003610630241443e-12, \n",
            "test data number :  345\n"
          ]
        },
        {
          "output_type": "stream",
          "name": "stderr",
          "text": [
            "Setting `pad_token_id` to `eos_token_id`:128001 for open-end generation.\n",
            "Setting `pad_token_id` to `eos_token_id`:128001 for open-end generation.\n"
          ]
        },
        {
          "output_type": "stream",
          "name": "stdout",
          "text": [
            "    5\n",
            "    \"\"\"\n",
            "    output = {\n",
            "        'hjorth_params': [[1.242857857678255, 1.027866807330282e-09, 1.669857330624924], [1.101875273340919, 1.023859384542885e-10, 1.645534859252919], [1.228870518241825, 1.017080870519943e-10, 1\n",
            "test data number :  346\n"
          ]
        },
        {
          "output_type": "stream",
          "name": "stderr",
          "text": [
            "Setting `pad_token_id` to `eos_token_id`:128001 for open-end generation.\n",
            "Setting `pad_token_id` to `eos_token_id`:128001 for open-end generation.\n"
          ]
        },
        {
          "output_type": "stream",
          "name": "stdout",
          "text": [
            "    4\n",
            "    \"\"\"\n",
            "    output = {\n",
            "        'hjorth_params': [[1.338099979151775, 1.058542518257251e-12, 1.677693901857574], [1.324459703594464, 1.006300405613584e-12, 1.662499274462262], [1.452542029849333, 6.017594487840906e-13, 1\n",
            "test data number :  347\n"
          ]
        },
        {
          "output_type": "stream",
          "name": "stderr",
          "text": [
            "Setting `pad_token_id` to `eos_token_id`:128001 for open-end generation.\n",
            "Setting `pad_token_id` to `eos_token_id`:128001 for open-end generation.\n"
          ]
        },
        {
          "output_type": "stream",
          "name": "stdout",
          "text": [
            "    5\n",
            "    \"\"\"\n",
            "    output = {\n",
            "        'hjorth_params': [[1.457153096841643, 1.090901665570123e-12, 1.727703611347114], [1.375182518160462, 1.004857628856262e-12, 1.715530871612424], [1.430099628612915, 1.005840141819848e-12, 1\n",
            "test data number :  348\n"
          ]
        },
        {
          "output_type": "stream",
          "name": "stderr",
          "text": [
            "Setting `pad_token_id` to `eos_token_id`:128001 for open-end generation.\n",
            "Setting `pad_token_id` to `eos_token_id`:128001 for open-end generation.\n"
          ]
        },
        {
          "output_type": "stream",
          "name": "stdout",
          "text": [
            "    5\n",
            "    \"\"\"\n",
            "    output = {\n",
            "        'hjorth_params': [[0.7730856791290966, 1.059530621241633e-10, 1.5975738111771158], [0.685462598954549, 1.037053264023262e-10, 1.448570327181339], [0.7243599793000024, 1.037900920542529e-10\n",
            "test data number :  349\n"
          ]
        },
        {
          "output_type": "stream",
          "name": "stderr",
          "text": [
            "Setting `pad_token_id` to `eos_token_id`:128001 for open-end generation.\n",
            "Setting `pad_token_id` to `eos_token_id`:128001 for open-end generation.\n"
          ]
        },
        {
          "output_type": "stream",
          "name": "stdout",
          "text": [
            "    5\n",
            "    \"\"\"\n",
            "    output = {\n",
            "        'hjorth_params': [[1.555491619970947, 1.173631767347205e-12, 1.733765901875687], [1.478274272023915, 1.019482859876666e-12, 1.752856901053424], [1.528852859530348, 1.002355164149123e-12, 1\n",
            "test data number :  350\n"
          ]
        },
        {
          "output_type": "stream",
          "name": "stderr",
          "text": [
            "Setting `pad_token_id` to `eos_token_id`:128001 for open-end generation.\n",
            "Setting `pad_token_id` to `eos_token_id`:128001 for open-end generation.\n"
          ]
        },
        {
          "output_type": "stream",
          "name": "stdout",
          "text": [
            "    5\n",
            "    \"\"\"\n",
            "    output = {\n",
            "        'hjorth_params': [[1.5253504471832524, 2.872647610156337e-11, 1.771786604555716], [1.4963285644332156, 1.0808548422746409e-11, 1.7935407117424595], [1.4214951677203624, 4.312072506864224e\n",
            "test data number :  351\n"
          ]
        },
        {
          "output_type": "stream",
          "name": "stderr",
          "text": [
            "Setting `pad_token_id` to `eos_token_id`:128001 for open-end generation.\n",
            "Setting `pad_token_id` to `eos_token_id`:128001 for open-end generation.\n"
          ]
        },
        {
          "output_type": "stream",
          "name": "stdout",
          "text": [
            "    5\n",
            "    \"\"\"\n",
            "    output = {\n",
            "        'hjorth_params': [[1.100968761761362, 2.197153745921914e-11, 1.644956870177896], [1.137148542526462, 1.364053164594574e-11, 1.637443570630268], [1.225151573841799, 1.029542752144029e-11, 1\n",
            "test data number :  352\n"
          ]
        },
        {
          "output_type": "stream",
          "name": "stderr",
          "text": [
            "Setting `pad_token_id` to `eos_token_id`:128001 for open-end generation.\n",
            "Setting `pad_token_id` to `eos_token_id`:128001 for open-end generation.\n"
          ]
        },
        {
          "output_type": "stream",
          "name": "stdout",
          "text": [
            "    5\n",
            "    \"\"\"\n",
            "    output = {\n",
            "        'hjorth_params': [[1.006957594856737, 1.022684628620829e-11, 1.491779839850297], [1.051274530613268, 1.048966767678262e-11, 1.526347577142017], [1.068300519459339, 1.028844871297799e-11, 1\n",
            "test data number :  353\n"
          ]
        },
        {
          "output_type": "stream",
          "name": "stderr",
          "text": [
            "Setting `pad_token_id` to `eos_token_id`:128001 for open-end generation.\n",
            "Setting `pad_token_id` to `eos_token_id`:128001 for open-end generation.\n"
          ]
        },
        {
          "output_type": "stream",
          "name": "stdout",
          "text": [
            "    5\n",
            "    \"\"\"\n",
            "    output = {\n",
            "        'hjorth_params': [[1.480097619868518, 1.094090519340153e-12, 1.730630963144737], [1.392870624549494, 1.004144372151919e-12, 1.687273860422262], [1.400559351372298, 1.004900248023672e-12, 1\n",
            "test data number :  354\n"
          ]
        },
        {
          "output_type": "stream",
          "name": "stderr",
          "text": [
            "Setting `pad_token_id` to `eos_token_id`:128001 for open-end generation.\n",
            "Setting `pad_token_id` to `eos_token_id`:128001 for open-end generation.\n"
          ]
        },
        {
          "output_type": "stream",
          "name": "stdout",
          "text": [
            "    5\n",
            "    \"\"\"\n",
            "    output = {\n",
            "        'hjorth_params': [[1.270720955372268, 1.103113703380129e-12, 1.645530425186268], [1.392273160372029, 1.051121630029798e-12, 1.715372628956996], [1.472099761384029, 1.064053535856059e-12, 1\n",
            "test data number :  355\n"
          ]
        },
        {
          "output_type": "stream",
          "name": "stderr",
          "text": [
            "Setting `pad_token_id` to `eos_token_id`:128001 for open-end generation.\n",
            "Setting `pad_token_id` to `eos_token_id`:128001 for open-end generation.\n"
          ]
        },
        {
          "output_type": "stream",
          "name": "stdout",
          "text": [
            "    4\n",
            "    \"\"\"\n",
            "    output = {\n",
            "        'hjorth_params': [[1.254362839291921, 1.156380186274844e-11, 1.683462952251684], [1.230108556186339, 1.059182594252736e-11, 1.677405448459763], [1.342371099519255, 1.042000849053594e-11, 1\n",
            "test data number :  356\n"
          ]
        },
        {
          "output_type": "stream",
          "name": "stderr",
          "text": [
            "Setting `pad_token_id` to `eos_token_id`:128001 for open-end generation.\n",
            "Setting `pad_token_id` to `eos_token_id`:128001 for open-end generation.\n"
          ]
        },
        {
          "output_type": "stream",
          "name": "stdout",
          "text": [
            "    5\n",
            "    \"\"\"\n",
            "    output = {\n",
            "        'hjorth_params': [[1.203693347687629, 1.029761757053443e-11, 1.684448951581998], [1.180359352720251, 1.041378770850616e-11, 1.681556607906498], [1.193384761859942, 1.029151752859129e-11, 1\n",
            "test data number :  357\n"
          ]
        },
        {
          "output_type": "stream",
          "name": "stderr",
          "text": [
            "Setting `pad_token_id` to `eos_token_id`:128001 for open-end generation.\n",
            "Setting `pad_token_id` to `eos_token_id`:128001 for open-end generation.\n"
          ]
        },
        {
          "output_type": "stream",
          "name": "stdout",
          "text": [
            "    4\n",
            "    \"\"\"\n",
            "    output = {\n",
            "        'hjorth_params': [[1.4000149837220612, 4.962000398165992e-12, 1.775047596899867], [1.2989463562357657, 1.880874344932444e-12, 1.6893720893246242], [1.4751671820185903, 5.851652527076536e-\n",
            "test data number :  358\n"
          ]
        },
        {
          "output_type": "stream",
          "name": "stderr",
          "text": [
            "Setting `pad_token_id` to `eos_token_id`:128001 for open-end generation.\n",
            "Setting `pad_token_id` to `eos_token_id`:128001 for open-end generation.\n"
          ]
        },
        {
          "output_type": "stream",
          "name": "stdout",
          "text": [
            "    4\n",
            "    \"\"\"\n",
            "    output = {\n",
            "        'hjorth_params': [[1.435752453463622, 1.122094693859114e-12, 1.710144811901291], [1.364630850570499, 1.021151592144363e-12, 1.701087257391383], [1.469463290327462, 1.005810384720906e-12, 1\n",
            "test data number :  359\n"
          ]
        },
        {
          "output_type": "stream",
          "name": "stderr",
          "text": [
            "Setting `pad_token_id` to `eos_token_id`:128001 for open-end generation.\n",
            "Setting `pad_token_id` to `eos_token_id`:128001 for open-end generation.\n"
          ]
        },
        {
          "output_type": "stream",
          "name": "stdout",
          "text": [
            "    4\n",
            "    \"\"\"\n",
            "    output = {\n",
            "        'hjorth_params': [[1.297653679010281, 5.351574120821226e-11, 1.6167125874521873], [1.2541010481059014, 2.550133210016481e-11, 1.5756720644581041], [1.3562040033168266, 1.622602158091786e-\n",
            "test data number :  360\n"
          ]
        },
        {
          "output_type": "stream",
          "name": "stderr",
          "text": [
            "Setting `pad_token_id` to `eos_token_id`:128001 for open-end generation.\n",
            "Setting `pad_token_id` to `eos_token_id`:128001 for open-end generation.\n"
          ]
        },
        {
          "output_type": "stream",
          "name": "stdout",
          "text": [
            "    4\n",
            "    \"\"\"\n",
            "    output = {\n",
            "        'hjorth_params': [[1.378630665570659, 1.019091630720164e-12, 1.702674272372019], [1.342556678153454, 1.048144164141942e-12, 1.666857253342464], [1.375534347850115, 5.972966263840207e-13, 1\n",
            "test data number :  361\n"
          ]
        },
        {
          "output_type": "stream",
          "name": "stderr",
          "text": [
            "Setting `pad_token_id` to `eos_token_id`:128001 for open-end generation.\n",
            "Setting `pad_token_id` to `eos_token_id`:128001 for open-end generation.\n"
          ]
        },
        {
          "output_type": "stream",
          "name": "stdout",
          "text": [
            "    4\n",
            "    \"\"\"\n",
            "    output = {\n",
            "        'hjorth_params': [[1.309765647921362, 1.1200000000000001e-11, 1.6458945233915298], [1.291300745384772, 1.0190000000000001e-11, 1.686538518981161], [1.369141849372643, 1.0020000000000001e-\n",
            "test data number :  362\n"
          ]
        },
        {
          "output_type": "stream",
          "name": "stderr",
          "text": [
            "Setting `pad_token_id` to `eos_token_id`:128001 for open-end generation.\n",
            "Setting `pad_token_id` to `eos_token_id`:128001 for open-end generation.\n"
          ]
        },
        {
          "output_type": "stream",
          "name": "stdout",
          "text": [
            "    3\n",
            "    \"\"\"\n",
            "    output = {\n",
            "        'hjorth_params': [[1.336700557300289, 1.144157648144258e-11, 1.725551877393129], [1.113901839570215, 1.091372765372354e-11, 1.634519367029906], [1.261765633349366, 1.040153144152825e-11, 1\n",
            "test data number :  363\n"
          ]
        },
        {
          "output_type": "stream",
          "name": "stderr",
          "text": [
            "Setting `pad_token_id` to `eos_token_id`:128001 for open-end generation.\n",
            "Setting `pad_token_id` to `eos_token_id`:128001 for open-end generation.\n"
          ]
        },
        {
          "output_type": "stream",
          "name": "stdout",
          "text": [
            "    4\n",
            "    \"\"\"\n",
            "    output = {\n",
            "        'hjorth_params': [[1.545720635915736, 1.173570594422114e-12, 1.775871425343161], [1.342262863218199, 1.029144040330252e-12, 1.677484693808808], [1.469481628870059, 1.017870767347114e-12, 1\n",
            "test data number :  364\n"
          ]
        },
        {
          "output_type": "stream",
          "name": "stderr",
          "text": [
            "Setting `pad_token_id` to `eos_token_id`:128001 for open-end generation.\n",
            "Setting `pad_token_id` to `eos_token_id`:128001 for open-end generation.\n"
          ]
        },
        {
          "output_type": "stream",
          "name": "stdout",
          "text": [
            "    5\n",
            "    \"\"\"\n",
            "    output = {\n",
            "        'hjorth_params': [[1.069389539649611, 4.760171207534166e-09, 1.6044542125677541], [0.7328096249791388, 1.7072024764952845e-09, 1.4067572154258463], [1.258702902952487, 1.6619368151013598e\n",
            "test data number :  365\n"
          ]
        },
        {
          "output_type": "stream",
          "name": "stderr",
          "text": [
            "Setting `pad_token_id` to `eos_token_id`:128001 for open-end generation.\n",
            "Setting `pad_token_id` to `eos_token_id`:128001 for open-end generation.\n"
          ]
        },
        {
          "output_type": "stream",
          "name": "stdout",
          "text": [
            "    5\n",
            "    \"\"\"\n",
            "    output = {\n",
            "        'hjorth_params': [[1.338241362362113, 1.064000023274561e-11, 1.661519613857492], [1.364647542841996, 1.0450000000000001e-11, 1.731274347856128], [1.469576954343444, 1.0290000000000001e-11,\n",
            "test data number :  366\n"
          ]
        },
        {
          "output_type": "stream",
          "name": "stderr",
          "text": [
            "Setting `pad_token_id` to `eos_token_id`:128001 for open-end generation.\n",
            "Setting `pad_token_id` to `eos_token_id`:128001 for open-end generation.\n"
          ]
        },
        {
          "output_type": "stream",
          "name": "stdout",
          "text": [
            "    4\n",
            "    \"\"\"\n",
            "    output = {\n",
            "        'hjorth_params': [[1.309636090594629, 1.0900000000000002e-11, 1.612858765594113, [1.286051544678096, 1.286762767637737, 1.569681958921629, 1.413751542958195, 1.468459958718468, 1.509578870810\n",
            "test data number :  367\n"
          ]
        },
        {
          "output_type": "stream",
          "name": "stderr",
          "text": [
            "Setting `pad_token_id` to `eos_token_id`:128001 for open-end generation.\n",
            "Setting `pad_token_id` to `eos_token_id`:128001 for open-end generation.\n"
          ]
        },
        {
          "output_type": "stream",
          "name": "stdout",
          "text": [
            "    3\n",
            "    \"\"\"\n",
            "    output = {\n",
            "        'hjorth_params': [[1.2574635882914718, 6.081196504756153e-12, 1.6729586752878707], [0.8085431763347624, 1.4562062315171272e-11, 1.3469124396526648], [1.011402752884229, 1.152875438766979e\n",
            "test data number :  368\n"
          ]
        },
        {
          "output_type": "stream",
          "name": "stderr",
          "text": [
            "Setting `pad_token_id` to `eos_token_id`:128001 for open-end generation.\n",
            "Setting `pad_token_id` to `eos_token_id`:128001 for open-end generation.\n"
          ]
        },
        {
          "output_type": "stream",
          "name": "stdout",
          "text": [
            "    5\n",
            "    \"\"\"\n",
            "    output = {\n",
            "        'hjorth_params': [[1.319096340856161, 1.011000001053347e-12, 1.618576257518743], [1.307519530151645, 1.024300037400164e-12, 1.636638630392291], [1.405405518624349, 1.0157000000000002e-12, \n",
            "test data number :  369\n"
          ]
        },
        {
          "output_type": "stream",
          "name": "stderr",
          "text": [
            "Setting `pad_token_id` to `eos_token_id`:128001 for open-end generation.\n",
            "Setting `pad_token_id` to `eos_token_id`:128001 for open-end generation.\n"
          ]
        },
        {
          "output_type": "stream",
          "name": "stdout",
          "text": [
            "    4\n",
            "    \"\"\"\n",
            "    output = {\n",
            "        'hjorth_params': [[1.431538203251347, 1.300264552570366e-13, 1.714542781343523], [1.386870519349639, 1.141765643572366e-13, 1.700574557017906], [1.457164578151825, 1.048378960156616e-13, 1\n",
            "test data number :  370\n"
          ]
        },
        {
          "output_type": "stream",
          "name": "stderr",
          "text": [
            "Setting `pad_token_id` to `eos_token_id`:128001 for open-end generation.\n",
            "Setting `pad_token_id` to `eos_token_id`:128001 for open-end generation.\n"
          ]
        },
        {
          "output_type": "stream",
          "name": "stdout",
          "text": [
            "    5\n",
            "    \"\"\"\n",
            "    output = {\n",
            "        'hjorth_params': [[1.411532576698287, 2.449431095771198e-12, 1.7577181197697878], [1.3253435573915509, 1.3717139243592194e-12, 1.719056989818919], [1.3572931793176664, 9.025373647221855e-\n",
            "test data number :  371\n"
          ]
        },
        {
          "output_type": "stream",
          "name": "stderr",
          "text": [
            "Setting `pad_token_id` to `eos_token_id`:128001 for open-end generation.\n",
            "Setting `pad_token_id` to `eos_token_id`:128001 for open-end generation.\n"
          ]
        },
        {
          "output_type": "stream",
          "name": "stdout",
          "text": [
            "    3\n",
            "    \"\"\"\n",
            "    output = {\n",
            "        'hjorth_params': [[1.370840659856114, 1.051506767767096e-11, 1.742393630519493], [1.254359577094096, 1.034375248900207e-11, 1.678367549144017], [1.337631979499772, 1.058241607859366e-11, 1\n",
            "test data number :  372\n"
          ]
        },
        {
          "output_type": "stream",
          "name": "stderr",
          "text": [
            "Setting `pad_token_id` to `eos_token_id`:128001 for open-end generation.\n",
            "Setting `pad_token_id` to `eos_token_id`:128001 for open-end generation.\n"
          ]
        },
        {
          "output_type": "stream",
          "name": "stdout",
          "text": [
            "    4\n",
            "    \"\"\"\n",
            "    output = {\n",
            "        'hjorth_params': [[1.196307800670402, 1.2731187912616199e-12, 1.852465634925157], [0.9292713369999097, 5.336776186462675e-13, 1.6407478499982364], [1.412501485134829, 3.813921103144139e-13\n",
            "test data number :  373\n"
          ]
        },
        {
          "output_type": "stream",
          "name": "stderr",
          "text": [
            "Setting `pad_token_id` to `eos_token_id`:128001 for open-end generation.\n",
            "Setting `pad_token_id` to `eos_token_id`:128001 for open-end generation.\n"
          ]
        },
        {
          "output_type": "stream",
          "name": "stdout",
          "text": [
            "    4\n",
            "    \"\"\"\n",
            "    output = {\n",
            "        'hjorth_params': [[1.370108144156123, 1.013144534534906e-12, 1.675702771624498], [1.400443274463029, 1.004153036463563e-12, 1.745523347612853], [1.500053352300134, 1.007151148819119e-12, 1\n",
            "test data number :  374\n"
          ]
        },
        {
          "output_type": "stream",
          "name": "stderr",
          "text": [
            "Setting `pad_token_id` to `eos_token_id`:128001 for open-end generation.\n",
            "Setting `pad_token_id` to `eos_token_id`:128001 for open-end generation.\n"
          ]
        },
        {
          "output_type": "stream",
          "name": "stdout",
          "text": [
            "    4\n",
            "    \"\"\"\n",
            "    output = {\n",
            "        'hjorth_params': [[1.310762915666906, 1.190860594620646e-11, 1.677459952153297], [1.253347761761906, 1.051156591113362e-11, 1.637953552320372], [1.300405770549921, 1.051144678044736e-11, 1\n",
            "test data number :  375\n"
          ]
        },
        {
          "output_type": "stream",
          "name": "stderr",
          "text": [
            "Setting `pad_token_id` to `eos_token_id`:128001 for open-end generation.\n",
            "Setting `pad_token_id` to `eos_token_id`:128001 for open-end generation.\n"
          ]
        },
        {
          "output_type": "stream",
          "name": "stdout",
          "text": [
            "    5\n",
            "    \"\"\"\n",
            "    output = {\n",
            "        'hjorth_params': [[1.061660932127649, 1.748170870819255e-11, 1.7018077795962867], [0.7779418251082315, 1.2896484384758142e-11, 1.3593176478921423], [0.8612345680678903, 1.5402543058286507\n",
            "test data number :  376\n"
          ]
        },
        {
          "output_type": "stream",
          "name": "stderr",
          "text": [
            "Setting `pad_token_id` to `eos_token_id`:128001 for open-end generation.\n",
            "Setting `pad_token_id` to `eos_token_id`:128001 for open-end generation.\n"
          ]
        },
        {
          "output_type": "stream",
          "name": "stdout",
          "text": [
            "    3\n",
            "    \"\"\"\n",
            "    output = {\n",
            "        'hjorth_params': [[1.3956364374980232, 4.2369536878714544e-10, 1.7587684504115826], [1.182815465945666, 2.698938596450749e-10, 1.6481101087745572], [1.335551302315796, 1.7076025442225936e\n",
            "test data number :  377\n"
          ]
        },
        {
          "output_type": "stream",
          "name": "stderr",
          "text": [
            "Setting `pad_token_id` to `eos_token_id`:128001 for open-end generation.\n",
            "Setting `pad_token_id` to `eos_token_id`:128001 for open-end generation.\n"
          ]
        },
        {
          "output_type": "stream",
          "name": "stdout",
          "text": [
            "    4\n",
            "    \"\"\"\n",
            "    output = {\n",
            "        'hjorth_params': [[1.365857761980798, 1.450300534921909e-12, 1.692241550151013], [1.345053563327402, 1.068950901090129e-12, 1.714530352956998], [1.457752459849342, 1.056124257164161e-12, 1\n",
            "test data number :  378\n"
          ]
        },
        {
          "output_type": "stream",
          "name": "stderr",
          "text": [
            "Setting `pad_token_id` to `eos_token_id`:128001 for open-end generation.\n",
            "Setting `pad_token_id` to `eos_token_id`:128001 for open-end generation.\n"
          ]
        },
        {
          "output_type": "stream",
          "name": "stdout",
          "text": [
            "    4\n",
            "    \"\"\"\n",
            "    output = {\n",
            "        'hjorth_params': [[1.082771372666123, 1.023278591666375e-11, 1.684241857372064], [1.126300038765258, 1.003156359040366e-11, 1.706085405857462], [1.229557611666737, 1.004121693053199e-11, 1\n",
            "test data number :  379\n"
          ]
        },
        {
          "output_type": "stream",
          "name": "stderr",
          "text": [
            "Setting `pad_token_id` to `eos_token_id`:128001 for open-end generation.\n",
            "Setting `pad_token_id` to `eos_token_id`:128001 for open-end generation.\n"
          ]
        },
        {
          "output_type": "stream",
          "name": "stdout",
          "text": [
            "    4\n",
            "    \"\"\"\n",
            "    output = {\n",
            "        'hjorth_params': [[1.113011868819906, 1.019422921620808e-10, 1.597762570422291], [1.117096372019951, 1.007787751151808e-10, 1.626551506391574], [1.237262519459291, 1.001860757273825e-11, 1\n",
            "test data number :  380\n"
          ]
        },
        {
          "output_type": "stream",
          "name": "stderr",
          "text": [
            "Setting `pad_token_id` to `eos_token_id`:128001 for open-end generation.\n",
            "Setting `pad_token_id` to `eos_token_id`:128001 for open-end generation.\n"
          ]
        },
        {
          "output_type": "stream",
          "name": "stdout",
          "text": [
            "    5\n",
            "    \"\"\"\n",
            "    output = {\n",
            "        'hjorth_params': [[1.216088542819639, 1.1085370538575752e-12, 1.636357257523339], [1.216771677518729, 1.051630241164942e-12, 1.657549019422462], [1.342720530518586, 1.026943272274362e-12, \n",
            "test data number :  381\n"
          ]
        },
        {
          "output_type": "stream",
          "name": "stderr",
          "text": [
            "Setting `pad_token_id` to `eos_token_id`:128001 for open-end generation.\n",
            "Setting `pad_token_id` to `eos_token_id`:128001 for open-end generation.\n"
          ]
        },
        {
          "output_type": "stream",
          "name": "stdout",
          "text": [
            "    4\n",
            "    \"\"\"\n",
            "    output = {\n",
            "        'hjorth_params': [[1.480630151687251, 1.144096665190156e-12, 1.727347380187019], [1.391029534372339, 1.028630614504807e-12, 1.699684257901464], [1.457463463613736, 7.300460814148168e-13, 1\n",
            "test data number :  382\n"
          ]
        },
        {
          "output_type": "stream",
          "name": "stderr",
          "text": [
            "Setting `pad_token_id` to `eos_token_id`:128001 for open-end generation.\n",
            "Setting `pad_token_id` to `eos_token_id`:128001 for open-end generation.\n"
          ]
        },
        {
          "output_type": "stream",
          "name": "stdout",
          "text": [
            "    4\n",
            "    \"\"\"\n",
            "    output = {\n",
            "        'hjorth_params': [[1.228762573767736, 1.097737053248079e-11, 1.681291745613085], [1.207385679253736, 1.028551631023898e-11, 1.660556857307424], [1.322091367388262, 1.027535581053798e-11, 1\n",
            "test data number :  383\n"
          ]
        },
        {
          "output_type": "stream",
          "name": "stderr",
          "text": [
            "Setting `pad_token_id` to `eos_token_id`:128001 for open-end generation.\n",
            "Setting `pad_token_id` to `eos_token_id`:128001 for open-end generation.\n"
          ]
        },
        {
          "output_type": "stream",
          "name": "stdout",
          "text": [
            "    5\n",
            "    \"\"\"\n",
            "    output = {\n",
            "        'hjorth_params': [[1.487918950927734, 1.613560810090096e-12, 1.743894144164366], [1.427011901620268, 1.029193631251853e-12, 1.710591954381853], [1.437556979679619, 5.957771663859363e-13, 1\n",
            "test data number :  384\n"
          ]
        },
        {
          "output_type": "stream",
          "name": "stderr",
          "text": [
            "Setting `pad_token_id` to `eos_token_id`:128001 for open-end generation.\n",
            "Setting `pad_token_id` to `eos_token_id`:128001 for open-end generation.\n"
          ]
        },
        {
          "output_type": "stream",
          "name": "stdout",
          "text": [
            "    5\n",
            "    \"\"\"\n",
            "    output = {\n",
            "        'hjorth_params': [[1.334863773958912, 1.4490903807456593e-11, 1.632576762343293], [1.328576542241906, 1.148182040901498e-11, 1.648144542144523], [1.366094094624996, 1.023980621614643e-11, \n",
            "test data number :  385\n"
          ]
        },
        {
          "output_type": "stream",
          "name": "stderr",
          "text": [
            "Setting `pad_token_id` to `eos_token_id`:128001 for open-end generation.\n",
            "Setting `pad_token_id` to `eos_token_id`:128001 for open-end generation.\n"
          ]
        },
        {
          "output_type": "stream",
          "name": "stdout",
          "text": [
            "    4\n",
            "    \"\"\"\n",
            "    output = {\n",
            "        'hjorth_params': [[1.268241856912363, 2.013857592924096e-12, 1.645556657096255], [1.234536542849268, 1.347059274144148e-12, 1.632647643996819], [1.364053530453355, 1.010300761278666e-12, 1\n",
            "test data number :  386\n"
          ]
        },
        {
          "output_type": "stream",
          "name": "stderr",
          "text": [
            "Setting `pad_token_id` to `eos_token_id`:128001 for open-end generation.\n",
            "Setting `pad_token_id` to `eos_token_id`:128001 for open-end generation.\n"
          ]
        },
        {
          "output_type": "stream",
          "name": "stdout",
          "text": [
            "    4\n",
            "    \"\"\"\n",
            "    output = {\n",
            "        'hjorth_params': [[1.396833151039279, 2.6640211201821045e-11, 1.778503374109845], [1.2334997841686688, 1.9001724942474034e-11, 1.6257684677058244], [1.4222178611214307, 7.810127239465197e\n",
            "test data number :  387\n"
          ]
        },
        {
          "output_type": "stream",
          "name": "stderr",
          "text": [
            "Setting `pad_token_id` to `eos_token_id`:128001 for open-end generation.\n",
            "Setting `pad_token_id` to `eos_token_id`:128001 for open-end generation.\n"
          ]
        },
        {
          "output_type": "stream",
          "name": "stdout",
          "text": [
            "    3\n",
            "    \"\"\"\n",
            "    output = {\n",
            "        'hjorth_params': [[1.179863113152643, 1.0536304250535743e-10, 1.675857144359737], [1.132578274950424, 1.056637380460807e-10, 1.622684952372666], [1.142300725257268, 1.046577840405899e-10, \n",
            "test data number :  388\n"
          ]
        },
        {
          "output_type": "stream",
          "name": "stderr",
          "text": [
            "Setting `pad_token_id` to `eos_token_id`:128001 for open-end generation.\n",
            "Setting `pad_token_id` to `eos_token_id`:128001 for open-end generation.\n"
          ]
        },
        {
          "output_type": "stream",
          "name": "stdout",
          "text": [
            "    4\n",
            "    \"\"\"\n",
            "    output = {\n",
            "        'hjorth_params': [[1.361000866151763, 1.021810765577921e-12, 1.677487859637684], [1.291271023096952, 1.010264534534114e-12, 1.656274264574251], [1.426519535330363, 5.900096518160667e-13, 1\n",
            "test data number :  389\n"
          ]
        },
        {
          "output_type": "stream",
          "name": "stderr",
          "text": [
            "Setting `pad_token_id` to `eos_token_id`:128001 for open-end generation.\n",
            "Setting `pad_token_id` to `eos_token_id`:128001 for open-end generation.\n"
          ]
        },
        {
          "output_type": "stream",
          "name": "stdout",
          "text": [
            "    5\n",
            "    \"\"\"\n",
            "    output = {\n",
            "        'hjorth_params': [[1.3836223715370974, 3.309253219931375e-12, 1.6614590167004293], [1.4233782108859239, 2.1392235222500638e-12, 1.6706651290182841], [1.6516544485788756, 1.636362430870954\n",
            "test data number :  390\n"
          ]
        },
        {
          "output_type": "stream",
          "name": "stderr",
          "text": [
            "Setting `pad_token_id` to `eos_token_id`:128001 for open-end generation.\n",
            "Setting `pad_token_id` to `eos_token_id`:128001 for open-end generation.\n"
          ]
        },
        {
          "output_type": "stream",
          "name": "stdout",
          "text": [
            "    5\n",
            "    \"\"\"\n",
            "    output = {\n",
            "        'hjorth_params': [[1.3288282000844966, 2.3365456356927425e-09, 1.9007273381151344], [0.6707381294977552, 1.4272178516204763e-09, 1.190507747374085], [1.0278855737198923, 1.154886106198871\n",
            "test data number :  391\n"
          ]
        },
        {
          "output_type": "stream",
          "name": "stderr",
          "text": [
            "Setting `pad_token_id` to `eos_token_id`:128001 for open-end generation.\n",
            "Setting `pad_token_id` to `eos_token_id`:128001 for open-end generation.\n"
          ]
        },
        {
          "output_type": "stream",
          "name": "stdout",
          "text": [
            "    4\n",
            "    \"\"\"\n",
            "    output = {\n",
            "        'hjorth_params': [[1.361091979260174, 1.0540919701518243e-11, 1.628556463570291], [1.310248684530258, 1.039901752186896e-11, 1.675594096858824], [1.370516359152297, 1.023852598425646e-11, \n",
            "test data number :  392\n"
          ]
        },
        {
          "output_type": "stream",
          "name": "stderr",
          "text": [
            "Setting `pad_token_id` to `eos_token_id`:128001 for open-end generation.\n",
            "Setting `pad_token_id` to `eos_token_id`:128001 for open-end generation.\n"
          ]
        },
        {
          "output_type": "stream",
          "name": "stdout",
          "text": [
            "    4\n",
            "    \"\"\"\n",
            "    output = {\n",
            "        'hjorth_params': [[1.44756268677044, 2.4746032779366106e-10, 1.8004473921618809], [0.9074000126256647, 1.0588017906361194e-10, 1.4360449811739144], [1.5045953381601915, 2.672243015021545\n",
            "test data number :  393\n"
          ]
        },
        {
          "output_type": "stream",
          "name": "stderr",
          "text": [
            "Setting `pad_token_id` to `eos_token_id`:128001 for open-end generation.\n",
            "Setting `pad_token_id` to `eos_token_id`:128001 for open-end generation.\n"
          ]
        },
        {
          "output_type": "stream",
          "name": "stdout",
          "text": [
            "    3\n",
            "    \"\"\"\n",
            "    output = {\n",
            "        'hjorth_params': [[1.2516122979466286, 2.2496985420917926e-12, 1.6756583075959126], [1.021105565056018, 3.537493574227505e-12, 1.6163122763900137], [1.2864761721515416, 2.0823003166761533\n",
            "test data number :  394\n"
          ]
        },
        {
          "output_type": "stream",
          "name": "stderr",
          "text": [
            "Setting `pad_token_id` to `eos_token_id`:128001 for open-end generation.\n",
            "Setting `pad_token_id` to `eos_token_id`:128001 for open-end generation.\n"
          ]
        },
        {
          "output_type": "stream",
          "name": "stdout",
          "text": [
            "    4\n",
            "    \"\"\"\n",
            "    output = {\n",
            "        'hjorth_params': [[1.110204858819643, 1.051144840745096e-11, 1.590894958870297], [1.127151577182291, 1.043091767153529e-11, 1.622091767297239], [1.197134359563574, 1.011857752384161e-11, 1\n",
            "test data number :  395\n"
          ]
        },
        {
          "output_type": "stream",
          "name": "stderr",
          "text": [
            "Setting `pad_token_id` to `eos_token_id`:128001 for open-end generation.\n",
            "Setting `pad_token_id` to `eos_token_id`:128001 for open-end generation.\n"
          ]
        },
        {
          "output_type": "stream",
          "name": "stdout",
          "text": [
            "    4\n",
            "    \"\"\"\n",
            "    output = {\n",
            "        'hjorth_params': [[1.508123965678666, 1.050901951151114e-12, 1.755696684859114], [1.452053762297129, 1.041630876906123e-12, 1.735771637186383], [1.529121530671345, 1.019610053614898e-12, 1\n",
            "test data number :  396\n"
          ]
        },
        {
          "output_type": "stream",
          "name": "stderr",
          "text": [
            "Setting `pad_token_id` to `eos_token_id`:128001 for open-end generation.\n",
            "Setting `pad_token_id` to `eos_token_id`:128001 for open-end generation.\n"
          ]
        },
        {
          "output_type": "stream",
          "name": "stdout",
          "text": [
            "    5\n",
            "    \"\"\"\n",
            "    output = {\n",
            "        'hjorth_params': [[1.3774496179074318, 3.1599645171968414e-11, 1.7235329508677262], [1.197504834788551, 1.418018677605294e-11, 1.64051244390624], [1.3490738069619108, 1.9208067584257747e\n",
            "test data number :  397\n"
          ]
        },
        {
          "output_type": "stream",
          "name": "stderr",
          "text": [
            "Setting `pad_token_id` to `eos_token_id`:128001 for open-end generation.\n",
            "Setting `pad_token_id` to `eos_token_id`:128001 for open-end generation.\n"
          ]
        },
        {
          "output_type": "stream",
          "name": "stdout",
          "text": [
            "    5\n",
            "    \"\"\"\n",
            "    output = {\n",
            "        'hjorth_params': [[1.100203849129915, 1.091546840002013e-10, 1.621378523563153], [1.125271728129629, 1.021591810257339e-10, 1.618518965019924], [1.243291757677293, 1.053164542391885e-11, 1\n",
            "test data number :  398\n"
          ]
        },
        {
          "output_type": "stream",
          "name": "stderr",
          "text": [
            "Setting `pad_token_id` to `eos_token_id`:128001 for open-end generation.\n",
            "Setting `pad_token_id` to `eos_token_id`:128001 for open-end generation.\n"
          ]
        },
        {
          "output_type": "stream",
          "name": "stdout",
          "text": [
            "    3\n",
            "    \"\"\"\n",
            "    output = {\n",
            "        'hjorth_params': [[1.4164154347134332, 1.6835908251776112e-09, 1.9452569749539206], [0.8740933426356664, 7.701544817438e-10, 1.7982088189750476], [1.0332801143314891, 1.1336384201998018\n",
            "test data number :  399\n"
          ]
        },
        {
          "output_type": "stream",
          "name": "stderr",
          "text": [
            "Setting `pad_token_id` to `eos_token_id`:128001 for open-end generation.\n",
            "Setting `pad_token_id` to `eos_token_id`:128001 for open-end generation.\n"
          ]
        },
        {
          "output_type": "stream",
          "name": "stdout",
          "text": [
            "    5\n",
            "    \"\"\"\n",
            "    output = {\n",
            "        'hjorth_params': [[1.410094359817996, 1.0202728700533398e-12, 1.665767871917017], [1.386164375859643, 1.027156757186646e-12, 1.695347630152845], [1.405519562613291, 5.81557387687613e-13, \n",
            "test data number :  400\n"
          ]
        },
        {
          "output_type": "stream",
          "name": "stderr",
          "text": [
            "Setting `pad_token_id` to `eos_token_id`:128001 for open-end generation.\n",
            "Setting `pad_token_id` to `eos_token_id`:128001 for open-end generation.\n"
          ]
        },
        {
          "output_type": "stream",
          "name": "stdout",
          "text": [
            "    5\n",
            "    \"\"\"\n",
            "    output = {\n",
            "        'hjorth_params': [[1.429144870153454, 1.010499549996643e-12, 1.721666871182262], [1.473531519530011, 1.020133272391766e-12, 1.771871029359123], [1.482053958367915, 1.004726767690943e-12, 1\n",
            "test data number :  401\n"
          ]
        },
        {
          "output_type": "stream",
          "name": "stderr",
          "text": [
            "Setting `pad_token_id` to `eos_token_id`:128001 for open-end generation.\n",
            "Setting `pad_token_id` to `eos_token_id`:128001 for open-end generation.\n"
          ]
        },
        {
          "output_type": "stream",
          "name": "stdout",
          "text": [
            "    5\n",
            "    \"\"\"\n",
            "    output = {\n",
            "        'hjorth_params': [[1.479127095584606, 3.963551566757251e-13, 1.733337743825447], [1.1854519808851034, 2.040877405850209e-13, 1.4837288723300517], [1.352463103006677, 1.298804920996736e-13,\n",
            "test data number :  402\n"
          ]
        },
        {
          "output_type": "stream",
          "name": "stderr",
          "text": [
            "Setting `pad_token_id` to `eos_token_id`:128001 for open-end generation.\n",
            "Setting `pad_token_id` to `eos_token_id`:128001 for open-end generation.\n"
          ]
        },
        {
          "output_type": "stream",
          "name": "stdout",
          "text": [
            "    5\n",
            "    \"\"\"\n",
            "    output = {\n",
            "        'hjorth_params': [[1.4799519482049073, 1.6970250947916422e-12, 1.8280884633523003], [1.3525018039660384, 8.976272202212834e-13, 1.7440415733071712], [1.2736514748482817, 8.002934112518777\n",
            "test data number :  403\n"
          ]
        },
        {
          "output_type": "stream",
          "name": "stderr",
          "text": [
            "Setting `pad_token_id` to `eos_token_id`:128001 for open-end generation.\n",
            "Setting `pad_token_id` to `eos_token_id`:128001 for open-end generation.\n"
          ]
        },
        {
          "output_type": "stream",
          "name": "stdout",
          "text": [
            "    4\n",
            "    \"\"\"\n",
            "    output = {\n",
            "        'hjorth_params': [[1.193849273040297, 1.124573551624808e-11, 1.594628859530531], [1.207771531577799, 1.044684523616129e-11, 1.625671207330262], [1.317384857254906, 1.044757380574808e-11, 1\n",
            "test data number :  404\n"
          ]
        },
        {
          "output_type": "stream",
          "name": "stderr",
          "text": [
            "Setting `pad_token_id` to `eos_token_id`:128001 for open-end generation.\n",
            "Setting `pad_token_id` to `eos_token_id`:128001 for open-end generation.\n"
          ]
        },
        {
          "output_type": "stream",
          "name": "stdout",
          "text": [
            "    3\n",
            "    \"\"\"\n",
            "    output = {\n",
            "        'hjorth_params': [[0.6616137828726207, 1.2405154948467125e-09, 1.586639359472557], [0.6164237058639771, 5.94786612103243e-10, 1.391294037344969], [0.9272157643296495, 1.4829006247076462e\n",
            "test data number :  405\n"
          ]
        },
        {
          "output_type": "stream",
          "name": "stderr",
          "text": [
            "Setting `pad_token_id` to `eos_token_id`:128001 for open-end generation.\n",
            "Setting `pad_token_id` to `eos_token_id`:128001 for open-end generation.\n"
          ]
        },
        {
          "output_type": "stream",
          "name": "stdout",
          "text": [
            "    4\n",
            "    \"\"\"\n",
            "    output = {\n",
            "        'hjorth_params': [[1.359012952291339, 1.230090549252464e-10, 1.684672957757643], [1.141272573518808, 1.043760614330123e-10, 1.628551144378128], [1.210108871393763, 1.002140446849114e-11, 1\n",
            "test data number :  406\n"
          ]
        },
        {
          "output_type": "stream",
          "name": "stderr",
          "text": [
            "Setting `pad_token_id` to `eos_token_id`:128001 for open-end generation.\n"
          ]
        }
      ],
      "execution_count": null
    }
  ]
}